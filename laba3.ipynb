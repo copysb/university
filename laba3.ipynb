{
  "cells": [
    {
      "cell_type": "markdown",
      "metadata": {
        "id": "view-in-github",
        "colab_type": "text"
      },
      "source": [
        "<a href=\"https://colab.research.google.com/github/copysb/university/blob/main/laba3.ipynb\" target=\"_parent\"><img src=\"https://colab.research.google.com/assets/colab-badge.svg\" alt=\"Open In Colab\"/></a>"
      ]
    },
    {
      "cell_type": "code",
      "execution_count": null,
      "metadata": {
        "colab": {
          "base_uri": "https://localhost:8080/"
        },
        "id": "WHgYpJXKoPIi",
        "outputId": "16c9509b-f7b3-4ba6-dfc1-67d998f07f9c"
      },
      "outputs": [
        {
          "output_type": "stream",
          "name": "stdout",
          "text": [
            "Collecting pyspark\n",
            "  Downloading pyspark-3.5.1.tar.gz (317.0 MB)\n",
            "\u001b[2K     \u001b[90m━━━━━━━━━━━━━━━━━━━━━━━━━━━━━━━━━━━━━━━━\u001b[0m \u001b[32m317.0/317.0 MB\u001b[0m \u001b[31m3.6 MB/s\u001b[0m eta \u001b[36m0:00:00\u001b[0m\n",
            "\u001b[?25h  Preparing metadata (setup.py) ... \u001b[?25l\u001b[?25hdone\n",
            "Collecting findspark\n",
            "  Downloading findspark-2.0.1-py2.py3-none-any.whl (4.4 kB)\n",
            "Requirement already satisfied: py4j==0.10.9.7 in /usr/local/lib/python3.10/dist-packages (from pyspark) (0.10.9.7)\n",
            "Building wheels for collected packages: pyspark\n",
            "  Building wheel for pyspark (setup.py) ... \u001b[?25l\u001b[?25hdone\n",
            "  Created wheel for pyspark: filename=pyspark-3.5.1-py2.py3-none-any.whl size=317488491 sha256=ba17996969662527032df4b33eb0845d612343a44b3a29ec6458954d49118031\n",
            "  Stored in directory: /root/.cache/pip/wheels/80/1d/60/2c256ed38dddce2fdd93be545214a63e02fbd8d74fb0b7f3a6\n",
            "Successfully built pyspark\n",
            "Installing collected packages: findspark, pyspark\n",
            "Successfully installed findspark-2.0.1 pyspark-3.5.1\n"
          ]
        }
      ],
      "source": [
        "!pip install pyspark findspark"
      ]
    },
    {
      "cell_type": "code",
      "execution_count": null,
      "metadata": {
        "id": "mUBraSjDoaDp"
      },
      "outputs": [],
      "source": [
        "from pyspark.sql import SparkSession\n",
        "from pyspark import SparkContext, SparkConf\n",
        "import pyspark.sql.functions as F\n",
        "\n",
        "conf = SparkConf().set('spark.ui.port', '4050')\\\n",
        "                  .set('spark.serializer', 'org.apache.spark.serializer.KryoSerializer')\\\n",
        "                  .set('spark.dynamicAllocation.enabled', 'true')\\\n",
        "                  .set('spark.shuffle.service.enabled', 'true') #трекер, чтобы возвращать ресурсы\n",
        "sc = SparkContext(conf=conf)\n",
        "spark = SparkSession.builder.master('local[*]').getOrCreate()"
      ]
    },
    {
      "cell_type": "code",
      "execution_count": null,
      "metadata": {
        "id": "aidzIxBod4z5",
        "colab": {
          "base_uri": "https://localhost:8080/"
        },
        "outputId": "02239404-89ba-45fe-b942-62c66eaa2e4f"
      },
      "outputs": [
        {
          "output_type": "stream",
          "name": "stdout",
          "text": [
            "Mounted at /content/drive\n"
          ]
        }
      ],
      "source": [
        "from google.colab import drive\n",
        "drive.mount('/content/drive')"
      ]
    },
    {
      "cell_type": "markdown",
      "metadata": {
        "id": "CdchPhE6osBh"
      },
      "source": [
        "**Создание DataFrame**"
      ]
    },
    {
      "cell_type": "code",
      "execution_count": null,
      "metadata": {
        "id": "VFkXM_vZu_1t"
      },
      "outputs": [],
      "source": [
        "df = spark.read\\\n",
        "          .format(\"csv\")\\\n",
        "          .options(**{'sep': '\\t', 'header': 'true'})\\\n",
        "          .load(\"/content/drive/MyDrive/user_ratedmovies.dat\")"
      ]
    },
    {
      "cell_type": "code",
      "source": [
        "df"
      ],
      "metadata": {
        "colab": {
          "base_uri": "https://localhost:8080/"
        },
        "id": "KnobUhjwSb5t",
        "outputId": "a3363045-dfca-48aa-a080-02e33ec7259b"
      },
      "execution_count": null,
      "outputs": [
        {
          "output_type": "execute_result",
          "data": {
            "text/plain": [
              "DataFrame[userID: string, movieID: string, rating: string, date_day: string, date_month: string, date_year: string, date_hour: string, date_minute: string, date_second: string]"
            ]
          },
          "metadata": {},
          "execution_count": 11
        }
      ]
    },
    {
      "cell_type": "code",
      "source": [
        "df.printSchema()"
      ],
      "metadata": {
        "colab": {
          "base_uri": "https://localhost:8080/"
        },
        "id": "SxO-gy-qTywT",
        "outputId": "e9c41501-ea93-4a97-838e-076552690e3a"
      },
      "execution_count": null,
      "outputs": [
        {
          "output_type": "stream",
          "name": "stdout",
          "text": [
            "root\n",
            " |-- userID: string (nullable = true)\n",
            " |-- movieID: string (nullable = true)\n",
            " |-- rating: string (nullable = true)\n",
            " |-- date_day: string (nullable = true)\n",
            " |-- date_month: string (nullable = true)\n",
            " |-- date_year: string (nullable = true)\n",
            " |-- date_hour: string (nullable = true)\n",
            " |-- date_minute: string (nullable = true)\n",
            " |-- date_second: string (nullable = true)\n",
            "\n"
          ]
        }
      ]
    },
    {
      "cell_type": "code",
      "execution_count": null,
      "metadata": {
        "id": "AlZNFbmpvQKN",
        "colab": {
          "base_uri": "https://localhost:8080/"
        },
        "outputId": "b138b7af-89c9-4d8d-c567-71c2b9f9f16f"
      },
      "outputs": [
        {
          "output_type": "stream",
          "name": "stdout",
          "text": [
            "+------+-------+------+--------+----------+---------+---------+-----------+-----------+\n",
            "|userID|movieID|rating|date_day|date_month|date_year|date_hour|date_minute|date_second|\n",
            "+------+-------+------+--------+----------+---------+---------+-----------+-----------+\n",
            "|    75|      3|     1|      29|        10|     2006|       23|         17|         16|\n",
            "|    75|     32|   4.5|      29|        10|     2006|       23|         23|         44|\n",
            "|    75|    110|     4|      29|        10|     2006|       23|         30|          8|\n",
            "|    75|    160|     2|      29|        10|     2006|       23|         16|         52|\n",
            "|    75|    163|     4|      29|        10|     2006|       23|         29|         30|\n",
            "|    75|    165|   4.5|      29|        10|     2006|       23|         25|         15|\n",
            "|    75|    173|   3.5|      29|        10|     2006|       23|         17|         37|\n",
            "|    75|    296|     5|      29|        10|     2006|       23|         24|         49|\n",
            "|    75|    353|   3.5|      29|        10|     2006|       23|         17|          0|\n",
            "|    75|    420|     2|      29|        10|     2006|       23|         16|         42|\n",
            "+------+-------+------+--------+----------+---------+---------+-----------+-----------+\n",
            "only showing top 10 rows\n",
            "\n"
          ]
        }
      ],
      "source": [
        "df.show(10)"
      ]
    },
    {
      "cell_type": "markdown",
      "metadata": {
        "id": "R2tEvxnrxka6"
      },
      "source": [
        "Все в string, так не пойдет, давайте автоматически определим тип данных"
      ]
    },
    {
      "cell_type": "code",
      "execution_count": null,
      "metadata": {
        "id": "QTXHlh2msvaY"
      },
      "outputs": [],
      "source": [
        "df = spark.read\\\n",
        "          .format(\"csv\")\\\n",
        "          .options(**{'sep': '\\t', 'header': 'true', 'inferSchema': 'true'})\\\n",
        "          .load(\"user_ratedmovies.dat\")"
      ]
    },
    {
      "cell_type": "code",
      "execution_count": null,
      "metadata": {
        "id": "84-8zIkJzgGC",
        "colab": {
          "base_uri": "https://localhost:8080/"
        },
        "outputId": "3c00e8b5-3ca8-48fe-a007-2ee74a7b5930"
      },
      "outputs": [
        {
          "output_type": "execute_result",
          "data": {
            "text/plain": [
              "DataFrame[userID: int, movieID: int, rating: double, date_day: int, date_month: int, date_year: int, date_hour: int, date_minute: int, date_second: int]"
            ]
          },
          "metadata": {},
          "execution_count": 23
        }
      ],
      "source": [
        "df"
      ]
    },
    {
      "cell_type": "code",
      "execution_count": null,
      "metadata": {
        "id": "rJcH3xqwz5JC",
        "colab": {
          "base_uri": "https://localhost:8080/"
        },
        "outputId": "53d0f4a1-2fa0-4c40-9156-a40d3c415f1d"
      },
      "outputs": [
        {
          "output_type": "stream",
          "name": "stdout",
          "text": [
            "+------+-------+------+--------+----------+---------+---------+-----------+-----------+\n",
            "|userID|movieID|rating|date_day|date_month|date_year|date_hour|date_minute|date_second|\n",
            "+------+-------+------+--------+----------+---------+---------+-----------+-----------+\n",
            "|    75|      3|   1.0|      29|        10|     2006|       23|         17|         16|\n",
            "|    75|     32|   4.5|      29|        10|     2006|       23|         23|         44|\n",
            "|    75|    110|   4.0|      29|        10|     2006|       23|         30|          8|\n",
            "|    75|    160|   2.0|      29|        10|     2006|       23|         16|         52|\n",
            "|    75|    163|   4.0|      29|        10|     2006|       23|         29|         30|\n",
            "|    75|    165|   4.5|      29|        10|     2006|       23|         25|         15|\n",
            "|    75|    173|   3.5|      29|        10|     2006|       23|         17|         37|\n",
            "|    75|    296|   5.0|      29|        10|     2006|       23|         24|         49|\n",
            "|    75|    353|   3.5|      29|        10|     2006|       23|         17|          0|\n",
            "|    75|    420|   2.0|      29|        10|     2006|       23|         16|         42|\n",
            "+------+-------+------+--------+----------+---------+---------+-----------+-----------+\n",
            "only showing top 10 rows\n",
            "\n"
          ]
        }
      ],
      "source": [
        "df.show(10)"
      ]
    },
    {
      "cell_type": "markdown",
      "metadata": {
        "id": "65EYIo0O1v2s"
      },
      "source": [
        "А можно заранее сказать, какой тип данных я ожидаю?"
      ]
    },
    {
      "cell_type": "code",
      "execution_count": null,
      "metadata": {
        "id": "LBTjPC1-102G"
      },
      "outputs": [],
      "source": [
        "from pyspark.sql.types import StructType, StructField, StringType, IntegerType, DoubleType"
      ]
    },
    {
      "cell_type": "code",
      "execution_count": null,
      "metadata": {
        "id": "axRDyclD3YZX"
      },
      "outputs": [],
      "source": [
        "schema = StructType([ \\\n",
        "    StructField(\"userID\",StringType(),True), \\\n",
        "    StructField(\"movieID\",IntegerType(),True), \\\n",
        "    StructField(\"rating\",DoubleType(),True), \\\n",
        "    StructField(\"date_day\", StringType(), True), \\\n",
        "    StructField(\"date_month\", StringType(), True), \\\n",
        "    StructField(\"date_year\", IntegerType(), True), \\\n",
        "    StructField(\"date_hour\", IntegerType(), True), \\\n",
        "    StructField(\"date_minute\", IntegerType(), True), \\\n",
        "    StructField(\"date_second\", IntegerType(), True)\n",
        "  ])"
      ]
    },
    {
      "cell_type": "code",
      "source": [
        "schema"
      ],
      "metadata": {
        "colab": {
          "base_uri": "https://localhost:8080/"
        },
        "id": "zoFNMscHUYc-",
        "outputId": "beffbaca-7dd2-4bda-e70a-528136a02d22"
      },
      "execution_count": null,
      "outputs": [
        {
          "output_type": "execute_result",
          "data": {
            "text/plain": [
              "StructType([StructField('userID', StringType(), True), StructField('movieID', IntegerType(), True), StructField('rating', DoubleType(), True), StructField('date_day', StringType(), True), StructField('date_month', StringType(), True), StructField('date_year', IntegerType(), True), StructField('date_hour', IntegerType(), True), StructField('date_minute', IntegerType(), True), StructField('date_second', IntegerType(), True)])"
            ]
          },
          "metadata": {},
          "execution_count": 16
        }
      ]
    },
    {
      "cell_type": "code",
      "execution_count": null,
      "metadata": {
        "id": "Y16zNsdF4GdA"
      },
      "outputs": [],
      "source": [
        "df = spark.read\\\n",
        "          .format(\"csv\")\\\n",
        "          .options(**{'sep': '\\t', 'header': 'true'})\\\n",
        "          .schema(schema)\\\n",
        "          .load(\"/content/drive/MyDrive/Преподавание/ОЦГ/user_ratedmovies.dat\")"
      ]
    },
    {
      "cell_type": "code",
      "execution_count": null,
      "metadata": {
        "id": "zyZqtXpN4Teq",
        "colab": {
          "base_uri": "https://localhost:8080/"
        },
        "outputId": "d83a590a-c309-4081-951c-4c3816988c96"
      },
      "outputs": [
        {
          "output_type": "stream",
          "name": "stdout",
          "text": [
            "root\n",
            " |-- userID: string (nullable = true)\n",
            " |-- movieID: integer (nullable = true)\n",
            " |-- rating: double (nullable = true)\n",
            " |-- date_day: string (nullable = true)\n",
            " |-- date_month: string (nullable = true)\n",
            " |-- date_year: integer (nullable = true)\n",
            " |-- date_hour: integer (nullable = true)\n",
            " |-- date_minute: integer (nullable = true)\n",
            " |-- date_second: integer (nullable = true)\n",
            "\n"
          ]
        }
      ],
      "source": [
        "df.printSchema()"
      ]
    },
    {
      "cell_type": "code",
      "source": [
        "df.show()"
      ],
      "metadata": {
        "colab": {
          "base_uri": "https://localhost:8080/"
        },
        "id": "EPKhDbgd_kHw",
        "outputId": "be7ed5f8-700b-4fcf-9e37-3bffd08d527c"
      },
      "execution_count": null,
      "outputs": [
        {
          "output_type": "stream",
          "name": "stdout",
          "text": [
            "+------+-------+------+--------+----------+---------+---------+-----------+-----------+\n",
            "|userID|movieID|rating|date_day|date_month|date_year|date_hour|date_minute|date_second|\n",
            "+------+-------+------+--------+----------+---------+---------+-----------+-----------+\n",
            "|    75|      3|   1.0|      29|        10|     2006|       23|         17|         16|\n",
            "|    75|     32|   4.5|      29|        10|     2006|       23|         23|         44|\n",
            "|    75|    110|   4.0|      29|        10|     2006|       23|         30|          8|\n",
            "|    75|    160|   2.0|      29|        10|     2006|       23|         16|         52|\n",
            "|    75|    163|   4.0|      29|        10|     2006|       23|         29|         30|\n",
            "|    75|    165|   4.5|      29|        10|     2006|       23|         25|         15|\n",
            "|    75|    173|   3.5|      29|        10|     2006|       23|         17|         37|\n",
            "|    75|    296|   5.0|      29|        10|     2006|       23|         24|         49|\n",
            "|    75|    353|   3.5|      29|        10|     2006|       23|         17|          0|\n",
            "|    75|    420|   2.0|      29|        10|     2006|       23|         16|         42|\n",
            "|    75|    589|   4.0|      29|        10|     2006|       23|         28|         21|\n",
            "|    75|    653|   3.0|      29|        10|     2006|       23|         17|          5|\n",
            "|    75|    832|   4.5|      29|        10|     2006|       23|         17|         49|\n",
            "|    75|    920|   0.5|      29|        10|     2006|       23|         17|          8|\n",
            "|    75|    996|   4.5|      29|        10|     2006|       23|         26|         17|\n",
            "|    75|   1036|   4.0|      29|        10|     2006|       23|         24|         45|\n",
            "|    75|   1127|   3.5|      29|        10|     2006|       23|         28|         52|\n",
            "|    75|   1215|   4.5|      29|        10|     2006|       23|         28|         56|\n",
            "|    75|   1233|   4.0|      29|        10|     2006|       23|         30|          5|\n",
            "|    75|   1304|   2.5|      29|        10|     2006|       23|         16|         56|\n",
            "+------+-------+------+--------+----------+---------+---------+-----------+-----------+\n",
            "only showing top 20 rows\n",
            "\n"
          ]
        }
      ]
    },
    {
      "cell_type": "markdown",
      "metadata": {
        "id": "mdxJ2Mts42yh"
      },
      "source": [
        "Но есть уже готовая обертка под все нужды"
      ]
    },
    {
      "cell_type": "code",
      "execution_count": null,
      "metadata": {
        "id": "0Z3BQYgq46H2"
      },
      "outputs": [],
      "source": [
        "df = spark.read.csv(path='/content/drive/MyDrive/Преподавание/ОЦГ/user_ratedmovies.dat', sep='\\t', header=True, inferSchema=True, schema=None)"
      ]
    },
    {
      "cell_type": "code",
      "execution_count": null,
      "metadata": {
        "id": "L_QGJgItBcr5",
        "colab": {
          "base_uri": "https://localhost:8080/"
        },
        "outputId": "43685a9d-3c90-4299-f0d5-16f33e61a90a"
      },
      "outputs": [
        {
          "output_type": "stream",
          "name": "stdout",
          "text": [
            "root\n",
            " |-- userID: integer (nullable = true)\n",
            " |-- movieID: integer (nullable = true)\n",
            " |-- rating: double (nullable = true)\n",
            " |-- date_day: integer (nullable = true)\n",
            " |-- date_month: integer (nullable = true)\n",
            " |-- date_year: integer (nullable = true)\n",
            " |-- date_hour: integer (nullable = true)\n",
            " |-- date_minute: integer (nullable = true)\n",
            " |-- date_second: integer (nullable = true)\n",
            "\n"
          ]
        }
      ],
      "source": [
        "df.printSchema()"
      ]
    },
    {
      "cell_type": "markdown",
      "metadata": {
        "id": "-AikPkbuN44v"
      },
      "source": [
        "Так, а как сохранить? Лучше быть аккуратнее с overwrite, перезапишет весь указанный путь, append будет безопаснее"
      ]
    },
    {
      "cell_type": "code",
      "execution_count": null,
      "metadata": {
        "id": "SvoejV_lN7Wx"
      },
      "outputs": [],
      "source": [
        "df.write.option(\"header\",True)\\\n",
        "        .mode(\"overwrite\")\\\n",
        "        .parquet('write_1.parquet')"
      ]
    },
    {
      "cell_type": "markdown",
      "metadata": {
        "id": "J9FAZTtsOU_D"
      },
      "source": [
        "А что с партицированием?"
      ]
    },
    {
      "cell_type": "code",
      "execution_count": null,
      "metadata": {
        "id": "q5DXXgA5OUJL"
      },
      "outputs": [],
      "source": [
        "df.write.option(\"header\",True)\\\n",
        "        .partitionBy('date_year')\\\n",
        "        .mode(\"overwrite\")\\\n",
        "        .parquet('write_2.parquet')"
      ]
    },
    {
      "cell_type": "code",
      "source": [
        "spark.read.parquet('/content/write_2.parquet/date_year=2002').show()"
      ],
      "metadata": {
        "colab": {
          "base_uri": "https://localhost:8080/"
        },
        "id": "M1PqslIcBH7W",
        "outputId": "874daf57-4502-4ff5-b9a0-bbbcb8e6ac08"
      },
      "execution_count": null,
      "outputs": [
        {
          "output_type": "stream",
          "name": "stdout",
          "text": [
            "+------+-------+------+--------+----------+---------+-----------+-----------+\n",
            "|userID|movieID|rating|date_day|date_month|date_hour|date_minute|date_second|\n",
            "+------+-------+------+--------+----------+---------+-----------+-----------+\n",
            "|  1224|      1|   5.0|      31|         5|        4|         54|          9|\n",
            "|  1224|      3|   4.0|      31|         5|        5|          9|         19|\n",
            "|  1224|      6|   5.0|      31|         5|        4|         38|         50|\n",
            "|  1224|     10|   4.0|      31|         5|        4|         43|         13|\n",
            "|  1224|     36|   3.0|       5|         6|        7|         19|          4|\n",
            "|  1224|     50|   5.0|      31|         5|        3|         40|          9|\n",
            "|  1224|     86|   3.0|      31|         5|        5|         36|         37|\n",
            "|  1224|    112|   4.0|      31|         5|        4|         44|         11|\n",
            "|  1224|    153|   2.0|       1|         6|        4|         31|         57|\n",
            "|  1224|    161|   4.0|      31|         5|        4|          2|         57|\n",
            "|  1224|    163|   4.0|      31|         5|        4|         41|          3|\n",
            "|  1224|    165|   4.0|      31|         5|        4|         44|         35|\n",
            "|  1224|    180|   3.0|      31|         5|        5|          0|         36|\n",
            "|  1224|    193|   1.0|       4|         6|        8|          5|         47|\n",
            "|  1224|    223|   4.0|      31|         5|        4|         54|         42|\n",
            "|  1224|    234|   2.0|      31|         5|        5|         20|         30|\n",
            "|  1224|    252|   3.0|       4|         6|        8|         25|         20|\n",
            "|  1224|    253|   2.0|      31|         5|        3|         29|         40|\n",
            "|  1224|    257|   4.0|      31|         5|        5|         28|         17|\n",
            "|  1224|    292|   3.0|      31|         5|        4|         44|         35|\n",
            "+------+-------+------+--------+----------+---------+-----------+-----------+\n",
            "only showing top 20 rows\n",
            "\n"
          ]
        }
      ]
    },
    {
      "cell_type": "markdown",
      "metadata": {
        "id": "nVWgHcej7BW8"
      },
      "source": [
        "Кстати, раз уж заговорили про схемы данных, то их можно задавать интереснее, например, под группированные данные"
      ]
    },
    {
      "cell_type": "code",
      "source": [],
      "metadata": {
        "id": "GXSW-7CfUgYr"
      },
      "execution_count": null,
      "outputs": []
    },
    {
      "cell_type": "code",
      "execution_count": null,
      "metadata": {
        "id": "CGlOCL_f7K6S",
        "colab": {
          "base_uri": "https://localhost:8080/"
        },
        "outputId": "ae71789d-0cf7-451d-85f3-51d401ab41b3"
      },
      "outputs": [
        {
          "output_type": "stream",
          "name": "stdout",
          "text": [
            "root\n",
            " |-- name: struct (nullable = true)\n",
            " |    |-- firstname: string (nullable = true)\n",
            " |    |-- middlename: string (nullable = true)\n",
            " |    |-- lastname: string (nullable = true)\n",
            " |-- id: string (nullable = true)\n",
            " |-- gender: string (nullable = true)\n",
            " |-- salary: integer (nullable = true)\n",
            "\n",
            "+--------------------+-----+------+------+\n",
            "|name                |id   |gender|salary|\n",
            "+--------------------+-----+------+------+\n",
            "|{James, , Smith}    |36636|M     |3100  |\n",
            "|{Michael, Rose, }   |40288|M     |4300  |\n",
            "|{Robert, , Williams}|42114|M     |1400  |\n",
            "|{Maria, Anne, Jones}|39192|F     |5500  |\n",
            "|{Jen, Mary, Brown}  |     |F     |-1    |\n",
            "+--------------------+-----+------+------+\n",
            "\n"
          ]
        }
      ],
      "source": [
        "structureData = [\n",
        "    ((\"James\",\"\",\"Smith\"),\"36636\",\"M\",3100),\n",
        "    ((\"Michael\",\"Rose\",\"\"),\"40288\",\"M\",4300),\n",
        "    ((\"Robert\",\"\",\"Williams\"),\"42114\",\"M\",1400),\n",
        "    ((\"Maria\",\"Anne\",\"Jones\"),\"39192\",\"F\",5500),\n",
        "    ((\"Jen\",\"Mary\",\"Brown\"),\"\",\"F\",-1)\n",
        "  ]\n",
        "structureSchema = StructType([\n",
        "        StructField('name', StructType([\n",
        "             StructField('firstname', StringType(), True),\n",
        "             StructField('middlename', StringType(), True),\n",
        "             StructField('lastname', StringType(), True)\n",
        "             ])),\n",
        "         StructField('id', StringType(), True),\n",
        "         StructField('gender', StringType(), True),\n",
        "         StructField('salary', IntegerType(), True)\n",
        "         ])\n",
        "df2 = spark.createDataFrame(data=structureData,schema=structureSchema)\n",
        "df2.printSchema()\n",
        "df2.show(truncate=False)"
      ]
    },
    {
      "cell_type": "markdown",
      "metadata": {
        "id": "iClIlEKr8iTj"
      },
      "source": [
        "Со структурой можно работать и менять ее под ваши нужны"
      ]
    },
    {
      "cell_type": "code",
      "execution_count": null,
      "metadata": {
        "id": "vm4_WIJS8dgO",
        "colab": {
          "base_uri": "https://localhost:8080/"
        },
        "outputId": "289d6f8c-ab82-4ce8-bf6d-3da99739c90d"
      },
      "outputs": [
        {
          "output_type": "stream",
          "name": "stdout",
          "text": [
            "root\n",
            " |-- name: struct (nullable = true)\n",
            " |    |-- firstname: string (nullable = true)\n",
            " |    |-- middlename: string (nullable = true)\n",
            " |    |-- lastname: string (nullable = true)\n",
            " |-- OtherInfo: struct (nullable = false)\n",
            " |    |-- identifier: string (nullable = true)\n",
            " |    |-- gender: string (nullable = true)\n",
            " |    |-- salary: integer (nullable = true)\n",
            " |    |-- Salary_Grade: string (nullable = false)\n",
            "\n",
            "+--------------------+------------------------+\n",
            "|name                |OtherInfo               |\n",
            "+--------------------+------------------------+\n",
            "|{James, , Smith}    |{36636, M, 3100, Medium}|\n",
            "|{Michael, Rose, }   |{40288, M, 4300, High}  |\n",
            "|{Robert, , Williams}|{42114, M, 1400, Low}   |\n",
            "|{Maria, Anne, Jones}|{39192, F, 5500, High}  |\n",
            "|{Jen, Mary, Brown}  |{, F, -1, Low}          |\n",
            "+--------------------+------------------------+\n",
            "\n"
          ]
        }
      ],
      "source": [
        "updatedDF = df2.withColumn(\"OtherInfo\",\n",
        "    F.struct(F.col(\"id\").alias(\"identifier\"),\n",
        "    F.col(\"gender\").alias(\"gender\"),\n",
        "    F.col(\"salary\").alias(\"salary\"),\n",
        "    F.when(F.col(\"salary\").cast(IntegerType()) < 2000,\"Low\")\n",
        "      .when(F.col(\"salary\").cast(IntegerType()) < 4000,\"Medium\")\n",
        "      .otherwise(\"High\").alias(\"Salary_Grade\")\n",
        "  )).drop(\"id\",\"gender\",\"salary\")\n",
        "\n",
        "updatedDF.printSchema()\n",
        "updatedDF.show(truncate=False)"
      ]
    },
    {
      "cell_type": "markdown",
      "metadata": {
        "id": "U0ahr4fX9Upl"
      },
      "source": [
        "Что мы там сделали????"
      ]
    },
    {
      "cell_type": "markdown",
      "metadata": {
        "id": "4LDl88xh9ijH"
      },
      "source": [
        "1) Создали новую структуру данных OtherInfo\n",
        "\n",
        "2) Передали туда id (переименовав столбец), gender, salary\n",
        "\n",
        "3) Создали столбец Salary_grade из условий\n",
        "\n",
        "4) удалили id, gender, salary из старой структуры"
      ]
    },
    {
      "cell_type": "markdown",
      "metadata": {
        "id": "zCQAE9lcB9t0"
      },
      "source": [
        "Есть и еще структуры данных!"
      ]
    },
    {
      "cell_type": "code",
      "execution_count": null,
      "metadata": {
        "id": "mubsrdL7CECm"
      },
      "outputs": [],
      "source": [
        "from pyspark.sql.types import ArrayType, MapType"
      ]
    },
    {
      "cell_type": "code",
      "execution_count": null,
      "metadata": {
        "id": "DmTN8aYYCLaP"
      },
      "outputs": [],
      "source": [
        "arrayStructureSchema = StructType([\n",
        "    StructField('name', StructType([\n",
        "       StructField('firstname', StringType(), True),\n",
        "       StructField('middlename', StringType(), True),\n",
        "       StructField('lastname', StringType(), True)\n",
        "       ])),\n",
        "       StructField('hobbies', ArrayType(StringType()), True),\n",
        "       StructField('properties', MapType(IntegerType(),StringType()), True)\n",
        "    ])"
      ]
    },
    {
      "cell_type": "code",
      "execution_count": null,
      "metadata": {
        "id": "yD1B3QxQCk2f"
      },
      "outputs": [],
      "source": [
        "structureData = [\n",
        "    ((\"James\",\"\",\"Smith\"), ['car', 'volleyball'], {1: 'a', 4: 'd'}),\n",
        "    ((\"Michael\",\"Rose\",\"\"), ['car', 'football'], {2: 'b'}),\n",
        "    ((\"Robert\",\"\",\"Williams\"), ['box', 'music'], {3: 'c'})\n",
        "  ]"
      ]
    },
    {
      "cell_type": "code",
      "execution_count": null,
      "metadata": {
        "id": "1ALozaKICfMB"
      },
      "outputs": [],
      "source": [
        "df3 = spark.createDataFrame(data=structureData,schema=arrayStructureSchema)\n",
        "df3.printSchema()\n",
        "df3.show(truncate=False)"
      ]
    },
    {
      "cell_type": "code",
      "execution_count": null,
      "metadata": {
        "id": "eLbNPk3YDiOY"
      },
      "outputs": [],
      "source": [
        "df3.select('properties').collect()"
      ]
    },
    {
      "cell_type": "markdown",
      "metadata": {
        "id": "4uQ1cQpyCF_X"
      },
      "source": [
        "**Описание данных**"
      ]
    },
    {
      "cell_type": "markdown",
      "metadata": {
        "id": "CUn_TbKyCGCQ"
      },
      "source": [
        "Общее описание данных"
      ]
    },
    {
      "cell_type": "code",
      "execution_count": null,
      "metadata": {
        "id": "JFT3OfOsFTl4"
      },
      "outputs": [],
      "source": [
        "df = spark.read.csv(path='/content/drive/MyDrive/Преподавание/ОЦГ/user_ratedmovies.dat', sep='\\t', header=True, inferSchema=True, schema=None)"
      ]
    },
    {
      "cell_type": "code",
      "execution_count": null,
      "metadata": {
        "id": "4xsYm_0aCANH",
        "colab": {
          "base_uri": "https://localhost:8080/"
        },
        "outputId": "bed402c6-8029-49af-f368-37abc5554c9f"
      },
      "outputs": [
        {
          "output_type": "stream",
          "name": "stdout",
          "text": [
            "+-------+-----------------+------------------+------------------+------------------+------------------+-----------------+------------------+------------------+------------------+\n",
            "|summary|           userID|           movieID|            rating|          date_day|        date_month|        date_year|         date_hour|       date_minute|       date_second|\n",
            "+-------+-----------------+------------------+------------------+------------------+------------------+-----------------+------------------+------------------+------------------+\n",
            "|  count|           855598|            855598|            855598|            855598|            855598|           855598|            855598|            855598|            855598|\n",
            "|   mean|35190.83255103448| 8710.179402008887| 3.437945156487042|15.568923723524366|  6.54079485926802|2005.323717446745|12.124531614145896|29.645382527775894|29.510222090280717|\n",
            "| stddev|20385.00334699137|14446.852908494242|1.0025608721610357| 8.951201361275226|3.5063994259089704|2.282697321902256| 7.596701614618118| 17.26730947820303| 17.31030200998905|\n",
            "|    min|               75|                 1|               0.5|                 1|                 1|             1997|                 0|                 0|                 0|\n",
            "|    max|            71534|             65133|               5.0|                31|                12|             2009|                23|                59|                59|\n",
            "+-------+-----------------+------------------+------------------+------------------+------------------+-----------------+------------------+------------------+------------------+\n",
            "\n"
          ]
        }
      ],
      "source": [
        "df.describe().show()"
      ]
    },
    {
      "cell_type": "code",
      "execution_count": null,
      "metadata": {
        "id": "tzoQTDS1CZdC",
        "colab": {
          "base_uri": "https://localhost:8080/"
        },
        "outputId": "1d127101-7d3c-4139-abf1-27850018ad64"
      },
      "outputs": [
        {
          "output_type": "stream",
          "name": "stdout",
          "text": [
            "+-------+-----------------+------------------+------------------+------------------+------------------+-----------------+------------------+------------------+------------------+\n",
            "|summary|           userID|           movieID|            rating|          date_day|        date_month|        date_year|         date_hour|       date_minute|       date_second|\n",
            "+-------+-----------------+------------------+------------------+------------------+------------------+-----------------+------------------+------------------+------------------+\n",
            "|  count|           855598|            855598|            855598|            855598|            855598|           855598|            855598|            855598|            855598|\n",
            "|   mean|35190.83255103448| 8710.179402008887| 3.437945156487042|15.568923723524366|  6.54079485926802|2005.323717446745|12.124531614145896|29.645382527775894|29.510222090280717|\n",
            "| stddev|20385.00334699137|14446.852908494242|1.0025608721610357| 8.951201361275226|3.5063994259089704|2.282697321902256| 7.596701614618118| 17.26730947820303| 17.31030200998905|\n",
            "|    min|               75|                 1|               0.5|                 1|                 1|             1997|                 0|                 0|                 0|\n",
            "|    25%|            18161|              1367|               3.0|                 8|                 4|             2004|                 5|                15|                15|\n",
            "|    50%|            33866|              3250|               3.5|                15|                 7|             2006|                13|                30|                30|\n",
            "|    75%|            52004|              6534|               4.0|                23|                10|             2007|                19|                45|                44|\n",
            "|    max|            71534|             65133|               5.0|                31|                12|             2009|                23|                59|                59|\n",
            "+-------+-----------------+------------------+------------------+------------------+------------------+-----------------+------------------+------------------+------------------+\n",
            "\n"
          ]
        }
      ],
      "source": [
        "df.summary().show()"
      ]
    },
    {
      "cell_type": "markdown",
      "metadata": {
        "id": "dTWN1cf_CrOT"
      },
      "source": [
        "Количество записей"
      ]
    },
    {
      "cell_type": "code",
      "execution_count": null,
      "metadata": {
        "id": "nVITW7_FCg7X"
      },
      "outputs": [],
      "source": [
        "df.count()"
      ]
    },
    {
      "cell_type": "markdown",
      "metadata": {
        "id": "gei1DA_MDXEM"
      },
      "source": [
        "Количество партиций"
      ]
    },
    {
      "cell_type": "code",
      "execution_count": null,
      "metadata": {
        "id": "8LxCM_uMCoOQ"
      },
      "outputs": [],
      "source": [
        "df.rdd.getNumPartitions()"
      ]
    },
    {
      "cell_type": "markdown",
      "metadata": {
        "id": "uARz4b3lDdVF"
      },
      "source": [
        " Менять число партиций можно, все как с rdd"
      ]
    },
    {
      "cell_type": "code",
      "execution_count": null,
      "metadata": {
        "id": "76UNLPKHDosI"
      },
      "outputs": [],
      "source": [
        "df = df.repartition(5)"
      ]
    },
    {
      "cell_type": "code",
      "execution_count": null,
      "metadata": {
        "id": "JdVfa-ODDtXz"
      },
      "outputs": [],
      "source": [
        "df.rdd.getNumPartitions()"
      ]
    },
    {
      "cell_type": "code",
      "execution_count": null,
      "metadata": {
        "id": "sIDPMK-qDv7p"
      },
      "outputs": [],
      "source": [
        "df = df.coalesce(2)"
      ]
    },
    {
      "cell_type": "code",
      "execution_count": null,
      "metadata": {
        "id": "hsG5g_aLDyPg"
      },
      "outputs": [],
      "source": [
        "df.rdd.getNumPartitions()"
      ]
    },
    {
      "cell_type": "markdown",
      "metadata": {
        "id": "R30yappBElPl"
      },
      "source": [
        "**Различные методы**"
      ]
    },
    {
      "cell_type": "markdown",
      "metadata": {
        "id": "KTysHYCwEMQb"
      },
      "source": [
        "Ну теперь давайте тыкать"
      ]
    },
    {
      "cell_type": "markdown",
      "metadata": {
        "id": "O-t0HREvEuXf"
      },
      "source": [
        "Удаляем дубликаты и помним, что есть actions и transformations, count заставит все сделать"
      ]
    },
    {
      "cell_type": "code",
      "source": [
        "df.unique()"
      ],
      "metadata": {
        "id": "hSrjCquJVaa3"
      },
      "execution_count": null,
      "outputs": []
    },
    {
      "cell_type": "code",
      "execution_count": null,
      "metadata": {
        "id": "grCgDf3XEJAG"
      },
      "outputs": [],
      "source": [
        "df_without_duplicates = df.drop_duplicates()"
      ]
    },
    {
      "cell_type": "markdown",
      "metadata": {
        "id": "WFX2rl8lFFNg"
      },
      "source": [
        "Есть alias"
      ]
    },
    {
      "cell_type": "code",
      "execution_count": null,
      "metadata": {
        "id": "0hXkMPVWFD0D"
      },
      "outputs": [],
      "source": [
        "df_without_duplicates = df.dropDuplicates()"
      ]
    },
    {
      "cell_type": "markdown",
      "metadata": {
        "id": "KdTTlyDXFVgV"
      },
      "source": [
        "Как удалить дубликаты по отдельным колонкам?"
      ]
    },
    {
      "cell_type": "code",
      "execution_count": null,
      "metadata": {
        "id": "2WSm1GHBFK1Y"
      },
      "outputs": [],
      "source": [
        "df_without_duplicates = df.drop_duplicates(['userID', 'rating'])"
      ]
    },
    {
      "cell_type": "code",
      "execution_count": null,
      "metadata": {
        "id": "2UDcQusBF0MU",
        "colab": {
          "base_uri": "https://localhost:8080/"
        },
        "outputId": "d45e79ee-930c-4498-cd3b-311e49a682f0"
      },
      "outputs": [
        {
          "output_type": "execute_result",
          "data": {
            "text/plain": [
              "18847"
            ]
          },
          "metadata": {},
          "execution_count": 47
        }
      ],
      "source": [
        "df_without_duplicates.count()"
      ]
    },
    {
      "cell_type": "code",
      "execution_count": null,
      "metadata": {
        "id": "Uu6IuhVlGAJ8",
        "colab": {
          "base_uri": "https://localhost:8080/"
        },
        "outputId": "1f8268cc-a8f4-4e30-e337-965d124e1936"
      },
      "outputs": [
        {
          "output_type": "stream",
          "name": "stdout",
          "text": [
            "+------+-------+------+--------+----------+---------+---------+-----------+-----------+\n",
            "|userID|movieID|rating|date_day|date_month|date_year|date_hour|date_minute|date_second|\n",
            "+------+-------+------+--------+----------+---------+---------+-----------+-----------+\n",
            "|  4944|      2|   1.5|      22|        10|     2007|       20|         28|         23|\n",
            "| 11930|      2|   3.0|       2|         4|     2005|       16|         41|          5|\n",
            "| 12356|    420|   2.5|      26|         1|     2006|        3|         29|          9|\n",
            "| 13014|     44|   2.0|      21|         6|     2003|        7|         46|         42|\n",
            "| 15715|      1|   5.0|       7|         2|     2006|        1|         26|          6|\n",
            "| 15816|      6|   4.5|       4|         1|     2007|       22|         13|         58|\n",
            "| 16862|      6|   4.5|      10|         2|     2006|        5|         14|          0|\n",
            "| 19519|      1|   3.0|      18|         4|     2006|       23|         48|          9|\n",
            "| 19838|      2|   3.5|      20|         8|     2006|       22|         35|         16|\n",
            "| 23129|     10|   4.5|       5|        12|     2007|        8|         51|          0|\n",
            "+------+-------+------+--------+----------+---------+---------+-----------+-----------+\n",
            "only showing top 10 rows\n",
            "\n"
          ]
        }
      ],
      "source": [
        "df_without_duplicates.show(10)"
      ]
    },
    {
      "cell_type": "markdown",
      "metadata": {
        "id": "_EuaTuZHwbKI"
      },
      "source": [
        "Как закинуть данные в любимый pandas?"
      ]
    },
    {
      "cell_type": "markdown",
      "metadata": {
        "id": "sYMdZ4UIwius"
      },
      "source": [
        " Самый простой вариант - встроенный метод, но он жутко медленный при существенном объеме данных. Лучше сохранить паркет и считать через pd.read_parquet()"
      ]
    },
    {
      "cell_type": "code",
      "execution_count": null,
      "metadata": {
        "id": "U2K09OLKzoI1"
      },
      "outputs": [],
      "source": [
        "import pandas as pd"
      ]
    },
    {
      "cell_type": "code",
      "execution_count": null,
      "metadata": {
        "id": "koXxQVt_wh82"
      },
      "outputs": [],
      "source": [
        "%%timeit\n",
        "\n",
        "pandas_df = df.toPandas()"
      ]
    },
    {
      "cell_type": "code",
      "execution_count": null,
      "metadata": {
        "id": "N4IMwKC1wsvH"
      },
      "outputs": [],
      "source": [
        "pandas_df = df.toPandas()\n",
        "pandas_df"
      ]
    },
    {
      "cell_type": "code",
      "execution_count": null,
      "metadata": {
        "id": "tMyqh1n6yFln"
      },
      "outputs": [],
      "source": [
        "pandas_df.info()"
      ]
    },
    {
      "cell_type": "code",
      "execution_count": null,
      "metadata": {
        "id": "X8g1GiYba-IY",
        "colab": {
          "base_uri": "https://localhost:8080/"
        },
        "outputId": "4fd83d10-1cad-469f-f763-6d77709d0d75"
      },
      "outputs": [
        {
          "output_type": "stream",
          "name": "stdout",
          "text": [
            "40 ms ± 4.4 ms per loop (mean ± std. dev. of 7 runs, 1 loop each)\n"
          ]
        }
      ],
      "source": [
        "%%timeit\n",
        "\n",
        "pandas_df = pd.read_parquet('write_1.parquet')"
      ]
    },
    {
      "cell_type": "code",
      "execution_count": null,
      "metadata": {
        "id": "e1VKNEWnbGAR",
        "colab": {
          "base_uri": "https://localhost:8080/",
          "height": 424
        },
        "outputId": "26daf21c-62de-4d4c-9060-8a5483f4dfdd"
      },
      "outputs": [
        {
          "output_type": "execute_result",
          "data": {
            "text/plain": [
              "        userID  movieID  rating  date_day  date_month  date_year  date_hour  \\\n",
              "0           75        3     1.0        29          10       2006         23   \n",
              "1           75       32     4.5        29          10       2006         23   \n",
              "2           75      110     4.0        29          10       2006         23   \n",
              "3           75      160     2.0        29          10       2006         23   \n",
              "4           75      163     4.0        29          10       2006         23   \n",
              "...        ...      ...     ...       ...         ...        ...        ...   \n",
              "855593   71534    44555     4.0         3          12       2007          3   \n",
              "855594   71534    46578     4.0         3          12       2007          2   \n",
              "855595   71534    48516     4.5         3          12       2007          2   \n",
              "855596   71534    61075     5.0        10          10       2008          9   \n",
              "855597   71534    62049     4.5        10          10       2008          9   \n",
              "\n",
              "        date_minute  date_second  \n",
              "0                17           16  \n",
              "1                23           44  \n",
              "2                30            8  \n",
              "3                16           52  \n",
              "4                29           30  \n",
              "...             ...          ...  \n",
              "855593            5           38  \n",
              "855594           56           44  \n",
              "855595           53           46  \n",
              "855596           56            5  \n",
              "855597           58           10  \n",
              "\n",
              "[855598 rows x 9 columns]"
            ],
            "text/html": [
              "\n",
              "  <div id=\"df-fb1619bd-5c05-4454-b5d8-9798f69573f3\" class=\"colab-df-container\">\n",
              "    <div>\n",
              "<style scoped>\n",
              "    .dataframe tbody tr th:only-of-type {\n",
              "        vertical-align: middle;\n",
              "    }\n",
              "\n",
              "    .dataframe tbody tr th {\n",
              "        vertical-align: top;\n",
              "    }\n",
              "\n",
              "    .dataframe thead th {\n",
              "        text-align: right;\n",
              "    }\n",
              "</style>\n",
              "<table border=\"1\" class=\"dataframe\">\n",
              "  <thead>\n",
              "    <tr style=\"text-align: right;\">\n",
              "      <th></th>\n",
              "      <th>userID</th>\n",
              "      <th>movieID</th>\n",
              "      <th>rating</th>\n",
              "      <th>date_day</th>\n",
              "      <th>date_month</th>\n",
              "      <th>date_year</th>\n",
              "      <th>date_hour</th>\n",
              "      <th>date_minute</th>\n",
              "      <th>date_second</th>\n",
              "    </tr>\n",
              "  </thead>\n",
              "  <tbody>\n",
              "    <tr>\n",
              "      <th>0</th>\n",
              "      <td>75</td>\n",
              "      <td>3</td>\n",
              "      <td>1.0</td>\n",
              "      <td>29</td>\n",
              "      <td>10</td>\n",
              "      <td>2006</td>\n",
              "      <td>23</td>\n",
              "      <td>17</td>\n",
              "      <td>16</td>\n",
              "    </tr>\n",
              "    <tr>\n",
              "      <th>1</th>\n",
              "      <td>75</td>\n",
              "      <td>32</td>\n",
              "      <td>4.5</td>\n",
              "      <td>29</td>\n",
              "      <td>10</td>\n",
              "      <td>2006</td>\n",
              "      <td>23</td>\n",
              "      <td>23</td>\n",
              "      <td>44</td>\n",
              "    </tr>\n",
              "    <tr>\n",
              "      <th>2</th>\n",
              "      <td>75</td>\n",
              "      <td>110</td>\n",
              "      <td>4.0</td>\n",
              "      <td>29</td>\n",
              "      <td>10</td>\n",
              "      <td>2006</td>\n",
              "      <td>23</td>\n",
              "      <td>30</td>\n",
              "      <td>8</td>\n",
              "    </tr>\n",
              "    <tr>\n",
              "      <th>3</th>\n",
              "      <td>75</td>\n",
              "      <td>160</td>\n",
              "      <td>2.0</td>\n",
              "      <td>29</td>\n",
              "      <td>10</td>\n",
              "      <td>2006</td>\n",
              "      <td>23</td>\n",
              "      <td>16</td>\n",
              "      <td>52</td>\n",
              "    </tr>\n",
              "    <tr>\n",
              "      <th>4</th>\n",
              "      <td>75</td>\n",
              "      <td>163</td>\n",
              "      <td>4.0</td>\n",
              "      <td>29</td>\n",
              "      <td>10</td>\n",
              "      <td>2006</td>\n",
              "      <td>23</td>\n",
              "      <td>29</td>\n",
              "      <td>30</td>\n",
              "    </tr>\n",
              "    <tr>\n",
              "      <th>...</th>\n",
              "      <td>...</td>\n",
              "      <td>...</td>\n",
              "      <td>...</td>\n",
              "      <td>...</td>\n",
              "      <td>...</td>\n",
              "      <td>...</td>\n",
              "      <td>...</td>\n",
              "      <td>...</td>\n",
              "      <td>...</td>\n",
              "    </tr>\n",
              "    <tr>\n",
              "      <th>855593</th>\n",
              "      <td>71534</td>\n",
              "      <td>44555</td>\n",
              "      <td>4.0</td>\n",
              "      <td>3</td>\n",
              "      <td>12</td>\n",
              "      <td>2007</td>\n",
              "      <td>3</td>\n",
              "      <td>5</td>\n",
              "      <td>38</td>\n",
              "    </tr>\n",
              "    <tr>\n",
              "      <th>855594</th>\n",
              "      <td>71534</td>\n",
              "      <td>46578</td>\n",
              "      <td>4.0</td>\n",
              "      <td>3</td>\n",
              "      <td>12</td>\n",
              "      <td>2007</td>\n",
              "      <td>2</td>\n",
              "      <td>56</td>\n",
              "      <td>44</td>\n",
              "    </tr>\n",
              "    <tr>\n",
              "      <th>855595</th>\n",
              "      <td>71534</td>\n",
              "      <td>48516</td>\n",
              "      <td>4.5</td>\n",
              "      <td>3</td>\n",
              "      <td>12</td>\n",
              "      <td>2007</td>\n",
              "      <td>2</td>\n",
              "      <td>53</td>\n",
              "      <td>46</td>\n",
              "    </tr>\n",
              "    <tr>\n",
              "      <th>855596</th>\n",
              "      <td>71534</td>\n",
              "      <td>61075</td>\n",
              "      <td>5.0</td>\n",
              "      <td>10</td>\n",
              "      <td>10</td>\n",
              "      <td>2008</td>\n",
              "      <td>9</td>\n",
              "      <td>56</td>\n",
              "      <td>5</td>\n",
              "    </tr>\n",
              "    <tr>\n",
              "      <th>855597</th>\n",
              "      <td>71534</td>\n",
              "      <td>62049</td>\n",
              "      <td>4.5</td>\n",
              "      <td>10</td>\n",
              "      <td>10</td>\n",
              "      <td>2008</td>\n",
              "      <td>9</td>\n",
              "      <td>58</td>\n",
              "      <td>10</td>\n",
              "    </tr>\n",
              "  </tbody>\n",
              "</table>\n",
              "<p>855598 rows × 9 columns</p>\n",
              "</div>\n",
              "    <div class=\"colab-df-buttons\">\n",
              "\n",
              "  <div class=\"colab-df-container\">\n",
              "    <button class=\"colab-df-convert\" onclick=\"convertToInteractive('df-fb1619bd-5c05-4454-b5d8-9798f69573f3')\"\n",
              "            title=\"Convert this dataframe to an interactive table.\"\n",
              "            style=\"display:none;\">\n",
              "\n",
              "  <svg xmlns=\"http://www.w3.org/2000/svg\" height=\"24px\" viewBox=\"0 -960 960 960\">\n",
              "    <path d=\"M120-120v-720h720v720H120Zm60-500h600v-160H180v160Zm220 220h160v-160H400v160Zm0 220h160v-160H400v160ZM180-400h160v-160H180v160Zm440 0h160v-160H620v160ZM180-180h160v-160H180v160Zm440 0h160v-160H620v160Z\"/>\n",
              "  </svg>\n",
              "    </button>\n",
              "\n",
              "  <style>\n",
              "    .colab-df-container {\n",
              "      display:flex;\n",
              "      gap: 12px;\n",
              "    }\n",
              "\n",
              "    .colab-df-convert {\n",
              "      background-color: #E8F0FE;\n",
              "      border: none;\n",
              "      border-radius: 50%;\n",
              "      cursor: pointer;\n",
              "      display: none;\n",
              "      fill: #1967D2;\n",
              "      height: 32px;\n",
              "      padding: 0 0 0 0;\n",
              "      width: 32px;\n",
              "    }\n",
              "\n",
              "    .colab-df-convert:hover {\n",
              "      background-color: #E2EBFA;\n",
              "      box-shadow: 0px 1px 2px rgba(60, 64, 67, 0.3), 0px 1px 3px 1px rgba(60, 64, 67, 0.15);\n",
              "      fill: #174EA6;\n",
              "    }\n",
              "\n",
              "    .colab-df-buttons div {\n",
              "      margin-bottom: 4px;\n",
              "    }\n",
              "\n",
              "    [theme=dark] .colab-df-convert {\n",
              "      background-color: #3B4455;\n",
              "      fill: #D2E3FC;\n",
              "    }\n",
              "\n",
              "    [theme=dark] .colab-df-convert:hover {\n",
              "      background-color: #434B5C;\n",
              "      box-shadow: 0px 1px 3px 1px rgba(0, 0, 0, 0.15);\n",
              "      filter: drop-shadow(0px 1px 2px rgba(0, 0, 0, 0.3));\n",
              "      fill: #FFFFFF;\n",
              "    }\n",
              "  </style>\n",
              "\n",
              "    <script>\n",
              "      const buttonEl =\n",
              "        document.querySelector('#df-fb1619bd-5c05-4454-b5d8-9798f69573f3 button.colab-df-convert');\n",
              "      buttonEl.style.display =\n",
              "        google.colab.kernel.accessAllowed ? 'block' : 'none';\n",
              "\n",
              "      async function convertToInteractive(key) {\n",
              "        const element = document.querySelector('#df-fb1619bd-5c05-4454-b5d8-9798f69573f3');\n",
              "        const dataTable =\n",
              "          await google.colab.kernel.invokeFunction('convertToInteractive',\n",
              "                                                    [key], {});\n",
              "        if (!dataTable) return;\n",
              "\n",
              "        const docLinkHtml = 'Like what you see? Visit the ' +\n",
              "          '<a target=\"_blank\" href=https://colab.research.google.com/notebooks/data_table.ipynb>data table notebook</a>'\n",
              "          + ' to learn more about interactive tables.';\n",
              "        element.innerHTML = '';\n",
              "        dataTable['output_type'] = 'display_data';\n",
              "        await google.colab.output.renderOutput(dataTable, element);\n",
              "        const docLink = document.createElement('div');\n",
              "        docLink.innerHTML = docLinkHtml;\n",
              "        element.appendChild(docLink);\n",
              "      }\n",
              "    </script>\n",
              "  </div>\n",
              "\n",
              "\n",
              "<div id=\"df-0ca23977-3e2c-4008-a1d8-c0bd3ec04272\">\n",
              "  <button class=\"colab-df-quickchart\" onclick=\"quickchart('df-0ca23977-3e2c-4008-a1d8-c0bd3ec04272')\"\n",
              "            title=\"Suggest charts\"\n",
              "            style=\"display:none;\">\n",
              "\n",
              "<svg xmlns=\"http://www.w3.org/2000/svg\" height=\"24px\"viewBox=\"0 0 24 24\"\n",
              "     width=\"24px\">\n",
              "    <g>\n",
              "        <path d=\"M19 3H5c-1.1 0-2 .9-2 2v14c0 1.1.9 2 2 2h14c1.1 0 2-.9 2-2V5c0-1.1-.9-2-2-2zM9 17H7v-7h2v7zm4 0h-2V7h2v10zm4 0h-2v-4h2v4z\"/>\n",
              "    </g>\n",
              "</svg>\n",
              "  </button>\n",
              "\n",
              "<style>\n",
              "  .colab-df-quickchart {\n",
              "      --bg-color: #E8F0FE;\n",
              "      --fill-color: #1967D2;\n",
              "      --hover-bg-color: #E2EBFA;\n",
              "      --hover-fill-color: #174EA6;\n",
              "      --disabled-fill-color: #AAA;\n",
              "      --disabled-bg-color: #DDD;\n",
              "  }\n",
              "\n",
              "  [theme=dark] .colab-df-quickchart {\n",
              "      --bg-color: #3B4455;\n",
              "      --fill-color: #D2E3FC;\n",
              "      --hover-bg-color: #434B5C;\n",
              "      --hover-fill-color: #FFFFFF;\n",
              "      --disabled-bg-color: #3B4455;\n",
              "      --disabled-fill-color: #666;\n",
              "  }\n",
              "\n",
              "  .colab-df-quickchart {\n",
              "    background-color: var(--bg-color);\n",
              "    border: none;\n",
              "    border-radius: 50%;\n",
              "    cursor: pointer;\n",
              "    display: none;\n",
              "    fill: var(--fill-color);\n",
              "    height: 32px;\n",
              "    padding: 0;\n",
              "    width: 32px;\n",
              "  }\n",
              "\n",
              "  .colab-df-quickchart:hover {\n",
              "    background-color: var(--hover-bg-color);\n",
              "    box-shadow: 0 1px 2px rgba(60, 64, 67, 0.3), 0 1px 3px 1px rgba(60, 64, 67, 0.15);\n",
              "    fill: var(--button-hover-fill-color);\n",
              "  }\n",
              "\n",
              "  .colab-df-quickchart-complete:disabled,\n",
              "  .colab-df-quickchart-complete:disabled:hover {\n",
              "    background-color: var(--disabled-bg-color);\n",
              "    fill: var(--disabled-fill-color);\n",
              "    box-shadow: none;\n",
              "  }\n",
              "\n",
              "  .colab-df-spinner {\n",
              "    border: 2px solid var(--fill-color);\n",
              "    border-color: transparent;\n",
              "    border-bottom-color: var(--fill-color);\n",
              "    animation:\n",
              "      spin 1s steps(1) infinite;\n",
              "  }\n",
              "\n",
              "  @keyframes spin {\n",
              "    0% {\n",
              "      border-color: transparent;\n",
              "      border-bottom-color: var(--fill-color);\n",
              "      border-left-color: var(--fill-color);\n",
              "    }\n",
              "    20% {\n",
              "      border-color: transparent;\n",
              "      border-left-color: var(--fill-color);\n",
              "      border-top-color: var(--fill-color);\n",
              "    }\n",
              "    30% {\n",
              "      border-color: transparent;\n",
              "      border-left-color: var(--fill-color);\n",
              "      border-top-color: var(--fill-color);\n",
              "      border-right-color: var(--fill-color);\n",
              "    }\n",
              "    40% {\n",
              "      border-color: transparent;\n",
              "      border-right-color: var(--fill-color);\n",
              "      border-top-color: var(--fill-color);\n",
              "    }\n",
              "    60% {\n",
              "      border-color: transparent;\n",
              "      border-right-color: var(--fill-color);\n",
              "    }\n",
              "    80% {\n",
              "      border-color: transparent;\n",
              "      border-right-color: var(--fill-color);\n",
              "      border-bottom-color: var(--fill-color);\n",
              "    }\n",
              "    90% {\n",
              "      border-color: transparent;\n",
              "      border-bottom-color: var(--fill-color);\n",
              "    }\n",
              "  }\n",
              "</style>\n",
              "\n",
              "  <script>\n",
              "    async function quickchart(key) {\n",
              "      const quickchartButtonEl =\n",
              "        document.querySelector('#' + key + ' button');\n",
              "      quickchartButtonEl.disabled = true;  // To prevent multiple clicks.\n",
              "      quickchartButtonEl.classList.add('colab-df-spinner');\n",
              "      try {\n",
              "        const charts = await google.colab.kernel.invokeFunction(\n",
              "            'suggestCharts', [key], {});\n",
              "      } catch (error) {\n",
              "        console.error('Error during call to suggestCharts:', error);\n",
              "      }\n",
              "      quickchartButtonEl.classList.remove('colab-df-spinner');\n",
              "      quickchartButtonEl.classList.add('colab-df-quickchart-complete');\n",
              "    }\n",
              "    (() => {\n",
              "      let quickchartButtonEl =\n",
              "        document.querySelector('#df-0ca23977-3e2c-4008-a1d8-c0bd3ec04272 button');\n",
              "      quickchartButtonEl.style.display =\n",
              "        google.colab.kernel.accessAllowed ? 'block' : 'none';\n",
              "    })();\n",
              "  </script>\n",
              "</div>\n",
              "    </div>\n",
              "  </div>\n"
            ],
            "application/vnd.google.colaboratory.intrinsic+json": {
              "type": "dataframe",
              "variable_name": "pandas_df"
            }
          },
          "metadata": {},
          "execution_count": 53
        }
      ],
      "source": [
        "pandas_df = pd.read_parquet('write_1.parquet')\n",
        "pandas_df"
      ]
    },
    {
      "cell_type": "code",
      "execution_count": null,
      "metadata": {
        "id": "UafReEE9x-pV",
        "colab": {
          "base_uri": "https://localhost:8080/"
        },
        "outputId": "b073b3ea-e3d0-4164-fe6c-8d199ca4e0ef"
      },
      "outputs": [
        {
          "output_type": "stream",
          "name": "stdout",
          "text": [
            "<class 'pandas.core.frame.DataFrame'>\n",
            "RangeIndex: 855598 entries, 0 to 855597\n",
            "Data columns (total 9 columns):\n",
            " #   Column       Non-Null Count   Dtype  \n",
            "---  ------       --------------   -----  \n",
            " 0   userID       855598 non-null  int32  \n",
            " 1   movieID      855598 non-null  int32  \n",
            " 2   rating       855598 non-null  float64\n",
            " 3   date_day     855598 non-null  int32  \n",
            " 4   date_month   855598 non-null  int32  \n",
            " 5   date_year    855598 non-null  int32  \n",
            " 6   date_hour    855598 non-null  int32  \n",
            " 7   date_minute  855598 non-null  int32  \n",
            " 8   date_second  855598 non-null  int32  \n",
            "dtypes: float64(1), int32(8)\n",
            "memory usage: 32.6 MB\n"
          ]
        }
      ],
      "source": [
        "pandas_df.info()"
      ]
    },
    {
      "cell_type": "markdown",
      "metadata": {
        "id": "tyNzrNDW3FI4"
      },
      "source": [
        "**Show**"
      ]
    },
    {
      "cell_type": "code",
      "execution_count": null,
      "metadata": {
        "id": "vYNJKbQJ2up1"
      },
      "outputs": [],
      "source": [
        "df.show(10)"
      ]
    },
    {
      "cell_type": "markdown",
      "metadata": {
        "id": "-ymp1StL3aFi"
      },
      "source": [
        "Обрезаем до 2 символов"
      ]
    },
    {
      "cell_type": "code",
      "execution_count": null,
      "metadata": {
        "id": "ZFXsxrXH3NQS"
      },
      "outputs": [],
      "source": [
        "df.show(10, truncate=2)"
      ]
    },
    {
      "cell_type": "markdown",
      "metadata": {
        "id": "oMoppJfS3klG"
      },
      "source": [
        "вертикальное отображение"
      ]
    },
    {
      "cell_type": "code",
      "execution_count": null,
      "metadata": {
        "id": "LCuKzAS83dM4"
      },
      "outputs": [],
      "source": [
        "df.show(10, vertical=True)"
      ]
    },
    {
      "cell_type": "markdown",
      "metadata": {
        "id": "oVFKxBsuFU5i"
      },
      "source": [
        "**Select**\n",
        "\n",
        "В PySpark функция select() используется для выбора одного, нескольких столбцов по индексу, всех столбцов из списка и вложенных столбцов из фрейма данных. Функция PySpark select() является функцией преобразования, поэтому она возвращает новый фрейм данных с выбранными столбцами."
      ]
    },
    {
      "cell_type": "code",
      "execution_count": null,
      "metadata": {
        "id": "dliaTxGxFnzr",
        "colab": {
          "base_uri": "https://localhost:8080/"
        },
        "outputId": "d39791ce-b775-4902-9c5f-66bda1764550"
      },
      "outputs": [
        {
          "output_type": "execute_result",
          "data": {
            "text/plain": [
              "['userID',\n",
              " 'movieID',\n",
              " 'rating',\n",
              " 'date_day',\n",
              " 'date_month',\n",
              " 'date_year',\n",
              " 'date_hour',\n",
              " 'date_minute',\n",
              " 'date_second']"
            ]
          },
          "metadata": {},
          "execution_count": 55
        }
      ],
      "source": [
        "df.columns"
      ]
    },
    {
      "cell_type": "markdown",
      "metadata": {
        "id": "cInhSbcBGtKn"
      },
      "source": [
        "Упс, pandas-style тут не приветствуется"
      ]
    },
    {
      "cell_type": "code",
      "source": [
        "df.loc[:, ['userID', ;sdflsdfj]]\n",
        "df[['userID', '']]"
      ],
      "metadata": {
        "id": "VCsZXlWgWLab"
      },
      "execution_count": null,
      "outputs": []
    },
    {
      "cell_type": "code",
      "execution_count": null,
      "metadata": {
        "id": "Ms8Gqj0WGpOJ"
      },
      "outputs": [],
      "source": [
        "df.userID.show(5)"
      ]
    },
    {
      "cell_type": "code",
      "execution_count": null,
      "metadata": {
        "id": "rSF9GuB6Fwv7"
      },
      "outputs": [],
      "source": [
        "df.select('userID').show(5)"
      ]
    },
    {
      "cell_type": "markdown",
      "metadata": {
        "id": "b8s0NRdtGHcZ"
      },
      "source": [
        "Куча вариантов, выбирайте любой"
      ]
    },
    {
      "cell_type": "code",
      "execution_count": null,
      "metadata": {
        "id": "8sUEL7yHF4mA"
      },
      "outputs": [],
      "source": [
        "df.select('userID', 'rating').show(5)"
      ]
    },
    {
      "cell_type": "code",
      "execution_count": null,
      "metadata": {
        "id": "KynOoDxUF-DU"
      },
      "outputs": [],
      "source": [
        "df.select(['userID', 'rating']).show(5)"
      ]
    },
    {
      "cell_type": "code",
      "execution_count": null,
      "metadata": {
        "id": "AZrRyJPLGcHU"
      },
      "outputs": [],
      "source": [
        "df.select(df.userID,df.rating).show(5)"
      ]
    },
    {
      "cell_type": "code",
      "execution_count": null,
      "metadata": {
        "id": "YNkrq1TUGwSb"
      },
      "outputs": [],
      "source": [
        "df.select(df['userID'],df['rating']).show(5)"
      ]
    },
    {
      "cell_type": "code",
      "execution_count": null,
      "metadata": {
        "id": "La3Q3k01GZ3-"
      },
      "outputs": [],
      "source": [
        "df.select(F.col(\"userID\"), F.col(\"rating\")).show(5)"
      ]
    },
    {
      "cell_type": "markdown",
      "metadata": {
        "id": "2Pfledp7JxFo"
      },
      "source": [
        "можно налету переименовать столбец"
      ]
    },
    {
      "cell_type": "code",
      "execution_count": null,
      "metadata": {
        "id": "23c1EFh0JgCm"
      },
      "outputs": [],
      "source": [
        "df.select(df.userID, df.rating.alias('mark')).show(5)"
      ]
    },
    {
      "cell_type": "code",
      "execution_count": null,
      "metadata": {
        "id": "-15TG7h8G-7L"
      },
      "outputs": [],
      "source": [
        "#регулярки\n",
        "df.select(df.colRegex(\"`d+.*y`\")).show(5)"
      ]
    },
    {
      "cell_type": "markdown",
      "metadata": {
        "id": "6zRsPk3PItus"
      },
      "source": [
        "примеры с другим датафреймом, где структура сложнее"
      ]
    },
    {
      "cell_type": "code",
      "execution_count": null,
      "metadata": {
        "id": "0-EHUbgMJATb"
      },
      "outputs": [],
      "source": [
        "structureData = [\n",
        "    ((\"James\",\"\",\"Smith\"),\"36636\",\"M\",3100),\n",
        "    ((\"Michael\",\"Rose\",\"\"),\"40288\",\"M\",4300),\n",
        "    ((\"Robert\",\"\",\"Williams\"),\"42114\",\"M\",1400),\n",
        "    ((\"Maria\",\"Anne\",\"Jones\"),\"39192\",\"F\",5500),\n",
        "    ((\"Jen\",\"Mary\",\"Brown\"),\"\",\"F\",-1)\n",
        "  ]\n",
        "structureSchema = StructType([\n",
        "        StructField('name', StructType([\n",
        "             StructField('firstname', StringType(), True),\n",
        "             StructField('middlename', StringType(), True),\n",
        "             StructField('lastname', StringType(), True)\n",
        "             ])),\n",
        "         StructField('id', StringType(), True),\n",
        "         StructField('gender', StringType(), True),\n",
        "         StructField('salary', IntegerType(), True)\n",
        "         ])\n",
        "\n",
        "df2 = spark.createDataFrame(data=structureData,schema=structureSchema)\n",
        "df2.printSchema()\n",
        "df2.show(truncate=False)"
      ]
    },
    {
      "cell_type": "code",
      "execution_count": null,
      "metadata": {
        "id": "dOKRrq3OJBub"
      },
      "outputs": [],
      "source": [
        "df2.select('name').show(5)"
      ]
    },
    {
      "cell_type": "code",
      "execution_count": null,
      "metadata": {
        "id": "t7wWDSc0JGGH"
      },
      "outputs": [],
      "source": [
        "df2.select('name.lastname').show(5)"
      ]
    },
    {
      "cell_type": "code",
      "execution_count": null,
      "metadata": {
        "id": "RCtpj47VJLhf"
      },
      "outputs": [],
      "source": [
        "df2.select('name.firstname', 'name.lastname').show(5)"
      ]
    },
    {
      "cell_type": "markdown",
      "metadata": {
        "id": "jnz1-TbQVWhF"
      },
      "source": [
        "**withColumn**\n",
        "\n",
        "PySpark withColumn() - это функция преобразования (transform), которая используется для изменения значения, преобразования типа данных существующего столбца, создания нового столбца и многого другого. Поговорим о часто используемых операциях со столбцами данных PySpark, используя примеры."
      ]
    },
    {
      "cell_type": "code",
      "execution_count": null,
      "metadata": {
        "id": "gUhukrY0Y0Q2",
        "colab": {
          "base_uri": "https://localhost:8080/"
        },
        "outputId": "b5cc3f3c-0529-4c44-eb31-417c18801418"
      },
      "outputs": [
        {
          "output_type": "stream",
          "name": "stdout",
          "text": [
            "root\n",
            " |-- userID: integer (nullable = true)\n",
            " |-- movieID: integer (nullable = true)\n",
            " |-- rating: double (nullable = true)\n",
            " |-- date_day: integer (nullable = true)\n",
            " |-- date_month: integer (nullable = true)\n",
            " |-- date_year: integer (nullable = true)\n",
            " |-- date_hour: integer (nullable = true)\n",
            " |-- date_minute: integer (nullable = true)\n",
            " |-- date_second: integer (nullable = true)\n",
            "\n"
          ]
        }
      ],
      "source": [
        "df.printSchema()"
      ]
    },
    {
      "cell_type": "markdown",
      "metadata": {
        "id": "c4biHC1yYv7w"
      },
      "source": [
        "Меняем тип данных"
      ]
    },
    {
      "cell_type": "code",
      "source": [
        "df['new_col'] = []"
      ],
      "metadata": {
        "id": "w-1k1bPiDLrD"
      },
      "execution_count": null,
      "outputs": []
    },
    {
      "cell_type": "code",
      "execution_count": null,
      "metadata": {
        "id": "xGHnOBJ1YrGA",
        "colab": {
          "base_uri": "https://localhost:8080/"
        },
        "outputId": "662899d0-a7ca-4e46-e34e-027df9c746f8"
      },
      "outputs": [
        {
          "output_type": "stream",
          "name": "stdout",
          "text": [
            "root\n",
            " |-- userID: integer (nullable = true)\n",
            " |-- movieID: integer (nullable = true)\n",
            " |-- rating: double (nullable = true)\n",
            " |-- date_day: integer (nullable = true)\n",
            " |-- date_month: string (nullable = true)\n",
            " |-- date_year: integer (nullable = true)\n",
            " |-- date_hour: integer (nullable = true)\n",
            " |-- date_minute: integer (nullable = true)\n",
            " |-- date_second: integer (nullable = true)\n",
            "\n"
          ]
        }
      ],
      "source": [
        "df.withColumn(\"date_month\", F.col(\"date_month\").cast(\"String\")).printSchema()"
      ]
    },
    {
      "cell_type": "markdown",
      "metadata": {
        "id": "dlM-ozjcZaJT"
      },
      "source": [
        "Модифицировать столбец/создать новый"
      ]
    },
    {
      "cell_type": "code",
      "execution_count": null,
      "metadata": {
        "id": "6afdpcQrZMWX"
      },
      "outputs": [],
      "source": [
        "df.withColumn(\"rating_x_10\",F.col(\"rating\") * 10).show(5)"
      ]
    },
    {
      "cell_type": "markdown",
      "metadata": {
        "id": "jSFyjtL6Z_WT"
      },
      "source": [
        "Делаем 2 константных столбца"
      ]
    },
    {
      "cell_type": "code",
      "execution_count": null,
      "metadata": {
        "id": "5tjCFJKAaLnO"
      },
      "outputs": [],
      "source": [
        "df.withColumn('fix_1', F.lit(1)).withColumn('fix_2', F.lit(2)).show(5)"
      ]
    },
    {
      "cell_type": "markdown",
      "metadata": {
        "id": "Wq7AyqA7ajCw"
      },
      "source": [
        "**withColumnsRenamed**\n",
        "\n",
        "Предыдущий вариант не давал возможности переименовать столбцы, это можно сделать иначе"
      ]
    },
    {
      "cell_type": "code",
      "execution_count": null,
      "metadata": {
        "id": "mhNQL1UaaoWn"
      },
      "outputs": [],
      "source": [
        "df.withColumnRenamed('rating', 'mark').show(5)"
      ]
    },
    {
      "cell_type": "markdown",
      "metadata": {
        "id": "i7XsfsdNbq_M"
      },
      "source": [
        "**filter (where) и иные филтрации**\n",
        "\n",
        "Функция PySpark filter() используется для фильтрации строк из RDD / DataFrame на основе заданного условия или выражения SQL, вы также можете использовать предложение where() вместо filter() обе эти функции работают аналогично."
      ]
    },
    {
      "cell_type": "markdown",
      "metadata": {
        "id": "IVbRAIZ-eWm3"
      },
      "source": [
        "1 условие"
      ]
    },
    {
      "cell_type": "code",
      "source": [
        "df.filter(df.rating == 5.0)"
      ],
      "metadata": {
        "colab": {
          "base_uri": "https://localhost:8080/"
        },
        "id": "ru6Y9McvDwKl",
        "outputId": "32dbb662-e559-4c7d-a5c3-d796b8eb6ebe"
      },
      "execution_count": null,
      "outputs": [
        {
          "output_type": "execute_result",
          "data": {
            "text/plain": [
              "DataFrame[userID: int, movieID: int, rating: double, date_day: int, date_month: int, date_year: int, date_hour: int, date_minute: int, date_second: int]"
            ]
          },
          "metadata": {},
          "execution_count": 41
        }
      ]
    },
    {
      "cell_type": "code",
      "execution_count": null,
      "metadata": {
        "id": "SFzp724CddPb"
      },
      "outputs": [],
      "source": [
        "df.filter((df.rating == 5.0) & (df.rating == 1))"
      ]
    },
    {
      "cell_type": "code",
      "execution_count": null,
      "metadata": {
        "id": "vHYMQDRveND2"
      },
      "outputs": [],
      "source": [
        "df.filter(~(df.rating == 5.0)).show(5)"
      ]
    },
    {
      "cell_type": "code",
      "execution_count": null,
      "metadata": {
        "id": "VF0jZSiFeRvT",
        "colab": {
          "base_uri": "https://localhost:8080/"
        },
        "outputId": "8fa25b8d-975c-46e0-a748-975ae8e27a05"
      },
      "outputs": [
        {
          "output_type": "execute_result",
          "data": {
            "text/plain": [
              "DataFrame[userID: int, movieID: int, rating: double, date_day: int, date_month: int, date_year: int, date_hour: int, date_minute: int, date_second: int]"
            ]
          },
          "metadata": {},
          "execution_count": 56
        }
      ],
      "source": [
        "df.filter('rating = 5').show(5)"
      ]
    },
    {
      "cell_type": "markdown",
      "metadata": {
        "id": "B-tzppVSehGc"
      },
      "source": [
        "Несколько условий"
      ]
    },
    {
      "cell_type": "code",
      "execution_count": null,
      "metadata": {
        "id": "RG2nk91dekM_"
      },
      "outputs": [],
      "source": [
        "df.filter((df.rating == 5.0) & (df.date_year == 2006)).show(5)"
      ]
    },
    {
      "cell_type": "code",
      "execution_count": null,
      "metadata": {
        "id": "OXGvcpqdfRK-"
      },
      "outputs": [],
      "source": [
        "df.filter('(rating = 5.0) and (date_year = 2006)').show(5)"
      ]
    },
    {
      "cell_type": "code",
      "execution_count": null,
      "metadata": {
        "id": "PPJrcN3Zh5zu"
      },
      "outputs": [],
      "source": [
        "df.filter('(rating = 5.0) and (userID between 70 and 80)').show(5)"
      ]
    },
    {
      "cell_type": "markdown",
      "metadata": {
        "id": "XdE18CsVfepu"
      },
      "source": [
        "фильтр по списку значений из list"
      ]
    },
    {
      "cell_type": "code",
      "execution_count": null,
      "metadata": {
        "id": "lHYaVt1Sfix6"
      },
      "outputs": [],
      "source": [
        "years = [2006, 2007]"
      ]
    },
    {
      "cell_type": "code",
      "execution_count": null,
      "metadata": {
        "id": "CtScT6Ljf1f0",
        "colab": {
          "base_uri": "https://localhost:8080/"
        },
        "outputId": "b3be09f3-f0da-43b9-ee6a-ab1ac4e10a98"
      },
      "outputs": [
        {
          "output_type": "stream",
          "name": "stdout",
          "text": [
            "+------+-------+------+--------+----------+---------+---------+-----------+-----------+\n",
            "|userID|movieID|rating|date_day|date_month|date_year|date_hour|date_minute|date_second|\n",
            "+------+-------+------+--------+----------+---------+---------+-----------+-----------+\n",
            "|    75|      3|   1.0|      29|        10|     2006|       23|         17|         16|\n",
            "|    75|     32|   4.5|      29|        10|     2006|       23|         23|         44|\n",
            "|    75|    110|   4.0|      29|        10|     2006|       23|         30|          8|\n",
            "|    75|    160|   2.0|      29|        10|     2006|       23|         16|         52|\n",
            "|    75|    163|   4.0|      29|        10|     2006|       23|         29|         30|\n",
            "+------+-------+------+--------+----------+---------+---------+-----------+-----------+\n",
            "only showing top 5 rows\n",
            "\n"
          ]
        }
      ],
      "source": [
        "df.filter(df.date_year.isin(years)).show(5)"
      ]
    },
    {
      "cell_type": "markdown",
      "metadata": {
        "id": "t8xkT6PxgJXy"
      },
      "source": [
        " проверим"
      ]
    },
    {
      "cell_type": "code",
      "source": [
        "df.collect()"
      ],
      "metadata": {
        "id": "sqgSjjqxXTdT"
      },
      "execution_count": null,
      "outputs": []
    },
    {
      "cell_type": "code",
      "execution_count": null,
      "metadata": {
        "id": "YpQJJAchf-aY",
        "colab": {
          "base_uri": "https://localhost:8080/"
        },
        "outputId": "0f968695-a9fd-407d-9b22-701a35551d9b"
      },
      "outputs": [
        {
          "output_type": "execute_result",
          "data": {
            "text/plain": [
              "[Row(date_year=2007), Row(date_year=2006)]"
            ]
          },
          "metadata": {},
          "execution_count": 60
        }
      ],
      "source": [
        "df.filter(df.date_year.isin(years))\\\n",
        "  .select('date_year')\\\n",
        "  .dropDuplicates()\\\n",
        "  .collect()"
      ]
    },
    {
      "cell_type": "markdown",
      "metadata": {
        "id": "baQHzWATiWPQ"
      },
      "source": [
        "создадим игрушечный датайфрейм для текстовых столбцов"
      ]
    },
    {
      "cell_type": "code",
      "execution_count": null,
      "metadata": {
        "id": "j25PuaiOiVs0"
      },
      "outputs": [],
      "source": [
        "data2 = [(2,\"Michael Rose\"),(3,\"Robert Williams\"),\n",
        "     (4,\"Rames Rose\"),(5,\"Rames Black\"), (6, 'Albus Torch'),\n",
        "     (7, 'Fred Tf')\n",
        "  ]\n",
        "df2 = spark.createDataFrame(data2, ['id', 'name'])"
      ]
    },
    {
      "cell_type": "code",
      "execution_count": null,
      "metadata": {
        "id": "h_3UfWtuisqY"
      },
      "outputs": [],
      "source": [
        "df2.show()"
      ]
    },
    {
      "cell_type": "code",
      "execution_count": null,
      "metadata": {
        "id": "kfIw-U8pilfQ"
      },
      "outputs": [],
      "source": [
        "df2.filter('name like \"R%\"').show()"
      ]
    },
    {
      "cell_type": "code",
      "execution_count": null,
      "metadata": {
        "id": "g_9M2YTCjpGf"
      },
      "outputs": [],
      "source": [
        "df2.filter(df2.name.startswith('R')).show()"
      ]
    },
    {
      "cell_type": "code",
      "execution_count": null,
      "metadata": {
        "id": "2qd6XuQbj1ca"
      },
      "outputs": [],
      "source": [
        "df2.filter(df2.name.endswith('Tf')).show()"
      ]
    },
    {
      "cell_type": "code",
      "execution_count": null,
      "metadata": {
        "id": "vPWVmWSFj5rA"
      },
      "outputs": [],
      "source": [
        "df2.filter(df2.name.contains('Wil')).show()"
      ]
    },
    {
      "cell_type": "markdown",
      "metadata": {
        "id": "AfgGaL_zkIiF"
      },
      "source": [
        "Бывает, что у нас внутри датафрейма есть массив и с ним что-то хочется сделать"
      ]
    },
    {
      "cell_type": "code",
      "execution_count": null,
      "metadata": {
        "id": "LTpNzm_Lkl5d"
      },
      "outputs": [],
      "source": [
        "arrayStructureSchema = StructType([\n",
        "    StructField('name', StructType([\n",
        "       StructField('firstname', StringType(), True),\n",
        "       StructField('middlename', StringType(), True),\n",
        "       StructField('lastname', StringType(), True)\n",
        "       ])),\n",
        "       StructField('hobbies', ArrayType(StringType()), True),\n",
        "       StructField('properties', MapType(IntegerType(),StringType()), True)\n",
        "    ])\n",
        "\n",
        "structureData = [\n",
        "    ((\"James\",\"\",\"Smith\"), ['car', 'volleyball'], {1: 'a', 4: 'd'}),\n",
        "    ((\"Michael\",\"Rose\",\"\"), ['car', 'football'], {2: 'b'}),\n",
        "    ((\"Robert\",\"\",\"Williams\"), ['box', 'music'], {3: 'c'})\n",
        "  ]\n",
        "\n",
        "df3 = spark.createDataFrame(data=structureData,schema=arrayStructureSchema)\n",
        "df3.printSchema()\n",
        "df3.show(truncate=False)"
      ]
    },
    {
      "cell_type": "code",
      "execution_count": null,
      "metadata": {
        "id": "i_P75crVkoVP"
      },
      "outputs": [],
      "source": [
        "df3.filter(F.array_contains(df3.hobbies,\"football\")) \\\n",
        "    .show()"
      ]
    },
    {
      "cell_type": "markdown",
      "metadata": {
        "id": "z7wIBH1plh4D"
      },
      "source": [
        "**Сортировка**"
      ]
    },
    {
      "cell_type": "markdown",
      "metadata": {
        "id": "eid2Pim6oYdE"
      },
      "source": [
        "сделаем еще фильтрацию, чтобы увидеть результат (orderBy тут аналог)"
      ]
    },
    {
      "cell_type": "code",
      "execution_count": null,
      "metadata": {
        "id": "3BY_-oj2mjs6"
      },
      "outputs": [],
      "source": [
        "df.filter(df.userID == 75).sort(df.date_minute, df.rating.desc()).show(20)"
      ]
    },
    {
      "cell_type": "markdown",
      "metadata": {
        "id": "GiqsFj72pkvM"
      },
      "source": [
        "**groupby**\n",
        "\n",
        "Когда мы выполняем groupBy() в PySpark DataFrame, он возвращает объект GroupedData, который содержит следующие агрегатные функции:\n",
        "\n",
        "min(), max(), mean(), count(), sum(), avg(), agg(), pivot()"
      ]
    },
    {
      "cell_type": "code",
      "execution_count": null,
      "metadata": {
        "id": "cL6AvkZPoeiy"
      },
      "outputs": [],
      "source": [
        "df.groupby(['date_year', 'date_month']).mean('rating').collect()"
      ]
    },
    {
      "cell_type": "markdown",
      "metadata": {
        "id": "1QjgENxurJ_t"
      },
      "source": [
        "мы уже умеем применять разные методы"
      ]
    },
    {
      "cell_type": "code",
      "execution_count": null,
      "metadata": {
        "id": "CvnbA2-aqzXI"
      },
      "outputs": [],
      "source": [
        "df.groupby('date_year')\\\n",
        "  .mean('rating')\\\n",
        "  .sort('date_year')\\\n",
        "  .collect()"
      ]
    },
    {
      "cell_type": "code",
      "execution_count": null,
      "metadata": {
        "id": "vBGHTsSxrUri"
      },
      "outputs": [],
      "source": [
        "df.filter(df.rating <= 2)\\\n",
        "  .groupby('date_year')\\\n",
        "  .count()\\\n",
        "  .withColumnRenamed('count', 'number')\\\n",
        "  .sort('date_year')\\\n",
        "  .collect()"
      ]
    },
    {
      "cell_type": "markdown",
      "metadata": {
        "id": "i_8epVoOrwG3"
      },
      "source": [
        "несколько колонок"
      ]
    },
    {
      "cell_type": "code",
      "execution_count": null,
      "metadata": {
        "id": "0SIzk9xOrsec"
      },
      "outputs": [],
      "source": [
        "df.groupBy(\"date_year\", \"date_month\") \\\n",
        "  .mean(\"rating\", \"userID\") \\\n",
        "  .sort('date_year', 'date_month')\\\n",
        "  .show()"
      ]
    },
    {
      "cell_type": "markdown",
      "metadata": {
        "id": "qq4SNRAkukI2"
      },
      "source": [
        "Для того, чтобы делать несколько разных агрегаций и еще менять сразу имя столбца нужно немного изменить синтаксис\n",
        "\n",
        "И стоит помнить, что персентили тут считаются приближенно"
      ]
    },
    {
      "cell_type": "code",
      "execution_count": null,
      "metadata": {
        "id": "4OrMJN9ttWYQ",
        "colab": {
          "base_uri": "https://localhost:8080/"
        },
        "outputId": "36f8d9f4-0f69-435f-d080-9473dbee3710"
      },
      "outputs": [
        {
          "output_type": "stream",
          "name": "stdout",
          "text": [
            "+---------+----------+------------------+----------+------+\n",
            "|date_year|min_rating|       mean_rating|max_rating|median|\n",
            "+---------+----------+------------------+----------+------+\n",
            "|     2003|       0.5|3.4279154852282083|       5.0|   3.5|\n",
            "|     2007|       0.5|3.4367384383270894|       5.0|   3.5|\n",
            "|     2006|       0.5|3.4294610550371356|       5.0|   3.5|\n",
            "|     1997|       1.0| 3.571018651362984|       5.0|   4.0|\n",
            "|     2004|       0.5|3.3916603359500295|       5.0|   3.5|\n",
            "|     1998|       1.0|3.5080568720379146|       5.0|   4.0|\n",
            "|     2009|       0.5| 3.369243156199678|       5.0|   3.5|\n",
            "|     2001|       1.0|3.4490124195720484|       5.0|   4.0|\n",
            "|     2005|       0.5| 3.395790002433071|       5.0|   3.5|\n",
            "|     2000|       1.0|3.5767733835530446|       5.0|   4.0|\n",
            "|     2008|       0.5| 3.486752231109465|       5.0|   3.5|\n",
            "|     1999|       1.0|3.4925797284496367|       5.0|   4.0|\n",
            "|     2002|       1.0|3.4140127388535033|       5.0|   4.0|\n",
            "+---------+----------+------------------+----------+------+\n",
            "\n"
          ]
        }
      ],
      "source": [
        "df.groupBy(\"date_year\") \\\n",
        "    .agg(F.min(\"rating\").alias(\"min_rating\"), \\\n",
        "         F.mean(\"rating\").alias(\"mean_rating\"), \\\n",
        "         F.max(\"rating\").alias(\"max_rating\"),\n",
        "         F.percentile_approx(\"rating\", 0.5).alias(\"median\")\n",
        "         ) \\\n",
        "    .show()"
      ]
    },
    {
      "cell_type": "markdown",
      "metadata": {
        "id": "ahpMujLmcI1n"
      },
      "source": [
        "Еще можно сделать pivot"
      ]
    },
    {
      "cell_type": "code",
      "execution_count": null,
      "metadata": {
        "id": "9J-VoOc0cWTd"
      },
      "outputs": [],
      "source": [
        "df.groupBy('date_year')\\\n",
        "  .pivot('date_month')\\\n",
        "  .mean('rating')\\\n",
        "  .show(5)"
      ]
    },
    {
      "cell_type": "markdown",
      "metadata": {
        "id": "C0Xl9vFCu_eK"
      },
      "source": [
        "**Join's**\n",
        "\n",
        "Куда же без них. Что есть: INNER, LEFT OUTER, RIGHT OUTER, LEFT ANTI, LEFT SEMI, CROSS, SELF JOIN\n",
        "\n",
        "Благодаря оптимизации в датафреймах уже все хорошо работает, спасибо catalist, но чудеса не вечны и плохой код/незнание данных все равно даст о себе знать"
      ]
    },
    {
      "cell_type": "markdown",
      "metadata": {
        "id": "YneaY-MDxca7"
      },
      "source": [
        "Сделаем для себя несколько таблиц, чтобы можно было экспериментировать"
      ]
    },
    {
      "cell_type": "code",
      "execution_count": null,
      "metadata": {
        "id": "5Jrab0pMxbJp"
      },
      "outputs": [],
      "source": [
        "df_mean_user_rating = df.groupBy(\"userID\")\\\n",
        "                        .mean('rating')\\\n",
        "                        .withColumnRenamed('avg(rating)', 'avg_rating_all')\n",
        "\n",
        "df_mean_user_rating_year = df.groupby('userID', 'date_year')\\\n",
        "                             .mean('rating')\\\n",
        "                             .withColumnRenamed('avg(rating)', 'avg_rating_year')"
      ]
    },
    {
      "cell_type": "code",
      "execution_count": null,
      "metadata": {
        "id": "iOArojkkxHR0"
      },
      "outputs": [],
      "source": [
        "df_mean_user_rating.printSchema()\n",
        "\n",
        "df_mean_user_rating_year.printSchema()"
      ]
    },
    {
      "cell_type": "markdown",
      "metadata": {
        "id": "xejW3UuRzb0g"
      },
      "source": [
        "И давайте все в 1 блоке кода, чтобы не растягивать"
      ]
    },
    {
      "cell_type": "markdown",
      "source": [],
      "metadata": {
        "id": "hNqWE0uKYPbD"
      }
    },
    {
      "cell_type": "code",
      "execution_count": null,
      "metadata": {
        "id": "sCpt6PH4zhGh"
      },
      "outputs": [],
      "source": [
        "df.join(df_mean_user_rating, on=df.userID == df_mean_user_rating.userID, how='inner')\\\n",
        "  .join(df_mean_user_rating_year, on=[df.userID == df_mean_user_rating_year.userID,\n",
        "                                      df.date_year == df_mean_user_rating_year.date_year],\n",
        "        how='inner')"
      ]
    },
    {
      "cell_type": "markdown",
      "metadata": {
        "id": "12j__QNvZa5v"
      },
      "source": [
        "Надо удалить дублирующиеся столбцы"
      ]
    },
    {
      "cell_type": "code",
      "execution_count": null,
      "metadata": {
        "id": "pNOXJ1Trwkmt"
      },
      "outputs": [],
      "source": [
        "res_join = df.alias('t').join(df_mean_user_rating.alias('t1'), on=F.col('t.userID') == F.col('t1.userID'), how='inner')\\\n",
        "  .drop(F.col('t1.userID'))\\\n",
        "  .join(df_mean_user_rating_year.alias('t2'), on=[F.col('t.userID') == F.col('t2.userID'),\n",
        "                                      F.col('t.date_year') == F.col('t2.date_year')],\n",
        "        how='inner')\\\n",
        "  .drop(F.col('t2.userID'))\\\n",
        "  .drop(F.col('t2.date_year'))"
      ]
    },
    {
      "cell_type": "code",
      "execution_count": null,
      "metadata": {
        "id": "-SFHiwk3bjar"
      },
      "outputs": [],
      "source": [
        "res_join.show(5)"
      ]
    },
    {
      "cell_type": "markdown",
      "metadata": {
        "id": "c5AnHARphOdO"
      },
      "source": [
        "**union и unionAll**\n",
        "\n",
        "Используются для объединения датафреймов с одинаковой структурой, используется union, так как unionAll с версии 2.0.0 более не используется"
      ]
    },
    {
      "cell_type": "code",
      "execution_count": null,
      "metadata": {
        "id": "UUT2BY-Mh9mD"
      },
      "outputs": [],
      "source": [
        "df1 = df.filter(df.date_year == 2006)\n",
        "df2 = df.filter(df.date_year != 2006)"
      ]
    },
    {
      "cell_type": "code",
      "execution_count": null,
      "metadata": {
        "id": "fAlbx9vNiJfl"
      },
      "outputs": [],
      "source": [
        "union_df = df1.union(df2)\n",
        "\n",
        "print(df.count(), union_df.count())"
      ]
    },
    {
      "cell_type": "markdown",
      "metadata": {
        "id": "wHSH3q7tixKe"
      },
      "source": [
        "Desclaimer: все по sql, надеюсь, помнят разницу между union и union all, когда union убирает дубликаты. Так вот pyspark ничего не удаляет, убрать дубликаты можно только через drop_duplicates, distinct"
      ]
    },
    {
      "cell_type": "markdown",
      "metadata": {
        "id": "6i0lcIVAj7XS"
      },
      "source": [
        "Также при union pyspark делает объединение по столбцам as is, не пытаясь понять, что в одном датафрейме нужный стобец на 1 позиции, а в другом он на 5. Для этого с версии 3.1 есть замечательный метод unionByName"
      ]
    },
    {
      "cell_type": "markdown",
      "metadata": {
        "id": "5P_NIuglWV72"
      },
      "source": [
        "**SQL**\n",
        "\n",
        "Ну раз уж пошла такая тема, давайте рассмотрим, как можно сделать все при помощи любимого SQL"
      ]
    },
    {
      "cell_type": "markdown",
      "metadata": {
        "id": "e3KC55x4XCET"
      },
      "source": [
        "можно делать TempView и GlodalTempView, отличие в том, что обычный view будет жить, пока жива сессия спрака, а глобальная, пока жив sparkcontext"
      ]
    },
    {
      "cell_type": "code",
      "execution_count": null,
      "metadata": {
        "id": "zn1xgFFa5Fr1"
      },
      "outputs": [],
      "source": [
        "df.createOrReplaceTempView('df')"
      ]
    },
    {
      "cell_type": "code",
      "source": [],
      "metadata": {
        "id": "f_u8iXiMFMLj"
      },
      "execution_count": null,
      "outputs": []
    },
    {
      "cell_type": "code",
      "execution_count": null,
      "metadata": {
        "id": "7USYu6N142hn"
      },
      "outputs": [],
      "source": [
        "query = '''\n",
        "select\n",
        "    userID, movieID, rating, udf_example_decorator(rating) as rating_100\n",
        "from\n",
        "    df\n",
        "'''\n",
        "spark.sql(query).show(5)"
      ]
    },
    {
      "cell_type": "markdown",
      "metadata": {
        "id": "dNdTc07RWlLd"
      },
      "source": [
        "Ну и наш join"
      ]
    },
    {
      "cell_type": "code",
      "execution_count": null,
      "metadata": {
        "id": "yXqOTAhHWkQ1"
      },
      "outputs": [],
      "source": [
        "df_mean_user_rating.createOrReplaceTempView('df_mean_user_rating')\n",
        "df_mean_user_rating_year.createOrReplaceTempView('df_mean_user_rating_year')"
      ]
    },
    {
      "cell_type": "code",
      "execution_count": null,
      "metadata": {
        "id": "slhrZnkeXgdo"
      },
      "outputs": [],
      "source": [
        "query = '''\n",
        "select t.*, t1.avg_rating_all, t2.avg_rating_year\n",
        "from\n",
        "df t, df_mean_user_rating t1, df_mean_user_rating_year t2\n",
        "where\n",
        "    t.userID = t1.userID and\n",
        "    t.userID = t2.userID and\n",
        "    t.date_year = t2.date_year\n",
        "'''\n",
        "spark.sql(query).show(5)"
      ]
    },
    {
      "cell_type": "markdown",
      "metadata": {
        "id": "IUh-iswqZLFy"
      },
      "source": [
        "**fill() и fillna()**\n",
        "\n",
        "Оба метода идентичны, заполняют пропуски"
      ]
    },
    {
      "cell_type": "code",
      "execution_count": null,
      "metadata": {
        "id": "CqDjntPTaMWK"
      },
      "outputs": [],
      "source": [
        "import numpy as np"
      ]
    },
    {
      "cell_type": "code",
      "execution_count": null,
      "metadata": {
        "id": "zu7pS9UVZKcY"
      },
      "outputs": [],
      "source": [
        "data2 = [(2,\"Michael Rose\"),(3,\"Robert Williams\"),\n",
        "     (4,\"Rames Rose\"),(5, None), (6, None),\n",
        "     (None, 'Fred Tf')\n",
        "  ]\n",
        "df2 = spark.createDataFrame(data2, ['id', 'name'])"
      ]
    },
    {
      "cell_type": "markdown",
      "metadata": {
        "id": "9jtEyGTDFkPu"
      },
      "source": [
        "А где пропуски?"
      ]
    },
    {
      "cell_type": "code",
      "execution_count": null,
      "metadata": {
        "id": "gEQhiI-FFiLe",
        "outputId": "989ce607-f5df-4c96-a1b4-33da2864f4a8",
        "colab": {
          "base_uri": "https://localhost:8080/"
        }
      },
      "outputs": [
        {
          "output_type": "stream",
          "name": "stdout",
          "text": [
            "+---+----+\n",
            "| id|name|\n",
            "+---+----+\n",
            "|  1|   2|\n",
            "+---+----+\n",
            "\n"
          ]
        }
      ],
      "source": [
        "df2.select([F.count(F.when(F.isnan(c) | F.col(c).isNull(), c)).alias(c) for c in df2.columns]).show()"
      ]
    },
    {
      "cell_type": "code",
      "execution_count": null,
      "metadata": {
        "id": "RwL5c9f1aZfQ"
      },
      "outputs": [],
      "source": [
        "df2.show()"
      ]
    },
    {
      "cell_type": "code",
      "execution_count": null,
      "metadata": {
        "id": "m4ZY2Y9Lab8D",
        "outputId": "cbf61231-b111-489b-ebc3-65460cd106c8",
        "colab": {
          "base_uri": "https://localhost:8080/"
        }
      },
      "outputs": [
        {
          "output_type": "stream",
          "name": "stdout",
          "text": [
            "+---+---------------+\n",
            "| id|           name|\n",
            "+---+---------------+\n",
            "|  2|   Michael Rose|\n",
            "|  3|Robert Williams|\n",
            "|  4|     Rames Rose|\n",
            "|  5|           NULL|\n",
            "|  6|           NULL|\n",
            "|  0|        Fred Tf|\n",
            "+---+---------------+\n",
            "\n"
          ]
        }
      ],
      "source": [
        "df2.fillna({'id': 0}).show()"
      ]
    },
    {
      "cell_type": "code",
      "execution_count": null,
      "metadata": {
        "id": "vyi4vYFSa_TS"
      },
      "outputs": [],
      "source": [
        "df2.fillna({'id': 0, 'name': 'Unknown'}).show()"
      ]
    },
    {
      "cell_type": "markdown",
      "metadata": {
        "id": "gFF3UQJlbJsY"
      },
      "source": [
        "Аналогично"
      ]
    },
    {
      "cell_type": "code",
      "execution_count": null,
      "metadata": {
        "id": "DjH5G5DCbMJG"
      },
      "outputs": [],
      "source": [
        "df2.na.fill({'id': 0, 'name': 'Unknown'}).show()"
      ]
    },
    {
      "cell_type": "markdown",
      "metadata": {
        "id": "KS1BDHPNmKGX"
      },
      "source": [
        "Немного поговорим о том, как делаеть подвыборки\n",
        "\n",
        "**sample и sampleBy**\n",
        "\n",
        "Не забываем про возможную некоторую недетерминированность"
      ]
    },
    {
      "cell_type": "code",
      "execution_count": null,
      "metadata": {
        "id": "zuFgRqpDgmj6"
      },
      "outputs": [],
      "source": [
        "import pyspark.sql.functions as F"
      ]
    },
    {
      "cell_type": "code",
      "execution_count": null,
      "metadata": {
        "id": "u3sUPPgLmJiW"
      },
      "outputs": [],
      "source": [
        "trans_data = spark.read.parquet('/content/drive/MyDrive/Преподавание/ОЦГ/spark_transactions.parquet')\n",
        "trans_data = trans_data.withColumn('target', F.when(F.col('IsFraud')=='No', 0).otherwise(1))"
      ]
    },
    {
      "cell_type": "code",
      "execution_count": null,
      "metadata": {
        "id": "LV9Dc3_GmcoD",
        "colab": {
          "base_uri": "https://localhost:8080/"
        },
        "outputId": "f06c2506-96e0-4881-a526-b341c75611f4"
      },
      "outputs": [
        {
          "output_type": "execute_result",
          "data": {
            "text/plain": [
              "24386900"
            ]
          },
          "metadata": {},
          "execution_count": 37
        }
      ],
      "source": [
        "trans_data.count()"
      ]
    },
    {
      "cell_type": "code",
      "execution_count": null,
      "metadata": {
        "id": "Yc7cxK3yno28",
        "colab": {
          "base_uri": "https://localhost:8080/"
        },
        "outputId": "755c4588-befd-4153-e318-fccf06ed3265"
      },
      "outputs": [
        {
          "output_type": "stream",
          "name": "stdout",
          "text": [
            "+--------------------+\n",
            "|         avg(target)|\n",
            "+--------------------+\n",
            "|0.001220204290008...|\n",
            "+--------------------+\n",
            "\n"
          ]
        }
      ],
      "source": [
        "trans_data.select(F.mean(F.col('target'))).show()"
      ]
    },
    {
      "cell_type": "code",
      "execution_count": null,
      "metadata": {
        "id": "JYcyQctEy1mY",
        "colab": {
          "base_uri": "https://localhost:8080/"
        },
        "outputId": "21dccc54-c66b-4755-8375-abd68bb2e3c6"
      },
      "outputs": [
        {
          "output_type": "stream",
          "name": "stdout",
          "text": [
            "+------+--------+\n",
            "|target|   count|\n",
            "+------+--------+\n",
            "|     1|   29757|\n",
            "|     0|24357143|\n",
            "+------+--------+\n",
            "\n"
          ]
        }
      ],
      "source": [
        "trans_data.select('target')\\\n",
        "          .groupBy('target')\\\n",
        "          .count()\\\n",
        "          .show()"
      ]
    },
    {
      "cell_type": "code",
      "execution_count": null,
      "metadata": {
        "id": "5uX2m5MEmeIm",
        "colab": {
          "base_uri": "https://localhost:8080/"
        },
        "outputId": "d300a0b0-a57a-4d48-a28f-927400ec29c6"
      },
      "outputs": [
        {
          "output_type": "stream",
          "name": "stdout",
          "text": [
            "2439262\n",
            "+-------------------+\n",
            "|        avg(target)|\n",
            "+-------------------+\n",
            "|0.00120897222192614|\n",
            "+-------------------+\n",
            "\n"
          ]
        }
      ],
      "source": [
        "trans_data_simple = trans_data.sample(withReplacement=False, fraction=0.1, seed=3)\n",
        "print(trans_data_simple.count())\n",
        "trans_data_simple.select(F.mean(F.col('target'))).show()"
      ]
    },
    {
      "cell_type": "code",
      "execution_count": null,
      "metadata": {
        "id": "-p4PyshB2jtk"
      },
      "outputs": [],
      "source": [
        "from pyspark.sql.window import Window"
      ]
    },
    {
      "cell_type": "code",
      "execution_count": null,
      "metadata": {
        "id": "ovFXtw2j4VvG",
        "colab": {
          "base_uri": "https://localhost:8080/"
        },
        "outputId": "0c07112c-3c2e-4013-83de-debf24b22a1d"
      },
      "outputs": [
        {
          "output_type": "stream",
          "name": "stdout",
          "text": [
            "+----+----+----+-----+---+----+----+------------------+----+\n",
            "|User|Card|Year|Month|Day|rn_1|rn_2|              mean| lag|\n",
            "+----+----+----+-----+---+----+----+------------------+----+\n",
            "|   0|   1|2015|    1| 24|  19|  37|              13.6|NULL|\n",
            "|   0|   1|2015|    1| 16|  18|  36|              13.6|  24|\n",
            "|   0|   1|2016|    1|  8|  41|  57|              13.6|  16|\n",
            "|   0|   1|2016|    1|  5|  40|  56|              13.6|   8|\n",
            "|   0|   1|2016|    1|  3|  39|  55|              13.6|   5|\n",
            "|   0|   1|2016|    1|  1|  38|  54|              13.6|   3|\n",
            "|   0|   1|2018|    1| 27|  74|  88|              13.6|   1|\n",
            "|   0|   1|2018|    1|  5|  73|  87|              13.6|  27|\n",
            "|   0|   1|2020|    1| 26| 102| 105|              13.6|   5|\n",
            "|   0|   1|2020|    1| 21| 101| 104|              13.6|  26|\n",
            "|   0|   1|2015|    2| 15|  20|  35|15.666666666666666|NULL|\n",
            "|   0|   1|2016|    2|  7|  42|  53|15.666666666666666|  15|\n",
            "|   0|   1|2018|    2| 23|  76|  86|15.666666666666666|   7|\n",
            "|   0|   1|2018|    2|  5|  75|  85|15.666666666666666|  23|\n",
            "|   0|   1|2019|    2| 23|  90| 100|15.666666666666666|   5|\n",
            "|   0|   1|2019|    2|  3|  89|  99|15.666666666666666|  23|\n",
            "|   0|   1|2020|    2| 26| 105| 103|15.666666666666666|   3|\n",
            "|   0|   1|2020|    2| 22| 104| 102|15.666666666666666|  26|\n",
            "|   0|   1|2020|    2| 17| 103| 101|15.666666666666666|  22|\n",
            "|   0|   1|2015|    3| 31|  22|  34|14.714285714285714|NULL|\n",
            "+----+----+----+-----+---+----+----+------------------+----+\n",
            "only showing top 20 rows\n",
            "\n"
          ]
        }
      ],
      "source": [
        "trans_data_simple.select('User', 'Card', 'Year', 'Month', 'Day')\\\n",
        ".withColumn('rn_1', F.row_number().over(Window.partitionBy('User', 'Card').orderBy(F.col('Year').asc())))\\\n",
        ".withColumn('rn_2', F.row_number().over(Window.partitionBy('User', 'Card').orderBy(F.col('Year').asc(), F.col('Month').desc())))\\\n",
        ".withColumn('mean', F.mean('raiting').over(Window.partitionBy('date_year')))\\\n",
        ".withColumn('lag', F.lag('Day').over(Window.partitionBy('User', 'Card', 'Month').orderBy(F.col('Year').asc(),\n",
        "                                                                                         F.col('Month').desc(),\n",
        "                                                                                         F.col('Day').desc())))\\\n",
        ".show()"
      ]
    },
    {
      "cell_type": "code",
      "source": [
        "df.groupby('date_year').mean('rating').show()"
      ],
      "metadata": {
        "colab": {
          "base_uri": "https://localhost:8080/"
        },
        "id": "FdMLEWDWZ_Z8",
        "outputId": "807f0024-4057-4fd7-c63e-af18293f164f"
      },
      "execution_count": null,
      "outputs": [
        {
          "output_type": "stream",
          "name": "stdout",
          "text": [
            "+---------+------------------+\n",
            "|date_year|       avg(rating)|\n",
            "+---------+------------------+\n",
            "|     2003|3.4279154852282083|\n",
            "|     2007|3.4367384383270894|\n",
            "|     2006|3.4294610550371356|\n",
            "|     1997| 3.571018651362984|\n",
            "|     2004|3.3916603359500295|\n",
            "|     1998|3.5080568720379146|\n",
            "|     2009| 3.369243156199678|\n",
            "|     2001|3.4490124195720484|\n",
            "|     2005| 3.395790002433071|\n",
            "|     2000|3.5767733835530446|\n",
            "|     2008| 3.486752231109465|\n",
            "|     1999|3.4925797284496367|\n",
            "|     2002|3.4140127388535033|\n",
            "+---------+------------------+\n",
            "\n"
          ]
        }
      ]
    },
    {
      "cell_type": "code",
      "source": [
        "df\\\n",
        ".withColumn('mean', F.mean('rating').over(Window.partitionBy('date_year'))).show(100)\n"
      ],
      "metadata": {
        "id": "fH9y4OM6ZjK3"
      },
      "execution_count": null,
      "outputs": []
    },
    {
      "cell_type": "code",
      "source": [],
      "metadata": {
        "id": "QKZfjOh4Z--a"
      },
      "execution_count": null,
      "outputs": []
    },
    {
      "cell_type": "markdown",
      "metadata": {
        "id": "l5kvR2tz8GzD"
      },
      "source": [
        "Сборка последовательностей через **collect_list()**"
      ]
    },
    {
      "cell_type": "code",
      "execution_count": null,
      "metadata": {
        "id": "0yWD7_HZhklz"
      },
      "outputs": [],
      "source": [
        "trans_data.printSchema()"
      ]
    },
    {
      "cell_type": "code",
      "execution_count": null,
      "metadata": {
        "id": "Rf9_lhZwg951"
      },
      "outputs": [],
      "source": [
        "trans_data_simple_seq = trans_data_simple.select('User', 'Card', F.struct('Amount', 'Day').alias('sequence'))"
      ]
    },
    {
      "cell_type": "code",
      "execution_count": null,
      "metadata": {
        "id": "zUhoyMlPh3Tv"
      },
      "outputs": [],
      "source": [
        "trans_data_simple_seq.show()"
      ]
    },
    {
      "cell_type": "code",
      "execution_count": null,
      "metadata": {
        "id": "IsS936Krh9RH"
      },
      "outputs": [],
      "source": [
        "trans_data_simple_seq = trans_data_simple_seq.groupBy('User', 'Card')\\\n",
        "                                             .agg(F.collect_list('sequence').alias('sequence'))"
      ]
    },
    {
      "cell_type": "code",
      "execution_count": null,
      "metadata": {
        "id": "Z-NZsqmxiSSG"
      },
      "outputs": [],
      "source": [
        "trans_data_simple_seq.show(truncate=50)"
      ]
    },
    {
      "cell_type": "markdown",
      "metadata": {
        "id": "Rd8ITh5XikuI"
      },
      "source": [
        "А что с этим делать дальше? Можно перейти к RDD и построчно обрабатывать"
      ]
    },
    {
      "cell_type": "code",
      "execution_count": null,
      "metadata": {
        "id": "Jq8hyqcsikLw"
      },
      "outputs": [],
      "source": [
        "row = trans_data_simple_seq.rdd.take(1)"
      ]
    },
    {
      "cell_type": "code",
      "execution_count": null,
      "metadata": {
        "id": "TrbCyyt1ivcg"
      },
      "outputs": [],
      "source": [
        "row"
      ]
    },
    {
      "cell_type": "code",
      "execution_count": null,
      "metadata": {
        "id": "O30kjweEix_C"
      },
      "outputs": [],
      "source": [
        "row[0]['sequence']"
      ]
    },
    {
      "cell_type": "markdown",
      "metadata": {
        "id": "vAVfOjcTcdGQ"
      },
      "source": [
        "**Домашнее задание**\n",
        "\n",
        "Куда же без домашки, верно?\n",
        "\n",
        "Есть данные по транзакциям клиентов, ваша задача состоит в анализе этих данных и подготовки к структуре, которая похожа на ту структуру, которая сейчас часто нами используется при построении моделей на транзакциях + промежуточные задания.\n",
        "\n",
        "Не забудьте делать всякие show после каждого задания, чтобы было видно результат\n",
        "\n",
        "**Файл spark_transactions.parquet можете забрать в папке**\n",
        "\n",
        "**Важно**\n",
        "В домашнем задании старайтесь использовать максимально dataframe api, а не sql запросы."
      ]
    },
    {
      "cell_type": "code",
      "execution_count": null,
      "metadata": {
        "id": "C-0T0sTY5Odw"
      },
      "outputs": [],
      "source": [
        "from pyspark.sql import SparkSession\n",
        "from pyspark import SparkContext, SparkConf\n",
        "import pyspark.sql.functions as F\n",
        "trans_data = spark.read.parquet('/content/drive/MyDrive/spark_transactions.parquet')"
      ]
    },
    {
      "cell_type": "code",
      "execution_count": null,
      "metadata": {
        "id": "ULuAEhmOmEC4",
        "outputId": "5d4fc6c4-94de-4a92-c480-554401a81c27",
        "colab": {
          "base_uri": "https://localhost:8080/"
        }
      },
      "outputs": [
        {
          "output_type": "execute_result",
          "data": {
            "text/plain": [
              "24386900"
            ]
          },
          "metadata": {},
          "execution_count": 8
        }
      ],
      "source": [
        "trans_data.count()"
      ]
    },
    {
      "cell_type": "code",
      "execution_count": null,
      "metadata": {
        "id": "wTg-84Tr7tq4",
        "outputId": "423d8c12-cd45-4efd-eb7b-b456e14829a8",
        "colab": {
          "base_uri": "https://localhost:8080/"
        }
      },
      "outputs": [
        {
          "output_type": "stream",
          "name": "stdout",
          "text": [
            "+----+----+----+-----+---+-----+-------+-----------------+-------------+-------------+-------+----+-------+\n",
            "|User|Card|Year|Month|Day| Time| Amount|          UseChip| MerchantCity|MerchantState|    Zip| MCC|IsFraud|\n",
            "+----+----+----+-----+---+-----+-------+-----------------+-------------+-------------+-------+----+-------+\n",
            "|   0|   0|2002|    9|  1|06:21|$134.09|Swipe Transaction|     La Verne|           CA|91750.0|5300|     No|\n",
            "|   0|   0|2002|    9|  1|06:42| $38.48|Swipe Transaction|Monterey Park|           CA|91754.0|5411|     No|\n",
            "|   0|   0|2002|    9|  2|06:22|$120.34|Swipe Transaction|Monterey Park|           CA|91754.0|5411|     No|\n",
            "|   0|   0|2002|    9|  2|17:45|$128.95|Swipe Transaction|Monterey Park|           CA|91754.0|5651|     No|\n",
            "|   0|   0|2002|    9|  3|06:23|$104.71|Swipe Transaction|     La Verne|           CA|91750.0|5912|     No|\n",
            "+----+----+----+-----+---+-----+-------+-----------------+-------------+-------------+-------+----+-------+\n",
            "only showing top 5 rows\n",
            "\n"
          ]
        }
      ],
      "source": [
        "trans_data.show(5)"
      ]
    },
    {
      "cell_type": "markdown",
      "metadata": {
        "id": "Wa1YHO4iJNlU"
      },
      "source": [
        "Посмотрим на схему данных"
      ]
    },
    {
      "cell_type": "code",
      "execution_count": null,
      "metadata": {
        "id": "97WEy56hXtsj",
        "outputId": "71956f80-c2dd-4c1b-8564-c77237454377",
        "colab": {
          "base_uri": "https://localhost:8080/"
        }
      },
      "outputs": [
        {
          "output_type": "stream",
          "name": "stdout",
          "text": [
            "root\n",
            " |-- User: long (nullable = true)\n",
            " |-- Card: long (nullable = true)\n",
            " |-- Year: long (nullable = true)\n",
            " |-- Month: long (nullable = true)\n",
            " |-- Day: long (nullable = true)\n",
            " |-- Time: string (nullable = true)\n",
            " |-- Amount: string (nullable = true)\n",
            " |-- UseChip: string (nullable = true)\n",
            " |-- MerchantCity: string (nullable = true)\n",
            " |-- MerchantState: string (nullable = true)\n",
            " |-- Zip: double (nullable = true)\n",
            " |-- MCC: long (nullable = true)\n",
            " |-- IsFraud: string (nullable = true)\n",
            "\n"
          ]
        }
      ],
      "source": [
        "trans_data.printSchema()"
      ]
    },
    {
      "cell_type": "markdown",
      "metadata": {
        "id": "yfi4rGq8IP70"
      },
      "source": [
        "Сколько в среднем транзакций у пользователя"
      ]
    },
    {
      "cell_type": "code",
      "execution_count": null,
      "metadata": {
        "id": "Q6tW6OGiXtsj",
        "outputId": "bef849bd-4df2-4c2b-db57-2dd07be5e485",
        "colab": {
          "base_uri": "https://localhost:8080/"
        }
      },
      "outputs": [
        {
          "output_type": "stream",
          "name": "stdout",
          "text": [
            "+----------+\n",
            "|avg(count)|\n",
            "+----------+\n",
            "|  12193.45|\n",
            "+----------+\n",
            "\n"
          ]
        }
      ],
      "source": [
        "trans_data.groupBy('User').count().agg({'count': 'avg'}).show()"
      ]
    },
    {
      "cell_type": "markdown",
      "metadata": {
        "id": "NQ65xaaxGfyZ"
      },
      "source": [
        "Сколько карт у пользователей в среднем"
      ]
    },
    {
      "cell_type": "code",
      "execution_count": null,
      "metadata": {
        "id": "3eJP7vzNXtsj",
        "outputId": "e0a13a82-44a6-4424-d7ff-496e45e83e6e",
        "colab": {
          "base_uri": "https://localhost:8080/"
        }
      },
      "outputs": [
        {
          "output_type": "stream",
          "name": "stdout",
          "text": [
            "+--------------+\n",
            "|avg(cardcount)|\n",
            "+--------------+\n",
            "|        3.0695|\n",
            "+--------------+\n",
            "\n"
          ]
        }
      ],
      "source": [
        "from pyspark.sql.functions import countDistinct\n",
        "\n",
        "trans_data.groupBy('User').agg(countDistinct('card').alias('cardcount')).agg({'cardcount': 'avg'}).show()"
      ]
    },
    {
      "cell_type": "markdown",
      "metadata": {
        "id": "LQ5tOK9AJMbJ"
      },
      "source": [
        "Немного обработаем данные: Amount в float, из Time вытянем час транзакции и удалим исходный Time, Zip  к типу int"
      ]
    },
    {
      "cell_type": "code",
      "execution_count": null,
      "metadata": {
        "id": "x9DfG79tXtsj",
        "outputId": "d49fa7c1-d9d0-4ee3-c074-0e02863bb1e5",
        "colab": {
          "base_uri": "https://localhost:8080/"
        }
      },
      "outputs": [
        {
          "output_type": "stream",
          "name": "stdout",
          "text": [
            "root\n",
            " |-- User: long (nullable = true)\n",
            " |-- Card: long (nullable = true)\n",
            " |-- Year: long (nullable = true)\n",
            " |-- Month: long (nullable = true)\n",
            " |-- Day: long (nullable = true)\n",
            " |-- Amount: float (nullable = true)\n",
            " |-- UseChip: string (nullable = true)\n",
            " |-- MerchantCity: string (nullable = true)\n",
            " |-- MerchantState: string (nullable = true)\n",
            " |-- Zip: float (nullable = true)\n",
            " |-- MCC: long (nullable = true)\n",
            " |-- IsFraud: string (nullable = true)\n",
            " |-- Hour_trans: string (nullable = true)\n",
            "\n"
          ]
        }
      ],
      "source": [
        "from pyspark.sql.functions import col, split, regexp_replace\n",
        "\n",
        "trans_data_new = trans_data.withColumn('Zip', col('Zip').cast('Float'))\n",
        "trans_data_new = trans_data_new.withColumn('Amount', regexp_replace(col('Amount'), '[^\\d\\.]', '').cast('Float'))\n",
        "trans_data_new = trans_data_new.withColumn('Hour_trans', split(col('Time'), ':')[0])\n",
        "trans_data_new = trans_data_new.drop('Time')\n",
        "trans_data_new.printSchema()\n",
        "trans_data = trans_data_new\n"
      ]
    },
    {
      "cell_type": "markdown",
      "metadata": {
        "id": "Km4bInOzTf2d"
      },
      "source": [
        "Посчитайте количество транзакций по годам, учитывая только те транзакции, объем которых был больше 100"
      ]
    },
    {
      "cell_type": "code",
      "execution_count": null,
      "metadata": {
        "id": "YXb_dT5BXtsj",
        "outputId": "17a0a8af-1529-4d53-ed7a-3041adaa8fc2",
        "colab": {
          "base_uri": "https://localhost:8080/"
        }
      },
      "outputs": [
        {
          "output_type": "stream",
          "name": "stdout",
          "text": [
            "+----+-----------+\n",
            "|Year|trans_count|\n",
            "+----+-----------+\n",
            "|1991|        279|\n",
            "|1992|        702|\n",
            "|1993|       1112|\n",
            "|1994|       1635|\n",
            "|1995|       2270|\n",
            "|1996|       3362|\n",
            "|1997|       5927|\n",
            "|1998|       9527|\n",
            "|1999|      14530|\n",
            "|2000|      22124|\n",
            "|2001|      32272|\n",
            "|2002|      43200|\n",
            "|2003|      57387|\n",
            "|2004|      73800|\n",
            "|2005|      92831|\n",
            "|2006|     111776|\n",
            "|2007|     128246|\n",
            "|2008|     145146|\n",
            "|2009|     158605|\n",
            "|2010|     174482|\n",
            "+----+-----------+\n",
            "only showing top 20 rows\n",
            "\n"
          ]
        }
      ],
      "source": [
        "from pyspark.sql.functions import count\n",
        "\n",
        "filter_data = trans_data_new.filter(trans_data_new.Amount > 100)\n",
        "year_td = filter_data.groupBy('Year').agg(count('*').alias('trans_count'))\n",
        "year_td.orderBy('Year').show()\n"
      ]
    },
    {
      "cell_type": "markdown",
      "metadata": {
        "id": "lPQ3E9SGDtWJ"
      },
      "source": [
        "Определите, есть ли пропуски в данных по каждому столбцу"
      ]
    },
    {
      "cell_type": "code",
      "execution_count": null,
      "metadata": {
        "id": "wewZ9ZRZXtsj",
        "outputId": "c36aca6d-110c-455d-8192-c4108cc29471",
        "colab": {
          "base_uri": "https://localhost:8080/"
        }
      },
      "outputs": [
        {
          "output_type": "stream",
          "name": "stdout",
          "text": [
            "+----+----+----+-----+---+------+-------+------------+-------------+-------+---+-------+----------+\n",
            "|User|Card|Year|Month|Day|Amount|UseChip|MerchantCity|MerchantState|    Zip|MCC|IsFraud|Hour_trans|\n",
            "+----+----+----+-----+---+------+-------+------------+-------------+-------+---+-------+----------+\n",
            "|   0|   0|   0|    0|  0|     0|      0|           0|      2720821|2878135|  0|      0|         0|\n",
            "+----+----+----+-----+---+------+-------+------------+-------------+-------+---+-------+----------+\n",
            "\n"
          ]
        }
      ],
      "source": [
        "from pyspark.sql.functions import isnan, when\n",
        "\n",
        "trans_data.select([count(when(col(c).isNull(), c)).alias(c) for c in trans_data.columns]).show()"
      ]
    },
    {
      "cell_type": "markdown",
      "metadata": {
        "id": "Rg3ZKFXYGF1I"
      },
      "source": [
        "Заполните пропуски исходя из типа данных"
      ]
    },
    {
      "cell_type": "code",
      "execution_count": null,
      "metadata": {
        "id": "nlld3xRkXtsk",
        "outputId": "539a34b4-6c9e-46ac-a532-7b324d81a229",
        "colab": {
          "base_uri": "https://localhost:8080/"
        }
      },
      "outputs": [
        {
          "output_type": "stream",
          "name": "stdout",
          "text": [
            "+----+----+----+-----+---+------+------------------+-------------+-------------+--------+----+-------+----------+\n",
            "|User|Card|Year|Month|Day|Amount|           UseChip| MerchantCity|MerchantState|     Zip| MCC|IsFraud|Hour_trans|\n",
            "+----+----+----+-----+---+------+------------------+-------------+-------------+--------+----+-------+----------+\n",
            "|   0|   0|2002|    9|  1|134.09| Swipe Transaction|     La Verne|           CA| 91750.0|5300|     No|        06|\n",
            "|   0|   0|2002|    9|  1| 38.48| Swipe Transaction|Monterey Park|           CA| 91754.0|5411|     No|        06|\n",
            "|   0|   0|2002|    9|  2|120.34| Swipe Transaction|Monterey Park|           CA| 91754.0|5411|     No|        06|\n",
            "|   0|   0|2002|    9|  2|128.95| Swipe Transaction|Monterey Park|           CA| 91754.0|5651|     No|        17|\n",
            "|   0|   0|2002|    9|  3|104.71| Swipe Transaction|     La Verne|           CA| 91750.0|5912|     No|        06|\n",
            "|   0|   0|2002|    9|  3| 86.19| Swipe Transaction|Monterey Park|           CA| 91755.0|5970|     No|        13|\n",
            "|   0|   0|2002|    9|  4| 93.84| Swipe Transaction|Monterey Park|           CA| 91754.0|5411|     No|        05|\n",
            "|   0|   0|2002|    9|  4| 123.5| Swipe Transaction|Monterey Park|           CA| 91754.0|5411|     No|        06|\n",
            "|   0|   0|2002|    9|  5| 61.72| Swipe Transaction|Monterey Park|           CA| 91754.0|5411|     No|        06|\n",
            "|   0|   0|2002|    9|  5|  57.1| Swipe Transaction|     La Verne|           CA| 91750.0|7538|     No|        09|\n",
            "|   0|   0|2002|    9|  5| 76.07| Swipe Transaction|     La Verne|           CA| 91750.0|5814|     No|        20|\n",
            "|   0|   0|2002|    9|  5| 53.91|Online Transaction|       ONLINE|      Unknown|50956.44|4900|     No|        20|\n",
            "|   0|   0|2002|    9|  6|110.37| Swipe Transaction|    Mira Loma|           CA| 91752.0|5541|     No|        06|\n",
            "|   0|   0|2002|    9|  7|117.05| Swipe Transaction|Monterey Park|           CA| 91754.0|5411|     No|        06|\n",
            "|   0|   0|2002|    9|  7|  45.3| Swipe Transaction|Monterey Park|           CA| 91755.0|5942|     No|        06|\n",
            "|   0|   0|2002|    9|  7| 29.34| Swipe Transaction|     La Verne|           CA| 91750.0|7538|     No|        09|\n",
            "|   0|   0|2002|    9|  8|147.45| Swipe Transaction|     La Verne|           CA| 91750.0|5912|     No|        06|\n",
            "|   0|   0|2002|    9|  8| 27.75| Swipe Transaction|     La Verne|           CA| 91750.0|5411|     No|        06|\n",
            "|   0|   0|2002|    9|  8| 76.57| Swipe Transaction|Monterey Park|           CA| 91754.0|5411|     No|        13|\n",
            "|   0|   0|2002|    9|  8| 22.56| Swipe Transaction|    Mira Loma|           CA| 91752.0|7832|     No|        22|\n",
            "+----+----+----+-----+---+------+------------------+-------------+-------------+--------+----+-------+----------+\n",
            "only showing top 20 rows\n",
            "\n"
          ]
        }
      ],
      "source": [
        "from pyspark.sql.functions import avg\n",
        "\n",
        "trans_data = trans_data.fillna('Unknown', subset=['MerchantState'])\n",
        "val_mean = trans_data.select(avg(\"Zip\")).collect()[0][0]\n",
        "trans_data = trans_data.fillna(val_mean)\n",
        "\n",
        "trans_data.show(20)"
      ]
    },
    {
      "cell_type": "markdown",
      "metadata": {
        "id": "iKumnBpJNR1H"
      },
      "source": [
        "При помощи оконных функций для каждого клиента рассчитайте средний размер транзакции, количество транзакций и последнюю по дате транзакцию."
      ]
    },
    {
      "cell_type": "code",
      "execution_count": null,
      "metadata": {
        "id": "6EGM5WttNRVL",
        "colab": {
          "base_uri": "https://localhost:8080/"
        },
        "outputId": "979c352d-0b67-4f44-8c18-1190fb19690f"
      },
      "outputs": [
        {
          "output_type": "stream",
          "name": "stdout",
          "text": [
            "+----+------------------+-----------+---------------+\n",
            "|User|      trans_amount|trans_count|last_time_trans|\n",
            "+----+------------------+-----------+---------------+\n",
            "|   0| 90.17621047155345|      19963|       2020-2-9|\n",
            "|   6| 40.97650493320776|      28237|       2020-2-9|\n",
            "|   7| 56.84398290211872|        236|       2020-2-9|\n",
            "|  19| 50.46217367973611|      49584|       2020-2-9|\n",
            "|  22|40.940002417526635|      16458|       2020-2-9|\n",
            "+----+------------------+-----------+---------------+\n",
            "only showing top 5 rows\n",
            "\n"
          ]
        }
      ],
      "source": [
        "from pyspark.sql import Window\n",
        "from pyspark.sql.functions import avg, count, col, max, concat, lit\n",
        "\n",
        "df = trans_data.withColumn('date', concat(col('Year'), lit('-'), col('Month'), lit('-'), col('Day')))\n",
        "window = Window.partitionBy('User')\n",
        "trans_amount = avg('Amount').over(window).alias('trans_amount')\n",
        "trans_count = count('Amount').over(window).alias('trans_count')\n",
        "last_time_trans = max('date').over(window).alias('last_time_trans')\n",
        "\n",
        "result_df = df.withColumn('trans_amount', trans_amount) \\\n",
        "                      .withColumn('trans_count', trans_count) \\\n",
        "                      .withColumn('last_time_trans', last_time_trans) \\\n",
        "                      .select('User', 'trans_amount', 'trans_count', 'last_time_trans')\n",
        "\n",
        "\n",
        "result_df = result_df.dropDuplicates(['User'])\n",
        "\n",
        "result_df.show(5)"
      ]
    },
    {
      "cell_type": "markdown",
      "metadata": {
        "id": "EkiD1y5xGfet"
      },
      "source": [
        "Теперь самое время сгруппировать данные по каждому клиенту (можно использовать collect_list для сбора данных после агрегации)\n",
        "Когда будете делать агрегацию, то возьмите только часть выборки, например, через sample, для всей выборки либо не хватит памяти, либо очень долго считать"
      ]
    },
    {
      "cell_type": "code",
      "execution_count": null,
      "metadata": {
        "id": "bEYl8-giXtsk",
        "colab": {
          "base_uri": "https://localhost:8080/"
        },
        "outputId": "a12d7704-ceff-4160-b849-5977f716e280"
      },
      "outputs": [
        {
          "output_type": "stream",
          "name": "stdout",
          "text": [
            "+----+----+--------------------+--------------------+--------------------+--------------------+--------------------+--------------------+--------------------+--------------------+--------------------+--------------------+\n",
            "|User|Card|         Amount_list|           Year_list|          Month_list|            Day_list|           Hour_list|        UseChip_list|   MerchantCity_list|            Zip_list|            MCC_list|             IsFraud|\n",
            "+----+----+--------------------+--------------------+--------------------+--------------------+--------------------+--------------------+--------------------+--------------------+--------------------+--------------------+\n",
            "|   0|   0|[134.09, 38.48, 1...|[2002, 2002, 2002...|[9, 9, 9, 9, 9, 9...|[1, 1, 2, 2, 3, 3...|[06, 06, 06, 17, ...|[Swipe Transactio...|[La Verne, Monter...|[91750.0, 91754.0...|[5300, 5411, 5411...|[No, No, No, No, ...|\n",
            "|   0|   1|[56.29, 41.67, 42...|[2014, 2014, 2014...|[4, 4, 4, 4, 4, 4...|[9, 10, 11, 14, 1...|[13, 06, 09, 06, ...|[Swipe Transactio...|[Diamond Bar, Mon...|[91765.0, 91755.0...|[5719, 5942, 7538...|[No, No, No, No, ...|\n",
            "|   0|   2|[92.47, 37.84, 40...|[2003, 2003, 2003...|[7, 7, 7, 7, 7, 7...|[2, 2, 3, 4, 5, 6...|[06, 06, 06, 06, ...|[Swipe Transactio...|[La Verne, La Ver...|[91750.0, 91750.0...|[5411, 5912, 5411...|[No, No, No, No, ...|\n",
            "|   0|   3|[130.23, 73.61, 1...|[2003, 2003, 2003...|[1, 1, 1, 1, 1, 1...|[1, 1, 2, 3, 4, 4...|[06, 06, 07, 06, ...|[Swipe Transactio...|[Monterey Park, M...|[91754.0, 91752.0...|[5411, 5541, 5912...|[No, No, No, No, ...|\n",
            "|   0|   4|[8.61, 25.37, 10....|[2008, 2008, 2008...|[9, 9, 9, 9, 10, ...|[3, 23, 29, 30, 2...|[14, 06, 13, 17, ...|[Swipe Transactio...|[Monterey Park, M...|[91754.0, 91754.0...|[5411, 5411, 5812...|[No, No, No, No, ...|\n",
            "|   1|   0|[65.06, 98.97, 49...|[2003, 2003, 2003...|[9, 9, 9, 9, 9, 9...|[1, 4, 7, 7, 8, 8...|[18, 06, 10, 12, ...|[Swipe Transactio...|[Rochester, Flush...|[14626.0, 11367.0...|[5814, 5719, 5970...|[No, No, No, No, ...|\n",
            "|   1|   1|[47.64, 120.0, 18...|[2011, 2011, 2011...|[2, 2, 2, 2, 2, 2...|[2, 2, 3, 5, 6, 1...|[13, 22, 07, 06, ...|[Swipe Transactio...|[Fresh Meadows, O...|[11366.0, 11364.0...|[4814, 4829, 5499...|[No, No, No, No, ...|\n",
            "|   1|   2|[17.23, 15.42, 22...|[2003, 2003, 2003...|[7, 7, 7, 7, 7, 7...|[1, 3, 4, 4, 4, 5...|[06, 06, 05, 05, ...|[Swipe Transactio...|[Little Neck, Lit...|[11363.0, 11363.0...|[5921, 5499, 5815...|[No, No, No, No, ...|\n",
            "|   1|   3|[15.61, 15.9, 22....|[2010, 2010, 2010...|[6, 6, 6, 6, 6, 6...|[1, 2, 2, 8, 13, ...|[07, 06, 20, 10, ...|[Swipe Transactio...|[Little Neck, Lit...|[11363.0, 11363.0...|[5541, 5499, 5311...|[No, No, No, No, ...|\n",
            "|   1|   4|[85.76, 17.32, 60...|[2006, 2006, 2006...|[7, 7, 7, 7, 7, 7...|[1, 4, 5, 6, 8, 1...|[14, 13, 13, 18, ...|[Swipe Transactio...|[Oakland Gardens,...|[11364.0, 11363.0...|[5251, 5812, 7538...|[No, No, No, No, ...|\n",
            "+----+----+--------------------+--------------------+--------------------+--------------------+--------------------+--------------------+--------------------+--------------------+--------------------+--------------------+\n",
            "only showing top 10 rows\n",
            "\n"
          ]
        }
      ],
      "source": [
        "from pyspark.sql.functions import collect_list\n",
        "\n",
        "sampled_data = trans_data.limit(100000)\n",
        "sampled_data = sampled_data.orderBy(\"Year\", \"Month\", \"Day\", \"Hour_trans\")\n",
        "grouped_data = sampled_data.groupBy('User', 'Card').agg(collect_list(\"Amount\").alias(\"Amount_list\"),\n",
        "                                                collect_list(\"Year\").alias(\"Year_list\"),\n",
        "                                                collect_list(\"Month\").alias(\"Month_list\"),\n",
        "                                                collect_list(\"Day\").alias(\"Day_list\"),\n",
        "                                                collect_list(\"Hour_trans\").alias(\"Hour_list\"),\n",
        "                                                collect_list(\"UseChip\").alias(\"UseChip_list\"),\n",
        "                                                collect_list(\"MerchantCity\").alias(\"MerchantCity_list\"),\n",
        "                                                collect_list(\"Zip\").alias(\"Zip_list\"),\n",
        "                                                collect_list(\"MCC\").alias(\"MCC_list\"),\n",
        "                                                collect_list(\"IsFraud\").alias(\"IsFraud\"))\n",
        "\n",
        "grouped_data = grouped_data.orderBy(\"User\", \"Card\")\n",
        "\n",
        "grouped_data.show(10)"
      ]
    },
    {
      "cell_type": "markdown",
      "metadata": {
        "id": "66WJoh15jf0P"
      },
      "source": [
        "Напишите python функцию, которая возьмет данные после агрегации последовательностей, отсортирует их внутри по дате и времени и преобразует к формату python dict:\n",
        "{'User': User,\n",
        "'Card': Card,\n",
        "'sequence':{\n",
        "    'amount': [последовательность],\n",
        "    'year': [последовательность],\n",
        "    'month': [последовательность],\n",
        "    'day': [последовательность],\n",
        "    'time': [последовательность],\n",
        "    'MCC': [последовательность]\n",
        "}\n",
        "}\n",
        "\n",
        "\n"
      ]
    },
    {
      "cell_type": "markdown",
      "metadata": {
        "id": "dDC5b3iBk0Ti"
      },
      "source": [
        "Выведите как пример одну преобразованную запись, результаты сохраните на диск в  parquet"
      ]
    },
    {
      "cell_type": "code",
      "execution_count": null,
      "metadata": {
        "id": "6X9l9qNkjfPX",
        "colab": {
          "base_uri": "https://localhost:8080/"
        },
        "outputId": "b7cf947a-e08b-41ef-fd6a-a233f4197cfd"
      },
      "outputs": [
        {
          "output_type": "stream",
          "name": "stdout",
          "text": [
            "Пример:\n",
            "{'User': 0, 'Card': 0, 'sequence': {'amount': [134.08999633789062, 38.47999954223633, 120.33999633789062, 128.9499969482422, 104.70999908447266, 86.19000244140625, 93.83999633789062, 123.5, 61.720001220703125, 57.099998474121094, 76.06999969482422, 53.90999984741211, 110.37000274658203, 117.05000305175781, 45.29999923706055, 29.34000015258789, 147.4499969482422, 27.75, 76.56999969482422, 22.559999465942383, 37.5, 65.5, 56.41999816894531, 2.7100000381469727, 144.89999389648438, 160.0, 102.18000030517578, 36.72999954223633, 29.329999923706055, 162.38999938964844, 34.400001525878906, 62.060001373291016, 99.0, 99.0, 80.18000030517578, 122.0999984741211, 92.76000213623047, 52.52000045776367, 1.1299999952316284, 126.79000091552734, 44.40999984741211, 164.3699951171875, 12.760000228881836, 109.94000244140625, 126.29000091552734, 40.810001373291016, 81.3499984741211, 115.33999633789062, 44.25, 120.19000244140625, 159.72000122070312, 128.85000610351562, 92.30000305175781, 168.11000061035156, 53.09000015258789, 104.7699966430664, 119.69000244140625, 145.5, 48.34000015258789, 2.7899999618530273, 47.5099983215332, 51.97999954223633, 82.9000015258789, 76.37000274658203, 134.88999938964844, 35.279998779296875, 80.6500015258789, 112.66999816894531, 162.25999450683594, 39.380001068115234, 55.7599983215332, 100.0, 100.0, 93.37000274658203, 199.7100067138672, 23.18000030517578, 57.63999938964844, 78.45999908447266, 141.6999969482422, 55.40999984741211, 153.36000061035156, 119.61000061035156, 120.25, 40.58000183105469, 165.9600067138672, 127.31999969482422, 38.130001068115234, 11.300000190734863, 80.05000305175781, 119.7300033569336, 30.899999618530273, 34.88999938964844, 139.33999633789062, 46.459999084472656, 102.73999786376953, 36.439998626708984, 114.87000274658203, 53.130001068115234, 16.8700008392334, 139.38999938964844, 133.9600067138672, 100.0, 154.6999969482422, 27.219999313354492, 118.25, 31.010000228881836, 53.09000015258789, 142.05999755859375, 172.6699981689453, 159.4600067138672, 37.689998626708984, 87.47000122070312, 168.9600067138672, 135.41000366210938, 30.0, 58.619998931884766, 99.0, 99.0, 100.75, 1049.8199462890625, 207.0, 99.08999633789062, 88.0, 88.0, 55.29999923706055, 93.0199966430664, 142.67999267578125, 207.0, 3.6500000953674316, 521.239990234375, 114.05000305175781, 91.0999984741211, 1.840000033378601, 130.22000122070312, 24.020000457763672, 41.02000045776367, 43.689998626708984, 49.08000183105469, 57.0, 57.0, 164.49000549316406, 201.6199951171875, 17.81999969482422, 118.95999908447266, 66.0, 62.0099983215332, 66.0, 39.119998931884766, 148.5800018310547, 35.81999969482422, 73.3499984741211, 119.43000030517578, 38.41999816894531, 216.47000122070312, 131.02000427246094, 37.060001373291016, 156.92999267578125, 2.299999952316284, 9.760000228881836, 29.950000762939453, 77.8499984741211, 35.91999816894531, 135.60000610351562, 37.630001068115234, 96.0, 96.0, 61.08000183105469, 24.670000076293945, 46.099998474121094, 16.760000228881836, 161.50999450683594, 132.89999389648438, 30.5, 12.09000015258789, 150.0800018310547, 180.5800018310547, 55.61000061035156, 75.72000122070312, 77.41000366210938, 148.00999450683594, 106.72000122070312, 28.389999389648438, 140.86000061035156, 116.86000061035156, 122.63999938964844, 42.0099983215332, 167.0, 168.52999877929688, 85.91000366210938, 152.13999938964844, 40.779998779296875, 107.5, 59.52000045776367, 91.0, 91.0, 98.0, 98.0, 52.400001525878906, 130.47999572753906, 126.31999969482422, 63.900001525878906, 151.49000549316406, 113.31999969482422, 39.18000030517578, 66.9800033569336, 58.029998779296875, 186.41000366210938, 133.5500030517578, 59.7400016784668, 157.9600067138672, 95.4000015258789, 99.91999816894531, 127.33000183105469, 134.57000732421875, 52.939998626708984, 95.76000213623047, 83.16999816894531, 54.2599983215332, 61.02000045776367, 131.4499969482422, 115.91000366210938, 65.91999816894531, 38.9900016784668, 129.07000732421875, 37.22999954223633, 228.9199981689453, 141.77000427246094, 51.959999084472656, 143.05999755859375, 50.68000030517578, 99.0, 69.30999755859375, 99.0, 99.36000061035156, 126.80999755859375, 379.7300109863281, 148.4199981689453, 138.58999633789062, 107.1500015258789, 81.43000030517578, 35.599998474121094, 173.02999877929688, 38.7599983215332, 24.549999237060547, 104.80999755859375, 75.86000061035156, 128.6300048828125, 147.5399932861328, 50.0, 66.41000366210938, 50.0, 71.02999877929688, 78.31999969482422, 127.0, 211.0, 18.450000762939453, 79.77999877929688, 89.38999938964844, 9.920000076293945, 79.83000183105469, 149.4499969482422, 211.0, 173.3800048828125, 127.0, 38.40999984741211, 78.97000122070312, 113.94000244140625, 47.400001525878906, 210.9600067138672, 73.37000274658203, 134.25999450683594, 128.82000732421875, 128.41000366210938, 51.22999954223633, 141.19000244140625, 177.75, 58.41999816894531, 138.47000122070312, 108.9000015258789, 84.72000122070312, 141.32000732421875, 30.799999237060547, 55.25, 145.89999389648438, 75.30999755859375, 50.20000076293945, 58.099998474121094, 121.80999755859375, 97.30999755859375, 129.6300048828125, 119.45999908447266, 47.72999954223633, 33.86000061035156, 123.12000274658203, 91.97000122070312, 40.060001373291016, 70.16999816894531, 53.7400016784668, 105.41000366210938, 117.1500015258789, 35.279998779296875, 44.91999816894531, 255.0, 3.619999885559082, 94.0199966430664, 55.439998626708984, 9.920000076293945, 76.75, 71.63999938964844, 25.010000228881836, 139.8000030517578, 81.36000061035156, 255.0, 147.41000366210938, 114.1500015258789, 38.0, 57.25, 123.98999786376953, 37.290000915527344, 185.16000366210938, 46.29999923706055, 65.61000061035156, 6.059999942779541, 9.880000114440918, 160.1699981689453, 41.18000030517578, 6.190000057220459, 73.25, 42.33000183105469, 45.349998474121094, 187.2100067138672, 5.630000114440918, 123.66000366210938, 109.7300033569336, 65.5, 29.549999237060547, 126.16999816894531, 100.0, 43.9900016784668, 157.22999572753906, 46.56999969482422, 50.18000030517578, 116.30000305175781, 73.33000183105469, 132.82000732421875, 84.0, 84.0, 67.5199966430664, 36.70000076293945, 6.510000228881836, 36.65999984741211, 93.41999816894531, 55.689998626708984, 59.380001068115234, 76.66999816894531, 36.529998779296875, 137.22000122070312, 97.23999786376953, 150.30999755859375, 10.59000015258789, 39.209999084472656, 109.58999633789062, 134.0500030517578, 46.79999923706055, 1.3899999856948853, 227.89999389648438, 432.2200012207031, 68.5, 151.82000732421875, 20.09000015258789, 37.7400016784668, 124.62999725341797, 32.77000045776367, 134.32000732421875, 153.9600067138672, 32.22999954223633, 3.5199999809265137, 29.350000381469727, 115.4800033569336, 18.709999084472656, 76.47000122070312, 54.90999984741211, 53.130001068115234, 34.41999816894531, 44.779998779296875, 10.109999656677246, 25.270000457763672, 10.239999771118164, 14.680000305175781, 136.52000427246094, 58.72999954223633, 52.209999084472656, 120.69000244140625, 15.449999809265137, 71.68000030517578, 118.9000015258789, 8.9399995803833, 53.93000030517578, 161.6300048828125, 33.38999938964844, 185.66000366210938, 78.3499984741211, 117.76000213623047, 46.18000030517578, 97.30999755859375, 23.59000015258789, 11.3100004196167, 7.519999980926514, 36.970001220703125, 26.459999084472656, 26.670000076293945, 110.08000183105469, 37.630001068115234, 69.12000274658203, 145.74000549316406, 35.52000045776367, 121.7300033569336, 149.41000366210938, 107.38999938964844, 155.52000427246094, 56.0, 110.56999969482422, 65.69000244140625, 100.20999908447266, 10.119999885559082, 66.0, 43.599998474121094, 66.0, 137.8000030517578, 36.310001373291016, 11.989999771118164, 57.75, 39.18000030517578, 36.099998474121094, 66.7699966430664, 35.34000015258789, 129.7899932861328, 39.88999938964844, 42.599998474121094, 50.72999954223633, 37.13999938964844, 56.68000030517578, 134.4600067138672, 125.26000213623047, 4.75, 73.87999725341797, 82.0999984741211, 36.720001220703125, 36.88999938964844, 85.26000213623047, 65.01000213623047, 41.11000061035156, 30.510000228881836, 73.5, 12.579999923706055, 76.01000213623047, 764.5999755859375, 57.779998779296875, 117.06999969482422, 28.760000228881836, 60.36000061035156, 40.150001525878906, 40.97999954223633, 15.5600004196167, 188.39999389648438, 125.73999786376953, 71.04000091552734, 83.2300033569336, 52.939998626708984, 24.950000762939453, 41.970001220703125, 158.08999633789062, 137.27000427246094, 77.9800033569336, 53.47999954223633, 67.86000061035156, 4.730000019073486, 133.4199981689453, 21.059999465942383, 192.4600067138672, 32.560001373291016, 47.040000915527344, 51.529998779296875, 15.979999542236328, 28.889999389648438, 64.73999786376953, 62.4900016784668, 119.70999908447266, 70.0999984741211, 157.3000030517578, 28.969999313354492, 129.36000061035156, 137.7100067138672, 24.81999969482422, 26.799999237060547, 57.599998474121094, 8.520000457763672, 154.9600067138672, 9.300000190734863, 31.65999984741211, 19.8799991607666, 120.9000015258789, 137.13999938964844, 50.119998931884766, 39.33000183105469, 21.68000030517578, 158.64999389648438, 70.43000030517578, 35.209999084472656, 14.970000267028809, 217.77000427246094, 36.959999084472656, 25.0, 126.16999816894531, 36.0099983215332, 48.290000915527344, 55.11000061035156, 52.86000061035156, 125.6500015258789, 31.579999923706055, 120.76000213623047, 102.22000122070312, 68.76000213623047, 28.100000381469727, 56.0, 56.0, 57.970001220703125, 430.0, 222.0, 10.15999984741211, 30.43000030517578, 222.0, 139.6300048828125, 126.9800033569336, 430.0, 116.5, 144.22000122070312, 124.76000213623047, 23.600000381469727, 160.80999755859375, 35.380001068115234, 70.2300033569336, 40.279998779296875, 14.109999656677246, 41.95000076293945, 1.7000000476837158, 49.38999938964844, 67.52999877929688, 35.619998931884766, 126.0199966430664, 25.040000915527344, 16.739999771118164, 17.040000915527344, 65.22000122070312, 145.92999267578125, 15.569999694824219, 140.0800018310547, 34.90999984741211, 60.97999954223633, 8.399999618530273, 91.25, 74.62000274658203, 39.56999969482422, 43.650001525878906, 43.20000076293945, 67.22000122070312, 73.98999786376953, 44.970001220703125, 117.66000366210938, 32.08000183105469, 73.86000061035156, 169.42999267578125, 41.25, 89.12999725341797, 86.30999755859375, 40.09000015258789, 118.70999908447266, 4.389999866485596, 42.720001220703125, 67.87999725341797, 33.209999084472656, 133.25, 44.72999954223633, 28.18000030517578, 45.31999969482422, 48.11000061035156, 137.9600067138672, 60.130001068115234, 29.40999984741211, 51.380001068115234, 41.900001525878906, 35.18000030517578, 44.16999816894531, 150.41000366210938, 12.430000305175781, 102.70999908447266, 100.0, 13.59000015258789, 125.75, 46.939998626708984, 10.550000190734863, 148.3000030517578, 116.19000244140625, 43.7599983215332, 38.540000915527344, 146.08999633789062, 34.13999938964844, 64.72000122070312, 11.09000015258789, 8.550000190734863, 50.11000061035156, 35.75, 18.950000762939453, 56.22999954223633, 6.239999771118164, 43.029998779296875, 1.4900000095367432, 135.49000549316406, 73.08999633789062, 158.0800018310547, 35.40999984741211, 114.0199966430664, 58.09000015258789, 38.65999984741211, 1.1699999570846558, 40.630001068115234, 46.54999923706055, 62.130001068115234, 107.44000244140625, 31.489999771118164, 13.390000343322754, 105.81999969482422, 38.84000015258789, 116.19999694824219, 37.189998626708984, 31.229999542236328, 43.0, 118.91000366210938, 49.90999984741211, 30.889999389648438, 32.22999954223633, 135.44000244140625, 38.970001220703125, 112.62000274658203, 127.5199966430664, 36.619998931884766, 61.689998626708984, 33.630001068115234, 70.19000244140625, 85.30999755859375, 75.9800033569336, 37.470001220703125, 77.0199966430664, 119.43000030517578, 128.49000549316406, 7.929999828338623, 71.3499984741211, 115.62999725341797, 10.15999984741211, 68.73999786376953, 34.22999954223633, 20.049999237060547, 146.24000549316406, 108.79000091552734, 148.42999267578125, 29.56999969482422, 43.939998626708984, 56.599998474121094, 56.93000030517578, 121.12000274658203, 10.449999809265137, 119.30999755859375, 45.220001220703125, 23.15999984741211, 38.380001068115234, 143.08999633789062, 93.73999786376953, 162.30999755859375, 46.77000045776367, 58.470001220703125, 14.859999656677246, 36.119998931884766, 42.540000915527344, 112.55000305175781, 119.83000183105469, 50.54999923706055, 118.3499984741211, 6.809999942779541, 43.0, 5.760000228881836, 52.15999984741211, 11.630000114440918, 79.08999633789062, 62.7400016784668, 39.77000045776367, 140.0, 35.20000076293945, 104.23999786376953, 44.0, 108.08000183105469, 38.0, 58.810001373291016, 116.27999877929688, 41.06999969482422, 10.9399995803833, 30.1299991607666, 63.220001220703125, 50.060001373291016, 3.5, 117.05999755859375, 1.649999976158142, 42.939998626708984, 110.94000244140625, 19.610000610351562, 32.459999084472656, 39.41999816894531, 121.25, 45.150001525878906, 161.86000061035156, 36.310001373291016, 76.22000122070312, 39.59000015258789, 56.72999954223633, 76.0, 76.0, 1.4600000381469727, 131.5, 68.63999938964844, 8.65999984741211, 17.010000228881836, 108.19999694824219, 29.950000762939453, 12.670000076293945, 10.449999809265137, 84.22000122070312, 58.66999816894531, 122.83999633789062, 59.709999084472656, 120.0, 94.25, 45.7599983215332, 1.5299999713897705, 80.0, 80.0, 67.7699966430664, 56.130001068115234, 10.449999809265137, 58.93000030517578, 49.5099983215332, 131.00999450683594, 6.789999961853027, 9.550000190734863, 15.59000015258789, 35.630001068115234, 140.02000427246094, 47.0099983215332, 37.15999984741211, 44.150001525878906, 14.949999809265137, 27.049999237060547, 60.52000045776367, 74.51000213623047, 78.20999908447266, 82.5199966430664, 36.470001220703125, 68.81999969482422, 196.5800018310547, 109.66000366210938, 21.5, 131.83999633789062, 43.02000045776367, 21.1200008392334, 28.760000228881836, 100.0, 7.099999904632568, 38.560001373291016, 129.16000366210938, 66.33000183105469, 48.36000061035156, 26.829999923706055, 132.19000244140625, 6.440000057220459, 120.79000091552734, 37.77000045776367, 57.54999923706055, 5.119999885559082, 26.959999084472656, 1.75, 62.68000030517578, 67.0, 67.0, 47.060001373291016, 58.439998626708984, 39.369998931884766, 56.400001525878906, 82.0, 82.0, 91.61000061035156, 41.43000030517578, 130.44000244140625, 2.690000057220459, 51.93000030517578, 121.36000061035156, 184.74000549316406, 28.649999618530273, 30.329999923706055, 37.4900016784668, 54.869998931884766, 135.4499969482422, 57.060001373291016, 68.58999633789062, 1.6799999475479126, 36.83000183105469, 224.33999633789062, 46.5099983215332, 125.66000366210938, 36.06999969482422, 153.86000061035156, 27.5, 68.69000244140625, 40.849998474121094, 13.319999694824219, 77.18000030517578, 66.0, 66.0, 160.0, 151.88999938964844, 9.869999885559082, 24.329999923706055, 118.41000366210938, 6.210000038146973, 120.77999877929688, 59.150001525878906, 44.2599983215332, 14.84000015258789, 29.459999084472656, 38.47999954223633, 129.58999633789062, 6.25, 88.0, 50.08000183105469, 88.0, 20.639999389648438, 69.13999938964844, 152.99000549316406, 38.880001068115234, 68.0, 68.0, 56.2599983215332, 44.18000030517578, 41.29999923706055, 41.2599983215332, 2.299999952316284, 33.58000183105469, 117.04000091552734, 159.75999450683594, 40.619998931884766, 60.33000183105469, 11.5, 80.44000244140625, 10.430000305175781, 55.279998779296875, 1.409999966621399, 93.08000183105469, 92.58000183105469, 191.88999938964844, 68.81999969482422, 72.0, 72.5199966430664, 72.0, 144.61000061035156, 122.7300033569336, 44.33000183105469, 145.97999572753906, 43.119998931884766, 57.279998779296875, 20.190000534057617, 21.920000076293945, 27.8799991607666, 39.22999954223633, 36.439998626708984, 25.190000534057617, 67.44999694824219, 61.0, 6.559999942779541, 36.0, 86.29000091552734, 47.7400016784668, 38.959999084472656, 77.55999755859375, 102.62000274658203, 163.0, 89.0, 89.0, 51.040000915527344, 163.0, 132.7899932861328, 48.27000045776367, 129.5500030517578, 135.02000427246094, 63.0, 43.7599983215332, 63.0, 59.939998626708984, 77.48999786376953, 113.94000244140625, 38.2599983215332, 75.37999725341797, 16.200000762939453, 11.0, 36.970001220703125, 75.43000030517578, 178.85000610351562, 41.7599983215332, 25.959999084472656, 10.020000457763672, 137.42999267578125, 42.38999938964844, 69.94999694824219, 119.1500015258789, 122.4800033569336, 42.5099983215332, 132.38999938964844, 77.86000061035156, 147.6999969482422, 129.17999267578125, 78.05000305175781, 74.98999786376953, 137.3000030517578, 44.540000915527344, 36.650001525878906, 91.11000061035156, 31.610000610351562, 10.539999961853027, 33.470001220703125, 13.630000114440918, 38.630001068115234, 46.15999984741211, 40.29999923706055, 92.80999755859375, 67.11000061035156, 68.3499984741211, 10.569999694824219, 43.349998474121094, 12.720000267028809, 122.05999755859375, 9.899999618530273, 50.0, 48.4900016784668, 50.0, 130.88999938964844, 92.83000183105469, 10.09000015258789, 86.80999755859375, 40.27000045776367, 7.699999809265137, 65.12000274658203, 134.8800048828125, 151.32000732421875, 51.18000030517578, 159.4600067138672, 116.66999816894531, 77.94999694824219, 129.0, 36.709999084472656, 23.31999969482422, 10.279999732971191, 167.88999938964844, 86.97000122070312, 41.02000045776367, 50.79999923706055, 47.029998779296875, 114.72000122070312, 136.13999938964844, 4.960000038146973, 71.02999877929688, 9.180000305175781, 4.369999885559082, 51.310001373291016, 12.079999923706055, 57.0, 74.93000030517578, 57.0, 73.83999633789062, 81.41999816894531, 31.549999237060547, 132.74000549316406, 147.75999450683594, 134.9199981689453, 42.779998779296875, 44.869998931884766, 26.90999984741211, 40.470001220703125, 64.1500015258789, 123.16999816894531, 191.02000427246094, 95.75, 97.81999969482422, 39.2400016784668, 26.68000030517578, 165.00999450683594, 39.369998931884766, 34.59000015258789, 73.22000122070312, 42.90999984741211, 25.280000686645508, 52.0, 52.0, 65.20999908447266, 151.64999389648438, 90.44000244140625, 156.85000610351562, 25.280000686645508, 107.58000183105469, 10.970000267028809, 136.0800018310547, 33.029998779296875, 37.130001068115234, 42.0, 48.380001068115234, 8.569999694824219, 147.8300018310547, 142.66000366210938, 102.33000183105469, 14.359999656677246, 27.43000030517578, 4.630000114440918, 74.97000122070312, 33.959999084472656, 65.4000015258789, 159.3000030517578, 100.0, 57.31999969482422, 79.16000366210938, 100.0, 164.52000427246094, 48.66999816894531, 180.0, 155.3000030517578, 131.0, 58.40999984741211, 14.520000457763672, 131.0, 113.44000244140625, 32.86000061035156, 2.5799999237060547, 90.66999816894531, 24.809999465942383, 20.399999618530273, 141.30999755859375, 116.5999984741211, 61.43000030517578, 138.88999938964844, 1.4600000381469727, 74.97000122070312, 31.799999237060547, 58.209999084472656, 44.15999984741211, 70.62000274658203, 56.90999984741211, 43.470001220703125, 149.32000732421875, 39.84000015258789, 6.059999942779541, 31.649999618530273, 124.75, 42.029998779296875, 37.7599983215332, 160.52000427246094, 8.3100004196167, 122.91999816894531, 7.309999942779541, 218.0, 57.27000045776367, 218.0, 161.82000732421875, 30.34000015258789, 93.56999969482422, 38.04999923706055, 41.66999816894531, 45.29999923706055, 42.88999938964844, 15.369999885559082, 69.1500015258789, 117.87000274658203, 140.0, 73.4800033569336, 45.43000030517578, 11.180000305175781, 15.850000381469727, 119.54000091552734, 34.279998779296875, 110.69999694824219, 151.99000549316406, 44.45000076293945, 48.119998931884766, 67.68000030517578, 140.0, 37.7400016784668, 68.97000122070312, 216.75, 41.4900016784668, 100.26000213623047, 6.079999923706055, 9.40999984741211, 128.66000366210938, 29.639999389648438, 127.77999877929688, 111.02999877929688, 266.7699890136719, 37.2400016784668, 122.5999984741211, 42.529998779296875, 27.3799991607666, 119.25, 54.5099983215332, 93.4800033569336, 296.0, 69.66000366210938, 131.1699981689453, 10.75, 10.789999961853027, 10.65999984741211, 73.62999725341797, 296.0, 139.69000244140625, 38.54999923706055, 83.23999786376953, 120.48999786376953, 23.360000610351562, 66.29000091552734, 138.72000122070312, 39.79999923706055, 41.43000030517578, 96.5199966430664, 114.70999908447266, 146.41000366210938, 1.7000000476837158, 35.90999984741211, 82.51000213623047, 59.0, 59.0, 35.13999938964844, 66.8499984741211, 39.540000915527344, 46.54999923706055, 118.48999786376953, 14.899999618530273, 41.06999969482422, 132.3000030517578, 113.0, 26.479999542236328, 40.5, 101.05000305175781, 1.6399999856948853, 66.0, 56.0, 66.0, 61.400001525878906, 56.0, 61.400001525878906, 46.91999816894531, 137.22999572753906, 177.08999633789062, 113.0, 1.7699999809265137, 87.58999633789062, 85.5199966430664, 36.02000045776367, 61.2400016784668, 150.39999389648438, 40.02000045776367, 38.72999954223633, 31.709999084472656, 27.8799991607666, 37.66999816894531, 45.77000045776367, 124.08000183105469, 49.540000915527344, 29.799999237060547, 11.529999732971191, 19.31999969482422, 74.5999984741211, 66.73999786376953, 37.86000061035156, 1.6699999570846558, 41.220001220703125, 53.59000015258789, 118.41000366210938, 30.40999984741211, 70.69999694824219, 77.0, 87.4800033569336, 30.280000686645508, 33.84000015258789, 2.0, 59.2400016784668, 143.97999572753906, 31.6299991607666, 13.300000190734863, 63.0, 63.0, 60.18000030517578, 130.69000244140625, 50.970001220703125, 36.81999969482422, 62.88999938964844, 52.56999969482422, 6.25, 149.50999450683594, 61.61000061035156, 36.849998474121094, 33.66999816894531, 46.02000045776367, 52.529998779296875, 90.9000015258789, 31.299999237060547, 10.850000381469727, 118.98999786376953, 117.66999816894531, 11.960000038146973, 134.3000030517578, 121.68000030517578, 100.97000122070312, 13.960000038146973, 155.2899932861328, 9.100000381469727, 158.32000732421875, 47.88999938964844, 31.200000762939453, 27.639999389648438, 38.939998626708984, 37.560001373291016, 6.900000095367432, 10.529999732971191, 140.41000366210938, 146.6199951171875, 122.58000183105469, 8.3100004196167, 78.66000366210938, 148.6199951171875, 39.290000915527344, 30.200000762939453, 6.429999828338623, 105.75, 112.02999877929688, 36.72999954223633, 30.43000030517578, 1.7699999809265137, 50.58000183105469, 6.440000057220459, 134.80999755859375, 21.510000228881836, 76.79000091552734, 57.88999938964844, 90.0, 90.0, 118.29000091552734, 129.89999389648438, 83.0, 11.380000114440918, 49.060001373291016, 83.0, 32.279998779296875, 46.83000183105469, 15.020000457763672, 104.5999984741211, 40.63999938964844, 45.68000030517578, 41.150001525878906, 31.790000915527344, 152.88999938964844, 45.189998626708984, 160.1699981689453, 148.13999938964844, 35.72999954223633, 37.79999923706055, 42.95000076293945, 150.3000030517578, 10.779999732971191, 78.9800033569336, 164.08999633789062, 139.6699981689453, 14.479999542236328, 128.9199981689453, 131.82000732421875, 20.350000381469727, 1.149999976158142, 145.2100067138672, 44.470001220703125, 7.309999942779541, 37.099998474121094, 48.709999084472656, 129.92999267578125, 81.94999694824219, 128.7100067138672, 83.5, 30.68000030517578, 258.0, 321.0, 56.7599983215332, 69.19999694824219, 153.58999633789062, 321.0, 155.7899932861328, 258.0, 98.6500015258789, 35.900001525878906, 48.52000045776367, 10.510000228881836, 129.83999633789062, 27.520000457763672, 118.5199966430664, 39.70000076293945, 10.329999923706055, 144.0800018310547, 51.31999969482422, 143.41000366210938, 147.77999877929688, 69.0, 6.46999979019165, 26.56999969482422, 70.4000015258789, 136.02000427246094, 138.47000122070312, 43.58000183105469, 5.5, 39.61000061035156, 4.599999904632568, 43.58000183105469, 41.779998779296875, 179.7100067138672, 27.770000457763672, 117.31999969482422, 60.400001525878906, 134.33999633789062, 100.08000183105469, 40.7400016784668, 100.0, 57.02000045776367, 54.029998779296875, 116.93000030517578, 5.429999828338623, 44.720001220703125, 70.13999938964844, 49.630001068115234, 64.83000183105469, 144.50999450683594, 118.98999786376953, 19.90999984741211, 6.28000020980835, 43.33000183105469, 13.65999984741211, 42.5099983215332, 125.48999786376953, 5.059999942779541, 145.35000610351562, 166.64999389648438, 47.689998626708984, 54.40999984741211, 23.049999237060547, 25.040000915527344, 152.8300018310547, 48.52000045776367, 78.87999725341797, 19.979999542236328, 37.880001068115234, 216.8000030517578, 36.810001373291016, 98.0, 98.0, 35.93000030517578, 3.940000057220459, 146.99000549316406, 72.66999816894531, 31.360000610351562, 47.13999938964844, 72.95999908447266, 23.700000762939453, 79.4000015258789, 135.3300018310547, 58.63999938964844, 43.08000183105469, 23.139999389648438, 98.0, 60.689998626708984, 98.0, 30.170000076293945, 97.30000305175781, 107.63999938964844, 39.849998474121094, 13.739999771118164, 37.58000183105469, 152.4600067138672, 66.87999725341797, 76.93000030517578, 122.05000305175781, 122.41999816894531, 59.650001525878906, 65.0, 65.0, 45.4900016784668, 20.440000534057617, 108.55000305175781, 21.860000610351562, 38.970001220703125, 5.920000076293945, 128.05999755859375, 55.93000030517578, 107.80000305175781, 57.0, 37.880001068115234, 37.880001068115234, 69.0, 69.0, 57.0, 12.210000038146973, 49.68000030517578, 58.18000030517578, 58.290000915527344, 8.069999694824219, 53.900001525878906, 116.54000091552734, 63.68000030517578, 37.81999969482422, 10.579999923706055, 130.4600067138672, 31.959999084472656, 37.84000015258789, 8.710000038146973, 150.1300048828125, 28.760000228881836, 38.45000076293945, 133.49000549316406, 6.329999923706055, 24.850000381469727, 116.02999877929688, 97.61000061035156, 45.31999969482422, 11.619999885559082, 34.619998931884766, 159.8699951171875, 12.149999618530273, 143.80999755859375, 67.83999633789062, 39.939998626708984, 69.95999908447266, 145.8000030517578, 25.93000030517578, 41.77000045776367, 1.7599999904632568, 125.87999725341797, 120.23999786376953, 10.65999984741211, 43.04999923706055, 74.0999984741211, 14.710000038146973, 23.829999923706055, 13.40999984741211, 5.090000152587891, 142.60000610351562, 42.279998779296875, 151.72000122070312, 34.7400016784668, 73.01000213623047, 25.65999984741211, 53.13999938964844, 38.060001373291016, 57.099998474121094, 60.400001525878906, 1.600000023841858, 41.33000183105469, 130.50999450683594, 69.5999984741211, 116.0, 48.36000061035156, 63.27000045776367, 133.97999572753906, 25.709999084472656, 29.799999237060547, 32.349998474121094, 40.400001525878906, 39.95000076293945, 106.41999816894531, 8.1899995803833, 5.46999979019165, 31.079999923706055, 130.08999633789062, 32.31999969482422, 41.5099983215332, 28.8700008392334, 71.43000030517578, 30.59000015258789, 157.1999969482422, 25.510000228881836, 133.25999450683594, 42.4900016784668, 47.380001068115234, 78.98999786376953, 78.41000366210938, 143.42999267578125, 38.13999938964844, 132.27000427246094, 92.55999755859375, 150.80999755859375, 159.16000366210938, 182.42999267578125, 130.60000610351562, 62.939998626708984, 109.52999877929688, 96.5999984741211, 14.380000114440918, 125.38999938964844, 42.4900016784668, 61.88999938964844, 1.5499999523162842, 48.86000061035156, 203.85000610351562, 57.54999923706055, 146.6699981689453, 61.810001373291016, 41.16999816894531, 40.13999938964844, 112.68000030517578, 65.6500015258789, 134.19000244140625, 25.3700008392334, 30.1299991607666, 136.4600067138672, 138.1300048828125, 36.310001373291016, 79.80000305175781, 115.94999694824219, 123.2300033569336, 67.94999694824219, 41.59000015258789, 35.52000045776367, 30.139999389648438, 134.8300018310547, 53.0, 79.55000305175781, 53.0, 113.5199966430664, 15.0600004196167, 104.0, 28.8799991607666, 13.460000038146973, 37.13999938964844, 120.94999694824219, 104.0, 15.979999542236328, 195.52999877929688, 26.989999771118164, 72.81999969482422, 147.8800048828125, 43.279998779296875, 41.310001373291016, 50.540000915527344, 65.0, 65.0, 63.93000030517578, 18.06999969482422, 40.43000030517578, 158.0, 38.279998779296875, 75.0999984741211, 142.50999450683594, 114.75, 123.38999938964844, 61.58000183105469, 42.41999816894531, 57.16999816894531, 154.27000427246094, 98.68000030517578, 129.82000732421875, 44.83000183105469, 25.760000228881836, 84.88999938964844, 57.209999084472656, 97.0, 97.0, 13.029999732971191, 72.63999938964844, 2.009999990463257, 58.5099983215332, 131.63999938964844, 75.98999786376953, 131.97000122070312, 48.4900016784668, 11.390000343322754, 13.489999771118164, 148.91000366210938, 73.19000244140625, 94.0, 68.12999725341797, 94.0, 148.6199951171875, 42.099998474121094, 43.81999969482422, 112.12000274658203, 156.91000366210938, 187.3000030517578, 152.0399932861328, 59.439998626708984, 65.66000366210938, 32.2400016784668, 51.959999084472656, 64.3499984741211, 426.0, 11.739999771118164, 73.44999694824219, 83.0, 83.0, 57.709999084472656, 182.3800048828125, 127.22000122070312, 61.2400016784668, 12.050000190734863, 76.2699966430664, 146.32000732421875, 426.0, 126.02999877929688, 121.70999908447266, 13.4399995803833, 41.7400016784668, 119.2300033569336, 31.200000762939453, 10.09000015258789, 51.380001068115234, 66.75, 54.0, 54.0, 141.8000030517578, 49.34000015258789, 117.7300033569336, 156.05999755859375, 39.04999923706055, 122.4800033569336, 45.59000015258789, 5.579999923706055, 78.37999725341797, 157.36000061035156, 80.81999969482422, 31.65999984741211, 128.41000366210938, 46.58000183105469, 11.649999618530273, 76.52999877929688, 39.11000061035156, 33.0, 10.40999984741211, 73.56999969482422, 10.119999885559082, 62.93000030517578, 45.08000183105469, 34.29999923706055, 53.279998779296875, 113.8499984741211, 32.13999938964844, 71.4800033569336, 128.9600067138672, 120.98999786376953, 73.33999633789062, 104.13999938964844, 2.2799999713897705, 148.5, 36.59000015258789, 38.84000015258789, 13.329999923706055, 81.58000183105469, 43.709999084472656, 10.15999984741211, 33.95000076293945, 59.7599983215332, 35.7400016784668, 52.33000183105469, 137.47999572753906, 2.200000047683716, 172.1999969482422, 11.5600004196167, 136.25999450683594, 6.880000114440918, 27.18000030517578, 114.80000305175781, 36.95000076293945, 148.97999572753906, 39.18000030517578, 37.65999984741211, 145.57000732421875, 138.02999877929688, 156.52000427246094, 120.41000366210938, 124.23999786376953, 38.099998474121094, 64.68000030517578, 11.529999732971191, 144.3699951171875, 49.790000915527344, 34.790000915527344, 265.0, 65.97000122070312, 265.0, 74.9800033569336, 35.13999938964844, 94.51000213623047, 38.72999954223633, 20.84000015258789, 36.439998626708984, 36.04999923706055, 135.38999938964844, 52.90999984741211, 149.67999267578125, 149.16000366210938, 35.560001373291016, 37.11000061035156, 43.09000015258789, 57.36000061035156, 38.099998474121094, 63.54999923706055, 145.72000122070312, 12.229999542236328, 117.62000274658203, 120.83999633789062, 66.44000244140625, 30.260000228881836, 116.72000122070312, 37.56999969482422, 92.41000366210938, 117.77999877929688, 14.569999694824219, 41.06999969482422, 41.86000061035156, 30.8700008392334, 122.45999908447266, 119.0999984741211, 32.130001068115234, 74.7300033569336, 141.6199951171875, 120.08000183105469, 42.689998626708984, 57.70000076293945, 13.930000305175781, 36.22999954223633, 121.75, 129.8000030517578, 59.72999954223633, 121.91999816894531, 44.88999938964844, 40.91999816894531, 1.4600000381469727, 38.93000030517578, 38.59000015258789, 6.239999771118164, 41.400001525878906, 42.939998626708984, 155.22999572753906, 13.359999656677246, 13.670000076293945, 140.0, 35.25, 22.149999618530273, 139.05999755859375, 144.25999450683594, 10.609999656677246, 88.0, 61.529998779296875, 88.0, 30.0, 9.760000228881836, 50.04999923706055, 36.290000915527344, 64.5, 101.0, 11.260000228881836, 101.0, 193.39999389648438, 13.270000457763672, 35.90999984741211, 9.40999984741211, 118.69999694824219, 85.04000091552734, 9.119999885559082, 133.77999877929688, 43.08000183105469, 34.939998626708984, 36.9900016784668, 31.239999771118164, 109.87999725341797, 122.08999633789062, 29.979999542236328, 53.36000061035156, 42.310001373291016, 147.97999572753906, 51.040000915527344, 36.65999984741211, 101.63999938964844, 54.86000061035156, 148.19000244140625, 44.9900016784668, 105.22000122070312, 134.72999572753906, 142.1999969482422, 118.63999938964844, 60.0, 66.75, 80.0, 66.75, 60.0, 80.0, 49.060001373291016, 17.010000228881836, 28.850000381469727, 154.67999267578125, 26.100000381469727, 50.2400016784668, 136.3800048828125, 7.340000152587891, 6.900000095367432, 3.319999933242798, 40.38999938964844, 124.22000122070312, 80.0, 63.65999984741211, 80.0, 84.30000305175781, 44.95000076293945, 2.059999942779541, 61.15999984741211, 114.33000183105469, 31.610000610351562, 92.0, 92.0, 64.63999938964844, 15.529999732971191, 48.88999938964844, 12.680000305175781, 3.430000066757202, 104.30999755859375, 40.25, 44.470001220703125, 58.88999938964844, 4.820000171661377, 159.1199951171875, 7.150000095367432, 56.040000915527344, 120.0, 134.8699951171875, 37.91999816894531, 77.30000305175781, 35.33000183105469, 175.8300018310547, 21.729999542236328, 131.27999877929688, 50.060001373291016, 56.81999969482422, 222.6300048828125, 73.66999816894531, 30.889999389648438, 134.41000366210938, 29.420000076293945, 148.83999633789062, 123.23999786376953, 41.439998626708984, 3.700000047683716, 39.41999816894531, 83.9800033569336, 7.71999979019165, 59.52000045776367, 94.0, 94.0, 72.33999633789062, 175.88999938964844, 86.0, 74.08999633789062, 86.0, 31.770000457763672, 131.66000366210938, 58.97999954223633, 96.47000122070312, 7.730000019073486, 1.7000000476837158, 47.06999969482422, 1.7999999523162842, 37.04999923706055, 0.6800000071525574, 136.47999572753906, 55.22999954223633, 35.810001373291016, 6.800000190734863, 9.949999809265137, 47.45000076293945, 128.83999633789062, 31.829999923706055, 35.880001068115234, 138.3800048828125, 41.18000030517578, 140.0, 31.209999084472656, 66.75, 90.38999938964844, 66.0, 66.0, 43.060001373291016, 10.220000267028809, 87.68000030517578, 49.63999938964844, 82.37000274658203, 31.670000076293945, 41.95000076293945, 36.099998474121094, 265.0, 265.0, 195.60000610351562, 14.970000267028809, 141.4199981689453, 32.810001373291016, 49.66999816894531, 39.56999969482422, 149.97000122070312, 115.54000091552734, 115.97000122070312, 179.88999938964844, 112.5999984741211, 41.08000183105469, 331.0, 150.58999633789062, 331.0, 89.19999694824219, 26.030000686645508, 146.60000610351562, 159.16000366210938, 24.1299991607666, 79.29000091552734, 24.190000534057617, 29.079999923706055, 142.13999938964844, 137.1300048828125, 113.33000183105469, 5.480000019073486, 150.85000610351562, 9.180000305175781, 74.16999816894531, 80.58000183105469, 42.04999923706055, 13.270000457763672, 42.720001220703125, 54.61000061035156, 130.88999938964844, 70.4000015258789, 84.33999633789062, 48.20000076293945, 63.119998931884766, 71.68000030517578, 11.460000038146973, 115.66999816894531, 39.84000015258789, 73.16000366210938, 124.01000213623047, 27.299999237060547, 59.02000045776367, 31.479999542236328, 119.4000015258789, 40.91999816894531, 27.739999771118164, 176.80999755859375, 74.6500015258789, 37.4900016784668, 43.279998779296875, 38.290000915527344, 35.2400016784668, 411.0, 10.449999809265137, 152.17999267578125, 31.290000915527344, 28.739999771118164, 11.34000015258789, 60.0, 39.790000915527344, 60.0, 12.6899995803833, 68.83000183105469, 82.51000213623047, 6.170000076293945, 8.130000114440918, 70.87999725341797, 411.0, 155.0500030517578, 1.0499999523162842, 41.43000030517578, 13.989999771118164, 43.20000076293945, 117.69999694824219, 1.7100000381469727, 13.140000343322754, 9.079999923706055, 40.5, 46.93000030517578, 96.72000122070312, 40.18000030517578, 11.479999542236328, 69.16999816894531, 46.52000045776367, 75.93000030517578, 9.800000190734863, 36.16999816894531, 11.989999771118164, 123.79000091552734, 77.62000274658203, 35.880001068115234, 71.66999816894531, 121.08999633789062, 52.349998474121094, 25.3799991607666, 6.110000133514404, 6.599999904632568, 8.670000076293945, 267.7099914550781, 57.290000915527344, 32.34000015258789, 154.5500030517578, 106.51000213623047, 3.359999895095825, 115.13999938964844, 180.89999389648438, 50.77000045776367, 22.979999542236328, 33.06999969482422, 60.900001525878906, 74.47000122070312, 31.899999618530273, 10.199999809265137, 74.11000061035156, 147.7100067138672, 111.13999938964844, 45.47999954223633, 38.41999816894531, 133.25, 43.13999938964844, 163.30999755859375, 32.790000915527344, 65.75, 74.04000091552734, 75.0, 75.0, 61.18000030517578, 42.84000015258789, 57.720001220703125, 39.61000061035156, 71.11000061035156, 3.450000047683716, 96.01000213623047, 77.63999938964844, 70.33999633789062, 66.12000274658203, 41.029998779296875, 85.23999786376953, 10.399999618530273, 93.0, 86.91999816894531, 93.0, 10.399999618530273, 105.80000305175781, 46.93000030517578, 12.970000267028809, 118.73999786376953, 61.2400016784668, 108.08000183105469, 69.30999755859375, 133.99000549316406, 57.5099983215332, 39.88999938964844, 72.91000366210938, 26.989999771118164, 128.97999572753906, 54.560001373291016, 124.12000274658203, 8.390000343322754, 5.71999979019165, 33.5099983215332, 120.51000213623047, 44.689998626708984, 130.25, 86.76000213623047, 29.450000762939453, 133.3300018310547, 19.399999618530273, 49.11000061035156, 98.41000366210938, 139.61000061035156, 62.959999084472656, 1.6200000047683716, 7.880000114440918, 143.3800048828125, 19.84000015258789, 28.670000076293945, 39.63999938964844, 117.08000183105469, 60.56999969482422, 54.540000915527344, 152.85000610351562, 42.29999923706055, 37.689998626708984, 339.0, 21.100000381469727, 60.70000076293945, 339.0, 142.57000732421875, 128.9499969482422, 39.29999923706055, 66.1500015258789, 7.78000020980835, 136.33999633789062, 51.41999816894531, 51.040000915527344, 10.210000038146973, 11.75, 40.79999923706055, 121.0, 9.960000038146973, 30.780000686645508, 36.060001373291016, 32.47999954223633, 53.0, 53.0, 35.939998626708984, 131.61000061035156, 135.17999267578125, 115.02999877929688, 143.88999938964844, 46.04999923706055, 98.0, 98.0, 55.119998931884766, 4.079999923706055, 116.58999633789062, 118.98999786376953, 80.9800033569336, 37.54999923706055, 78.20999908447266, 59.369998931884766, 46.380001068115234, 54.529998779296875, 161.8800048828125, 52.130001068115234, 11.619999885559082, 141.4199981689453, 39.4900016784668, 127.83000183105469, 77.12999725341797, 92.4000015258789, 36.790000915527344, 36.959999084472656, 133.4499969482422, 19.799999237060547, 35.22999954223633, 36.02000045776367, 148.9499969482422, 43.369998931884766, 16.110000610351562, 128.8699951171875, 84.38999938964844, 147.0, 147.0, 81.6500015258789, 67.98999786376953, 42.31999969482422, 37.97999954223633, 120.0, 120.0, 133.41000366210938, 158.5800018310547, 76.0, 54.56999969482422, 76.0, 32.70000076293945, 70.80000305175781, 77.33000183105469, 2.0299999713897705, 132.1300048828125, 144.42999267578125, 145.1699981689453, 39.939998626708984, 24.059999465942383, 35.630001068115234, 44.97999954223633, 31.399999618530273, 52.9900016784668, 125.9000015258789, 135.47999572753906, 43.529998779296875, 1031.8599853515625, 55.650001525878906, 155.75999450683594, 52.709999084472656, 151.05999755859375, 35.72999954223633, 22.93000030517578, 82.08999633789062, 33.349998474121094, 32.2599983215332, 25.56999969482422, 73.47000122070312, 58.099998474121094, 84.16999816894531, 107.66999816894531, 148.24000549316406, 146.5399932861328, 39.13999938964844, 50.810001373291016, 48.369998931884766, 120.0, 54.290000915527344, 37.04999923706055, 40.02000045776367, 140.58999633789062, 60.04999923706055, 47.43000030517578, 10.350000381469727, 80.72000122070312, 74.36000061035156, 145.10000610351562, 38.439998626708984, 73.62999725341797, 32.310001373291016, 72.0, 35.900001525878906, 72.0, 149.80999755859375, 7.710000038146973, 126.05999755859375, 43.29999923706055, 464.0, 43.04999923706055, 464.0, 152.1199951171875, 44.34000015258789, 128.74000549316406, 122.88999938964844, 129.2100067138672, 26.950000762939453, 37.58000183105469, 132.72000122070312, 86.44999694824219, 48.68000030517578, 121.05999755859375, 40.86000061035156, 178.2899932861328, 69.11000061035156, 39.47999954223633, 106.4800033569336, 90.0999984741211, 77.58999633789062, 98.27999877929688, 215.0, 71.86000061035156, 39.459999084472656, 1.1200000047683716, 39.720001220703125, 215.0, 139.5, 16.239999771118164, 39.95000076293945, 45.869998931884766, 161.16000366210938, 6.440000057220459, 108.22000122070312, 12.649999618530273, 132.16000366210938, 48.04999923706055, 103.75, 85.44999694824219, 63.029998779296875, 41.22999954223633, 37.119998931884766, 43.16999816894531, 83.61000061035156, 19.639999389648438, 172.0399932861328, 20.3799991607666, 96.19000244140625, 7.429999828338623, 52.97999954223633, 8.739999771118164, 180.39999389648438, 1.6200000047683716, 44.290000915527344, 44.31999969482422, 78.37999725341797, 102.0199966430664, 139.83999633789062, 43.349998474121094, 134.91000366210938, 12.300000190734863, 27.59000015258789, 139.0, 174.6199951171875, 139.0, 12.149999618530273, 148.38999938964844, 47.40999984741211, 40.25, 143.74000549316406, 120.05999755859375, 366.1400146484375, 71.37000274658203, 18.360000610351562, 26.780000686645508, 35.599998474121094, 126.08000183105469, 40.380001068115234, 30.690000534057617, 128.1999969482422, 49.619998931884766, 37.43000030517578, 62.9900016784668, 22.90999984741211, 138.55999755859375, 1.7699999809265137, 124.12999725341797, 46.709999084472656, 109.63999938964844, 66.75, 31.020000457763672, 43.91999816894531, 147.89999389648438, 37.290000915527344, 56.27000045776367, 17.959999084472656, 2.009999990463257, 38.38999938964844, 14.289999961853027, 75.72000122070312, 86.70999908447266, 61.0, 65.23999786376953, 61.0, 151.50999450683594, 46.150001525878906, 36.529998779296875, 48.5099983215332, 52.86000061035156, 134.58999633789062, 141.36000061035156, 43.86000061035156, 7.090000152587891, 12.869999885559082, 19.84000015258789, 28.690000534057617, 101.7699966430664, 50.84000015258789, 2.059999942779541, 50.02000045776367, 56.22999954223633, 50.849998474121094, 126.12000274658203, 143.44000244140625, 101.61000061035156, 129.5, 48.4900016784668, 33.33000183105469, 10.979999542236328, 158.77999877929688, 73.88999938964844, 13.75, 140.44000244140625, 28.0, 41.130001068115234, 155.3800048828125, 83.66000366210938, 76.25, 129.63999938964844, 25.200000762939453, 6.340000152587891, 79.83999633789062, 36.61000061035156, 70.37000274658203, 58.0, 58.0, 250.0800018310547, 160.52000427246094, 69.8499984741211, 14.130000114440918, 7.349999904632568, 150.00999450683594, 3.4600000381469727, 75.63999938964844, 151.82000732421875, 39.880001068115234, 153.58999633789062, 29.139999389648438, 49.61000061035156, 35.70000076293945, 15.529999732971191, 40.34000015258789, 70.43000030517578, 61.02000045776367, 134.72000122070312, 35.220001220703125, 63.79999923706055, 37.79999923706055, 164.1999969482422, 36.31999969482422, 204.8000030517578, 38.529998779296875, 140.0, 50.4900016784668, 28.969999313354492, 18.469999313354492, 2.0799999237060547, 28.469999313354492, 38.54999923706055, 13.119999885559082, 27.299999237060547, 149.27999877929688, 56.25, 46.02000045776367, 39.2400016784668, 33.15999984741211, 10.720000267028809, 31.399999618530273, 44.970001220703125, 27.549999237060547, 60.7400016784668, 151.5800018310547, 121.12000274658203, 97.5999984741211, 151.3000030517578, 76.88999938964844, 121.5999984741211, 127.02999877929688, 35.43000030517578, 85.93000030517578, 36.290000915527344, 28.219999313354492, 4.03000020980835, 110.12999725341797, 13.609999656677246, 2.3399999141693115, 74.33000183105469, 100.55999755859375, 9.640000343322754, 3.1500000953674316, 123.16999816894531, 69.0, 69.0, 72.83999633789062, 26.329999923706055, 37.970001220703125, 40.939998626708984, 74.30999755859375, 29.920000076293945, 50.939998626708984, 84.91000366210938, 69.5999984741211, 138.35000610351562, 150.72000122070312, 16.260000228881836, 118.41000366210938, 3.390000104904175, 38.630001068115234, 134.6699981689453, 156.9600067138672, 87.0, 11.069999694824219, 87.0, 53.869998931884766, 26.31999969482422, 57.81999969482422, 29.459999084472656, 157.0399932861328, 13.279999732971191, 158.44000244140625, 115.2300033569336, 48.400001525878906, 129.25, 42.790000915527344, 6.0, 187.38999938964844, 192.08999633789062, 71.83999633789062, 100.44999694824219, 135.1300048828125, 40.7599983215332, 69.44000244140625, 53.83000183105469, 44.54999923706055, 25.420000076293945, 33.060001373291016, 167.41000366210938, 5.639999866485596, 10.920000076293945, 49.13999938964844, 5.940000057220459, 132.3800048828125, 17.18000030517578, 93.29000091552734, 35.5, 37.439998626708984, 115.66999816894531, 45.29999923706055, 141.9499969482422, 211.91000366210938, 96.1500015258789, 53.08000183105469, 1.5199999809265137, 103.88999938964844, 140.17999267578125, 39.31999969482422, 10.989999771118164, 106.63999938964844, 101.0, 139.75, 141.58999633789062, 39.5, 123.12999725341797, 140.0, 38.43000030517578, 43.369998931884766, 143.77999877929688, 35.27000045776367, 40.970001220703125, 39.91999816894531, 124.22000122070312, 153.67999267578125, 66.37999725341797, 52.61000061035156, 42.029998779296875, 16.690000534057617, 44.810001373291016, 38.2400016784668, 176.02999877929688, 152.11000061035156, 34.400001525878906, 27.610000610351562, 63.06999969482422, 37.15999984741211, 70.37999725341797, 33.529998779296875, 97.0, 97.0, 70.11000061035156, 39.959999084472656, 97.0, 97.0, 59.31999969482422, 148.89999389648438, 132.1199951171875, 38.650001525878906, 29.25, 36.540000915527344, 80.0, 80.0, 42.36000061035156, 146.3000030517578, 41.33000183105469, 36.93000030517578, 171.63999938964844, 119.0199966430664, 43.060001373291016, 130.9199981689453, 30.350000381469727, 35.41999816894531, 42.95000076293945, 33.119998931884766, 39.2400016784668, 1.2300000190734863, 73.04000091552734, 151.88999938964844, 145.66000366210938, 55.70000076293945, 53.0, 53.0, 45.540000915527344, 74.12000274658203, 95.0, 95.0, 55.880001068115234, 144.75999450683594, 33.4900016784668, 96.04000091552734, 44.869998931884766, 34.59000015258789, 60.599998474121094, 40.0, 5.289999961853027, 76.70999908447266, 81.48999786376953, 67.86000061035156, 373.0, 131.77000427246094, 44.650001525878906, 373.0, 6.25, 17.010000228881836, 51.38999938964844, 140.85000610351562, 140.5500030517578, 39.599998474121094, 45.72999954223633, 42.540000915527344, 26.040000915527344, 62.15999984741211, 88.19000244140625, 83.54000091552734, 37.27000045776367, 65.12000274658203, 58.91999816894531, 68.12999725341797, 117.30999755859375, 48.22999954223633, 35.66999816894531, 39.06999969482422, 30.68000030517578, 147.3000030517578, 10.239999771118164, 12.760000228881836, 36.13999938964844, 122.06999969482422, 3.890000104904175, 125.31999969482422, 35.16999816894531, 35.20000076293945, 35.630001068115234, 31.780000686645508, 33.060001373291016, 191.88999938964844, 115.20999908447266, 56.38999938964844, 64.33999633789062, 73.55000305175781, 77.77999877929688, 41.189998626708984, 37.470001220703125, 32.130001068115234, 31.40999984741211, 123.19000244140625, 33.7599983215332, 36.41999816894531, 69.0, 13.069999694824219, 37.52000045776367, 132.41000366210938, 13.800000190734863, 168.4499969482422, 31.219999313354492, 12.40999984741211, 47.75, 44.15999984741211, 5.539999961853027, 36.25, 45.18000030517578, 153.05999755859375, 39.150001525878906, 109.27999877929688, 34.040000915527344, 140.0, 39.029998779296875, 1.659999966621399, 69.93000030517578, 37.959999084472656, 40.68000030517578, 140.0, 17.809999465942383, 22.260000228881836, 86.41999816894531, 47.70000076293945, 45.18000030517578, 96.9000015258789, 44.900001525878906, 9.640000343322754, 148.0399932861328, 167.55999755859375, 156.0500030517578, 34.0, 10.619999885559082, 124.7300033569336, 44.279998779296875, 16.6299991607666, 59.369998931884766, 144.49000549316406, 41.31999969482422, 45.279998779296875, 4.119999885559082, 50.709999084472656, 6.050000190734863, 140.9499969482422, 141.66000366210938, 45.25, 128.6199951171875, 393.0, 393.0, 161.77999877929688, 111.81999969482422, 138.3300018310547, 113.75, 41.79999923706055, 134.1699981689453, 134.86000061035156, 129.58999633789062, 69.66000366210938, 22.8700008392334, 15.640000343322754, 51.75, 2.0, 3.2200000286102295, 134.02000427246094, 69.0999984741211, 103.58000183105469, 100.33999633789062, 63.380001068115234, 41.84000015258789, 13.449999809265137, 59.779998779296875, 55.189998626708984, 30.780000686645508, 29.989999771118164, 2.549999952316284, 75.11000061035156, 127.80000305175781, 7.21999979019165, 6.070000171661377, 5.119999885559082, 136.07000732421875, 36.33000183105469, 141.97000122070312, 36.369998931884766, 45.15999984741211, 1.559999942779541, 14.890000343322754, 121.27999877929688, 11.520000457763672, 35.45000076293945, 71.30999755859375, 33.900001525878906, 24.1200008392334, 133.13999938964844, 39.439998626708984, 125.11000061035156, 142.02000427246094, 4.289999961853027, 68.69999694824219, 94.41999816894531, 214.32000732421875, 51.72999954223633, 61.5099983215332, 81.30000305175781, 30.06999969482422, 9.109999656677246, 25.389999389648438, 137.3800048828125, 41.66999816894531, 42.040000915527344, 147.85000610351562, 87.97000122070312, 79.87999725341797, 91.0, 91.0, 42.970001220703125, 10.470000267028809, 54.25, 39.400001525878906, 30.649999618530273, 19.030000686645508, 38.4900016784668, 142.91000366210938, 32.59000015258789, 50.959999084472656, 75.0, 75.0, 6.989999771118164, 75.91000366210938, 60.040000915527344, 43.939998626708984, 13.789999961853027, 83.01000213623047, 7.0, 42.02000045776367, 38.7599983215332, 40.95000076293945, 156.85000610351562, 40.15999984741211, 28.100000381469727, 173.0399932861328, 138.13999938964844, 36.439998626708984, 81.75, 131.9199981689453, 161.6199951171875, 3.2699999809265137, 151.8300018310547, 115.9000015258789, 60.880001068115234, 38.59000015258789, 50.29999923706055, 45.709999084472656, 93.06999969482422, 105.36000061035156, 12.789999961853027, 40.880001068115234, 47.31999969482422, 30.860000610351562, 115.19000244140625, 30.440000534057617, 46.439998626708984, 111.5, 119.2300033569336, 92.3499984741211, 28.8799991607666, 1.8300000429153442, 71.41999816894531, 105.76000213623047, 22.299999237060547, 72.66999816894531, 32.90999984741211, 14.390000343322754, 140.0, 15.65999984741211, 60.560001373291016, 9.890000343322754, 134.47000122070312, 119.41999816894531, 34.099998474121094, 134.38999938964844, 32.459999084472656, 62.70000076293945, 59.189998626708984, 7.519999980926514, 16.6299991607666, 65.22000122070312, 143.3000030517578, 72.72000122070312, 122.80999755859375, 96.0, 96.0, 73.66000366210938, 103.55000305175781, 129.64999389648438, 69.0199966430664, 54.630001068115234, 76.0, 76.0, 33.34000015258789, 123.2699966430664, 36.38999938964844, 28.729999542236328, 35.599998474121094, 6.900000095367432, 87.91999816894531, 67.41000366210938, 7.619999885559082, 58.5, 29.190000534057617, 133.4499969482422, 16.530000686645508, 7.110000133514404, 16.540000915527344, 33.65999984741211, 115.01000213623047, 75.0, 75.0, 59.52000045776367, 35.9900016784668, 61.61000061035156, 127.5999984741211, 25.3799991607666, 25.350000381469727, 11.520000457763672, 9.5600004196167, 41.90999984741211, 49.68000030517578, 138.0800018310547, 25.68000030517578, 26.989999771118164, 106.44999694824219, 48.130001068115234, 179.8800048828125, 118.29000091552734, 40.61000061035156, 12.649999618530273, 13.15999984741211, 65.2699966430664, 110.38999938964844, 64.0, 64.0, 62.4900016784668, 37.470001220703125, 38.97999954223633, 47.400001525878906, 127.37999725341797, 45.86000061035156, 193.0, 83.11000061035156, 136.27000427246094, 68.31999969482422, 193.0, 155.91000366210938, 41.95000076293945, 30.450000762939453, 128.55999755859375, 84.05999755859375, 27.799999237060547, 34.56999969482422, 4.460000038146973, 144.0800018310547, 48.459999084472656, 27.15999984741211, 107.5199966430664, 154.44000244140625, 72.01000213623047, 30.469999313354492, 11.869999885559082, 49.15999984741211, 30.170000076293945, 37.84000015258789, 1.309999942779541, 36.5099983215332, 162.75, 125.16000366210938, 30.6200008392334, 50.59000015258789, 150.0, 997.969970703125, 59.06999969482422, 43.369998931884766, 31.290000915527344, 67.0, 60.66999816894531, 67.0, 130.38999938964844, 31.549999237060547, 127.08999633789062, 45.880001068115234, 10.59000015258789, 10.130000114440918, 81.8499984741211, 16.610000610351562, 23.540000915527344, 116.83000183105469, 49.63999938964844, 30.31999969482422, 6.880000114440918, 112.9000015258789, 27.280000686645508, 44.810001373291016, 55.720001220703125, 115.12999725341797, 189.33999633789062, 22.610000610351562, 229.2899932861328, 59.209999084472656, 158.64999389648438, 45.290000915527344, 100.0, 100.0, 70.41999816894531, 148.72000122070312, 10.4399995803833, 78.7300033569336, 131.22999572753906, 143.33999633789062, 42.689998626708984, 88.45999908447266, 118.20999908447266, 125.25, 10.479999542236328, 127.20999908447266, 164.6199951171875, 3.380000114440918, 30.479999542236328, 35.779998779296875, 3.680000066757202, 48.02000045776367, 9.4399995803833, 74.16000366210938, 137.32000732421875, 35.650001525878906, 324.989990234375, 75.77999877929688, 136.00999450683594, 35.91999816894531, 19.229999542236328, 76.94000244140625, 120.58999633789062, 137.4600067138672, 14.109999656677246, 49.68000030517578, 21.450000762939453, 159.50999450683594, 7.460000038146973, 49.5, 5.96999979019165, 72.9800033569336, 37.11000061035156, 32.45000076293945, 36.06999969482422, 117.66000366210938, 45.849998474121094, 14.770000457763672, 33.290000915527344, 37.560001373291016, 130.22000122070312, 41.93000030517578, 139.58999633789062, 130.5800018310547, 12.930000305175781, 120.4800033569336, 56.77000045776367, 100.0, 293.9200134277344, 4.550000190734863, 37.61000061035156, 50.70000076293945, 151.24000549316406, 24.219999313354492, 70.4800033569336, 101.70999908447266, 84.5999984741211, 47.20000076293945, 58.060001373291016, 120.36000061035156, 35.779998779296875, 137.05999755859375, 9.100000381469727, 1.840000033378601, 115.61000061035156, 28.1299991607666, 33.70000076293945, 8.149999618530273, 168.8300018310547, 94.0, 68.30999755859375, 94.0, 24.81999969482422, 48.029998779296875, 153.00999450683594, 128.25999450683594, 63.439998626708984, 92.56999969482422, 51.5, 34.220001220703125, 60.650001525878906, 28.799999237060547, 36.290000915527344, 52.220001220703125, 16.040000915527344, 123.0199966430664, 443.0, 252.0, 4.349999904632568, 126.41999816894531, 152.4600067138672, 107.9000015258789, 37.13999938964844, 13.979999542236328, 178.64999389648438, 127.06999969482422, 44.970001220703125, 252.0, 126.43000030517578, 443.0, 116.88999938964844, 88.31999969482422, 190.50999450683594, 10.479999542236328, 87.20999908447266, 7.929999828338623, 3.4600000381469727, 68.79000091552734, 167.8300018310547, 176.5, 36.220001220703125, 36.4900016784668, 43.33000183105469, 45.08000183105469, 41.88999938964844, 43.29999923706055, 137.9199981689453, 38.439998626708984, 150.05999755859375, 27.030000686645508, 164.58999633789062, 129.39999389648438, 26.979999542236328, 145.63999938964844, 10.34000015258789, 66.36000061035156, 11.550000190734863, 32.02000045776367, 45.560001373291016, 12.279999732971191, 5.840000152587891, 114.2699966430664, 94.68000030517578, 120.91000366210938, 123.94000244140625, 147.08999633789062, 124.2699966430664, 48.5, 59.029998779296875, 153.80999755859375, 62.65999984741211, 74.0, 74.0, 132.49000549316406, 71.58000183105469, 190.83999633789062, 84.01000213623047, 27.719999313354492, 131.41000366210938, 151.8699951171875, 29.229999542236328, 150.80999755859375, 38.189998626708984, 69.12000274658203, 83.0, 83.0, 36.560001373291016, 57.970001220703125, 36.4900016784668, 153.10000610351562, 373.0, 61.650001525878906, 373.0, 182.72000122070312, 14.460000038146973, 50.0, 50.0, 53.11000061035156, 7.710000038146973, 40.66999816894531, 23.739999771118164, 119.51000213623047, 108.52999877929688, 44.45000076293945, 85.33999633789062, 44.810001373291016, 9.819999694824219, 166.42999267578125, 4.050000190734863, 13.979999542236328, 111.02999877929688, 41.099998474121094, 110.95999908447266, 125.83999633789062, 44.54999923706055, 122.0999984741211, 130.74000549316406, 32.11000061035156, 70.0999984741211, 37.060001373291016, 121.66999816894531, 29.610000610351562, 42.459999084472656, 3.130000114440918, 117.06999969482422, 181.4600067138672, 158.1699981689453, 13.300000190734863, 35.310001373291016, 9.100000381469727, 122.33000183105469, 88.0, 62.77000045776367, 88.0, 137.9199981689453, 116.66000366210938, 43.88999938964844, 103.68000030517578, 42.65999984741211, 54.939998626708984, 44.31999969482422, 45.2599983215332, 151.55999755859375, 80.0, 80.0, 76.41999816894531, 71.0, 71.0, 37.369998931884766, 45.400001525878906, 127.43000030517578, 36.290000915527344, 6.550000190734863, 56.630001068115234, 37.04999923706055, 37.61000061035156, 81.69000244140625, 6.559999942779541, 39.95000076293945, 182.0, 3.259999990463257, 121.36000061035156, 182.0, 124.66000366210938, 82.70999908447266, 39.650001525878906, 171.94000244140625, 127.51000213623047, 52.25, 89.4800033569336, 73.0, 73.0, 43.70000076293945, 66.0, 66.0, 45.279998779296875, 8.579999923706055, 20.889999389648438, 76.72000122070312, 28.450000762939453, 72.83000183105469, 40.52000045776367, 58.439998626708984, 46.54999923706055, 39.2400016784668, 46.970001220703125, 36.0, 157.7100067138672, 48.689998626708984, 57.29999923706055, 79.44000244140625, 99.7300033569336, 37.189998626708984, 75.75, 10.25, 101.91000366210938, 10.779999732971191, 43.83000183105469, 52.5099983215332, 133.75, 36.470001220703125, 135.52000427246094, 65.19000244140625, 64.41999816894531, 119.66999816894531, 65.70999908447266, 36.709999084472656, 147.83999633789062, 31.600000381469727, 64.83000183105469, 37.040000915527344, 12.920000076293945, 126.58000183105469, 149.88999938964844, 49.279998779296875, 55.849998474121094, 92.0, 92.0, 245.0, 36.5099983215332, 245.0, 91.18000030517578, 153.27999877929688, 45.540000915527344, 31.299999237060547, 36.08000183105469, 95.79000091552734, 113.08000183105469, 35.869998931884766, 49.84000015258789, 153.8300018310547, 57.209999084472656, 124.23999786376953, 34.709999084472656, 48.54999923706055, 132.24000549316406, 124.06999969482422, 137.6300048828125, 21.610000610351562, 18.950000762939453, 45.5, 125.97000122070312, 22.6299991607666, 70.91999816894531, 42.029998779296875, 124.55999755859375, 26.479999542236328, 147.47000122070312, 38.9900016784668, 63.459999084472656, 130.66000366210938, 145.7100067138672, 48.7400016784668, 37.36000061035156, 1.4199999570846558, 120.0, 140.0, 38.86000061035156, 8.699999809265137, 275.0, 275.0, 135.77000427246094, 50.36000061035156, 152.3699951171875, 113.5, 46.130001068115234, 199.52999877929688, 41.779998779296875, 153.8800048828125, 29.549999237060547, 62.099998474121094, 97.0, 97.0, 53.58000183105469, 132.9199981689453, 27.739999771118164, 35.959999084472656, 10.149999618530273, 39.709999084472656, 142.25999450683594, 131.85000610351562, 3.3299999237060547, 73.0, 73.0, 62.47999954223633, 123.2699966430664, 54.59000015258789, 34.119998931884766, 39.560001373291016, 47.20000076293945, 40.06999969482422, 18.969999313354492, 135.94000244140625, 7.579999923706055, 36.04999923706055, 39.2400016784668, 1.7999999523162842, 109.30999755859375, 39.779998779296875, 43.72999954223633, 21.020000457763672, 42.619998931884766, 72.08000183105469, 84.0, 84.0, 62.11000061035156, 1.9900000095367432, 153.72999572753906, 133.5, 123.88999938964844, 59.380001068115234, 60.09000015258789, 94.0, 94.0, 44.43000030517578, 11.970000267028809, 99.06999969482422, 48.72999954223633, 125.55999755859375, 62.45000076293945, 37.209999084472656, 28.860000610351562, 12.109999656677246, 143.85000610351562, 47.61000061035156, 15.449999809265137, 435.0, 97.12999725341797, 69.58999633789062, 435.0, 88.95999908447266, 133.64999389648438, 126.25, 61.689998626708984, 5.010000228881836, 7.119999885559082, 68.04000091552734, 20.040000915527344, 107.0199966430664, 103.02999877929688, 37.560001373291016, 119.55000305175781, 22.399999618530273, 65.9800033569336, 13.6899995803833, 146.58999633789062, 50.59000015258789, 45.459999084472656, 33.88999938964844, 65.29000091552734, 209.11000061035156, 1.7300000190734863, 156.14999389648438, 38.0099983215332, 61.0, 61.0, 60.70000076293945, 136.83999633789062, 40.599998474121094, 68.8499984741211, 78.66000366210938, 89.4800033569336, 107.62000274658203, 78.11000061035156, 117.2699966430664, 101.02999877929688, 130.2100067138672, 3.049999952316284, 12.960000038146973, 114.79000091552734, 23.450000762939453, 1.6799999475479126, 74.5, 18.239999771118164, 31.639999389648438, 127.05000305175781, 63.709999084472656, 73.63999938964844, 120.08000183105469, 37.400001525878906, 145.47000122070312, 4.619999885559082, 14.369999885559082, 15.25, 63.900001525878906, 151.83999633789062, 141.08999633789062, 40.0, 123.5, 10.779999732971191, 166.88999938964844, 22.209999084472656, 9.100000381469727, 17.290000915527344, 76.70999908447266, 111.86000061035156, 130.80999755859375, 41.27000045776367, 123.54000091552734, 40.81999969482422, 13.670000076293945, 131.4499969482422, 140.2899932861328, 7.710000038146973, 63.290000915527344, 42.7599983215332, 40.880001068115234, 81.5999984741211, 46.7599983215332, 37.599998474121094, 17.709999084472656, 127.30999755859375, 47.18000030517578, 45.58000183105469, 70.98999786376953, 152.5800018310547, 8.90999984741211, 13.489999771118164, 16.719999313354492, 7.590000152587891, 119.54000091552734, 140.82000732421875, 10.399999618530273, 123.2699966430664, 68.27999877929688, 205.82000732421875, 60.5099983215332, 258.5899963378906, 55.16999816894531, 143.32000732421875, 125.2699966430664, 41.02000045776367, 42.09000015258789, 45.349998474121094, 36.099998474121094, 39.65999984741211, 119.5, 133.91000366210938, 107.05000305175781, 118.73999786376953, 33.97999954223633, 39.66999816894531, 35.7599983215332, 69.6500015258789, 6.71999979019165, 78.33999633789062, 130.41000366210938, 19.600000381469727, 160.0, 105.87000274658203, 155.66000366210938, 144.2100067138672, 73.69999694824219, 152.17999267578125, 7.179999828338623, 106.31999969482422, 38.91999816894531, 149.47000122070312, 135.08999633789062, 58.0, 65.0, 75.41999816894531, 75.41999816894531, 58.0, 65.0, 6.5, 87.70999908447266, 55.91999816894531, 157.6199951171875, 83.0, 83.0, 58.59000015258789, 94.2300033569336, 36.630001068115234, 79.26000213623047, 38.349998474121094, 112.93000030517578, 64.95999908447266, 67.25, 40.029998779296875, 170.0800018310547, 21.110000610351562, 91.05999755859375, 46.68000030517578, 146.3300018310547, 121.25, 135.74000549316406, 25.729999542236328, 68.9800033569336, 121.58000183105469, 39.130001068115234, 119.0999984741211, 41.58000183105469, 12.800000190734863, 52.61000061035156, 37.16999816894531, 42.61000061035156, 10.079999923706055, 8.75, 78.9800033569336, 141.41000366210938, 60.34000015258789, 120.22000122070312, 58.63999938964844, 150.5399932861328, 62.599998474121094, 165.13999938964844, 136.97999572753906, 154.67999267578125, 300.0, 154.1199951171875, 84.29000091552734, 187.6699981689453, 113.41999816894531, 300.0, 95.47000122070312, 30.90999984741211, 51.15999984741211, 54.81999969482422, 79.97000122070312, 73.0, 54.869998931884766, 73.0, 39.599998474121094, 5.289999961853027, 1.5099999904632568, 147.72999572753906, 29.729999542236328, 33.790000915527344, 143.9199981689453, 125.29000091552734, 10.170000076293945, 142.0399932861328, 50.119998931884766, 37.81999969482422, 116.30000305175781, 128.27000427246094, 47.95000076293945, 1.6699999570846558, 86.0, 62.209999084472656, 86.0, 115.58000183105469, 56.25, 72.87000274658203, 26.440000534057617, 70.23999786376953, 6.059999942779541, 131.27000427246094, 78.37999725341797, 57.22999954223633, 35.959999084472656, 8.350000381469727, 65.93000030517578, 153.75999450683594, 65.80000305175781, 79.30000305175781, 128.97999572753906, 71.55999755859375, 172.72999572753906, 37.72999954223633, 75.20999908447266, 68.37999725341797, 94.08000183105469, 21.780000686645508, 48.75, 65.93000030517578, 47.619998931884766, 1.5399999618530273, 81.16000366210938, 6.71999979019165, 68.9000015258789, 3.7899999618530273, 48.709999084472656, 45.060001373291016, 85.12000274658203, 43.86000061035156, 132.69000244140625, 212.2899932861328, 3.3499999046325684, 31.959999084472656, 35.41999816894531, 146.14999389648438, 162.2899932861328, 26.770000457763672, 136.22999572753906, 125.7300033569336, 134.22000122070312, 129.27999877929688, 63.58000183105469, 108.55999755859375, 7.75, 133.49000549316406, 52.650001525878906, 96.58000183105469, 41.560001373291016, 27.979999542236328, 127.95999908447266, 23.610000610351562, 62.59000015258789, 28.260000228881836, 55.63999938964844, 41.88999938964844, 58.58000183105469, 140.38999938964844, 60.380001068115234, 59.0, 59.0, 147.86000061035156, 71.58000183105469, 97.0, 97.0, 122.08000183105469, 10.210000038146973, 61.779998779296875, 86.91000366210938, 36.52000045776367, 205.4499969482422, 152.00999450683594, 129.72000122070312, 5.389999866485596, 116.22000122070312, 86.47000122070312, 70.02999877929688, 137.97000122070312, 73.55000305175781, 129.2899932861328, 13.149999618530273, 11.890000343322754, 30.469999313354492, 111.88999938964844, 54.34000015258789, 41.36000061035156, 32.04999923706055, 40.099998474121094, 45.790000915527344, 117.97000122070312, 151.5800018310547, 71.91999816894531, 37.7599983215332, 10.09000015258789, 36.31999969482422, 11.1899995803833, 143.63999938964844, 31.190000534057617, 32.16999816894531, 40.16999816894531, 39.72999954223633, 63.45000076293945, 67.01000213623047, 5.96999979019165, 7.809999942779541, 45.88999938964844, 27.860000610351562, 21.649999618530273, 8.90999984741211, 6.570000171661377, 8.25, 27.15999984741211, 55.02000045776367, 13.479999542236328, 92.05999755859375, 121.4800033569336, 7.699999809265137, 1.409999966621399, 11.739999771118164, 165.7899932861328, 146.4199981689453, 35.310001373291016, 72.80000305175781, 36.209999084472656, 11.510000228881836, 54.0, 58.06999969482422, 14.369999885559082, 80.0, 114.81999969482422, 144.58999633789062, 39.0, 121.16000366210938, 44.16999816894531, 149.6300048828125, 116.0, 64.77999877929688, 87.04000091552734, 53.0, 53.0, 62.86000061035156, 73.43000030517578, 127.6500015258789, 10.65999984741211, 126.44999694824219, 71.94999694824219, 54.119998931884766, 40.25, 52.16999816894531, 135.5800018310547, 27.690000534057617, 33.720001220703125, 122.06999969482422, 140.0, 73.37999725341797, 115.16000366210938, 54.290000915527344, 44.38999938964844, 120.63999938964844, 131.07000732421875, 141.72999572753906, 34.779998779296875, 131.1699981689453, 37.560001373291016, 125.25, 37.619998931884766, 67.58999633789062, 30.18000030517578, 146.75, 155.91000366210938, 141.2899932861328, 44.40999984741211, 13.0600004196167, 7.739999771118164, 142.97999572753906, 138.07000732421875, 148.42999267578125, 22.799999237060547, 134.47000122070312, 77.66999816894531, 41.11000061035156, 57.7599983215332, 206.3699951171875, 13.930000305175781, 6.960000038146973, 118.23999786376953, 13.869999885559082, 37.22999954223633, 216.0500030517578, 32.849998474121094, 106.37999725341797, 39.720001220703125, 122.47000122070312, 41.7599983215332, 90.44999694824219, 117.94000244140625, 73.2699966430664, 93.36000061035156, 95.0, 95.0, 78.1500015258789, 51.11000061035156, 58.41999816894531, 57.650001525878906, 46.720001220703125, 140.0, 159.2100067138672, 30.389999389648438, 144.24000549316406, 72.4000015258789, 36.93000030517578, 4.039999961853027, 136.5399932861328, 29.809999465942383, 69.22000122070312, 64.18000030517578, 42.709999084472656, 127.58000183105469, 40.040000915527344, 116.68000030517578, 6.929999828338623, 152.97999572753906, 11.430000305175781, 7.989999771118164, 6.150000095367432, 38.0, 118.1500015258789, 127.62000274658203, 2.240000009536743, 166.07000732421875, 74.56999969482422, 115.41000366210938, 23.09000015258789, 38.2400016784668, 133.44000244140625, 9.5, 101.27999877929688, 59.470001220703125, 32.86000061035156, 60.900001525878906, 142.11000061035156, 51.08000183105469, 6.110000133514404, 38.439998626708984, 5.730000019073486, 45.0099983215332, 11.550000190734863, 26.549999237060547, 117.91000366210938, 61.93000030517578, 122.5, 131.27000427246094, 10.229999542236328, 25.200000762939453, 86.22000122070312, 183.30999755859375, 95.38999938964844, 53.540000915527344, 35.459999084472656, 45.349998474121094, 25.989999771118164, 221.74000549316406, 150.11000061035156, 27.690000534057617, 53.63999938964844, 67.0, 67.0, 64.81999969482422, 136.83999633789062, 107.44999694824219, 72.63999938964844, 120.5, 30.34000015258789, 73.68000030517578, 54.45000076293945, 33.540000915527344, 11.960000038146973, 118.73999786376953, 89.13999938964844, 56.34000015258789, 7.320000171661377, 58.66999816894531, 35.130001068115234, 32.5099983215332, 138.3000030517578, 53.310001373291016, 47.40999984741211, 58.869998931884766, 10.529999732971191, 7.110000133514404, 155.97999572753906, 165.30999755859375, 156.58999633789062, 34.0099983215332, 162.66000366210938, 69.0, 69.0, 56.220001220703125, 6.769999980926514, 106.16999816894531, 114.73999786376953, 8.0, 40.4900016784668, 29.809999465942383, 33.2599983215332, 132.33999633789062, 45.95000076293945, 46.099998474121094, 46.52000045776367, 73.94000244140625, 69.88999938964844, 28.65999984741211, 115.4000015258789, 96.12999725341797, 74.5, 10.680000305175781, 112.88999938964844, 28.739999771118164, 34.9900016784668, 1.6699999570846558, 208.9600067138672, 136.5800018310547, 128.63999938964844, 75.41999816894531, 12.390000343322754, 168.5800018310547, 12.260000228881836, 50.2400016784668, 101.88999938964844, 151.3699951171875, 64.12999725341797, 97.37000274658203, 53.369998931884766, 125.95999908447266, 35.86000061035156, 39.880001068115234, 33.849998474121094, 38.20000076293945, 31.09000015258789, 35.47999954223633, 59.290000915527344, 160.16000366210938, 22.690000534057617, 63.400001525878906, 84.0, 84.0, 14.010000228881836, 6.03000020980835, 52.15999984741211, 11.59000015258789, 12.920000076293945, 32.130001068115234, 35.849998474121094, 10.979999542236328, 157.3800048828125, 122.75, 14.579999923706055, 39.65999984741211, 28.5, 60.810001373291016, 62.0, 75.8499984741211, 62.0, 71.05999755859375, 157.72999572753906, 38.33000183105469, 7.079999923706055, 12.140000343322754, 9.15999984741211, 58.81999969482422, 81.69999694824219, 40.619998931884766, 31.15999984741211, 45.869998931884766, 38.7400016784668, 72.11000061035156, 36.66999816894531, 147.19000244140625, 36.34000015258789, 69.76000213623047, 62.099998474121094, 114.8499984741211, 35.27000045776367, 2.6700000762939453, 116.68000030517578, 3.7799999713897705, 24.829999923706055, 112.68000030517578, 3.7300000190734863, 96.81999969482422, 67.56999969482422, 48.7400016784668, 145.02999877929688, 115.8499984741211, 51.40999984741211, 71.41000366210938, 120.0, 52.84000015258789, 118.13999938964844, 131.10000610351562, 3.3499999046325684, 21.6299991607666, 73.45999908447266, 182.88999938964844, 71.6500015258789, 115.56999969482422, 73.54000091552734, 54.20000076293945, 43.4900016784668, 6.519999980926514, 35.91999816894531, 33.380001068115234, 22.579999923706055, 135.8000030517578, 130.00999450683594, 1.6699999570846558, 133.8800048828125, 198.7100067138672, 32.68000030517578, 56.36000061035156, 69.0, 69.0, 10.4399995803833, 35.66999816894531, 24.860000610351562, 51.709999084472656, 46.400001525878906, 129.8300018310547, 37.779998779296875, 77.72000122070312, 31.139999389648438, 58.290000915527344, 64.0, 64.0, 102.0199966430664, 27.670000076293945, 38.52000045776367, 36.779998779296875, 81.97000122070312, 17.25, 39.59000015258789, 41.93000030517578, 43.5, 11.899999618530273, 15.15999984741211, 146.0, 42.29999923706055, 78.30000305175781, 85.18000030517578, 37.5099983215332, 146.0, 75.91999816894531, 15.34000015258789, 62.099998474121094, 38.869998931884766, 90.23999786376953, 69.91999816894531, 44.75, 63.310001373291016, 11.84000015258789, 96.79000091552734, 79.47000122070312, 47.040000915527344, 7.46999979019165, 140.0, 39.220001220703125, 39.61000061035156, 34.02000045776367, 75.0, 75.0, 62.68000030517578, 38.04999923706055, 9.930000305175781, 158.4600067138672, 109.18000030517578, 35.290000915527344, 134.72999572753906, 71.0999984741211, 137.8699951171875, 33.0099983215332, 6.809999942779541, 112.2300033569336, 35.869998931884766, 41.22999954223633, 51.2400016784668, 119.8499984741211, 13.75, 36.34000015258789, 10.0600004196167, 9.1899995803833, 123.1500015258789, 44.029998779296875, 157.47999572753906, 41.150001525878906, 130.0, 10.720000267028809, 93.0, 60.13999938964844, 93.0, 72.83999633789062, 39.040000915527344, 27.75, 137.52999877929688, 6.920000076293945, 14.479999542236328, 148.25, 72.88999938964844, 14.800000190734863, 41.7599983215332, 51.099998474121094, 82.58999633789062, 52.810001373291016, 22.670000076293945, 35.349998474121094, 44.130001068115234, 14.25, 8.010000228881836, 95.45999908447266, 23.329999923706055, 39.41999816894531, 128.49000549316406, 1.5800000429153442, 287.1300048828125, 2.4100000858306885, 50.810001373291016, 248.36000061035156, 473.0, 144.49000549316406, 44.56999969482422, 64.93000030517578, 124.58999633789062, 97.33999633789062, 17.860000610351562, 84.23999786376953, 162.11000061035156, 473.0, 27.8700008392334, 72.19999694824219, 8.180000305175781, 1.4600000381469727, 146.1999969482422, 29.3700008392334, 115.16000366210938, 20.719999313354492, 47.650001525878906, 67.77999877929688, 40.11000061035156, 79.5999984741211, 77.5199966430664, 3.4200000762939453, 43.59000015258789, 143.80999755859375, 51.400001525878906, 47.97999954223633, 68.3499984741211, 63.0, 63.0, 18.600000381469727, 113.69000244140625, 66.4800033569336, 40.02000045776367, 54.11000061035156, 89.4800033569336, 29.149999618530273, 120.0, 56.869998931884766, 1.440000057220459, 102.9000015258789, 41.61000061035156, 3.930000066757202, 112.79000091552734, 32.810001373291016, 12.569999694824219, 106.80999755859375, 119.16999816894531, 50.400001525878906, 60.630001068115234, 1.9900000095367432, 56.58000183105469, 101.18000030517578, 39.029998779296875, 3.119999885559082, 117.55999755859375, 79.36000061035156, 111.75, 159.13999938964844, 200.0, 116.05999755859375, 52.0, 52.0, 70.0999984741211, 82.94999694824219, 42.5, 36.79999923706055, 27.93000030517578, 132.63999938964844, 43.439998626708984, 32.58000183105469, 24.15999984741211, 39.560001373291016, 24.979999542236328, 39.18000030517578, 48.90999984741211, 77.0, 56.47999954223633, 77.0, 17.93000030517578, 13.399999618530273, 51.029998779296875, 140.6199951171875, 69.70999908447266, 80.41000366210938, 130.99000549316406, 28.84000015258789, 106.5, 48.75, 88.79000091552734, 126.11000061035156, 37.02000045776367, 43.52000045776367, 66.80000305175781, 134.2100067138672, 45.79999923706055, 141.0399932861328, 33.79999923706055, 11.5600004196167, 12.729999542236328, 158.9499969482422, 10.279999732971191, 10.289999961853027, 74.69000244140625, 62.0, 62.0, 4.519999980926514, 24.450000762939453, 47.83000183105469, 121.8499984741211, 19.809999465942383, 35.15999984741211, 74.44999694824219, 151.8000030517578, 15.359999656677246, 88.0, 88.0, 75.75, 78.86000061035156, 35.86000061035156, 64.91999816894531, 40.099998474121094, 11.039999961853027, 124.41999816894531, 130.86000061035156, 47.459999084472656, 64.5999984741211, 72.76000213623047, 145.66000366210938, 137.50999450683594, 37.18000030517578, 35.72999954223633, 62.97999954223633, 36.65999984741211, 14.930000305175781, 72.2699966430664, 83.79000091552734, 138.25, 37.849998474121094, 99.38999938964844, 147.85000610351562, 60.880001068115234, 75.76000213623047, 79.13999938964844, 67.55000305175781, 92.0, 92.0, 96.41999816894531, 44.709999084472656, 39.779998779296875, 95.5, 35.27000045776367, 134.1999969482422, 56.4900016784668, 13.010000228881836, 97.9800033569336, 143.8000030517578, 31.690000534057617, 144.0800018310547, 57.91999816894531, 35.43000030517578, 9.270000457763672, 15.239999771118164, 118.0199966430664, 23.34000015258789, 122.68000030517578, 109.61000061035156, 124.62000274658203, 14.020000457763672, 44.43000030517578, 116.75, 40.97999954223633, 8.880000114440918, 35.400001525878906, 55.459999084472656, 132.86000061035156, 119.27999877929688, 78.0, 9.529999732971191, 151.5500030517578, 152.0500030517578, 17.790000915527344, 53.9900016784668, 148.9600067138672, 12.829999923706055, 38.06999969482422, 62.099998474121094, 131.99000549316406, 30.420000076293945, 150.85000610351562, 123.83000183105469, 3.2300000190734863, 252.9199981689453, 121.97000122070312, 12.880000114440918, 14.029999732971191, 6.940000057220459, 123.56999969482422, 13.670000076293945, 66.0199966430664, 16.399999618530273, 12.050000190734863, 121.51000213623047, 145.10000610351562, 130.55999755859375, 31.459999084472656, 18.34000015258789, 63.11000061035156, 7.730000019073486, 12.40999984741211, 49.79999923706055, 147.3300018310547, 53.97999954223633, 49.83000183105469, 61.2400016784668, 31.780000686645508, 120.6500015258789, 121.77999877929688, 115.62999725341797, 45.939998626708984, 88.58000183105469, 123.0, 89.36000061035156, 122.37999725341797, 123.0, 38.58000183105469, 126.62999725341797, 68.47000122070312, 149.19000244140625, 11.270000457763672, 135.47999572753906, 140.0, 26.90999984741211, 36.20000076293945, 28.059999465942383, 46.06999969482422, 31.079999923706055, 11.479999542236328, 39.689998626708984, 40.279998779296875, 35.02000045776367, 131.1199951171875, 40.25, 70.19000244140625, 40.59000015258789, 71.12000274658203, 138.88999938964844, 71.5199966430664, 2.299999952316284, 126.12999725341797, 37.63999938964844, 119.51000213623047, 67.02999877929688, 7.929999828338623, 19.809999465942383, 44.0, 40.650001525878906, 84.86000061035156, 56.060001373291016, 71.23999786376953, 49.7599983215332, 133.3800048828125, 27.700000762939453, 43.41999816894531, 78.41999816894531, 25.309999465942383, 22.3799991607666, 35.380001068115234, 42.13999938964844, 5.03000020980835, 126.97000122070312, 149.36000061035156, 43.380001068115234, 72.08000183105469, 67.20999908447266, 74.0, 74.0, 10.829999923706055, 7.96999979019165, 44.13999938964844, 119.95999908447266, 40.060001373291016, 30.809999465942383, 38.150001525878906, 156.8000030517578, 70.0, 57.47999954223633, 70.0, 112.91999816894531, 43.83000183105469, 87.0, 87.0, 12.979999542236328, 114.44000244140625, 62.45000076293945, 29.40999984741211, 87.19000244140625, 37.439998626708984, 118.73999786376953, 12.010000228881836, 47.5099983215332, 160.6300048828125, 85.0, 37.810001373291016, 39.15999984741211, 155.8800048828125, 64.68000030517578, 14.760000228881836, 14.0600004196167, 27.229999542236328, 36.939998626708984, 149.6300048828125, 111.05999755859375, 154.72000122070312, 68.94000244140625, 32.560001373291016, 109.93000030517578, 35.2599983215332, 116.45999908447266, 34.400001525878906, 10.329999923706055, 165.47999572753906, 138.74000549316406, 7.510000228881836, 8.710000038146973, 1.5399999618530273, 47.720001220703125, 24.790000915527344, 15.029999732971191, 106.23999786376953, 114.88999938964844, 153.1999969482422, 69.0, 55.31999969482422, 69.0, 9.460000038146973, 26.149999618530273, 10.680000305175781, 11.449999809265137, 23.700000762939453, 44.77000045776367, 148.74000549316406, 88.27999877929688, 128.5, 63.779998779296875, 6.260000228881836, 74.97000122070312, 3.609999895095825, 7.920000076293945, 42.4900016784668, 49.16999816894531, 136.86000061035156, 46.22999954223633, 60.720001220703125, 132.25999450683594, 5.699999809265137, 4.670000076293945, 39.439998626708984, 36.9900016784668, 38.75, 13.170000076293945, 48.22999954223633, 115.36000061035156, 34.220001220703125, 73.5999984741211, 2.0, 132.1300048828125, 39.369998931884766, 116.58999633789062, 57.970001220703125, 63.650001525878906, 78.9000015258789, 39.15999984741211, 138.99000549316406, 157.3000030517578, 139.1999969482422, 40.2400016784668, 42.540000915527344, 97.0, 97.0, 3.7300000190734863, 100.0, 100.0, 45.79999923706055, 3.4600000381469727, 8.579999923706055, 44.380001068115234, 14.9399995803833, 120.0, 10.729999542236328, 13.880000114440918, 132.47000122070312, 36.529998779296875, 12.9399995803833, 139.58999633789062, 144.72999572753906, 5.610000133514404, 173.3699951171875, 11.619999885559082, 136.63999938964844, 152.1699981689453, 10.520000457763672, 129.47000122070312, 10.260000228881836, 50.22999954223633, 41.25, 41.810001373291016, 79.25, 130.67999267578125, 125.4000015258789, 10.8100004196167, 87.9800033569336, 120.4800033569336, 47.15999984741211, 112.91000366210938, 52.70000076293945, 32.88999938964844, 30.940000534057617, 37.380001068115234, 55.099998474121094, 80.0, 80.0, 10.989999771118164, 333.0, 14.9399995803833, 72.94999694824219, 193.91000366210938, 333.0, 34.900001525878906, 65.12999725341797, 65.94000244140625, 24.200000762939453, 44.18000030517578, 6.889999866485596, 52.189998626708984, 66.41000366210938, 130.9499969482422, 129.33999633789062, 8.539999961853027, 115.70999908447266, 107.5, 38.75, 1.590000033378601, 12.550000190734863, 33.45000076293945, 86.95999908447266, 161.11000061035156, 113.79000091552734, 206.88999938964844, 28.399999618530273, 72.55000305175781, 58.0, 58.0, 114.81999969482422, 6.0, 40.45000076293945, 126.25, 39.93000030517578, 140.0, 793.0999755859375, 157.80999755859375, 109.68000030517578, 34.29999923706055, 43.369998931884766, 8.760000228881836, 118.83999633789062, 53.720001220703125, 147.07000732421875, 41.5, 109.36000061035156, 39.45000076293945, 10.279999732971191, 135.9499969482422, 120.13999938964844, 44.08000183105469, 56.689998626708984, 128.72999572753906, 50.72999954223633, 11.619999885559082, 128.69000244140625, 116.37000274658203, 111.47000122070312, 35.83000183105469, 192.7899932861328, 43.349998474121094, 75.58000183105469, 54.0, 54.040000915527344, 54.0, 7.96999979019165, 19.56999969482422, 23.100000381469727, 35.900001525878906, 88.12000274658203, 13.34000015258789, 73.51000213623047, 36.13999938964844, 114.75, 42.900001525878906, 146.97000122070312, 115.37999725341797, 154.41000366210938, 117.61000061035156, 20.6299991607666, 35.470001220703125, 63.459999084472656, 145.0800018310547, 39.58000183105469, 71.05999755859375, 32.9900016784668, 27.149999618530273, 111.58000183105469, 1.4800000190734863, 104.4800033569336, 10.539999961853027, 60.0, 39.349998474121094, 116.2699966430664, 37.849998474121094, 2.7699999809265137, 104.61000061035156, 23.600000381469727, 128.63999938964844, 32.150001525878906, 62.0, 62.0, 57.220001220703125, 77.97000122070312, 39.06999969482422, 142.11000061035156, 30.690000534057617, 2.069999933242798, 10.020000457763672, 26.40999984741211, 108.93000030517578, 35.939998626708984, 64.69999694824219, 115.0199966430664, 135.22999572753906, 34.86000061035156, 66.44999694824219, 2.690000057220459, 108.6500015258789, 100.0, 58.400001525878906, 100.0, 75.8499984741211, 2.9000000953674316, 66.6500015258789, 121.04000091552734, 34.02000045776367, 41.02000045776367, 14.859999656677246, 10.399999618530273, 10.899999618530273, 65.63999938964844, 36.209999084472656, 125.87999725341797, 39.43000030517578, 4.349999904632568, 54.34000015258789, 44.029998779296875, 93.0, 93.0, 11.75, 296.8599853515625, 110.81999969482422, 11.729999542236328, 40.0, 37.310001373291016, 29.790000915527344, 20.950000762939453, 1.8899999856948853, 121.1500015258789, 115.80000305175781, 43.810001373291016, 45.09000015258789, 106.37000274658203, 38.88999938964844, 128.10000610351562, 25.3799991607666, 43.27000045776367, 6.46999979019165, 41.540000915527344, 123.36000061035156, 43.86000061035156, 119.1500015258789, 30.200000762939453, 139.19000244140625, 35.65999984741211, 44.689998626708984, 67.01000213623047, 140.85000610351562, 60.20000076293945, 2.059999942779541, 34.900001525878906, 20.719999313354492, 149.02000427246094, 37.790000915527344, 115.58000183105469, 9.90999984741211, 30.0, 162.99000549316406, 54.369998931884766, 2.2699999809265137, 63.349998474121094, 46.439998626708984, 138.11000061035156, 15.979999542236328, 65.16000366210938, 31.100000381469727, 33.459999084472656, 119.29000091552734, 64.6500015258789, 99.86000061035156, 117.33999633789062, 24.510000228881836, 37.31999969482422, 103.91999816894531, 74.68000030517578, 146.0500030517578, 100.0, 118.9800033569336, 94.19999694824219, 52.06999969482422, 44.33000183105469, 15.289999961853027, 39.68000030517578, 171.60000610351562, 45.9900016784668, 30.950000762939453, 1.4900000095367432, 183.0, 99.69999694824219, 83.0, 83.0, 49.77000045776367, 10.920000076293945, 69.19999694824219, 9.960000038146973, 46.41999816894531, 10.09000015258789, 1.6299999952316284, 14.949999809265137, 183.0, 151.67999267578125, 9.09000015258789, 85.0, 59.97999954223633, 85.0, 29.219999313354492, 140.94000244140625, 172.9199981689453, 11.600000381469727, 9.829999923706055, 41.369998931884766, 161.3000030517578, 27.709999084472656, 42.91999816894531, 75.25, 128.0, 28.270000457763672, 120.0, 12.850000381469727, 68.7699966430664, 49.22999954223633, 28.530000686645508, 115.77999877929688, 189.63999938964844, 27.280000686645508, 265.0, 10.180000305175781, 120.30000305175781, 68.43000030517578, 59.16999816894531, 16.06999969482422, 132.82000732421875, 120.80000305175781, 265.0, 141.0500030517578, 159.1300048828125, 37.959999084472656, 27.290000915527344, 37.45000076293945, 82.9800033569336, 159.64999389648438, 25.8700008392334, 70.5, 131.32000732421875, 11.289999961853027, 70.8499984741211, 161.1999969482422, 1.5399999618530273, 31.68000030517578, 65.16000366210938, 74.52999877929688, 155.0399932861328, 38.91999816894531, 12.9399995803833, 38.810001373291016, 50.11000061035156, 139.50999450683594, 40.15999984741211, 29.3700008392334, 122.98999786376953, 61.209999084472656, 78.2300033569336, 36.310001373291016, 48.369998931884766, 36.709999084472656, 61.88999938964844, 25.670000076293945, 35.79999923706055, 5.03000020980835, 38.81999969482422, 17.440000534057617, 106.66999816894531, 6.559999942779541, 34.9900016784668, 6.960000038146973, 126.62999725341797, 4.789999961853027, 43.59000015258789, 29.1299991607666, 130.47000122070312, 124.12000274658203, 7.380000114440918, 128.89999389648438, 40.9900016784668, 32.810001373291016, 32.869998931884766, 65.8499984741211, 120.0, 140.0, 103.97000122070312, 81.5999984741211, 129.49000549316406, 37.689998626708984, 47.529998779296875, 95.0, 95.0, 60.599998474121094, 74.55999755859375, 59.86000061035156, 123.97000122070312, 9.130000114440918, 48.959999084472656, 6.5, 100.70999908447266, 10.300000190734863, 27.489999771118164, 66.80999755859375, 145.16000366210938, 121.0999984741211, 10.75, 8.640000343322754, 33.45000076293945, 141.72000122070312, 64.05000305175781, 31.489999771118164, 23.100000381469727, 11.199999809265137, 38.22999954223633, 43.56999969482422, 11.680000305175781, 162.44000244140625, 45.65999984741211, 152.5399932861328, 68.12000274658203, 17.219999313354492, 106.25, 69.16999816894531, 138.2899932861328, 24.729999542236328, 123.08999633789062, 16.549999237060547, 70.22000122070312, 74.87000274658203, 24.270000457763672, 129.72000122070312, 36.86000061035156, 52.86000061035156, 93.0, 93.0, 46.77000045776367, 40.2400016784668, 53.790000915527344, 152.35000610351562, 3.809999942779541, 94.79000091552734, 472.1400146484375, 147.6300048828125, 100.0, 59.619998931884766, 23.170000076293945, 35.220001220703125, 34.08000183105469, 39.029998779296875, 64.76000213623047, 59.2400016784668, 40.970001220703125, 60.209999084472656, 124.36000061035156, 35.72999954223633, 124.95999908447266, 65.02999877929688, 129.05999755859375, 39.189998626708984, 38.650001525878906, 36.720001220703125, 28.110000610351562, 79.58000183105469, 65.3499984741211, 46.93000030517578, 28.549999237060547, 11.920000076293945, 134.8800048828125, 147.1199951171875, 54.20000076293945, 99.13999938964844, 132.99000549316406, 32.060001373291016, 75.30000305175781, 154.3300018310547, 33.59000015258789, 67.8499984741211, 141.0500030517578, 10.90999984741211, 1.149999976158142, 132.61000061035156, 124.37999725341797, 49.040000915527344, 44.61000061035156, 38.709999084472656, 10.170000076293945, 23.31999969482422, 74.44999694824219, 148.97000122070312, 149.49000549316406, 135.6300048828125, 137.64999389648438, 70.13999938964844, 32.15999984741211, 130.02999877929688, 37.310001373291016, 50.40999984741211, 80.0, 62.79999923706055, 44.70000076293945, 14.34000015258789, 62.43000030517578, 137.3000030517578, 37.2599983215332, 122.76000213623047, 2.0999999046325684, 121.19999694824219, 11.640000343322754, 46.869998931884766, 86.58999633789062, 44.08000183105469, 62.0, 49.31999969482422, 62.0, 31.399999618530273, 134.05999755859375, 34.709999084472656, 134.61000061035156, 57.25, 10.670000076293945, 46.470001220703125, 13.449999809265137, 135.5800018310547, 84.37999725341797, 70.12999725341797, 101.5, 61.65999984741211, 69.29000091552734, 109.0, 104.38999938964844, 88.87999725341797, 145.57000732421875, 123.16999816894531, 4.849999904632568, 121.30000305175781, 119.44999694824219, 34.189998626708984, 35.66999816894531, 39.40999984741211, 140.61000061035156, 44.97999954223633, 36.47999954223633, 116.30000305175781, 15.949999809265137, 146.10000610351562, 13.079999923706055, 73.41999816894531, 6.809999942779541, 65.9000015258789, 39.38999938964844, 14.15999984741211, 82.87999725341797, 1.75, 119.87000274658203, 172.80999755859375, 19.969999313354492, 63.900001525878906, 10.579999923706055], 'year': [2002, 2002, 2002, 2002, 2002, 2002, 2002, 2002, 2002, 2002, 2002, 2002, 2002, 2002, 2002, 2002, 2002, 2002, 2002, 2002, 2002, 2002, 2002, 2002, 2002, 2002, 2002, 2002, 2002, 2002, 2002, 2002, 2002, 2002, 2002, 2002, 2002, 2002, 2002, 2002, 2002, 2002, 2002, 2002, 2002, 2002, 2002, 2002, 2002, 2002, 2002, 2002, 2002, 2002, 2002, 2002, 2002, 2002, 2002, 2002, 2002, 2002, 2002, 2002, 2002, 2002, 2002, 2002, 2002, 2002, 2002, 2002, 2002, 2002, 2002, 2002, 2002, 2002, 2002, 2002, 2002, 2002, 2002, 2002, 2002, 2002, 2002, 2002, 2002, 2002, 2002, 2002, 2002, 2002, 2002, 2002, 2002, 2002, 2002, 2002, 2002, 2002, 2002, 2002, 2002, 2002, 2002, 2002, 2002, 2002, 2002, 2002, 2002, 2002, 2002, 2002, 2002, 2002, 2002, 2002, 2002, 2002, 2002, 2002, 2002, 2002, 2002, 2002, 2002, 2002, 2002, 2002, 2002, 2002, 2002, 2002, 2002, 2002, 2002, 2002, 2002, 2002, 2002, 2002, 2002, 2002, 2002, 2002, 2002, 2002, 2002, 2002, 2002, 2002, 2002, 2002, 2002, 2002, 2002, 2002, 2002, 2002, 2002, 2002, 2002, 2002, 2002, 2002, 2002, 2002, 2002, 2002, 2002, 2002, 2002, 2002, 2002, 2002, 2002, 2002, 2002, 2002, 2002, 2002, 2002, 2002, 2002, 2002, 2002, 2002, 2002, 2002, 2002, 2002, 2002, 2002, 2002, 2002, 2002, 2002, 2002, 2002, 2002, 2002, 2002, 2002, 2002, 2002, 2002, 2002, 2002, 2002, 2002, 2002, 2002, 2002, 2002, 2002, 2002, 2002, 2002, 2002, 2002, 2002, 2002, 2002, 2002, 2002, 2002, 2002, 2002, 2002, 2002, 2002, 2002, 2002, 2002, 2002, 2002, 2002, 2002, 2002, 2002, 2002, 2002, 2002, 2002, 2002, 2002, 2002, 2002, 2002, 2002, 2002, 2002, 2002, 2002, 2002, 2002, 2002, 2002, 2002, 2002, 2002, 2002, 2002, 2002, 2002, 2002, 2002, 2002, 2002, 2002, 2002, 2002, 2002, 2002, 2002, 2002, 2002, 2002, 2002, 2002, 2002, 2002, 2002, 2002, 2002, 2002, 2002, 2002, 2002, 2002, 2002, 2002, 2002, 2002, 2002, 2002, 2002, 2002, 2002, 2002, 2002, 2002, 2002, 2002, 2002, 2002, 2002, 2002, 2002, 2002, 2002, 2002, 2002, 2002, 2002, 2002, 2002, 2002, 2002, 2002, 2002, 2002, 2002, 2002, 2002, 2002, 2003, 2003, 2003, 2003, 2003, 2003, 2003, 2003, 2003, 2003, 2003, 2003, 2003, 2003, 2003, 2003, 2003, 2003, 2003, 2003, 2003, 2003, 2003, 2003, 2003, 2003, 2003, 2003, 2003, 2003, 2003, 2003, 2003, 2003, 2003, 2003, 2003, 2003, 2003, 2003, 2003, 2003, 2003, 2003, 2003, 2003, 2003, 2003, 2003, 2003, 2003, 2003, 2003, 2003, 2003, 2003, 2003, 2003, 2003, 2003, 2003, 2003, 2003, 2003, 2003, 2003, 2003, 2003, 2003, 2003, 2003, 2003, 2003, 2003, 2003, 2003, 2003, 2003, 2003, 2003, 2003, 2003, 2003, 2003, 2003, 2003, 2003, 2003, 2003, 2003, 2003, 2003, 2003, 2003, 2003, 2003, 2003, 2003, 2003, 2003, 2003, 2003, 2003, 2003, 2003, 2003, 2003, 2003, 2003, 2003, 2003, 2003, 2003, 2003, 2003, 2003, 2003, 2003, 2003, 2003, 2003, 2003, 2003, 2003, 2003, 2003, 2003, 2003, 2003, 2003, 2003, 2003, 2003, 2003, 2003, 2003, 2003, 2003, 2003, 2003, 2003, 2003, 2003, 2003, 2003, 2003, 2003, 2003, 2003, 2003, 2003, 2003, 2003, 2003, 2003, 2003, 2003, 2003, 2003, 2003, 2003, 2003, 2003, 2003, 2003, 2003, 2003, 2003, 2003, 2003, 2003, 2003, 2003, 2003, 2003, 2003, 2003, 2003, 2003, 2003, 2003, 2003, 2003, 2003, 2003, 2003, 2003, 2003, 2003, 2003, 2003, 2003, 2003, 2003, 2003, 2003, 2003, 2003, 2003, 2003, 2003, 2003, 2003, 2003, 2003, 2003, 2003, 2003, 2003, 2003, 2003, 2003, 2003, 2003, 2003, 2003, 2003, 2003, 2003, 2003, 2003, 2003, 2003, 2003, 2003, 2003, 2003, 2003, 2003, 2003, 2003, 2003, 2003, 2003, 2003, 2003, 2003, 2003, 2003, 2003, 2003, 2003, 2003, 2003, 2003, 2003, 2003, 2003, 2003, 2003, 2003, 2003, 2003, 2003, 2003, 2003, 2003, 2003, 2003, 2003, 2003, 2003, 2003, 2003, 2003, 2003, 2003, 2003, 2003, 2003, 2003, 2003, 2003, 2003, 2003, 2003, 2003, 2003, 2003, 2003, 2003, 2003, 2003, 2003, 2003, 2003, 2003, 2003, 2003, 2003, 2003, 2003, 2003, 2003, 2003, 2003, 2003, 2003, 2003, 2003, 2003, 2003, 2003, 2003, 2003, 2003, 2003, 2003, 2003, 2003, 2003, 2003, 2003, 2003, 2003, 2003, 2003, 2003, 2003, 2003, 2003, 2003, 2003, 2003, 2003, 2003, 2003, 2003, 2003, 2003, 2003, 2003, 2003, 2003, 2003, 2003, 2003, 2003, 2003, 2003, 2003, 2003, 2003, 2003, 2003, 2003, 2003, 2003, 2003, 2003, 2003, 2003, 2003, 2003, 2003, 2003, 2003, 2003, 2003, 2003, 2003, 2003, 2003, 2003, 2003, 2003, 2003, 2003, 2003, 2003, 2003, 2003, 2003, 2003, 2003, 2003, 2003, 2003, 2003, 2003, 2003, 2003, 2003, 2003, 2003, 2003, 2003, 2003, 2003, 2003, 2003, 2003, 2003, 2003, 2003, 2003, 2003, 2003, 2003, 2003, 2003, 2003, 2003, 2003, 2003, 2004, 2004, 2004, 2004, 2004, 2004, 2004, 2004, 2004, 2004, 2004, 2004, 2004, 2004, 2004, 2004, 2004, 2004, 2004, 2004, 2004, 2004, 2004, 2004, 2004, 2004, 2004, 2004, 2004, 2004, 2004, 2004, 2004, 2004, 2004, 2004, 2004, 2004, 2004, 2004, 2004, 2004, 2004, 2004, 2004, 2004, 2004, 2004, 2004, 2004, 2004, 2004, 2004, 2004, 2004, 2004, 2004, 2004, 2004, 2004, 2004, 2004, 2004, 2004, 2004, 2004, 2004, 2004, 2004, 2004, 2004, 2004, 2004, 2004, 2004, 2004, 2004, 2004, 2004, 2004, 2004, 2004, 2004, 2004, 2004, 2004, 2004, 2004, 2004, 2004, 2004, 2004, 2004, 2004, 2004, 2004, 2004, 2004, 2004, 2004, 2004, 2004, 2004, 2004, 2004, 2004, 2004, 2004, 2004, 2004, 2004, 2004, 2004, 2004, 2004, 2004, 2004, 2004, 2004, 2004, 2004, 2004, 2004, 2004, 2004, 2004, 2004, 2004, 2004, 2004, 2004, 2004, 2004, 2004, 2004, 2004, 2004, 2004, 2004, 2004, 2004, 2004, 2004, 2004, 2004, 2004, 2004, 2004, 2004, 2004, 2004, 2004, 2004, 2004, 2004, 2004, 2004, 2004, 2004, 2004, 2004, 2004, 2004, 2004, 2004, 2004, 2004, 2004, 2004, 2004, 2004, 2004, 2004, 2004, 2004, 2004, 2004, 2004, 2004, 2004, 2004, 2004, 2004, 2004, 2004, 2004, 2004, 2004, 2004, 2004, 2004, 2004, 2004, 2004, 2004, 2004, 2004, 2004, 2004, 2004, 2004, 2004, 2004, 2004, 2004, 2004, 2004, 2004, 2004, 2004, 2004, 2004, 2004, 2004, 2004, 2004, 2004, 2004, 2004, 2004, 2004, 2004, 2004, 2004, 2004, 2004, 2004, 2004, 2004, 2004, 2004, 2004, 2004, 2004, 2004, 2004, 2004, 2004, 2004, 2004, 2004, 2004, 2004, 2004, 2004, 2004, 2004, 2004, 2004, 2004, 2004, 2004, 2004, 2004, 2004, 2004, 2004, 2004, 2004, 2004, 2004, 2004, 2004, 2004, 2004, 2004, 2004, 2004, 2004, 2004, 2004, 2004, 2004, 2004, 2004, 2004, 2004, 2004, 2004, 2004, 2004, 2004, 2004, 2004, 2004, 2004, 2004, 2004, 2004, 2004, 2004, 2004, 2004, 2004, 2004, 2004, 2004, 2004, 2004, 2004, 2004, 2004, 2004, 2004, 2004, 2004, 2004, 2004, 2004, 2004, 2004, 2004, 2004, 2004, 2004, 2004, 2004, 2004, 2004, 2004, 2004, 2004, 2004, 2004, 2004, 2004, 2005, 2005, 2005, 2005, 2005, 2005, 2005, 2005, 2005, 2005, 2005, 2005, 2005, 2005, 2005, 2005, 2005, 2005, 2005, 2005, 2005, 2005, 2005, 2005, 2005, 2005, 2005, 2005, 2005, 2005, 2005, 2005, 2005, 2005, 2005, 2005, 2005, 2005, 2005, 2005, 2005, 2005, 2005, 2005, 2005, 2005, 2005, 2005, 2005, 2005, 2005, 2005, 2005, 2005, 2005, 2005, 2005, 2005, 2005, 2005, 2005, 2005, 2005, 2005, 2005, 2005, 2005, 2005, 2005, 2005, 2005, 2005, 2005, 2005, 2005, 2005, 2005, 2005, 2005, 2005, 2005, 2005, 2005, 2005, 2005, 2005, 2005, 2005, 2005, 2005, 2005, 2005, 2005, 2005, 2005, 2005, 2005, 2005, 2005, 2005, 2005, 2005, 2005, 2005, 2005, 2005, 2005, 2005, 2005, 2005, 2005, 2005, 2005, 2005, 2005, 2005, 2005, 2005, 2005, 2005, 2005, 2005, 2005, 2005, 2005, 2005, 2005, 2005, 2005, 2005, 2005, 2005, 2005, 2005, 2005, 2005, 2005, 2005, 2005, 2005, 2005, 2005, 2005, 2005, 2005, 2005, 2005, 2005, 2005, 2005, 2005, 2005, 2005, 2005, 2005, 2005, 2005, 2005, 2005, 2005, 2005, 2005, 2005, 2005, 2005, 2005, 2005, 2005, 2005, 2005, 2005, 2005, 2005, 2005, 2005, 2005, 2005, 2005, 2005, 2005, 2005, 2005, 2005, 2005, 2005, 2005, 2005, 2005, 2005, 2005, 2005, 2005, 2005, 2005, 2005, 2005, 2005, 2005, 2005, 2005, 2005, 2005, 2005, 2005, 2005, 2005, 2005, 2005, 2005, 2005, 2005, 2005, 2005, 2005, 2005, 2005, 2005, 2005, 2005, 2005, 2005, 2005, 2005, 2005, 2005, 2005, 2005, 2005, 2005, 2005, 2005, 2005, 2005, 2005, 2005, 2005, 2005, 2005, 2005, 2005, 2005, 2005, 2005, 2005, 2005, 2005, 2005, 2005, 2005, 2005, 2005, 2005, 2005, 2005, 2005, 2005, 2005, 2005, 2005, 2005, 2005, 2005, 2005, 2005, 2005, 2005, 2005, 2005, 2005, 2005, 2005, 2005, 2006, 2006, 2006, 2006, 2006, 2006, 2006, 2006, 2006, 2006, 2006, 2006, 2006, 2006, 2006, 2006, 2006, 2006, 2006, 2006, 2006, 2006, 2006, 2006, 2006, 2006, 2006, 2006, 2006, 2006, 2006, 2006, 2006, 2006, 2006, 2006, 2006, 2006, 2006, 2006, 2006, 2006, 2006, 2006, 2006, 2006, 2006, 2006, 2006, 2006, 2006, 2006, 2006, 2006, 2006, 2006, 2006, 2006, 2006, 2006, 2006, 2006, 2006, 2006, 2006, 2006, 2006, 2006, 2006, 2006, 2006, 2006, 2006, 2006, 2006, 2006, 2006, 2006, 2006, 2006, 2006, 2006, 2006, 2006, 2006, 2006, 2006, 2006, 2006, 2006, 2006, 2006, 2006, 2006, 2006, 2006, 2006, 2006, 2006, 2006, 2006, 2006, 2006, 2006, 2006, 2006, 2006, 2006, 2006, 2006, 2006, 2006, 2006, 2006, 2006, 2006, 2006, 2006, 2006, 2006, 2006, 2006, 2006, 2006, 2006, 2006, 2006, 2006, 2006, 2006, 2006, 2006, 2006, 2006, 2006, 2006, 2006, 2006, 2006, 2006, 2006, 2006, 2006, 2006, 2006, 2006, 2006, 2006, 2006, 2006, 2006, 2006, 2006, 2006, 2006, 2006, 2006, 2006, 2006, 2006, 2006, 2006, 2006, 2006, 2006, 2006, 2006, 2006, 2006, 2006, 2006, 2006, 2006, 2006, 2006, 2006, 2006, 2006, 2006, 2006, 2006, 2006, 2006, 2006, 2006, 2006, 2006, 2006, 2006, 2006, 2006, 2006, 2006, 2006, 2006, 2006, 2006, 2006, 2006, 2006, 2006, 2006, 2006, 2006, 2006, 2006, 2006, 2006, 2006, 2006, 2006, 2006, 2006, 2006, 2006, 2006, 2006, 2006, 2006, 2006, 2006, 2006, 2006, 2006, 2006, 2006, 2006, 2006, 2006, 2006, 2006, 2006, 2006, 2006, 2006, 2006, 2006, 2006, 2006, 2006, 2006, 2006, 2006, 2006, 2006, 2006, 2006, 2006, 2006, 2006, 2006, 2006, 2006, 2006, 2006, 2006, 2006, 2006, 2006, 2006, 2006, 2006, 2006, 2006, 2006, 2006, 2006, 2006, 2006, 2006, 2006, 2006, 2006, 2006, 2006, 2006, 2006, 2006, 2006, 2006, 2006, 2006, 2006, 2006, 2006, 2006, 2006, 2007, 2007, 2007, 2007, 2007, 2007, 2007, 2007, 2007, 2007, 2007, 2007, 2007, 2007, 2007, 2007, 2007, 2007, 2007, 2007, 2007, 2007, 2007, 2007, 2007, 2007, 2007, 2007, 2007, 2007, 2007, 2007, 2007, 2007, 2007, 2007, 2007, 2007, 2007, 2007, 2007, 2007, 2007, 2007, 2007, 2007, 2007, 2007, 2007, 2007, 2007, 2007, 2007, 2007, 2007, 2007, 2007, 2007, 2007, 2007, 2007, 2007, 2007, 2007, 2007, 2007, 2007, 2007, 2007, 2007, 2007, 2007, 2007, 2007, 2007, 2007, 2007, 2007, 2007, 2007, 2007, 2007, 2007, 2007, 2007, 2007, 2007, 2007, 2007, 2007, 2007, 2007, 2007, 2007, 2007, 2007, 2007, 2007, 2007, 2007, 2007, 2007, 2007, 2007, 2007, 2007, 2007, 2007, 2007, 2007, 2007, 2007, 2007, 2007, 2007, 2007, 2007, 2007, 2007, 2007, 2007, 2007, 2007, 2007, 2007, 2007, 2007, 2007, 2007, 2007, 2007, 2007, 2007, 2007, 2007, 2007, 2007, 2007, 2007, 2007, 2007, 2007, 2007, 2007, 2007, 2007, 2007, 2007, 2007, 2007, 2007, 2007, 2007, 2007, 2007, 2007, 2007, 2007, 2007, 2007, 2007, 2007, 2007, 2007, 2007, 2007, 2007, 2007, 2007, 2007, 2007, 2007, 2007, 2007, 2007, 2007, 2007, 2007, 2007, 2007, 2007, 2007, 2007, 2007, 2007, 2007, 2007, 2007, 2007, 2007, 2007, 2007, 2007, 2007, 2007, 2007, 2007, 2007, 2007, 2007, 2007, 2007, 2007, 2007, 2007, 2007, 2007, 2007, 2007, 2007, 2007, 2007, 2007, 2007, 2007, 2007, 2007, 2007, 2007, 2007, 2007, 2007, 2007, 2007, 2007, 2007, 2007, 2007, 2007, 2007, 2007, 2007, 2007, 2007, 2007, 2007, 2007, 2007, 2007, 2007, 2007, 2007, 2007, 2007, 2007, 2007, 2007, 2007, 2007, 2007, 2007, 2007, 2007, 2007, 2007, 2007, 2007, 2007, 2007, 2007, 2007, 2007, 2007, 2007, 2007, 2007, 2007, 2007, 2007, 2007, 2007, 2007, 2007, 2007, 2007, 2007, 2007, 2007, 2007, 2007, 2008, 2008, 2008, 2008, 2008, 2008, 2008, 2008, 2008, 2008, 2008, 2008, 2008, 2008, 2008, 2008, 2008, 2008, 2008, 2008, 2008, 2008, 2008, 2008, 2008, 2008, 2008, 2008, 2008, 2008, 2008, 2008, 2008, 2008, 2008, 2008, 2008, 2008, 2008, 2008, 2008, 2008, 2008, 2008, 2008, 2008, 2008, 2008, 2008, 2008, 2008, 2008, 2008, 2008, 2008, 2008, 2008, 2008, 2008, 2008, 2008, 2008, 2008, 2008, 2008, 2008, 2008, 2008, 2008, 2008, 2008, 2008, 2008, 2008, 2008, 2008, 2008, 2008, 2008, 2008, 2008, 2008, 2008, 2008, 2008, 2008, 2008, 2008, 2008, 2008, 2008, 2008, 2008, 2008, 2008, 2008, 2008, 2008, 2008, 2008, 2008, 2008, 2008, 2008, 2008, 2008, 2008, 2008, 2008, 2008, 2008, 2008, 2008, 2008, 2008, 2008, 2008, 2008, 2008, 2008, 2008, 2008, 2008, 2008, 2008, 2008, 2008, 2008, 2008, 2008, 2008, 2008, 2008, 2008, 2008, 2008, 2008, 2008, 2008, 2008, 2008, 2008, 2008, 2008, 2008, 2008, 2008, 2008, 2008, 2008, 2008, 2008, 2008, 2008, 2008, 2008, 2008, 2008, 2008, 2008, 2008, 2008, 2008, 2008, 2008, 2008, 2008, 2008, 2008, 2008, 2008, 2008, 2008, 2008, 2008, 2008, 2008, 2008, 2008, 2008, 2008, 2008, 2008, 2008, 2008, 2008, 2008, 2008, 2008, 2008, 2008, 2008, 2008, 2008, 2008, 2008, 2008, 2008, 2008, 2008, 2008, 2008, 2008, 2008, 2008, 2008, 2008, 2008, 2008, 2008, 2008, 2008, 2008, 2008, 2008, 2008, 2008, 2008, 2008, 2008, 2008, 2008, 2008, 2008, 2008, 2008, 2008, 2008, 2008, 2008, 2008, 2008, 2008, 2008, 2008, 2008, 2008, 2008, 2008, 2008, 2008, 2008, 2008, 2008, 2008, 2008, 2008, 2008, 2008, 2008, 2008, 2008, 2008, 2008, 2008, 2008, 2008, 2008, 2008, 2008, 2008, 2008, 2008, 2008, 2008, 2008, 2008, 2008, 2008, 2008, 2008, 2008, 2008, 2008, 2008, 2008, 2008, 2008, 2008, 2008, 2008, 2008, 2008, 2008, 2008, 2008, 2008, 2008, 2008, 2009, 2009, 2009, 2009, 2009, 2009, 2009, 2009, 2009, 2009, 2009, 2009, 2009, 2009, 2009, 2009, 2009, 2009, 2009, 2009, 2009, 2009, 2009, 2009, 2009, 2009, 2009, 2009, 2009, 2009, 2009, 2009, 2009, 2009, 2009, 2009, 2009, 2009, 2009, 2009, 2009, 2009, 2009, 2009, 2009, 2009, 2009, 2009, 2009, 2009, 2009, 2009, 2009, 2009, 2009, 2009, 2009, 2009, 2009, 2009, 2009, 2009, 2009, 2009, 2009, 2009, 2009, 2009, 2009, 2009, 2009, 2009, 2009, 2009, 2009, 2009, 2009, 2009, 2009, 2009, 2009, 2009, 2009, 2009, 2009, 2009, 2009, 2009, 2009, 2009, 2009, 2009, 2009, 2009, 2009, 2009, 2009, 2009, 2009, 2009, 2009, 2009, 2009, 2009, 2009, 2009, 2009, 2009, 2009, 2009, 2009, 2009, 2009, 2009, 2009, 2009, 2009, 2009, 2009, 2009, 2009, 2009, 2009, 2009, 2009, 2009, 2009, 2009, 2009, 2009, 2009, 2009, 2009, 2009, 2009, 2009, 2009, 2009, 2009, 2009, 2009, 2009, 2009, 2009, 2009, 2009, 2009, 2009, 2009, 2009, 2009, 2009, 2009, 2009, 2009, 2009, 2009, 2009, 2009, 2009, 2009, 2009, 2009, 2009, 2009, 2009, 2009, 2009, 2009, 2009, 2009, 2009, 2009, 2009, 2009, 2009, 2009, 2009, 2009, 2009, 2009, 2009, 2009, 2009, 2009, 2009, 2009, 2009, 2009, 2009, 2009, 2009, 2009, 2009, 2009, 2009, 2009, 2009, 2009, 2009, 2009, 2009, 2009, 2009, 2009, 2009, 2009, 2009, 2009, 2009, 2009, 2009, 2009, 2009, 2009, 2009, 2009, 2009, 2009, 2009, 2009, 2009, 2009, 2009, 2009, 2009, 2009, 2009, 2009, 2009, 2009, 2009, 2009, 2009, 2009, 2009, 2009, 2009, 2009, 2009, 2009, 2009, 2009, 2009, 2009, 2009, 2009, 2009, 2009, 2009, 2009, 2009, 2009, 2009, 2009, 2009, 2009, 2009, 2009, 2009, 2009, 2009, 2009, 2009, 2009, 2009, 2009, 2009, 2009, 2009, 2009, 2009, 2009, 2009, 2009, 2009, 2009, 2009, 2010, 2010, 2010, 2010, 2010, 2010, 2010, 2010, 2010, 2010, 2010, 2010, 2010, 2010, 2010, 2010, 2010, 2010, 2010, 2010, 2010, 2010, 2010, 2010, 2010, 2010, 2010, 2010, 2010, 2010, 2010, 2010, 2010, 2010, 2010, 2010, 2010, 2010, 2010, 2010, 2010, 2010, 2010, 2010, 2010, 2010, 2010, 2010, 2010, 2010, 2010, 2010, 2010, 2010, 2010, 2010, 2010, 2010, 2010, 2010, 2010, 2010, 2010, 2010, 2010, 2010, 2010, 2010, 2010, 2010, 2010, 2010, 2010, 2010, 2010, 2010, 2010, 2010, 2010, 2010, 2010, 2010, 2010, 2010, 2010, 2010, 2010, 2010, 2010, 2010, 2010, 2010, 2010, 2010, 2010, 2010, 2010, 2010, 2010, 2010, 2010, 2010, 2010, 2010, 2010, 2010, 2010, 2010, 2010, 2010, 2010, 2010, 2010, 2010, 2010, 2010, 2010, 2010, 2010, 2010, 2010, 2010, 2010, 2010, 2010, 2010, 2010, 2010, 2010, 2010, 2010, 2010, 2010, 2010, 2010, 2010, 2010, 2010, 2010, 2010, 2010, 2010, 2010, 2010, 2010, 2010, 2010, 2010, 2010, 2010, 2010, 2010, 2010, 2010, 2010, 2010, 2010, 2010, 2010, 2010, 2010, 2010, 2010, 2010, 2010, 2010, 2010, 2010, 2010, 2010, 2010, 2010, 2010, 2010, 2010, 2010, 2010, 2010, 2010, 2010, 2010, 2010, 2010, 2010, 2010, 2010, 2010, 2010, 2010, 2010, 2010, 2010, 2010, 2010, 2010, 2010, 2010, 2010, 2010, 2010, 2010, 2010, 2010, 2010, 2010, 2010, 2010, 2010, 2010, 2010, 2010, 2010, 2010, 2010, 2010, 2010, 2010, 2010, 2010, 2010, 2010, 2010, 2010, 2010, 2010, 2010, 2010, 2010, 2010, 2010, 2010, 2010, 2010, 2010, 2010, 2010, 2010, 2010, 2010, 2010, 2010, 2010, 2010, 2010, 2010, 2010, 2010, 2010, 2010, 2010, 2010, 2010, 2010, 2010, 2010, 2010, 2010, 2010, 2010, 2010, 2010, 2010, 2010, 2010, 2010, 2010, 2010, 2010, 2010, 2010, 2010, 2010, 2010, 2010, 2010, 2010, 2010, 2010, 2010, 2010, 2010, 2010, 2010, 2010, 2010, 2010, 2010, 2010, 2011, 2011, 2011, 2011, 2011, 2011, 2011, 2011, 2011, 2011, 2011, 2011, 2011, 2011, 2011, 2011, 2011, 2011, 2011, 2011, 2011, 2011, 2011, 2011, 2011, 2011, 2011, 2011, 2011, 2011, 2011, 2011, 2011, 2011, 2011, 2011, 2011, 2011, 2011, 2011, 2011, 2011, 2011, 2011, 2011, 2011, 2011, 2011, 2011, 2011, 2011, 2011, 2011, 2011, 2011, 2011, 2011, 2011, 2011, 2011, 2011, 2011, 2011, 2011, 2011, 2011, 2011, 2011, 2011, 2011, 2011, 2011, 2011, 2011, 2011, 2011, 2011, 2011, 2011, 2011, 2011, 2011, 2011, 2011, 2011, 2011, 2011, 2011, 2011, 2011, 2011, 2011, 2011, 2011, 2011, 2011, 2011, 2011, 2011, 2011, 2011, 2011, 2011, 2011, 2011, 2011, 2011, 2011, 2011, 2011, 2011, 2011, 2011, 2011, 2011, 2011, 2011, 2011, 2011, 2011, 2011, 2011, 2011, 2011, 2011, 2011, 2011, 2011, 2011, 2011, 2011, 2011, 2011, 2011, 2011, 2011, 2011, 2011, 2011, 2011, 2011, 2011, 2011, 2011, 2011, 2011, 2011, 2011, 2011, 2011, 2011, 2011, 2011, 2011, 2011, 2011, 2011, 2011, 2011, 2011, 2011, 2011, 2011, 2011, 2011, 2011, 2011, 2011, 2011, 2011, 2011, 2011, 2011, 2011, 2011, 2011, 2011, 2011, 2011, 2011, 2011, 2011, 2011, 2011, 2011, 2011, 2011, 2011, 2011, 2011, 2011, 2011, 2011, 2011, 2011, 2011, 2011, 2011, 2011, 2011, 2011, 2011, 2011, 2011, 2011, 2011, 2011, 2011, 2011, 2011, 2011, 2011, 2011, 2011, 2011, 2011, 2011, 2011, 2011, 2011, 2011, 2011, 2011, 2011, 2011, 2011, 2011, 2011, 2011, 2011, 2011, 2011, 2011, 2011, 2011, 2011, 2011, 2011, 2011, 2011, 2011, 2011, 2011, 2011, 2011, 2011, 2011, 2011, 2011, 2011, 2011, 2011, 2011, 2011, 2011, 2011, 2011, 2011, 2011, 2011, 2011, 2011, 2011, 2011, 2011, 2011, 2011, 2011, 2011, 2011, 2011, 2011, 2011, 2011, 2011, 2011, 2011, 2011, 2011, 2011, 2011, 2011, 2011, 2011, 2011, 2011, 2011, 2011, 2011, 2011, 2011, 2011, 2011, 2011, 2011, 2011, 2011, 2011, 2011, 2011, 2011, 2011, 2011, 2011, 2011, 2011, 2011, 2011, 2011, 2011, 2011, 2012, 2012, 2012, 2012, 2012, 2012, 2012, 2012, 2012, 2012, 2012, 2012, 2012, 2012, 2012, 2012, 2012, 2012, 2012, 2012, 2012, 2012, 2012, 2012, 2012, 2012, 2012, 2012, 2012, 2012, 2012, 2012, 2012, 2012, 2012, 2012, 2012, 2012, 2012, 2012, 2012, 2012, 2012, 2012, 2012, 2012, 2012, 2012, 2012, 2012, 2012, 2012, 2012, 2012, 2012, 2012, 2012, 2012, 2012, 2012, 2012, 2012, 2012, 2012, 2012, 2012, 2012, 2012, 2012, 2012, 2012, 2012, 2012, 2012, 2012, 2012, 2012, 2012, 2012, 2012, 2012, 2012, 2012, 2012, 2012, 2012, 2012, 2012, 2012, 2012, 2012, 2012, 2012, 2012, 2012, 2012, 2012, 2012, 2012, 2012, 2012, 2012, 2012, 2012, 2012, 2012, 2012, 2012, 2012, 2012, 2012, 2012, 2012, 2012, 2012, 2012, 2012, 2012, 2012, 2012, 2012, 2012, 2012, 2012, 2012, 2012, 2012, 2012, 2012, 2012, 2012, 2012, 2012, 2012, 2012, 2012, 2012, 2012, 2012, 2012, 2012, 2012, 2012, 2012, 2012, 2012, 2012, 2012, 2012, 2012, 2012, 2012, 2012, 2012, 2012, 2012, 2012, 2012, 2012, 2012, 2012, 2012, 2012, 2012, 2012, 2012, 2012, 2012, 2012, 2012, 2012, 2012, 2012, 2012, 2012, 2012, 2012, 2012, 2012, 2012, 2012, 2012, 2012, 2012, 2012, 2012, 2012, 2012, 2012, 2012, 2012, 2012, 2012, 2012, 2012, 2012, 2012, 2012, 2012, 2012, 2012, 2012, 2012, 2012, 2012, 2012, 2012, 2012, 2012, 2012, 2012, 2012, 2012, 2012, 2012, 2012, 2012, 2012, 2012, 2012, 2012, 2012, 2012, 2012, 2012, 2012, 2012, 2012, 2012, 2012, 2012, 2012, 2012, 2012, 2012, 2012, 2012, 2012, 2012, 2012, 2012, 2012, 2012, 2012, 2012, 2012, 2012, 2012, 2012, 2012, 2012, 2012, 2012, 2012, 2012, 2012, 2012, 2012, 2012, 2012, 2012, 2012, 2012, 2012, 2012, 2012, 2012, 2012, 2012, 2012, 2012, 2012, 2012, 2012, 2012, 2012, 2012, 2012, 2012, 2012, 2012, 2012, 2012, 2012, 2012, 2012, 2012, 2012, 2012, 2012, 2012, 2012, 2012, 2012, 2012, 2012, 2012, 2012, 2012, 2012, 2012, 2012, 2012, 2012, 2012, 2012, 2012, 2012, 2012, 2012, 2012, 2012, 2012, 2012, 2012, 2012, 2012, 2012, 2012, 2012, 2012, 2012, 2012, 2012, 2012, 2012, 2012, 2012, 2012, 2013, 2013, 2013, 2013, 2013, 2013, 2013, 2013, 2013, 2013, 2013, 2013, 2013, 2013, 2013, 2013, 2013, 2013, 2013, 2013, 2013, 2013, 2013, 2013, 2013, 2013, 2013, 2013, 2013, 2013, 2013, 2013, 2013, 2013, 2013, 2013, 2013, 2013, 2013, 2013, 2013, 2013, 2013, 2013, 2013, 2013, 2013, 2013, 2013, 2013, 2013, 2013, 2013, 2013, 2013, 2013, 2013, 2013, 2013, 2013, 2013, 2013, 2013, 2013, 2013, 2013, 2013, 2013, 2013, 2013, 2013, 2013, 2013, 2013, 2013, 2013, 2013, 2013, 2013, 2013, 2013, 2013, 2013, 2013, 2013, 2013, 2013, 2013, 2013, 2013, 2013, 2013, 2013, 2013, 2013, 2013, 2013, 2013, 2013, 2013, 2013, 2013, 2013, 2013, 2013, 2013, 2013, 2013, 2013, 2013, 2013, 2013, 2013, 2013, 2013, 2013, 2013, 2013, 2013, 2013, 2013, 2013, 2013, 2013, 2013, 2013, 2013, 2013, 2013, 2013, 2013, 2013, 2013, 2013, 2013, 2013, 2013, 2013, 2013, 2013, 2013, 2013, 2013, 2013, 2013, 2013, 2013, 2013, 2013, 2013, 2013, 2013, 2013, 2013, 2013, 2013, 2013, 2013, 2013, 2013, 2013, 2013, 2013, 2013, 2013, 2013, 2013, 2013, 2013, 2013, 2013, 2013, 2013, 2013, 2013, 2013, 2013, 2013, 2013, 2013, 2013, 2013, 2013, 2013, 2013, 2013, 2013, 2013, 2013, 2013, 2013, 2013, 2013, 2013, 2013, 2013, 2013, 2013, 2013, 2013, 2013, 2013, 2013, 2013, 2013, 2013, 2013, 2013, 2013, 2013, 2013, 2013, 2013, 2013, 2013, 2013, 2013, 2013, 2013, 2013, 2013, 2013, 2013, 2013, 2013, 2013, 2013, 2013, 2013, 2013, 2013, 2013, 2013, 2013, 2013, 2013, 2013, 2013, 2013, 2013, 2013, 2013, 2013, 2013, 2013, 2013, 2013, 2013, 2013, 2013, 2013, 2013, 2013, 2013, 2013, 2013, 2013, 2013, 2013, 2013, 2013, 2013, 2013, 2013, 2013, 2013, 2013, 2013, 2013, 2013, 2013, 2013, 2013, 2013, 2014, 2014, 2014, 2014, 2014, 2014, 2014, 2014, 2014, 2014, 2014, 2014, 2014, 2014, 2014, 2014, 2014, 2014, 2014, 2014, 2014, 2014, 2014, 2014, 2014, 2014, 2014, 2014, 2014, 2014, 2014, 2014, 2014, 2014, 2014, 2014, 2014, 2014, 2014, 2014, 2014, 2014, 2014, 2014, 2014, 2014, 2014, 2014, 2014, 2014, 2014, 2014, 2014, 2014, 2014, 2014, 2014, 2014, 2014, 2014, 2014, 2014, 2014, 2014, 2014, 2014, 2014, 2014, 2014, 2014, 2014, 2014, 2014, 2014, 2014, 2014, 2014, 2014, 2014, 2014, 2014, 2014, 2014, 2014, 2014, 2014, 2014, 2014, 2014, 2014, 2014, 2014, 2014, 2014, 2014, 2014, 2014, 2014, 2014, 2014, 2014, 2014, 2014, 2014, 2014, 2014, 2014, 2014, 2014, 2014, 2014, 2014, 2014, 2014, 2014, 2014, 2014, 2014, 2014, 2014, 2014, 2014, 2014, 2014, 2014, 2014, 2014, 2014, 2014, 2014, 2014, 2014, 2014, 2014, 2014, 2014, 2014, 2014, 2014, 2014, 2014, 2014, 2014, 2014, 2014, 2014, 2014, 2014, 2014, 2014, 2014, 2014, 2014, 2014, 2014, 2014, 2014, 2014, 2014, 2014, 2014, 2014, 2014, 2014, 2014, 2014, 2014, 2014, 2014, 2014, 2014, 2014, 2014, 2014, 2014, 2014, 2014, 2014, 2014, 2014, 2014, 2014, 2014, 2014, 2014, 2014, 2014, 2014, 2014, 2014, 2014, 2014, 2014, 2014, 2014, 2014, 2014, 2014, 2014, 2014, 2014, 2014, 2014, 2014, 2014, 2014, 2014, 2014, 2014, 2014, 2014, 2014, 2014, 2014, 2014, 2014, 2014, 2014, 2014, 2014, 2014, 2014, 2014, 2014, 2014, 2014, 2014, 2015, 2015, 2015, 2015, 2015, 2015, 2015, 2015, 2015, 2015, 2015, 2015, 2015, 2015, 2015, 2015, 2015, 2015, 2015, 2015, 2015, 2015, 2015, 2015, 2015, 2015, 2015, 2015, 2015, 2015, 2015, 2015, 2015, 2015, 2015, 2015, 2015, 2015, 2015, 2015, 2015, 2015, 2015, 2015, 2015, 2015, 2015, 2015, 2015, 2015, 2015, 2015, 2015, 2015, 2015, 2015, 2015, 2015, 2015, 2015, 2015, 2015, 2015, 2015, 2015, 2015, 2015, 2015, 2015, 2015, 2015, 2015, 2015, 2015, 2015, 2015, 2015, 2015, 2015, 2015, 2015, 2015, 2015, 2015, 2015, 2015, 2015, 2015, 2015, 2015, 2015, 2015, 2015, 2015, 2015, 2015, 2015, 2015, 2015, 2015, 2015, 2015, 2015, 2015, 2015, 2015, 2015, 2015, 2015, 2015, 2015, 2015, 2015, 2015, 2015, 2015, 2015, 2015, 2015, 2015, 2015, 2015, 2015, 2015, 2015, 2015, 2015, 2015, 2015, 2015, 2015, 2015, 2015, 2015, 2015, 2015, 2015, 2015, 2015, 2015, 2015, 2015, 2015, 2015, 2015, 2015, 2015, 2015, 2015, 2015, 2015, 2015, 2015, 2015, 2015, 2015, 2015, 2015, 2015, 2015, 2015, 2015, 2015, 2015, 2015, 2015, 2015, 2015, 2015, 2015, 2015, 2015, 2015, 2015, 2015, 2015, 2015, 2015, 2015, 2015, 2015, 2015, 2015, 2015, 2015, 2015, 2015, 2015, 2015, 2015, 2015, 2015, 2015, 2015, 2015, 2015, 2015, 2015, 2015, 2015, 2015, 2015, 2015, 2015, 2015, 2015, 2015, 2015, 2015, 2015, 2015, 2015, 2015, 2015, 2015, 2015, 2015, 2015, 2015, 2015, 2015, 2015, 2015, 2015, 2015, 2015, 2015, 2015, 2015, 2015, 2015, 2015, 2015, 2015, 2015, 2015, 2015, 2015, 2015, 2015, 2015, 2016, 2016, 2016, 2016, 2016, 2016, 2016, 2016, 2016, 2016, 2016, 2016, 2016, 2016, 2016, 2016, 2016, 2016, 2016, 2016, 2016, 2016, 2016, 2016, 2016, 2016, 2016, 2016, 2016, 2016, 2016, 2016, 2016, 2016, 2016, 2016, 2016, 2016, 2016, 2016, 2016, 2016, 2016, 2016, 2016, 2016, 2016, 2016, 2016, 2016, 2016, 2016, 2016, 2016, 2016, 2016, 2016, 2016, 2016, 2016, 2016, 2016, 2016, 2016, 2016, 2016, 2016, 2016, 2016, 2016, 2016, 2016, 2016, 2016, 2016, 2016, 2016, 2016, 2016, 2016, 2016, 2016, 2016, 2016, 2016, 2016, 2016, 2016, 2016, 2016, 2016, 2016, 2016, 2016, 2016, 2016, 2016, 2016, 2016, 2016, 2016, 2016, 2016, 2016, 2016, 2016, 2016, 2016, 2016, 2016, 2016, 2016, 2016, 2016, 2016, 2016, 2016, 2016, 2016, 2016, 2016, 2016, 2016, 2016, 2016, 2016, 2016, 2016, 2016, 2016, 2016, 2016, 2016, 2016, 2016, 2016, 2016, 2016, 2016, 2016, 2016, 2016, 2016, 2016, 2016, 2016, 2016, 2016, 2016, 2016, 2016, 2016, 2016, 2016, 2016, 2016, 2016, 2016, 2016, 2016, 2016, 2016, 2016, 2016, 2016, 2016, 2016, 2016, 2016, 2016, 2016, 2016, 2016, 2016, 2016, 2016, 2016, 2016, 2016, 2016, 2016, 2016, 2016, 2016, 2016, 2016, 2016, 2016, 2016, 2016, 2016, 2016, 2016, 2016, 2016, 2016, 2016, 2016, 2016, 2016, 2016, 2016, 2017, 2017, 2017, 2017, 2017, 2017, 2017, 2017, 2017, 2017, 2017, 2017, 2017, 2017, 2017, 2017, 2017, 2017, 2017, 2017, 2017, 2017, 2017, 2017, 2017, 2017, 2017, 2017, 2017, 2017, 2017, 2017, 2017, 2017, 2017, 2017, 2017, 2017, 2017, 2017, 2017, 2017, 2017, 2017, 2017, 2017, 2017, 2017, 2017, 2017, 2017, 2017, 2017, 2017, 2017, 2017, 2017, 2017, 2017, 2017, 2017, 2017, 2017, 2017, 2017, 2017, 2017, 2017, 2017, 2017, 2017, 2017, 2017, 2017, 2017, 2017, 2017, 2017, 2017, 2017, 2017, 2017, 2017, 2017, 2017, 2017, 2017, 2017, 2017, 2017, 2017, 2017, 2017, 2017, 2017, 2017, 2017, 2017, 2017, 2017, 2017, 2017, 2017, 2017, 2017, 2017, 2017, 2017, 2017, 2017, 2017, 2017, 2017, 2017, 2017, 2017, 2017, 2017, 2017, 2017, 2017, 2017, 2017, 2017, 2017, 2017, 2017, 2017, 2017, 2017, 2017, 2017, 2017, 2017, 2017, 2017, 2017, 2017, 2017, 2017, 2017, 2017, 2017, 2017, 2017, 2017, 2017, 2017, 2017, 2017, 2017, 2017, 2017, 2017, 2017, 2017, 2017, 2017, 2017, 2017, 2017, 2017, 2017, 2017, 2017, 2017, 2017, 2017, 2017, 2017, 2017, 2017, 2017, 2017, 2017, 2017, 2017, 2017, 2017, 2017, 2017, 2017, 2017, 2017, 2017, 2017, 2017, 2017, 2017, 2017, 2017, 2017, 2017, 2017, 2017, 2017, 2017, 2017, 2017, 2017, 2017, 2017, 2018, 2018, 2018, 2018, 2018, 2018, 2018, 2018, 2018, 2018, 2018, 2018, 2018, 2018, 2018, 2018, 2018, 2018, 2018, 2018, 2018, 2018, 2018, 2018, 2018, 2018, 2018, 2018, 2018, 2018, 2018, 2018, 2018, 2018, 2018, 2018, 2018, 2018, 2018, 2018, 2018, 2018, 2018, 2018, 2018, 2018, 2018, 2018, 2018, 2018, 2018, 2018, 2018, 2018, 2018, 2018, 2018, 2018, 2018, 2018, 2018, 2018, 2018, 2018, 2018, 2018, 2018, 2018, 2018, 2018, 2018, 2018, 2018, 2018, 2018, 2018, 2018, 2018, 2018, 2018, 2018, 2018, 2018, 2018, 2018, 2018, 2018, 2018, 2018, 2018, 2018, 2018, 2018, 2018, 2018, 2018, 2018, 2018, 2018, 2018, 2018, 2018, 2018, 2018, 2018, 2018, 2018, 2018, 2018, 2018, 2018, 2018, 2018, 2018, 2018, 2018, 2018, 2018, 2018, 2018, 2018, 2018, 2018, 2018, 2018, 2018, 2018, 2018, 2018, 2018, 2018, 2018, 2018, 2018, 2018, 2018, 2018, 2018, 2018, 2018, 2018, 2018, 2018, 2018, 2018, 2018, 2018, 2018, 2018, 2018, 2018, 2018, 2018, 2018, 2018, 2018, 2018, 2018, 2018, 2018, 2018, 2018, 2018, 2018, 2018, 2018, 2018, 2018, 2018, 2018, 2018, 2018, 2018, 2018, 2018, 2018, 2018, 2018, 2018, 2018, 2018, 2018, 2018, 2018, 2018, 2018, 2018, 2018, 2018, 2018, 2018, 2018, 2018, 2018, 2018, 2018, 2018, 2018, 2018, 2018, 2018, 2018, 2018, 2018, 2018, 2018, 2018, 2018, 2018, 2018, 2018, 2018, 2018, 2018, 2018, 2018, 2018, 2018, 2018, 2018, 2018, 2018, 2018, 2018, 2018, 2018, 2018, 2018, 2018, 2018, 2018, 2018, 2018, 2018, 2018, 2018, 2019, 2019, 2019, 2019, 2019, 2019, 2019, 2019, 2019, 2019, 2019, 2019, 2019, 2019, 2019, 2019, 2019, 2019, 2019, 2019, 2019, 2019, 2019, 2019, 2019, 2019, 2019, 2019, 2019, 2019, 2019, 2019, 2019, 2019, 2019, 2019, 2019, 2019, 2019, 2019, 2019, 2019, 2019, 2019, 2019, 2019, 2019, 2019, 2019, 2019, 2019, 2019, 2019, 2019, 2019, 2019, 2019, 2019, 2019, 2019, 2019, 2019, 2019, 2019, 2019, 2019, 2019, 2019, 2019, 2019, 2019, 2019, 2019, 2019, 2019, 2019, 2019, 2019, 2019, 2019, 2019, 2019, 2019, 2019, 2019, 2019, 2019, 2019, 2019, 2019, 2019, 2019, 2019, 2019, 2019, 2019, 2019, 2019, 2019, 2019, 2019, 2019, 2019, 2019, 2019, 2019, 2019, 2019, 2019, 2019, 2019, 2019, 2019, 2019, 2019, 2019, 2019, 2019, 2019, 2019, 2019, 2019, 2019, 2019, 2019, 2019, 2019, 2019, 2019, 2019, 2019, 2019, 2019, 2019, 2019, 2019, 2019, 2019, 2019, 2019, 2019, 2019, 2019, 2019, 2019, 2019, 2019, 2019, 2019, 2019, 2019, 2019, 2019, 2019, 2019, 2019, 2019, 2019, 2019, 2019, 2019, 2019, 2019, 2019, 2019, 2019, 2019, 2019, 2019, 2019, 2019, 2019, 2019, 2019, 2019, 2019, 2019, 2019, 2019, 2019, 2019, 2019, 2019, 2019, 2019, 2019, 2019, 2019, 2019, 2019, 2019, 2019, 2019, 2019, 2019, 2019, 2019, 2019, 2019, 2019, 2019, 2019, 2019, 2019, 2019, 2019, 2019, 2020, 2020, 2020, 2020, 2020, 2020, 2020, 2020, 2020, 2020, 2020, 2020, 2020, 2020, 2020, 2020, 2020, 2020, 2020, 2020, 2020, 2020, 2020, 2020, 2020, 2020, 2020, 2020], 'month': [9, 9, 9, 9, 9, 9, 9, 9, 9, 9, 9, 9, 9, 9, 9, 9, 9, 9, 9, 9, 9, 9, 9, 9, 9, 9, 9, 9, 9, 9, 9, 9, 9, 9, 9, 9, 9, 9, 9, 9, 9, 9, 9, 9, 9, 9, 9, 9, 9, 9, 9, 9, 9, 9, 9, 9, 9, 9, 9, 9, 9, 9, 9, 9, 9, 9, 9, 9, 9, 9, 9, 9, 9, 9, 9, 9, 9, 9, 9, 9, 9, 9, 9, 9, 9, 9, 9, 9, 9, 10, 10, 10, 10, 10, 10, 10, 10, 10, 10, 10, 10, 10, 10, 10, 10, 10, 10, 10, 10, 10, 10, 10, 10, 10, 10, 10, 10, 10, 10, 10, 10, 10, 10, 10, 10, 10, 10, 10, 10, 10, 10, 10, 10, 10, 10, 10, 10, 10, 10, 10, 10, 10, 10, 10, 10, 10, 10, 10, 10, 10, 10, 10, 10, 10, 10, 10, 10, 10, 10, 10, 10, 10, 10, 10, 10, 10, 10, 11, 11, 11, 11, 11, 11, 11, 11, 11, 11, 11, 11, 11, 11, 11, 11, 11, 11, 11, 11, 11, 11, 11, 11, 11, 11, 11, 11, 11, 11, 11, 11, 11, 11, 11, 11, 11, 11, 11, 11, 11, 11, 11, 11, 11, 11, 11, 11, 11, 11, 11, 11, 11, 11, 11, 11, 11, 11, 11, 11, 11, 11, 11, 11, 11, 11, 11, 11, 11, 11, 11, 11, 11, 11, 11, 11, 11, 11, 12, 12, 12, 12, 12, 12, 12, 12, 12, 12, 12, 12, 12, 12, 12, 12, 12, 12, 12, 12, 12, 12, 12, 12, 12, 12, 12, 12, 12, 12, 12, 12, 12, 12, 12, 12, 12, 12, 12, 12, 12, 12, 12, 12, 12, 12, 12, 12, 12, 12, 12, 12, 12, 12, 12, 12, 12, 12, 12, 12, 12, 12, 12, 12, 12, 12, 12, 12, 12, 12, 12, 12, 12, 12, 12, 12, 12, 12, 12, 12, 12, 12, 12, 12, 1, 1, 1, 1, 1, 1, 1, 1, 1, 1, 1, 1, 1, 1, 1, 1, 1, 1, 1, 1, 1, 1, 1, 1, 1, 1, 1, 1, 1, 1, 1, 1, 1, 1, 1, 1, 1, 1, 1, 1, 1, 1, 1, 1, 1, 1, 1, 1, 1, 1, 2, 2, 2, 2, 2, 2, 2, 2, 2, 2, 2, 2, 2, 2, 2, 2, 2, 2, 2, 2, 2, 2, 2, 2, 2, 2, 2, 2, 2, 2, 2, 2, 3, 3, 3, 3, 3, 3, 3, 3, 3, 3, 3, 3, 3, 3, 3, 3, 3, 3, 3, 3, 3, 3, 3, 3, 3, 3, 3, 3, 3, 3, 3, 3, 3, 3, 3, 3, 3, 3, 3, 3, 3, 3, 3, 3, 3, 3, 3, 3, 3, 3, 3, 4, 4, 4, 4, 4, 4, 4, 4, 4, 4, 4, 4, 4, 4, 4, 4, 4, 4, 4, 4, 4, 4, 4, 4, 4, 4, 4, 4, 4, 4, 4, 4, 4, 4, 4, 4, 4, 4, 4, 4, 4, 4, 4, 4, 4, 4, 5, 5, 5, 5, 5, 5, 5, 5, 5, 5, 5, 5, 5, 5, 5, 5, 5, 5, 5, 5, 5, 5, 5, 5, 5, 5, 5, 5, 5, 5, 5, 5, 5, 5, 5, 5, 5, 5, 5, 5, 5, 5, 5, 5, 5, 5, 5, 5, 5, 5, 5, 5, 5, 5, 6, 6, 6, 6, 6, 6, 6, 6, 6, 6, 6, 6, 6, 6, 6, 6, 6, 6, 6, 6, 6, 6, 6, 6, 6, 6, 6, 6, 6, 6, 6, 6, 6, 6, 6, 6, 6, 6, 6, 6, 6, 6, 6, 7, 7, 7, 7, 7, 7, 7, 7, 7, 7, 7, 7, 7, 7, 7, 7, 7, 7, 7, 8, 8, 8, 8, 8, 8, 8, 8, 8, 8, 8, 8, 8, 8, 8, 8, 8, 8, 8, 8, 8, 8, 8, 8, 8, 8, 8, 8, 8, 8, 9, 9, 9, 9, 9, 9, 9, 9, 9, 9, 9, 9, 9, 9, 9, 10, 10, 10, 10, 10, 10, 10, 10, 10, 10, 10, 10, 10, 10, 10, 10, 10, 10, 10, 10, 10, 10, 10, 11, 11, 11, 11, 11, 11, 11, 11, 11, 11, 11, 11, 11, 11, 11, 11, 11, 11, 11, 12, 12, 12, 12, 12, 12, 12, 12, 12, 12, 12, 12, 12, 12, 12, 12, 12, 12, 12, 12, 12, 12, 12, 1, 1, 1, 1, 1, 1, 1, 1, 1, 1, 1, 1, 1, 1, 1, 1, 1, 1, 1, 1, 1, 1, 2, 2, 2, 2, 2, 2, 2, 2, 2, 2, 2, 2, 2, 2, 2, 2, 2, 2, 2, 2, 2, 3, 3, 3, 3, 3, 3, 3, 3, 3, 3, 3, 3, 3, 3, 3, 3, 3, 3, 3, 3, 3, 3, 3, 3, 3, 3, 3, 3, 3, 4, 4, 4, 4, 4, 4, 4, 4, 4, 4, 4, 4, 4, 4, 4, 4, 4, 4, 4, 4, 4, 4, 4, 5, 5, 5, 5, 5, 5, 5, 5, 5, 5, 5, 5, 5, 5, 5, 5, 5, 5, 5, 5, 5, 5, 5, 5, 5, 5, 5, 5, 5, 5, 5, 5, 6, 6, 6, 6, 6, 6, 6, 6, 6, 6, 6, 6, 6, 6, 6, 6, 6, 6, 6, 6, 6, 6, 7, 7, 7, 7, 7, 7, 7, 7, 7, 7, 7, 7, 7, 7, 7, 7, 7, 7, 7, 7, 7, 7, 7, 7, 7, 7, 7, 7, 7, 7, 7, 7, 8, 8, 8, 8, 8, 8, 8, 8, 8, 8, 8, 8, 8, 8, 8, 8, 8, 8, 8, 8, 8, 8, 8, 8, 8, 8, 8, 8, 8, 8, 8, 8, 8, 8, 8, 8, 9, 9, 9, 9, 9, 9, 9, 9, 9, 9, 9, 9, 9, 9, 9, 9, 9, 9, 9, 9, 9, 9, 9, 9, 9, 9, 9, 10, 10, 10, 10, 10, 10, 10, 10, 10, 10, 10, 10, 10, 10, 10, 10, 10, 10, 10, 10, 10, 10, 11, 11, 11, 11, 11, 11, 11, 11, 11, 11, 11, 11, 11, 11, 11, 11, 11, 11, 11, 11, 11, 11, 11, 11, 12, 12, 12, 12, 12, 12, 12, 12, 12, 12, 12, 12, 12, 12, 12, 12, 12, 12, 12, 12, 12, 12, 12, 12, 12, 12, 12, 12, 12, 12, 12, 12, 12, 12, 12, 12, 1, 1, 1, 1, 1, 1, 1, 1, 1, 1, 1, 1, 1, 1, 1, 1, 1, 1, 1, 1, 1, 1, 1, 2, 2, 2, 2, 2, 2, 2, 2, 2, 2, 2, 2, 2, 2, 2, 2, 2, 2, 2, 2, 2, 2, 3, 3, 3, 3, 3, 3, 3, 3, 3, 3, 3, 3, 3, 3, 3, 3, 3, 3, 3, 3, 3, 3, 4, 4, 4, 4, 4, 4, 4, 4, 4, 4, 4, 4, 4, 4, 4, 4, 4, 4, 4, 4, 4, 4, 4, 5, 5, 5, 5, 5, 5, 5, 5, 5, 5, 5, 5, 5, 5, 5, 5, 5, 5, 5, 5, 5, 5, 5, 5, 5, 5, 6, 6, 6, 6, 6, 6, 6, 6, 6, 6, 6, 6, 6, 7, 7, 7, 7, 7, 7, 7, 7, 7, 7, 7, 7, 7, 7, 7, 7, 7, 7, 7, 7, 7, 7, 7, 7, 7, 7, 7, 8, 8, 8, 8, 8, 8, 8, 8, 8, 8, 8, 8, 8, 8, 8, 8, 8, 8, 8, 9, 9, 9, 9, 9, 9, 9, 9, 9, 9, 9, 9, 9, 9, 9, 9, 9, 9, 9, 9, 9, 9, 9, 9, 9, 9, 9, 9, 9, 9, 9, 10, 10, 10, 10, 10, 10, 10, 10, 10, 10, 10, 10, 10, 10, 10, 10, 10, 10, 10, 10, 10, 10, 11, 11, 11, 11, 11, 11, 11, 11, 11, 11, 11, 11, 11, 11, 11, 11, 11, 11, 11, 11, 11, 11, 11, 11, 11, 12, 12, 12, 12, 12, 12, 12, 12, 12, 12, 12, 12, 12, 12, 12, 12, 12, 12, 12, 1, 1, 1, 1, 1, 1, 1, 1, 1, 1, 1, 1, 1, 1, 1, 1, 2, 2, 2, 2, 2, 2, 2, 2, 2, 2, 2, 2, 2, 2, 2, 2, 2, 2, 3, 3, 3, 3, 3, 3, 3, 3, 3, 3, 3, 3, 3, 3, 3, 3, 3, 3, 3, 3, 3, 3, 3, 3, 3, 3, 3, 3, 3, 4, 4, 4, 4, 4, 4, 4, 4, 4, 4, 4, 4, 4, 4, 4, 4, 4, 4, 4, 4, 4, 4, 4, 4, 4, 4, 4, 4, 4, 4, 4, 5, 5, 5, 5, 5, 5, 5, 5, 5, 5, 5, 5, 5, 5, 5, 5, 5, 5, 5, 5, 5, 6, 6, 6, 6, 6, 6, 6, 6, 6, 6, 6, 6, 6, 6, 6, 6, 6, 6, 6, 6, 6, 6, 7, 7, 7, 7, 7, 7, 7, 7, 7, 7, 7, 7, 7, 7, 7, 7, 7, 7, 7, 7, 7, 7, 8, 8, 8, 8, 8, 8, 8, 8, 8, 8, 8, 8, 8, 8, 8, 8, 8, 8, 8, 8, 8, 8, 8, 9, 9, 9, 9, 9, 9, 9, 9, 9, 9, 9, 9, 9, 9, 9, 10, 10, 10, 10, 10, 10, 10, 10, 10, 10, 10, 10, 10, 10, 10, 10, 10, 10, 10, 10, 10, 10, 10, 10, 10, 10, 10, 10, 10, 10, 10, 10, 10, 11, 11, 11, 11, 11, 11, 11, 11, 11, 11, 11, 11, 11, 11, 11, 11, 11, 11, 11, 11, 11, 11, 11, 11, 11, 11, 11, 11, 11, 11, 11, 11, 11, 11, 11, 11, 12, 12, 12, 12, 12, 12, 12, 12, 12, 12, 12, 12, 12, 12, 12, 12, 12, 12, 12, 12, 12, 1, 1, 1, 1, 1, 1, 1, 1, 1, 1, 1, 1, 1, 1, 1, 1, 1, 1, 1, 1, 1, 1, 1, 1, 1, 1, 1, 1, 1, 2, 2, 2, 2, 2, 2, 2, 2, 2, 2, 2, 2, 2, 2, 2, 2, 2, 3, 3, 3, 3, 3, 3, 3, 3, 3, 3, 3, 3, 3, 3, 3, 3, 3, 3, 3, 3, 3, 3, 3, 3, 3, 4, 4, 4, 4, 4, 4, 4, 4, 4, 4, 4, 4, 4, 4, 4, 4, 4, 4, 4, 4, 5, 5, 5, 5, 5, 5, 5, 5, 5, 5, 5, 5, 5, 5, 5, 5, 5, 5, 5, 5, 5, 5, 5, 5, 5, 5, 5, 5, 5, 6, 6, 6, 6, 6, 6, 6, 6, 6, 6, 6, 6, 6, 6, 6, 6, 6, 6, 6, 7, 7, 7, 7, 7, 7, 7, 7, 7, 7, 7, 7, 7, 7, 7, 7, 7, 7, 7, 7, 7, 7, 7, 7, 7, 7, 8, 8, 8, 8, 8, 8, 8, 8, 8, 8, 8, 8, 8, 8, 8, 8, 8, 8, 9, 9, 9, 9, 9, 9, 9, 9, 9, 9, 9, 9, 9, 9, 9, 9, 9, 9, 9, 9, 9, 9, 9, 9, 9, 9, 9, 9, 9, 9, 9, 9, 10, 10, 10, 10, 10, 10, 10, 10, 10, 10, 10, 10, 10, 10, 10, 10, 10, 10, 10, 10, 11, 11, 11, 11, 11, 11, 11, 11, 11, 11, 11, 11, 11, 11, 11, 11, 11, 11, 11, 11, 11, 11, 12, 12, 12, 12, 12, 12, 12, 12, 12, 12, 12, 12, 12, 12, 12, 12, 12, 12, 12, 12, 12, 12, 12, 1, 1, 1, 1, 1, 1, 1, 1, 1, 1, 1, 1, 1, 1, 1, 1, 1, 1, 1, 1, 1, 1, 1, 1, 1, 1, 1, 1, 1, 2, 2, 2, 2, 2, 2, 2, 2, 2, 2, 2, 2, 2, 2, 2, 2, 2, 2, 2, 2, 2, 2, 3, 3, 3, 3, 3, 3, 3, 3, 3, 3, 3, 3, 3, 3, 3, 3, 3, 3, 3, 3, 3, 3, 4, 4, 4, 4, 4, 4, 4, 4, 4, 4, 4, 4, 4, 4, 4, 4, 4, 4, 4, 4, 4, 4, 4, 4, 4, 4, 4, 4, 4, 4, 4, 5, 5, 5, 5, 5, 5, 5, 5, 5, 5, 5, 5, 5, 5, 5, 5, 5, 5, 5, 5, 5, 6, 6, 6, 6, 6, 6, 6, 6, 6, 6, 6, 6, 6, 6, 6, 6, 6, 6, 6, 6, 6, 6, 6, 6, 6, 6, 7, 7, 7, 7, 7, 7, 7, 7, 7, 7, 7, 7, 7, 7, 8, 8, 8, 8, 8, 8, 8, 8, 8, 8, 8, 8, 8, 8, 8, 8, 8, 8, 8, 8, 8, 8, 8, 8, 8, 8, 9, 9, 9, 9, 9, 9, 9, 9, 9, 9, 9, 9, 9, 9, 9, 9, 9, 9, 9, 9, 10, 10, 10, 10, 10, 10, 10, 10, 10, 10, 10, 10, 10, 10, 10, 10, 10, 10, 10, 10, 10, 10, 10, 10, 10, 10, 10, 10, 10, 10, 10, 11, 11, 11, 11, 11, 11, 11, 11, 11, 11, 11, 11, 11, 11, 11, 11, 11, 11, 11, 11, 11, 12, 12, 12, 12, 12, 12, 12, 12, 12, 12, 12, 12, 12, 12, 12, 12, 12, 12, 12, 12, 12, 12, 12, 12, 12, 12, 1, 1, 1, 1, 1, 1, 1, 1, 1, 1, 1, 1, 1, 1, 1, 1, 1, 1, 1, 1, 1, 1, 1, 2, 2, 2, 2, 2, 2, 2, 2, 2, 2, 2, 2, 2, 2, 2, 2, 2, 2, 3, 3, 3, 3, 3, 3, 3, 3, 3, 3, 3, 3, 3, 3, 3, 3, 3, 3, 3, 3, 3, 3, 3, 3, 3, 4, 4, 4, 4, 4, 4, 4, 4, 4, 4, 4, 4, 4, 4, 4, 4, 4, 4, 4, 4, 4, 4, 5, 5, 5, 5, 5, 5, 5, 5, 5, 5, 5, 5, 5, 5, 5, 6, 6, 6, 6, 6, 6, 6, 6, 6, 6, 6, 6, 6, 6, 6, 6, 6, 6, 6, 6, 6, 6, 6, 6, 6, 6, 6, 7, 7, 7, 7, 7, 7, 7, 7, 7, 7, 7, 7, 7, 7, 7, 7, 7, 7, 7, 7, 7, 7, 7, 7, 8, 8, 8, 8, 8, 8, 8, 8, 8, 8, 8, 8, 8, 8, 8, 8, 8, 8, 8, 8, 8, 8, 8, 8, 8, 9, 9, 9, 9, 9, 9, 9, 9, 9, 9, 9, 9, 9, 9, 9, 9, 9, 9, 9, 9, 9, 9, 9, 9, 9, 9, 9, 9, 9, 9, 9, 9, 9, 9, 9, 10, 10, 10, 10, 10, 10, 10, 10, 10, 10, 10, 10, 10, 11, 11, 11, 11, 11, 11, 11, 11, 11, 11, 11, 11, 11, 11, 11, 11, 11, 11, 11, 11, 11, 11, 11, 12, 12, 12, 12, 12, 12, 12, 12, 12, 12, 12, 12, 12, 12, 12, 12, 12, 12, 12, 12, 12, 12, 12, 12, 12, 12, 12, 12, 1, 1, 1, 1, 1, 1, 1, 1, 1, 1, 1, 1, 1, 1, 1, 1, 1, 1, 1, 1, 1, 1, 1, 1, 1, 1, 2, 2, 2, 2, 2, 2, 2, 2, 2, 2, 2, 2, 2, 2, 2, 2, 2, 2, 2, 3, 3, 3, 3, 3, 3, 3, 3, 3, 3, 3, 3, 3, 3, 3, 3, 3, 4, 4, 4, 4, 4, 4, 4, 4, 4, 4, 4, 4, 4, 4, 4, 4, 4, 4, 4, 4, 4, 4, 4, 4, 4, 4, 4, 4, 4, 4, 5, 5, 5, 5, 5, 5, 5, 5, 5, 5, 5, 5, 5, 5, 5, 5, 5, 5, 5, 5, 5, 5, 6, 6, 6, 6, 6, 6, 6, 6, 6, 6, 6, 6, 6, 6, 6, 6, 6, 6, 6, 6, 6, 6, 6, 6, 6, 6, 7, 7, 7, 7, 7, 7, 7, 7, 7, 7, 7, 7, 7, 7, 7, 7, 7, 7, 8, 8, 8, 8, 8, 8, 8, 8, 8, 8, 8, 8, 8, 8, 8, 8, 8, 8, 8, 8, 8, 8, 8, 8, 8, 9, 9, 9, 9, 9, 9, 9, 9, 9, 9, 9, 9, 9, 9, 9, 9, 9, 9, 9, 9, 9, 9, 9, 9, 9, 9, 9, 9, 9, 9, 9, 9, 9, 9, 10, 10, 10, 10, 10, 10, 10, 10, 10, 10, 10, 10, 10, 10, 10, 10, 10, 10, 10, 10, 10, 10, 10, 10, 10, 10, 10, 10, 10, 10, 10, 11, 11, 11, 11, 11, 11, 11, 11, 11, 11, 11, 11, 11, 11, 11, 11, 11, 11, 11, 11, 11, 12, 12, 12, 12, 12, 12, 12, 12, 12, 12, 12, 12, 12, 12, 12, 12, 12, 12, 12, 1, 1, 1, 1, 1, 1, 1, 1, 1, 1, 1, 1, 1, 1, 1, 1, 1, 1, 1, 1, 1, 1, 1, 1, 1, 1, 1, 1, 1, 1, 1, 1, 2, 2, 2, 2, 2, 2, 2, 2, 2, 2, 2, 2, 2, 2, 2, 2, 2, 2, 2, 2, 2, 2, 2, 2, 2, 2, 2, 2, 3, 3, 3, 3, 3, 3, 3, 3, 3, 3, 3, 3, 3, 3, 3, 3, 3, 3, 3, 3, 3, 3, 3, 3, 3, 3, 3, 3, 3, 3, 3, 3, 3, 3, 3, 3, 3, 3, 4, 4, 4, 4, 4, 4, 4, 4, 4, 4, 4, 4, 4, 4, 4, 4, 4, 4, 4, 4, 4, 4, 4, 4, 4, 5, 5, 5, 5, 5, 5, 5, 5, 5, 5, 5, 5, 5, 5, 5, 5, 5, 5, 5, 5, 5, 5, 5, 5, 5, 6, 6, 6, 6, 6, 6, 6, 6, 6, 6, 6, 6, 6, 6, 6, 6, 6, 6, 6, 6, 6, 6, 7, 7, 7, 7, 7, 7, 7, 7, 7, 7, 7, 7, 7, 7, 7, 7, 7, 7, 7, 7, 7, 7, 7, 8, 8, 8, 8, 8, 8, 8, 8, 8, 8, 8, 8, 8, 8, 8, 8, 8, 8, 8, 8, 8, 8, 8, 8, 8, 8, 8, 8, 8, 8, 8, 9, 9, 9, 9, 9, 9, 9, 9, 9, 9, 9, 9, 9, 9, 9, 9, 9, 9, 9, 10, 10, 10, 10, 10, 10, 10, 10, 10, 10, 10, 10, 10, 10, 10, 10, 10, 10, 10, 10, 10, 10, 10, 11, 11, 11, 11, 11, 11, 11, 11, 11, 11, 11, 11, 11, 11, 11, 11, 11, 11, 11, 11, 11, 11, 11, 11, 11, 11, 12, 12, 12, 12, 12, 12, 12, 12, 12, 12, 12, 12, 12, 12, 12, 12, 12, 12, 12, 1, 1, 1, 1, 1, 1, 1, 1, 1, 1, 1, 1, 1, 1, 1, 1, 1, 1, 1, 1, 1, 1, 2, 2, 2, 2, 2, 2, 2, 2, 2, 2, 2, 2, 2, 2, 2, 2, 2, 2, 2, 2, 2, 3, 3, 3, 3, 3, 3, 3, 3, 3, 3, 3, 3, 3, 3, 3, 3, 3, 3, 3, 3, 3, 3, 3, 3, 3, 3, 3, 3, 3, 3, 3, 4, 4, 4, 4, 4, 4, 4, 4, 4, 4, 4, 4, 4, 4, 4, 4, 4, 4, 4, 4, 4, 4, 4, 4, 4, 5, 5, 5, 5, 5, 5, 5, 5, 5, 5, 5, 5, 5, 5, 5, 5, 5, 5, 5, 5, 5, 5, 5, 5, 5, 5, 5, 6, 6, 6, 6, 6, 6, 6, 6, 6, 6, 6, 6, 6, 6, 6, 6, 6, 6, 6, 6, 6, 6, 6, 6, 6, 6, 6, 6, 6, 6, 6, 6, 6, 6, 7, 7, 7, 7, 7, 7, 7, 7, 7, 7, 7, 7, 7, 7, 7, 7, 7, 7, 7, 7, 7, 7, 7, 7, 7, 7, 7, 7, 7, 7, 7, 7, 7, 7, 7, 8, 8, 8, 8, 8, 8, 8, 8, 8, 8, 8, 8, 8, 8, 8, 8, 8, 8, 8, 8, 8, 8, 8, 8, 8, 9, 9, 9, 9, 9, 9, 9, 9, 9, 9, 9, 9, 9, 9, 9, 9, 9, 9, 9, 9, 9, 9, 9, 10, 10, 10, 10, 10, 10, 10, 10, 10, 10, 10, 10, 10, 10, 10, 10, 10, 10, 10, 10, 10, 10, 10, 10, 10, 10, 10, 10, 10, 10, 10, 10, 10, 10, 10, 10, 10, 11, 11, 11, 11, 11, 11, 11, 11, 11, 11, 11, 11, 11, 11, 11, 11, 11, 11, 11, 11, 11, 12, 12, 12, 12, 12, 12, 12, 12, 12, 12, 12, 12, 12, 12, 12, 12, 12, 12, 12, 12, 12, 12, 12, 12, 12, 12, 12, 12, 1, 1, 1, 1, 1, 1, 1, 1, 1, 1, 1, 1, 1, 2, 2, 2, 2, 2, 2, 2, 2, 2, 2, 2, 2, 2, 2, 2, 2, 2, 2, 2, 2, 2, 2, 2, 3, 3, 3, 3, 3, 3, 3, 3, 3, 3, 3, 3, 3, 3, 3, 3, 3, 3, 3, 4, 4, 4, 4, 4, 4, 4, 4, 4, 4, 4, 4, 4, 4, 4, 4, 4, 4, 4, 4, 4, 4, 4, 5, 5, 5, 5, 5, 5, 5, 5, 5, 5, 5, 5, 5, 5, 5, 5, 5, 5, 5, 5, 5, 5, 5, 5, 5, 6, 6, 6, 6, 6, 6, 6, 6, 6, 6, 6, 6, 6, 6, 6, 6, 6, 6, 6, 6, 6, 6, 6, 6, 6, 6, 6, 6, 6, 6, 7, 7, 7, 7, 7, 7, 7, 7, 7, 7, 7, 7, 7, 7, 7, 7, 7, 7, 7, 7, 7, 7, 7, 7, 7, 7, 7, 7, 8, 8, 8, 8, 8, 8, 8, 8, 8, 8, 8, 8, 8, 8, 8, 8, 8, 8, 8, 8, 8, 8, 8, 8, 9, 9, 9, 9, 9, 9, 9, 9, 9, 9, 9, 9, 9, 9, 9, 9, 9, 10, 10, 10, 10, 10, 10, 10, 10, 10, 10, 10, 10, 10, 10, 10, 10, 10, 10, 10, 10, 10, 10, 10, 10, 10, 10, 10, 10, 10, 11, 11, 11, 11, 11, 11, 11, 11, 11, 11, 11, 11, 11, 11, 11, 11, 11, 11, 11, 11, 11, 11, 11, 11, 11, 11, 12, 12, 12, 12, 12, 12, 12, 12, 12, 12, 12, 12, 12, 12, 12, 12, 12, 1, 1, 1, 1, 1, 1, 1, 1, 1, 1, 1, 1, 1, 1, 1, 1, 1, 1, 1, 2, 2, 2, 2, 2, 2, 2, 2, 2, 2, 2, 2, 2, 2, 2, 2, 2, 2, 2, 2, 2, 2, 2, 2, 2, 3, 3, 3, 3, 3, 3, 3, 3, 3, 3, 3, 3, 3, 3, 3, 3, 3, 3, 3, 3, 3, 3, 3, 4, 4, 4, 4, 4, 4, 4, 4, 4, 4, 4, 4, 4, 4, 4, 4, 4, 5, 5, 5, 5, 5, 5, 5, 5, 5, 5, 5, 5, 5, 5, 5, 5, 5, 5, 5, 5, 5, 5, 5, 5, 5, 5, 6, 6, 6, 6, 6, 6, 6, 6, 6, 6, 6, 6, 6, 7, 7, 7, 7, 7, 7, 7, 7, 7, 7, 7, 7, 7, 7, 8, 8, 8, 8, 8, 8, 8, 8, 8, 8, 8, 8, 8, 8, 8, 8, 8, 8, 8, 8, 9, 9, 9, 9, 9, 9, 9, 9, 9, 9, 9, 9, 9, 9, 9, 9, 10, 10, 10, 10, 10, 10, 10, 10, 10, 10, 10, 10, 10, 10, 10, 10, 10, 11, 11, 11, 11, 11, 11, 11, 11, 11, 11, 11, 11, 11, 11, 11, 11, 11, 11, 11, 11, 11, 11, 12, 12, 12, 12, 12, 12, 12, 12, 12, 12, 12, 12, 12, 12, 12, 1, 1, 1, 1, 1, 1, 1, 1, 1, 1, 1, 1, 1, 1, 1, 1, 1, 1, 1, 1, 1, 1, 1, 1, 1, 2, 2, 2, 2, 2, 2, 2, 2, 2, 2, 2, 2, 2, 2, 2, 2, 2, 3, 3, 3, 3, 3, 3, 3, 3, 3, 3, 3, 3, 3, 3, 3, 3, 3, 3, 3, 3, 3, 3, 3, 4, 4, 4, 4, 4, 4, 4, 4, 4, 4, 4, 4, 4, 4, 4, 4, 4, 4, 5, 5, 5, 5, 5, 5, 5, 5, 5, 5, 5, 5, 5, 5, 5, 6, 6, 6, 6, 6, 6, 6, 6, 6, 6, 6, 6, 6, 6, 6, 6, 6, 6, 6, 6, 6, 6, 6, 6, 6, 6, 6, 7, 7, 7, 7, 7, 7, 7, 7, 7, 7, 7, 7, 7, 7, 7, 7, 7, 8, 8, 8, 8, 8, 8, 8, 8, 8, 8, 8, 8, 8, 8, 8, 8, 8, 8, 9, 9, 9, 9, 9, 9, 9, 9, 9, 9, 9, 9, 9, 10, 10, 10, 10, 10, 10, 10, 10, 10, 10, 10, 10, 10, 10, 10, 10, 10, 10, 10, 10, 10, 10, 11, 11, 11, 11, 11, 11, 11, 11, 11, 11, 11, 11, 11, 11, 11, 11, 11, 11, 11, 11, 11, 11, 11, 11, 11, 11, 11, 12, 12, 12, 12, 12, 12, 12, 12, 12, 12, 12, 12, 12, 12, 12, 12, 12, 12, 12, 1, 1, 1, 1, 1, 1, 1, 1, 1, 1, 1, 1, 1, 1, 1, 1, 1, 1, 2, 2, 2, 2, 2, 2, 2, 2, 2, 2, 2, 2, 2, 2, 2, 2, 3, 3, 3, 3, 3, 3, 3, 3, 3, 3, 3, 3, 3, 4, 4, 4, 4, 4, 4, 4, 4, 4, 5, 5, 5, 5, 5, 5, 5, 5, 5, 5, 5, 5, 5, 5, 5, 5, 5, 5, 5, 5, 6, 6, 6, 6, 6, 6, 6, 6, 6, 6, 6, 6, 6, 6, 6, 6, 6, 6, 6, 7, 7, 7, 7, 7, 7, 7, 7, 7, 7, 7, 7, 8, 8, 8, 8, 8, 8, 8, 8, 8, 8, 8, 8, 8, 8, 8, 8, 8, 8, 8, 8, 8, 8, 8, 9, 9, 9, 9, 9, 9, 9, 9, 9, 9, 9, 9, 9, 9, 9, 9, 9, 9, 9, 10, 10, 10, 10, 10, 10, 10, 10, 10, 10, 10, 10, 10, 10, 10, 10, 10, 11, 11, 11, 11, 11, 11, 11, 11, 11, 11, 11, 11, 11, 11, 11, 11, 11, 11, 12, 12, 12, 12, 12, 12, 12, 12, 12, 12, 12, 12, 12, 12, 12, 12, 12, 12, 1, 1, 1, 1, 1, 1, 1, 1, 1, 1, 1, 1, 1, 1, 1, 2, 2, 2, 2, 2, 2, 2, 2, 2, 2, 2, 2, 2, 2, 2, 2, 3, 3, 3, 3, 3, 3, 3, 3, 3, 3, 3, 3, 3, 4, 4, 4, 4, 4, 4, 4, 4, 4, 4, 4, 4, 4, 4, 4, 4, 4, 4, 4, 5, 5, 5, 5, 5, 5, 5, 5, 5, 5, 5, 5, 6, 6, 6, 6, 6, 6, 6, 6, 6, 6, 6, 6, 6, 6, 6, 6, 6, 6, 6, 6, 7, 7, 7, 7, 7, 7, 7, 7, 7, 7, 7, 7, 7, 7, 7, 7, 7, 7, 7, 7, 7, 8, 8, 8, 8, 8, 8, 8, 8, 8, 8, 9, 9, 9, 9, 9, 9, 9, 9, 9, 9, 9, 9, 9, 10, 10, 10, 10, 10, 10, 10, 10, 10, 10, 10, 10, 10, 10, 10, 10, 10, 10, 10, 10, 10, 10, 11, 11, 11, 11, 11, 11, 11, 11, 11, 11, 11, 11, 11, 11, 11, 11, 11, 11, 11, 12, 12, 12, 12, 12, 12, 12, 12, 12, 12, 12, 12, 12, 12, 12, 12, 12, 12, 12, 12, 12, 12, 1, 1, 1, 1, 1, 1, 1, 1, 1, 1, 1, 1, 1, 1, 1, 1, 1, 1, 1, 2, 2, 2, 2, 2, 2, 2, 2, 2, 2, 2, 2, 2, 2, 2, 2, 2, 2, 2, 2, 2, 3, 3, 3, 3, 3, 3, 3, 3, 3, 3, 3, 3, 3, 3, 3, 3, 3, 3, 3, 4, 4, 4, 4, 4, 4, 4, 4, 4, 4, 4, 4, 4, 4, 5, 5, 5, 5, 5, 5, 5, 5, 5, 5, 5, 5, 5, 5, 5, 5, 5, 5, 6, 6, 6, 6, 6, 6, 6, 6, 6, 6, 6, 6, 6, 6, 6, 6, 6, 6, 6, 6, 7, 7, 7, 7, 7, 7, 7, 7, 7, 7, 7, 7, 7, 7, 7, 7, 7, 7, 7, 7, 7, 8, 8, 8, 8, 8, 8, 8, 8, 8, 8, 8, 8, 8, 8, 8, 8, 8, 8, 9, 9, 9, 9, 9, 9, 9, 9, 9, 9, 9, 9, 9, 9, 9, 9, 9, 9, 9, 9, 9, 9, 10, 10, 10, 10, 10, 10, 10, 10, 10, 10, 10, 10, 10, 10, 10, 10, 10, 10, 10, 11, 11, 11, 11, 11, 11, 11, 11, 11, 11, 11, 11, 11, 11, 11, 11, 11, 11, 11, 11, 11, 11, 11, 11, 11, 11, 11, 12, 12, 12, 12, 12, 12, 12, 12, 12, 12, 12, 12, 12, 12, 12, 12, 12, 12, 1, 1, 1, 1, 1, 1, 1, 1, 1, 1, 1, 1, 1, 1, 1, 1, 1, 1, 1, 2, 2, 2, 2, 2, 2, 2, 2, 2, 2, 2, 2, 3, 3, 3, 3, 3, 3, 3, 3, 3, 3, 3, 3, 3, 3, 3, 3, 3, 3, 4, 4, 4, 4, 4, 4, 4, 4, 4, 4, 4, 4, 4, 5, 5, 5, 5, 5, 5, 5, 5, 5, 5, 5, 5, 5, 5, 5, 5, 5, 5, 5, 5, 5, 5, 5, 6, 6, 6, 6, 6, 6, 6, 6, 6, 6, 6, 6, 6, 6, 6, 6, 6, 6, 6, 7, 7, 7, 7, 7, 7, 7, 7, 7, 7, 7, 7, 7, 7, 7, 7, 7, 7, 7, 7, 7, 7, 7, 8, 8, 8, 8, 8, 8, 8, 8, 8, 8, 8, 8, 8, 8, 8, 9, 9, 9, 9, 9, 9, 9, 9, 9, 9, 9, 9, 9, 9, 9, 9, 9, 10, 10, 10, 10, 10, 10, 10, 10, 10, 10, 10, 10, 10, 10, 10, 10, 10, 10, 10, 10, 10, 10, 10, 10, 11, 11, 11, 11, 11, 11, 11, 11, 11, 11, 11, 11, 11, 11, 12, 12, 12, 12, 12, 12, 12, 12, 12, 12, 1, 1, 1, 1, 1, 1, 1, 1, 1, 1, 1, 1, 1, 1, 1, 1, 1, 2, 2, 2, 2, 2, 2, 2, 2, 2, 2, 2], 'day': [1, 1, 2, 2, 3, 3, 4, 4, 5, 5, 5, 5, 6, 7, 7, 7, 8, 8, 8, 8, 9, 9, 9, 9, 9, 10, 10, 10, 10, 11, 11, 11, 11, 11, 11, 12, 12, 12, 12, 13, 13, 14, 14, 15, 15, 15, 15, 16, 16, 17, 17, 18, 18, 19, 19, 20, 20, 21, 21, 21, 22, 22, 22, 22, 23, 23, 23, 24, 25, 25, 25, 25, 25, 26, 27, 27, 27, 28, 28, 28, 28, 29, 29, 29, 29, 30, 30, 30, 30, 1, 1, 1, 2, 3, 3, 3, 4, 5, 5, 6, 7, 8, 8, 8, 9, 9, 9, 10, 11, 11, 11, 11, 12, 13, 13, 13, 13, 13, 14, 14, 14, 15, 15, 15, 15, 15, 16, 16, 16, 16, 17, 18, 18, 19, 19, 20, 21, 21, 21, 21, 22, 23, 23, 24, 24, 24, 24, 25, 25, 25, 25, 26, 26, 26, 27, 27, 28, 28, 29, 29, 30, 30, 31, 31, 31, 31, 31, 1, 1, 1, 1, 2, 2, 2, 3, 3, 4, 4, 4, 5, 5, 5, 7, 7, 8, 8, 9, 9, 9, 10, 10, 10, 10, 10, 10, 10, 10, 10, 11, 11, 13, 14, 14, 15, 15, 15, 15, 16, 16, 17, 17, 18, 18, 19, 19, 19, 20, 20, 20, 22, 22, 22, 23, 23, 23, 23, 24, 24, 25, 25, 25, 25, 25, 25, 26, 26, 27, 27, 27, 28, 28, 29, 29, 30, 30, 1, 1, 2, 2, 2, 2, 2, 2, 2, 2, 3, 3, 4, 5, 6, 7, 7, 7, 7, 7, 7, 8, 8, 8, 8, 9, 10, 10, 10, 11, 11, 11, 12, 12, 12, 13, 13, 13, 14, 15, 15, 15, 16, 16, 18, 19, 19, 19, 20, 20, 21, 21, 22, 23, 23, 23, 23, 23, 23, 23, 24, 24, 24, 24, 24, 25, 25, 25, 25, 26, 26, 26, 27, 27, 28, 28, 28, 28, 28, 29, 30, 30, 30, 31, 2, 2, 2, 3, 4, 4, 5, 6, 6, 6, 7, 7, 7, 8, 8, 9, 9, 9, 9, 10, 10, 12, 12, 12, 13, 15, 16, 19, 19, 20, 20, 21, 22, 23, 23, 24, 24, 24, 24, 25, 25, 26, 27, 27, 29, 29, 29, 30, 30, 31, 2, 2, 2, 4, 4, 6, 6, 7, 9, 10, 10, 10, 10, 12, 12, 12, 13, 13, 14, 16, 16, 17, 17, 18, 18, 19, 23, 23, 24, 25, 28, 28, 1, 1, 1, 2, 2, 2, 2, 3, 4, 4, 5, 5, 7, 7, 7, 7, 7, 8, 9, 10, 10, 11, 12, 12, 13, 13, 14, 14, 15, 15, 17, 18, 19, 20, 21, 21, 22, 23, 23, 23, 23, 24, 24, 26, 28, 28, 28, 30, 30, 31, 31, 1, 1, 1, 2, 2, 3, 3, 4, 4, 6, 10, 10, 10, 10, 10, 11, 12, 12, 12, 13, 13, 13, 14, 14, 15, 16, 16, 17, 17, 18, 18, 19, 19, 20, 20, 21, 21, 22, 23, 23, 26, 27, 28, 28, 30, 30, 1, 1, 1, 2, 2, 3, 3, 3, 3, 3, 4, 4, 6, 7, 9, 9, 11, 11, 11, 11, 11, 14, 14, 15, 15, 15, 15, 15, 15, 17, 17, 18, 18, 19, 19, 20, 21, 21, 23, 23, 24, 25, 25, 25, 25, 25, 26, 26, 27, 27, 29, 29, 30, 30, 1, 1, 1, 1, 2, 2, 3, 3, 5, 6, 6, 6, 8, 9, 10, 10, 11, 12, 12, 13, 13, 14, 14, 16, 18, 18, 19, 20, 20, 20, 21, 22, 22, 23, 24, 24, 27, 28, 28, 29, 29, 29, 30, 3, 6, 6, 13, 14, 15, 18, 20, 20, 22, 23, 23, 24, 26, 27, 28, 29, 29, 31, 1, 3, 4, 5, 6, 7, 8, 9, 11, 11, 12, 16, 16, 17, 17, 18, 18, 19, 19, 22, 23, 23, 24, 26, 26, 28, 29, 30, 30, 31, 4, 5, 5, 12, 14, 15, 17, 18, 21, 21, 23, 23, 24, 24, 27, 1, 3, 3, 4, 5, 6, 7, 10, 11, 14, 14, 15, 18, 20, 20, 21, 22, 25, 26, 27, 27, 29, 31, 2, 3, 4, 5, 7, 8, 11, 15, 16, 19, 21, 21, 21, 21, 22, 22, 24, 28, 28, 2, 2, 2, 5, 9, 9, 13, 14, 15, 15, 19, 19, 19, 19, 22, 23, 25, 25, 25, 26, 27, 27, 28, 1, 2, 6, 6, 7, 9, 14, 14, 15, 15, 15, 18, 20, 20, 22, 24, 26, 27, 27, 28, 28, 31, 1, 3, 3, 4, 4, 6, 8, 8, 9, 9, 12, 14, 16, 18, 19, 20, 22, 22, 22, 24, 25, 1, 2, 2, 4, 4, 5, 10, 10, 10, 10, 11, 11, 14, 14, 14, 16, 17, 18, 18, 18, 20, 21, 23, 25, 27, 28, 28, 29, 31, 3, 5, 5, 6, 7, 9, 11, 13, 14, 17, 17, 18, 18, 19, 21, 21, 23, 23, 23, 26, 26, 30, 30, 5, 5, 6, 6, 10, 10, 12, 15, 16, 17, 18, 18, 18, 19, 19, 21, 21, 21, 21, 21, 22, 22, 24, 24, 24, 25, 25, 26, 26, 28, 30, 31, 2, 2, 3, 7, 10, 11, 13, 13, 13, 15, 16, 16, 23, 23, 24, 26, 26, 28, 29, 30, 30, 30, 1, 2, 10, 10, 11, 13, 13, 13, 14, 15, 15, 15, 16, 16, 17, 18, 18, 18, 18, 18, 18, 18, 21, 22, 23, 25, 25, 26, 27, 28, 29, 29, 1, 2, 2, 2, 4, 4, 4, 5, 6, 7, 8, 9, 9, 10, 11, 12, 13, 14, 14, 16, 16, 18, 18, 20, 20, 22, 22, 23, 27, 27, 28, 28, 29, 29, 29, 30, 1, 1, 2, 5, 8, 8, 9, 14, 14, 16, 17, 18, 19, 20, 20, 21, 21, 22, 24, 24, 25, 26, 27, 27, 28, 28, 30, 2, 3, 6, 6, 6, 7, 9, 10, 13, 13, 16, 18, 20, 22, 25, 26, 27, 27, 28, 30, 31, 31, 1, 1, 1, 2, 3, 3, 7, 7, 7, 9, 14, 15, 16, 17, 18, 19, 20, 21, 24, 27, 27, 28, 29, 30, 1, 2, 2, 2, 4, 6, 8, 8, 10, 10, 10, 10, 11, 14, 14, 16, 17, 17, 17, 17, 18, 18, 19, 20, 21, 23, 23, 23, 24, 24, 24, 27, 29, 30, 30, 30, 1, 3, 3, 5, 6, 13, 13, 14, 14, 15, 17, 17, 19, 22, 22, 22, 25, 27, 27, 27, 28, 30, 31, 3, 5, 7, 8, 9, 9, 10, 12, 12, 14, 15, 15, 15, 21, 22, 23, 23, 23, 24, 25, 26, 28, 4, 4, 6, 9, 13, 14, 17, 19, 23, 24, 26, 27, 27, 27, 28, 28, 29, 29, 29, 30, 30, 31, 2, 3, 3, 4, 5, 5, 5, 5, 6, 9, 13, 14, 15, 15, 15, 15, 15, 16, 17, 18, 21, 25, 28, 1, 2, 7, 10, 13, 13, 13, 13, 13, 13, 13, 13, 14, 14, 14, 15, 16, 17, 20, 20, 22, 26, 27, 27, 29, 31, 2, 4, 5, 5, 5, 9, 12, 13, 17, 17, 21, 22, 23, 1, 4, 5, 6, 7, 7, 10, 11, 11, 12, 12, 13, 13, 13, 14, 14, 14, 16, 16, 18, 21, 21, 26, 27, 27, 30, 31, 3, 3, 5, 7, 10, 13, 18, 18, 18, 19, 20, 21, 22, 23, 24, 25, 25, 27, 29, 1, 1, 2, 2, 5, 6, 6, 7, 7, 10, 11, 12, 13, 15, 15, 15, 16, 17, 18, 21, 21, 21, 22, 23, 27, 27, 27, 27, 29, 30, 30, 2, 4, 4, 5, 5, 5, 6, 7, 7, 10, 12, 13, 16, 20, 22, 24, 25, 26, 27, 29, 30, 31, 1, 4, 5, 8, 9, 11, 13, 14, 15, 17, 17, 17, 18, 19, 21, 21, 21, 21, 23, 23, 23, 23, 25, 25, 27, 1, 2, 3, 3, 3, 8, 9, 10, 11, 12, 16, 21, 21, 22, 23, 24, 25, 27, 28, 2, 3, 3, 6, 7, 13, 13, 15, 18, 19, 22, 23, 24, 24, 25, 30, 1, 4, 5, 5, 10, 11, 13, 13, 15, 15, 16, 16, 19, 20, 21, 23, 25, 27, 1, 2, 6, 6, 6, 6, 7, 8, 8, 9, 9, 9, 10, 10, 11, 11, 12, 14, 16, 16, 16, 18, 21, 22, 23, 26, 30, 31, 31, 2, 3, 3, 5, 5, 5, 8, 12, 13, 13, 13, 13, 14, 14, 15, 15, 15, 15, 15, 15, 15, 18, 18, 19, 20, 24, 25, 27, 27, 28, 30, 4, 5, 6, 7, 9, 9, 10, 10, 14, 14, 15, 16, 17, 17, 20, 26, 26, 29, 29, 31, 31, 1, 2, 2, 2, 5, 6, 6, 8, 8, 12, 12, 14, 16, 21, 23, 24, 25, 25, 26, 28, 29, 30, 1, 2, 3, 5, 9, 11, 12, 12, 15, 15, 18, 19, 19, 20, 20, 21, 23, 24, 26, 26, 27, 30, 1, 1, 2, 3, 8, 8, 8, 8, 9, 10, 11, 14, 15, 16, 17, 20, 22, 23, 26, 27, 27, 29, 31, 2, 3, 4, 8, 9, 10, 10, 14, 15, 15, 22, 23, 27, 27, 28, 1, 1, 4, 5, 8, 10, 11, 13, 14, 15, 15, 15, 15, 16, 17, 18, 18, 18, 19, 21, 22, 22, 22, 25, 27, 28, 28, 28, 28, 28, 28, 30, 31, 1, 2, 4, 4, 5, 6, 6, 6, 7, 10, 11, 13, 15, 15, 15, 16, 17, 17, 17, 19, 20, 21, 21, 23, 24, 25, 25, 26, 28, 28, 28, 29, 29, 29, 30, 30, 2, 2, 8, 10, 11, 14, 15, 17, 17, 17, 18, 19, 19, 22, 22, 22, 23, 24, 25, 26, 30, 1, 2, 2, 3, 5, 7, 8, 9, 9, 9, 11, 11, 11, 12, 12, 12, 13, 14, 18, 21, 21, 22, 23, 23, 25, 28, 28, 28, 30, 3, 4, 4, 5, 5, 5, 6, 6, 7, 7, 10, 11, 16, 25, 25, 27, 28, 2, 2, 4, 6, 7, 9, 9, 9, 11, 12, 14, 15, 15, 16, 19, 21, 23, 24, 26, 29, 30, 30, 30, 31, 31, 3, 4, 5, 5, 6, 9, 10, 14, 15, 15, 17, 17, 17, 21, 21, 22, 24, 26, 28, 29, 2, 2, 4, 6, 10, 11, 13, 13, 14, 15, 15, 18, 19, 19, 20, 20, 20, 21, 22, 22, 23, 23, 25, 25, 26, 27, 27, 28, 29, 1, 1, 2, 6, 7, 10, 13, 15, 16, 17, 17, 18, 20, 20, 22, 22, 26, 27, 30, 2, 2, 2, 3, 4, 4, 6, 6, 6, 6, 7, 10, 14, 15, 16, 18, 20, 20, 20, 22, 25, 27, 28, 29, 30, 30, 2, 3, 5, 6, 6, 7, 9, 12, 19, 21, 22, 25, 25, 28, 29, 29, 30, 31, 1, 1, 1, 1, 1, 1, 1, 2, 3, 6, 9, 9, 9, 10, 12, 14, 15, 16, 16, 16, 16, 16, 20, 20, 22, 23, 25, 27, 30, 30, 30, 30, 3, 3, 3, 5, 5, 9, 9, 9, 10, 12, 15, 18, 19, 21, 21, 25, 26, 26, 30, 30, 1, 1, 4, 6, 7, 8, 11, 12, 14, 15, 16, 19, 21, 23, 23, 23, 23, 25, 28, 28, 28, 30, 2, 2, 4, 4, 7, 8, 11, 12, 13, 15, 15, 16, 16, 18, 19, 20, 22, 23, 24, 25, 26, 26, 29, 1, 1, 1, 1, 1, 1, 2, 2, 3, 4, 6, 7, 9, 9, 9, 10, 11, 12, 15, 16, 18, 23, 27, 27, 28, 29, 30, 30, 31, 2, 5, 8, 16, 16, 17, 17, 18, 20, 20, 20, 21, 21, 21, 22, 22, 22, 24, 25, 26, 27, 28, 1, 1, 2, 2, 2, 3, 6, 10, 10, 11, 11, 12, 12, 14, 14, 15, 16, 27, 28, 29, 29, 30, 2, 2, 2, 3, 4, 4, 4, 4, 4, 5, 8, 9, 11, 11, 11, 12, 13, 14, 17, 17, 17, 17, 18, 20, 20, 21, 23, 23, 23, 24, 26, 2, 3, 4, 5, 7, 8, 8, 11, 11, 12, 12, 14, 15, 15, 16, 18, 20, 24, 24, 27, 30, 1, 2, 3, 3, 3, 5, 5, 9, 11, 12, 12, 12, 13, 15, 16, 16, 17, 19, 20, 20, 20, 25, 25, 26, 29, 29, 3, 6, 9, 9, 10, 12, 13, 14, 14, 14, 17, 23, 28, 30, 6, 7, 8, 10, 12, 13, 15, 16, 17, 18, 20, 21, 22, 22, 23, 24, 25, 26, 26, 27, 28, 28, 29, 29, 31, 31, 1, 6, 7, 8, 10, 12, 17, 17, 19, 20, 21, 22, 24, 25, 26, 26, 26, 28, 28, 30, 1, 2, 2, 2, 4, 4, 5, 7, 10, 12, 13, 13, 13, 13, 14, 14, 14, 15, 17, 17, 19, 19, 19, 19, 20, 20, 23, 27, 28, 28, 31, 1, 2, 2, 2, 5, 6, 10, 11, 11, 16, 17, 18, 22, 24, 25, 26, 28, 28, 29, 30, 30, 4, 4, 5, 5, 7, 9, 11, 12, 12, 13, 13, 13, 15, 15, 17, 18, 19, 22, 25, 26, 26, 27, 27, 28, 28, 29, 1, 3, 3, 3, 4, 8, 9, 11, 11, 12, 14, 15, 15, 19, 21, 22, 24, 26, 26, 27, 28, 29, 31, 2, 3, 3, 5, 5, 8, 12, 15, 16, 16, 17, 18, 19, 21, 21, 21, 22, 25, 1, 3, 4, 5, 6, 6, 8, 9, 10, 13, 13, 14, 17, 17, 18, 20, 22, 24, 25, 25, 26, 28, 29, 30, 31, 1, 2, 2, 3, 4, 4, 4, 5, 8, 9, 9, 11, 12, 13, 13, 15, 17, 18, 21, 22, 27, 28, 9, 9, 9, 11, 13, 14, 14, 15, 20, 21, 23, 26, 29, 30, 31, 1, 1, 2, 3, 5, 5, 6, 8, 8, 8, 9, 10, 12, 13, 14, 15, 16, 19, 20, 20, 21, 21, 24, 24, 26, 27, 30, 7, 7, 11, 11, 12, 13, 16, 16, 16, 16, 18, 18, 19, 20, 20, 22, 22, 22, 24, 25, 25, 27, 28, 31, 1, 1, 1, 2, 4, 8, 8, 9, 9, 10, 10, 11, 17, 18, 19, 20, 21, 22, 24, 24, 25, 25, 26, 26, 30, 1, 1, 1, 3, 3, 4, 4, 8, 8, 8, 8, 10, 12, 12, 13, 13, 14, 14, 15, 18, 18, 19, 19, 20, 21, 21, 22, 23, 23, 24, 27, 28, 28, 29, 30, 1, 3, 5, 6, 6, 10, 11, 12, 12, 14, 23, 26, 27, 1, 2, 8, 8, 9, 9, 9, 11, 12, 15, 17, 18, 20, 21, 21, 22, 24, 24, 25, 26, 28, 29, 30, 3, 6, 7, 7, 8, 8, 8, 8, 9, 9, 10, 12, 15, 18, 20, 20, 21, 23, 23, 24, 24, 27, 28, 29, 30, 30, 30, 30, 2, 3, 3, 4, 4, 5, 8, 9, 13, 13, 13, 14, 15, 15, 17, 20, 20, 22, 25, 26, 26, 28, 30, 30, 31, 31, 1, 3, 5, 6, 6, 6, 10, 11, 11, 13, 15, 15, 17, 19, 23, 23, 23, 24, 26, 2, 3, 4, 5, 5, 7, 8, 11, 13, 19, 20, 22, 25, 26, 29, 30, 31, 1, 1, 3, 5, 5, 6, 6, 6, 7, 7, 8, 8, 8, 10, 12, 12, 12, 13, 13, 15, 19, 20, 20, 20, 21, 24, 25, 25, 27, 27, 4, 7, 7, 11, 12, 12, 13, 13, 14, 15, 16, 17, 18, 18, 18, 18, 22, 22, 22, 23, 25, 28, 3, 4, 6, 7, 10, 10, 12, 14, 15, 18, 18, 18, 18, 20, 21, 23, 23, 23, 23, 24, 27, 27, 28, 28, 29, 30, 1, 4, 6, 6, 6, 8, 12, 14, 15, 15, 17, 20, 20, 25, 25, 29, 29, 31, 2, 4, 5, 8, 9, 9, 11, 11, 12, 13, 17, 17, 17, 19, 20, 20, 24, 25, 25, 26, 26, 26, 29, 30, 30, 1, 1, 2, 2, 3, 5, 8, 9, 9, 10, 13, 14, 16, 16, 17, 17, 19, 21, 21, 21, 21, 22, 23, 23, 26, 26, 27, 27, 28, 28, 29, 29, 30, 30, 1, 1, 2, 3, 3, 5, 5, 8, 8, 10, 10, 11, 12, 14, 15, 16, 16, 18, 19, 20, 20, 20, 21, 22, 23, 23, 24, 25, 27, 29, 29, 3, 4, 6, 8, 8, 8, 9, 9, 16, 16, 17, 17, 19, 20, 20, 21, 21, 22, 22, 22, 30, 2, 4, 4, 5, 5, 5, 6, 7, 9, 12, 12, 14, 16, 17, 18, 18, 19, 19, 21, 2, 2, 2, 3, 3, 3, 4, 5, 6, 7, 8, 10, 10, 10, 10, 10, 10, 11, 12, 16, 17, 17, 19, 21, 23, 23, 25, 28, 28, 28, 30, 31, 1, 2, 3, 5, 7, 7, 8, 8, 10, 11, 12, 12, 14, 14, 16, 17, 17, 17, 17, 18, 20, 24, 24, 24, 24, 26, 26, 28, 1, 2, 2, 2, 4, 6, 7, 9, 11, 12, 13, 13, 14, 15, 15, 16, 16, 17, 18, 18, 18, 19, 20, 20, 21, 21, 21, 22, 22, 23, 24, 25, 25, 26, 28, 28, 29, 31, 1, 4, 4, 6, 8, 9, 11, 11, 11, 12, 12, 13, 14, 14, 19, 20, 21, 22, 24, 24, 27, 29, 29, 29, 30, 5, 5, 10, 11, 14, 16, 16, 16, 17, 18, 18, 19, 19, 20, 21, 23, 23, 24, 24, 26, 27, 29, 30, 30, 31, 1, 3, 4, 4, 6, 6, 7, 8, 8, 11, 12, 13, 13, 14, 15, 21, 21, 23, 25, 28, 29, 30, 2, 3, 3, 3, 5, 6, 7, 8, 8, 12, 16, 17, 18, 20, 22, 26, 27, 28, 29, 29, 29, 30, 30, 4, 4, 4, 5, 5, 5, 5, 5, 6, 9, 10, 11, 12, 13, 14, 17, 21, 22, 23, 23, 23, 24, 24, 24, 25, 25, 28, 29, 30, 31, 31, 3, 3, 4, 6, 7, 9, 9, 11, 13, 17, 17, 23, 25, 26, 27, 27, 28, 29, 30, 1, 2, 3, 6, 6, 9, 13, 14, 15, 16, 17, 17, 17, 19, 19, 23, 23, 23, 24, 25, 25, 25, 30, 1, 2, 2, 5, 7, 7, 10, 10, 12, 13, 13, 13, 13, 15, 16, 17, 17, 18, 18, 19, 19, 20, 26, 26, 26, 29, 1, 1, 3, 3, 4, 5, 9, 10, 11, 16, 19, 19, 19, 19, 20, 22, 26, 29, 31, 1, 2, 2, 2, 3, 3, 4, 7, 8, 10, 12, 15, 15, 17, 17, 18, 19, 20, 21, 21, 24, 24, 1, 3, 8, 10, 10, 10, 11, 12, 16, 18, 18, 19, 20, 20, 20, 20, 21, 21, 22, 23, 28, 3, 5, 7, 8, 9, 9, 9, 9, 10, 10, 12, 14, 15, 16, 17, 17, 17, 18, 18, 18, 20, 21, 22, 23, 24, 25, 26, 27, 28, 29, 29, 3, 4, 4, 5, 8, 8, 9, 9, 10, 13, 15, 16, 16, 18, 19, 20, 20, 22, 23, 24, 25, 27, 28, 28, 28, 4, 5, 5, 5, 5, 6, 6, 8, 9, 9, 9, 9, 10, 10, 10, 13, 16, 16, 18, 18, 19, 23, 24, 25, 28, 28, 31, 1, 1, 2, 5, 5, 6, 9, 9, 12, 12, 12, 12, 12, 12, 12, 12, 14, 14, 14, 14, 15, 15, 16, 17, 19, 21, 22, 22, 22, 24, 24, 26, 28, 30, 1, 4, 6, 7, 7, 9, 10, 11, 12, 15, 16, 16, 18, 18, 18, 19, 20, 21, 22, 22, 22, 22, 22, 22, 23, 23, 23, 24, 24, 25, 26, 28, 30, 31, 31, 1, 2, 3, 3, 7, 8, 12, 13, 14, 14, 15, 16, 16, 16, 17, 18, 19, 24, 24, 24, 29, 30, 30, 30, 31, 2, 2, 2, 3, 5, 10, 10, 13, 16, 18, 18, 18, 19, 20, 21, 23, 25, 25, 25, 26, 26, 27, 27, 1, 1, 3, 4, 5, 5, 5, 6, 6, 7, 8, 9, 10, 10, 11, 11, 12, 14, 16, 17, 17, 19, 19, 20, 22, 23, 23, 23, 24, 25, 26, 28, 28, 28, 28, 28, 31, 1, 2, 6, 9, 13, 13, 14, 14, 15, 15, 18, 19, 21, 21, 22, 22, 24, 25, 28, 28, 29, 2, 3, 6, 7, 7, 9, 10, 11, 11, 12, 13, 13, 14, 16, 16, 17, 18, 18, 19, 19, 19, 20, 21, 24, 24, 27, 30, 30, 4, 7, 8, 11, 12, 21, 22, 24, 24, 26, 26, 28, 28, 1, 3, 3, 4, 5, 8, 8, 9, 10, 13, 13, 16, 16, 18, 18, 18, 18, 20, 23, 25, 26, 28, 28, 2, 5, 6, 9, 9, 10, 11, 11, 13, 16, 18, 24, 24, 25, 25, 26, 28, 29, 30, 3, 4, 6, 6, 8, 8, 9, 12, 13, 14, 16, 16, 17, 18, 19, 19, 21, 21, 22, 23, 24, 26, 28, 1, 2, 3, 4, 5, 8, 10, 10, 10, 11, 14, 15, 18, 21, 24, 26, 27, 27, 27, 27, 27, 27, 27, 27, 29, 1, 2, 2, 2, 2, 3, 3, 3, 5, 7, 8, 8, 9, 12, 12, 15, 15, 18, 18, 20, 20, 20, 21, 21, 26, 27, 27, 28, 30, 30, 3, 5, 5, 6, 6, 7, 7, 11, 12, 13, 14, 14, 16, 16, 16, 17, 17, 17, 20, 21, 21, 23, 26, 28, 28, 28, 31, 31, 4, 7, 9, 11, 11, 12, 13, 14, 15, 19, 20, 21, 21, 21, 21, 21, 21, 24, 24, 26, 27, 29, 30, 31, 1, 2, 3, 3, 6, 10, 11, 12, 13, 14, 16, 17, 19, 22, 29, 29, 30, 1, 2, 3, 3, 4, 6, 7, 7, 8, 8, 10, 11, 11, 14, 15, 15, 17, 19, 20, 20, 21, 21, 26, 27, 28, 28, 30, 31, 31, 2, 3, 4, 6, 6, 7, 7, 9, 10, 13, 16, 16, 16, 18, 20, 20, 20, 21, 21, 22, 23, 25, 27, 29, 30, 30, 4, 5, 8, 11, 12, 15, 17, 20, 22, 23, 24, 26, 28, 28, 30, 30, 30, 3, 8, 12, 13, 13, 14, 14, 16, 18, 19, 19, 21, 22, 22, 26, 27, 27, 28, 31, 2, 5, 8, 9, 10, 11, 11, 14, 14, 14, 15, 15, 16, 17, 18, 21, 22, 22, 23, 23, 26, 26, 27, 27, 28, 2, 2, 3, 8, 8, 8, 10, 11, 11, 13, 14, 15, 23, 23, 24, 25, 27, 28, 28, 28, 30, 31, 31, 1, 1, 3, 3, 4, 7, 13, 13, 13, 14, 15, 16, 17, 21, 26, 27, 30, 1, 2, 3, 4, 5, 5, 5, 5, 7, 8, 9, 10, 11, 14, 16, 19, 19, 19, 21, 21, 24, 28, 29, 29, 29, 29, 3, 4, 4, 6, 7, 7, 10, 15, 15, 18, 23, 24, 27, 7, 8, 11, 12, 15, 20, 20, 21, 23, 24, 24, 26, 27, 28, 2, 4, 5, 6, 7, 11, 13, 13, 14, 15, 16, 18, 19, 20, 21, 22, 22, 23, 25, 29, 4, 4, 6, 10, 14, 18, 18, 19, 21, 21, 21, 23, 26, 26, 28, 30, 3, 3, 3, 3, 5, 5, 7, 8, 11, 18, 20, 21, 21, 23, 29, 29, 31, 4, 10, 12, 12, 14, 17, 17, 18, 18, 20, 21, 22, 22, 23, 27, 27, 27, 27, 28, 29, 29, 30, 3, 6, 8, 8, 12, 13, 13, 16, 25, 26, 27, 29, 29, 29, 30, 2, 2, 2, 4, 4, 7, 7, 10, 10, 10, 13, 14, 17, 21, 21, 22, 24, 25, 26, 26, 26, 28, 30, 31, 31, 1, 1, 1, 3, 4, 5, 5, 9, 10, 16, 16, 17, 18, 18, 20, 25, 28, 1, 1, 1, 2, 3, 3, 7, 7, 12, 17, 19, 20, 20, 22, 24, 24, 25, 26, 26, 26, 27, 28, 29, 1, 2, 4, 5, 6, 8, 11, 12, 13, 13, 19, 20, 23, 25, 25, 26, 26, 26, 1, 1, 3, 5, 6, 15, 16, 17, 17, 19, 20, 22, 23, 23, 31, 3, 6, 7, 7, 7, 7, 9, 10, 10, 11, 11, 14, 15, 16, 16, 17, 17, 17, 19, 22, 24, 25, 26, 26, 27, 28, 29, 1, 1, 2, 4, 4, 5, 6, 6, 7, 9, 11, 12, 18, 23, 24, 29, 31, 1, 1, 6, 6, 8, 9, 12, 13, 14, 14, 14, 18, 21, 25, 27, 28, 30, 31, 1, 6, 8, 11, 15, 16, 16, 17, 21, 22, 23, 26, 27, 3, 3, 4, 5, 6, 6, 6, 6, 7, 7, 8, 10, 12, 14, 15, 15, 23, 24, 24, 25, 27, 30, 2, 3, 3, 4, 7, 11, 14, 15, 15, 15, 15, 16, 16, 16, 16, 16, 17, 17, 17, 17, 18, 20, 20, 20, 25, 28, 30, 2, 3, 8, 9, 15, 16, 17, 17, 17, 22, 23, 24, 26, 28, 31, 31, 31, 31, 31, 3, 4, 7, 7, 10, 13, 13, 15, 18, 19, 21, 23, 24, 24, 24, 25, 31, 31, 1, 3, 5, 6, 7, 8, 8, 9, 12, 14, 16, 23, 23, 23, 26, 27, 1, 4, 6, 14, 15, 16, 17, 23, 24, 30, 30, 30, 30, 3, 7, 10, 20, 20, 23, 25, 26, 29, 2, 3, 4, 5, 5, 10, 11, 12, 12, 12, 14, 14, 17, 20, 24, 24, 24, 24, 26, 29, 2, 6, 7, 9, 10, 11, 14, 16, 16, 16, 17, 20, 20, 21, 21, 26, 28, 29, 29, 4, 6, 12, 14, 20, 20, 21, 27, 28, 29, 31, 31, 1, 3, 3, 4, 4, 7, 7, 7, 9, 11, 13, 13, 14, 15, 16, 16, 16, 21, 23, 28, 29, 30, 31, 4, 5, 5, 7, 8, 10, 12, 13, 14, 15, 15, 17, 19, 20, 23, 24, 26, 27, 28, 1, 3, 5, 6, 8, 10, 14, 16, 17, 18, 19, 19, 21, 22, 24, 27, 29, 2, 4, 5, 7, 11, 16, 17, 19, 20, 21, 21, 22, 22, 25, 25, 27, 27, 28, 1, 3, 5, 7, 7, 8, 10, 10, 10, 11, 12, 15, 17, 20, 24, 28, 28, 29, 3, 4, 6, 7, 8, 10, 10, 12, 12, 13, 14, 22, 29, 30, 31, 2, 4, 5, 5, 7, 8, 10, 11, 13, 16, 18, 22, 23, 23, 25, 25, 1, 2, 4, 6, 6, 10, 16, 16, 19, 27, 27, 27, 28, 1, 3, 5, 11, 12, 15, 17, 17, 17, 17, 18, 18, 18, 18, 19, 23, 23, 27, 28, 4, 6, 9, 13, 15, 15, 16, 25, 26, 26, 26, 29, 1, 2, 5, 8, 8, 8, 9, 10, 10, 13, 14, 16, 18, 19, 19, 20, 22, 23, 24, 27, 2, 5, 5, 7, 7, 7, 9, 10, 12, 13, 13, 14, 16, 18, 20, 22, 23, 24, 26, 28, 29, 3, 7, 8, 9, 11, 11, 11, 18, 23, 25, 3, 8, 9, 9, 9, 12, 14, 14, 17, 19, 27, 27, 30, 2, 4, 5, 6, 7, 7, 7, 8, 10, 10, 10, 10, 11, 13, 13, 20, 20, 24, 25, 28, 30, 31, 4, 6, 7, 8, 10, 14, 16, 20, 20, 22, 22, 23, 25, 25, 26, 29, 29, 30, 30, 2, 2, 2, 3, 5, 13, 13, 13, 14, 14, 15, 17, 19, 19, 20, 23, 23, 26, 27, 27, 29, 29, 2, 5, 5, 6, 11, 13, 17, 17, 18, 19, 20, 21, 23, 24, 26, 26, 26, 28, 30, 1, 1, 3, 3, 5, 5, 17, 17, 18, 22, 23, 23, 24, 24, 25, 25, 25, 26, 27, 28, 28, 5, 6, 6, 7, 8, 10, 15, 21, 22, 25, 25, 25, 25, 25, 26, 26, 27, 29, 30, 1, 5, 6, 6, 7, 8, 9, 16, 19, 21, 22, 28, 28, 28, 6, 9, 9, 12, 13, 15, 16, 18, 19, 23, 24, 25, 26, 27, 27, 28, 28, 28, 1, 2, 2, 6, 6, 7, 8, 15, 16, 16, 18, 20, 21, 24, 24, 25, 29, 29, 29, 30, 3, 5, 6, 8, 13, 13, 15, 15, 16, 17, 19, 25, 25, 26, 28, 28, 28, 29, 30, 31, 31, 2, 3, 5, 9, 10, 13, 15, 15, 17, 22, 24, 26, 26, 27, 28, 29, 29, 31, 3, 3, 5, 6, 6, 10, 14, 14, 16, 16, 17, 18, 20, 21, 22, 23, 24, 24, 25, 27, 29, 29, 4, 5, 6, 6, 7, 8, 9, 11, 12, 17, 18, 19, 20, 23, 23, 23, 25, 28, 31, 3, 5, 5, 8, 11, 11, 12, 12, 12, 12, 16, 17, 19, 20, 20, 22, 24, 25, 25, 26, 27, 27, 27, 28, 29, 29, 30, 1, 4, 4, 7, 8, 9, 11, 12, 13, 16, 16, 17, 18, 23, 26, 30, 30, 31, 5, 6, 9, 11, 12, 13, 13, 13, 13, 18, 22, 22, 26, 26, 28, 28, 29, 30, 31, 10, 10, 10, 14, 16, 17, 17, 20, 21, 23, 24, 26, 2, 3, 4, 4, 8, 15, 18, 18, 18, 21, 25, 26, 26, 27, 29, 30, 30, 31, 1, 7, 14, 15, 15, 18, 19, 21, 27, 28, 28, 30, 30, 1, 1, 7, 8, 9, 9, 9, 9, 10, 12, 13, 17, 19, 20, 24, 25, 26, 27, 29, 30, 30, 31, 31, 2, 4, 5, 6, 7, 8, 9, 10, 12, 13, 17, 17, 21, 23, 23, 25, 27, 30, 30, 1, 4, 5, 6, 8, 8, 8, 8, 11, 12, 12, 15, 16, 16, 18, 20, 21, 24, 25, 26, 27, 27, 29, 3, 6, 12, 18, 18, 19, 19, 21, 22, 25, 26, 27, 27, 27, 31, 1, 1, 2, 3, 6, 8, 9, 12, 12, 14, 16, 17, 18, 22, 25, 26, 30, 2, 3, 4, 4, 7, 9, 10, 11, 11, 12, 12, 12, 13, 14, 14, 18, 18, 20, 21, 25, 27, 27, 29, 29, 1, 3, 8, 8, 10, 11, 11, 11, 13, 14, 19, 24, 24, 25, 1, 1, 2, 8, 9, 12, 14, 18, 21, 25, 1, 2, 3, 5, 6, 10, 16, 17, 18, 21, 21, 22, 24, 24, 27, 29, 31, 7, 9, 10, 10, 11, 16, 18, 20, 25, 26, 27], 'hour': ['06', '06', '06', '17', '06', '13', '05', '06', '06', '09', '20', '20', '06', '06', '06', '09', '06', '06', '13', '22', '06', '09', '13', '13', '20', '06', '06', '06', '21', '06', '06', '13', '13', '13', '19', '06', '06', '06', '11', '06', '06', '06', '13', '05', '06', '06', '13', '06', '06', '06', '06', '06', '20', '06', '09', '06', '06', '06', '06', '14', '06', '09', '09', '20', '06', '06', '20', '06', '06', '06', '13', '13', '13', '06', '06', '08', '09', '05', '06', '09', '13', '06', '06', '06', '20', '06', '06', '12', '20', '06', '06', '11', '06', '05', '06', '06', '06', '09', '10', '06', '06', '06', '06', '08', '06', '06', '08', '06', '05', '06', '06', '20', '06', '06', '06', '13', '13', '13', '06', '06', '18', '06', '13', '13', '13', '16', '11', '11', '14', '20', '06', '06', '11', '06', '06', '06', '06', '12', '12', '12', '06', '06', '09', '06', '13', '13', '13', '06', '06', '13', '20', '06', '06', '22', '06', '06', '06', '11', '13', '21', '06', '06', '06', '06', '13', '13', '13', '10', '13', '19', '20', '06', '06', '19', '05', '06', '06', '13', '20', '05', '06', '16', '06', '06', '06', '06', '06', '09', '21', '06', '06', '09', '12', '12', '12', '13', '13', '13', '06', '07', '20', '05', '06', '07', '09', '14', '22', '06', '09', '06', '20', '06', '07', '05', '13', '19', '06', '07', '09', '06', '06', '09', '06', '06', '06', '11', '05', '20', '06', '06', '13', '13', '13', '16', '06', '11', '05', '06', '20', '06', '06', '06', '06', '06', '16', '05', '06', '06', '12', '12', '12', '19', '20', '23', '23', '06', '20', '20', '13', '20', '03', '03', '05', '05', '06', '20', '06', '06', '20', '20', '06', '05', '06', '06', '06', '20', '20', '06', '06', '13', '06', '06', '20', '06', '06', '06', '09', '06', '06', '06', '06', '06', '16', '05', '06', '06', '20', '06', '05', '06', '06', '09', '10', '14', '20', '09', '17', '20', '20', '21', '06', '20', '22', '22', '06', '06', '09', '06', '06', '06', '06', '13', '14', '19', '06', '06', '11', '15', '08', '06', '06', '13', '05', '06', '09', '21', '06', '06', '06', '06', '06', '06', '06', '09', '06', '13', '13', '13', '07', '17', '06', '06', '20', '09', '16', '00', '06', '21', '07', '12', '06', '06', '06', '08', '10', '12', '19', '20', '06', '06', '06', '06', '06', '06', '06', '21', '13', '21', '06', '06', '19', '20', '06', '07', '06', '13', '06', '13', '00', '06', '06', '06', '09', '17', '21', '06', '13', '09', '06', '06', '19', '20', '06', '20', '20', '07', '13', '13', '06', '06', '15', '06', '06', '13', '06', '06', '06', '06', '06', '06', '13', '06', '09', '06', '13', '14', '14', '14', '06', '06', '13', '20', '06', '06', '13', '06', '13', '05', '06', '05', '06', '09', '06', '05', '13', '06', '14', '06', '06', '06', '09', '20', '06', '20', '19', '06', '06', '20', '06', '06', '06', '09', '06', '13', '20', '06', '20', '06', '09', '06', '07', '09', '06', '09', '09', '13', '17', '06', '06', '20', '21', '06', '09', '10', '06', '20', '06', '06', '20', '06', '21', '06', '09', '06', '21', '08', '13', '06', '13', '06', '06', '06', '06', '06', '06', '16', '06', '20', '06', '16', '22', '06', '16', '06', '06', '07', '07', '21', '06', '06', '06', '06', '13', '16', '13', '13', '13', '22', '23', '13', '20', '14', '14', '16', '16', '16', '20', '06', '06', '06', '07', '06', '07', '19', '06', '12', '06', '13', '06', '06', '06', '11', '19', '19', '06', '10', '05', '16', '06', '17', '20', '21', '06', '06', '20', '20', '05', '06', '06', '06', '13', '06', '06', '06', '20', '21', '06', '13', '06', '05', '21', '06', '06', '20', '20', '06', '06', '09', '06', '05', '06', '07', '05', '06', '19', '06', '06', '13', '05', '06', '13', '06', '06', '06', '06', '06', '06', '19', '13', '17', '06', '06', '06', '07', '13', '06', '11', '06', '10', '06', '06', '06', '16', '06', '12', '06', '06', '09', '06', '21', '19', '07', '06', '16', '14', '06', '20', '06', '06', '07', '11', '06', '06', '06', '06', '06', '09', '08', '13', '20', '20', '06', '09', '06', '05', '13', '20', '06', '13', '20', '14', '10', '06', '06', '06', '06', '06', '12', '09', '06', '13', '16', '09', '06', '06', '06', '06', '06', '06', '20', '06', '11', '06', '07', '06', '20', '06', '12', '06', '17', '09', '13', '20', '09', '06', '06', '06', '05', '06', '06', '06', '09', '06', '06', '13', '16', '13', '20', '14', '05', '11', '09', '13', '17', '06', '06', '09', '06', '06', '06', '20', '06', '13', '13', '13', '11', '05', '08', '13', '13', '09', '06', '13', '12', '21', '10', '06', '13', '06', '20', '06', '11', '13', '13', '13', '06', '13', '20', '06', '06', '13', '12', '19', '06', '07', '06', '21', '06', '13', '06', '13', '20', '16', '20', '07', '20', '20', '06', '16', '06', '06', '06', '06', '06', '17', '06', '16', '20', '06', '12', '06', '17', '06', '06', '09', '13', '22', '10', '13', '13', '13', '13', '13', '06', '14', '14', '14', '09', '06', '06', '14', '06', '06', '07', '06', '16', '06', '09', '09', '13', '06', '11', '07', '22', '06', '06', '06', '06', '06', '13', '06', '13', '13', '13', '13', '06', '09', '13', '22', '06', '13', '06', '13', '06', '19', '06', '06', '05', '13', '14', '14', '14', '06', '13', '06', '06', '13', '13', '13', '06', '08', '06', '11', '16', '05', '06', '09', '13', '19', '06', '13', '09', '11', '20', '20', '20', '09', '13', '13', '13', '06', '06', '20', '06', '08', '09', '06', '12', '07', '09', '06', '10', '20', '19', '18', '06', '20', '06', '06', '20', '20', '20', '13', '13', '13', '16', '16', '06', '05', '06', '13', '13', '13', '13', '20', '17', '06', '20', '13', '14', '07', '09', '06', '06', '10', '13', '06', '06', '13', '05', '06', '06', '05', '20', '05', '06', '20', '20', '05', '06', '06', '06', '06', '12', '07', '16', '05', '11', '06', '20', '13', '20', '13', '06', '13', '06', '13', '13', '13', '13', '06', '06', '13', '06', '08', '10', '13', '06', '06', '06', '09', '06', '12', '05', '06', '16', '13', '20', '06', '06', '09', '06', '05', '06', '13', '09', '12', '13', '06', '13', '13', '13', '13', '20', '06', '06', '06', '13', '06', '06', '06', '06', '06', '20', '06', '20', '05', '06', '06', '16', '06', '06', '21', '20', '06', '12', '13', '13', '13', '06', '16', '06', '06', '06', '13', '06', '06', '13', '06', '06', '13', '06', '06', '06', '12', '06', '14', '16', '06', '20', '06', '22', '09', '20', '20', '20', '13', '05', '06', '12', '09', '13', '21', '21', '06', '10', '06', '11', '10', '06', '06', '13', '07', '11', '20', '06', '09', '06', '13', '20', '06', '06', '06', '13', '06', '06', '06', '06', '06', '13', '06', '13', '13', '13', '17', '17', '06', '06', '06', '07', '06', '06', '12', '19', '06', '06', '13', '06', '19', '19', '06', '06', '06', '06', '07', '09', '20', '05', '06', '09', '20', '06', '05', '12', '13', '05', '16', '06', '06', '11', '06', '06', '06', '17', '06', '20', '06', '08', '20', '06', '16', '12', '13', '20', '21', '21', '07', '06', '06', '06', '09', '06', '06', '07', '20', '06', '06', '10', '07', '06', '13', '13', '13', '14', '06', '06', '06', '13', '10', '06', '01', '20', '21', '07', '11', '13', '13', '13', '13', '13', '13', '20', '06', '17', '17', '11', '06', '06', '06', '20', '20', '06', '20', '21', '11', '08', '20', '06', '06', '06', '22', '10', '20', '16', '06', '10', '06', '06', '05', '10', '20', '06', '05', '06', '11', '10', '06', '13', '06', '13', '13', '13', '13', '05', '13', '14', '14', '20', '17', '06', '20', '06', '06', '20', '13', '06', '11', '13', '05', '06', '13', '06', '06', '06', '10', '21', '17', '06', '09', '06', '06', '06', '06', '13', '13', '05', '06', '06', '17', '20', '06', '06', '06', '13', '06', '06', '06', '20', '11', '13', '13', '06', '21', '20', '13', '13', '13', '06', '06', '13', '13', '13', '13', '06', '06', '09', '05', '06', '09', '06', '11', '20', '06', '20', '21', '06', '06', '06', '06', '13', '06', '06', '06', '16', '05', '06', '06', '12', '06', '06', '13', '06', '06', '06', '06', '06', '20', '06', '16', '18', '06', '09', '08', '08', '13', '13', '06', '06', '09', '17', '06', '11', '06', '06', '13', '06', '08', '21', '13', '13', '17', '06', '13', '06', '06', '11', '13', '06', '17', '16', '20', '20', '06', '05', '13', '09', '15', '06', '13', '13', '09', '06', '17', '08', '06', '06', '20', '06', '06', '10', '13', '13', '07', '06', '06', '14', '05', '06', '06', '13', '21', '16', '05', '20', '06', '10', '06', '06', '06', '13', '13', '13', '13', '06', '08', '06', '08', '20', '11', '12', '06', '10', '06', '10', '13', '13', '13', '06', '20', '16', '06', '13', '11', '06', '13', '06', '06', '06', '13', '13', '13', '06', '06', '05', '06', '08', '17', '05', '07', '06', '12', '12', '12', '12', '12', '12', '12', '20', '09', '07', '13', '07', '06', '14', '06', '13', '06', '06', '06', '13', '06', '06', '06', '06', '13', '21', '06', '20', '06', '19', '06', '07', '13', '06', '13', '06', '09', '06', '06', '09', '11', '06', '06', '13', '06', '06', '13', '21', '13', '13', '05', '06', '06', '06', '13', '21', '08', '06', '09', '09', '11', '07', '06', '20', '06', '08', '10', '06', '06', '06', '16', '20', '06', '16', '13', '13', '16', '06', '11', '06', '06', '06', '12', '06', '11', '06', '06', '07', '13', '20', '06', '06', '06', '20', '06', '06', '06', '06', '09', '06', '06', '19', '06', '06', '13', '11', '09', '20', '06', '06', '13', '06', '07', '13', '06', '06', '11', '20', '06', '06', '06', '19', '05', '06', '09', '06', '06', '11', '06', '13', '13', '13', '06', '10', '01', '06', '16', '06', '06', '19', '19', '19', '21', '20', '06', '06', '11', '13', '13', '13', '20', '11', '06', '06', '06', '13', '06', '06', '06', '09', '06', '06', '13', '20', '06', '06', '22', '06', '13', '13', '13', '13', '09', '11', '20', '06', '20', '06', '13', '13', '13', '13', '20', '13', '13', '13', '06', '06', '06', '09', '06', '20', '06', '09', '13', '06', '20', '20', '13', '13', '20', '13', '13', '13', '07', '06', '09', '13', '19', '06', '07', '07', '06', '13', '06', '06', '06', '13', '13', '13', '13', '13', '06', '06', '09', '10', '06', '06', '06', '13', '06', '06', '19', '06', '06', '06', '17', '06', '06', '06', '19', '06', '13', '13', '06', '11', '05', '06', '22', '14', '06', '16', '20', '06', '10', '06', '06', '06', '19', '06', '06', '13', '16', '10', '14', '09', '06', '11', '06', '13', '09', '17', '06', '06', '06', '06', '06', '20', '06', '07', '06', '06', '06', '06', '10', '13', '06', '13', '06', '16', '09', '14', '14', '06', '20', '09', '21', '06', '06', '06', '06', '06', '06', '06', '06', '06', '06', '06', '13', '06', '13', '06', '05', '20', '06', '06', '12', '06', '06', '17', '06', '21', '06', '16', '06', '13', '19', '06', '06', '06', '13', '13', '06', '06', '05', '13', '06', '06', '06', '10', '06', '06', '17', '06', '06', '06', '16', '13', '06', '06', '22', '06', '06', '13', '13', '13', '13', '21', '13', '06', '06', '13', '14', '13', '03', '03', '16', '06', '10', '06', '13', '13', '06', '06', '07', '06', '06', '06', '06', '06', '06', '07', '06', '06', '06', '06', '09', '05', '06', '20', '05', '06', '06', '13', '13', '13', '13', '13', '13', '06', '06', '06', '06', '06', '08', '06', '17', '13', '14', '06', '06', '14', '14', '14', '06', '07', '11', '09', '06', '12', '13', '13', '13', '21', '06', '14', '14', '06', '06', '05', '06', '14', '06', '13', '06', '06', '06', '11', '20', '06', '06', '11', '06', '09', '09', '20', '13', '21', '06', '06', '05', '06', '06', '14', '06', '20', '13', '09', '12', '12', '12', '05', '13', '13', '13', '06', '06', '09', '06', '17', '10', '06', '11', '06', '11', '05', '20', '06', '13', '13', '20', '06', '06', '06', '06', '06', '06', '06', '13', '06', '13', '13', '13', '13', '20', '06', '20', '06', '07', '06', '16', '13', '13', '19', '06', '06', '07', '06', '06', '06', '06', '06', '16', '06', '08', '22', '22', '20', '11', '06', '06', '06', '20', '06', '10', '13', '05', '06', '17', '09', '13', '20', '06', '06', '16', '06', '09', '13', '09', '16', '06', '20', '09', '13', '20', '08', '20', '06', '06', '09', '21', '06', '06', '06', '20', '09', '06', '06', '06', '06', '22', '13', '06', '16', '20', '13', '13', '13', '13', '13', '20', '20', '13', '13', '09', '22', '22', '11', '06', '19', '06', '06', '11', '13', '13', '06', '06', '08', '06', '13', '20', '06', '09', '13', '13', '13', '06', '13', '06', '13', '06', '13', '11', '17', '17', '13', '20', '13', '07', '10', '10', '17', '06', '21', '06', '06', '07', '14', '20', '11', '13', '06', '06', '06', '06', '20', '06', '06', '06', '07', '09', '06', '12', '12', '12', '06', '13', '06', '06', '14', '05', '20', '06', '09', '06', '06', '13', '13', '13', '13', '13', '06', '06', '13', '06', '14', '06', '06', '06', '19', '06', '20', '16', '06', '09', '05', '14', '14', '06', '06', '06', '06', '16', '06', '06', '11', '06', '14', '05', '13', '11', '17', '06', '19', '13', '06', '06', '13', '09', '05', '06', '06', '06', '13', '13', '22', '22', '06', '06', '13', '17', '05', '06', '13', '13', '19', '06', '06', '13', '11', '06', '13', '13', '13', '06', '07', '13', '06', '06', '06', '13', '13', '13', '14', '06', '06', '09', '06', '13', '20', '06', '09', '06', '07', '13', '06', '11', '05', '06', '20', '06', '06', '06', '12', '06', '06', '06', '06', '19', '06', '20', '21', '11', '11', '06', '06', '06', '06', '06', '06', '13', '13', '13', '13', '07', '13', '09', '10', '06', '20', '09', '06', '11', '06', '06', '06', '13', '05', '06', '06', '11', '20', '05', '13', '06', '06', '17', '20', '06', '06', '21', '09', '09', '06', '05', '06', '06', '06', '06', '06', '06', '09', '05', '06', '06', '13', '07', '13', '06', '07', '20', '06', '20', '10', '13', '13', '13', '06', '17', '06', '06', '12', '20', '13', '13', '06', '06', '06', '06', '22', '06', '06', '06', '06', '06', '09', '06', '05', '06', '06', '06', '20', '16', '07', '20', '06', '11', '06', '09', '09', '16', '06', '07', '06', '13', '06', '12', '06', '09', '06', '06', '10', '06', '09', '06', '20', '06', '06', '07', '06', '13', '06', '13', '13', '10', '06', '06', '06', '06', '06', '13', '06', '13', '06', '19', '17', '17', '13', '06', '06', '07', '06', '06', '19', '21', '06', '10', '07', '06', '06', '06', '06', '20', '06', '13', '22', '06', '11', '06', '06', '06', '20', '06', '06', '06', '06', '20', '21', '10', '12', '21', '16', '20', '13', '13', '13', '06', '06', '16', '20', '06', '06', '05', '06', '13', '13', '16', '06', '16', '06', '10', '06', '13', '06', '06', '06', '06', '06', '06', '06', '17', '22', '06', '13', '06', '10', '07', '06', '20', '20', '05', '07', '17', '20', '06', '13', '13', '13', '20', '06', '10', '13', '13', '06', '14', '06', '06', '06', '06', '06', '20', '06', '10', '06', '06', '06', '06', '06', '06', '06', '06', '06', '13', '06', '06', '09', '21', '18', '10', '01', '06', '13', '21', '06', '09', '06', '06', '06', '13', '06', '06', '20', '13', '06', '06', '06', '09', '13', '05', '05', '06', '06', '06', '21', '14', '06', '06', '10', '20', '09', '13', '14', '06', '13', '13', '13', '06', '07', '07', '06', '06', '20', '06', '19', '15', '06', '13', '06', '13', '06', '14', '06', '13', '13', '13', '13', '16', '06', '11', '06', '16', '06', '06', '13', '06', '06', '17', '06', '09', '13', '06', '06', '06', '13', '06', '05', '06', '11', '06', '16', '13', '21', '13', '06', '06', '05', '06', '16', '06', '07', '09', '20', '06', '08', '11', '06', '06', '06', '13', '06', '06', '06', '06', '11', '06', '06', '06', '08', '20', '06', '06', '06', '07', '06', '06', '09', '06', '13', '07', '07', '06', '06', '06', '06', '06', '09', '09', '10', '13', '13', '13', '11', '13', '13', '13', '06', '07', '06', '06', '13', '13', '13', '07', '05', '06', '09', '05', '06', '06', '06', '07', '06', '06', '16', '06', '11', '14', '06', '06', '09', '13', '13', '13', '13', '13', '13', '13', '06', '06', '06', '06', '16', '13', '06', '17', '20', '09', '20', '21', '06', '06', '06', '13', '12', '06', '05', '06', '06', '07', '06', '06', '09', '06', '14', '06', '19', '09', '09', '06', '06', '07', '06', '06', '06', '13', '13', '09', '05', '17', '06', '16', '06', '11', '22', '06', '19', '05', '20', '09', '20', '06', '06', '06', '06', '06', '07', '07', '06', '09', '13', '06', '06', '06', '06', '06', '19', '07', '06', '17', '06', '07', '06', '06', '06', '21', '06', '06', '10', '05', '06', '06', '06', '06', '06', '13', '06', '06', '06', '07', '13', '06', '06', '09', '06', '13', '06', '06', '00', '14', '06', '06', '06', '14', '06', '17', '06', '06', '06', '06', '16', '18', '18', '06', '13', '16', '06', '05', '06', '06', '12', '06', '18', '06', '11', '14', '06', '13', '05', '12', '13', '06', '13', '09', '20', '16', '06', '10', '05', '06', '18', '13', '17', '06', '07', '06', '06', '20', '11', '16', '06', '13', '06', '06', '06', '20', '19', '06', '06', '08', '17', '20', '06', '06', '06', '09', '20', '11', '13', '06', '05', '06', '06', '20', '06', '12', '12', '12', '06', '13', '13', '06', '06', '06', '06', '06', '11', '12', '12', '12', '17', '20', '06', '05', '11', '05', '13', '07', '06', '06', '06', '09', '06', '09', '13', '06', '06', '13', '06', '13', '06', '06', '13', '06', '06', '06', '13', '06', '13', '06', '09', '06', '06', '06', '07', '09', '06', '06', '06', '11', '13', '20', '06', '09', '06', '16', '06', '06', '20', '13', '06', '06', '06', '06', '06', '13', '20', '13', '13', '13', '06', '20', '05', '13', '13', '13', '06', '06', '13', '12', '12', '12', '06', '16', '06', '06', '06', '13', '06', '06', '13', '13', '13', '06', '11', '12', '19', '07', '06', '13', '13', '13', '06', '20', '06', '06', '21', '16', '13', '06', '06', '06', '06', '06', '06', '06', '20', '06', '06', '13', '13', '09', '06', '14', '14', '14', '06', '06', '06', '06', '06', '23', '20', '07', '20', '16', '16', '06', '00', '06', '06', '21', '06', '17', '06', '06', '06', '06', '10', '20', '11', '13', '07', '10', '06', '10', '06', '06', '06', '06', '20', '06', '10', '09', '06', '21', '13', '13', '13', '07', '16', '13', '06', '13', '12', '20', '19', '06', '06', '20', '06', '06', '09', '06', '13', '13', '05', '22', '07', '13', '13', '06', '06', '13', '13', '13', '05', '12', '20', '06', '06', '07', '20', '06', '06', '13', '05', '13', '14', '06', '13', '14', '06', '13', '20', '06', '06', '13', '20', '06', '06', '11', '06', '06', '06', '10', '06', '10', '06', '13', '06', '18', '13', '06', '16', '06', '06', '06', '13', '06', '06', '06', '06', '05', '06', '13', '09', '06', '05', '11', '14', '06', '06', '06', '08', '09', '06', '06', '06', '13', '06', '06', '06', '12', '12', '06', '12', '06', '17', '22', '13', '13', '13', '21', '06', '06', '06', '09', '06', '09', '06', '09', '06', '06', '13', '19', '06', '06', '10', '14', '16', '06', '19', '06', '13', '21', '06', '10', '10', '12', '12', '06', '20', '06', '13', '05', '14', '12', '13', '19', '06', '06', '07', '06', '06', '06', '06', '06', '06', '06', '16', '06', '06', '06', '06', '06', '09', '13', '06', '06', '13', '13', '20', '20', '06', '06', '06', '06', '06', '14', '06', '13', '13', '13', '05', '20', '06', '06', '16', '22', '06', '06', '06', '06', '13', '13', '13', '06', '13', '07', '06', '06', '20', '10', '10', '13', '13', '13', '13', '13', '06', '07', '05', '06', '09', '16', '06', '12', '06', '17', '19', '06', '06', '06', '06', '06', '05', '06', '08', '20', '06', '06', '06', '06', '14', '06', '20', '06', '16', '06', '16', '06', '13', '13', '13', '13', '06', '06', '06', '20', '06', '08', '06', '09', '13', '13', '13', '13', '13', '13', '06', '06', '06', '13', '20', '06', '05', '19', '17', '07', '23', '14', '19', '19', '05', '06', '06', '12', '06', '06', '06', '13', '13', '13', '14', '14', '14', '18', '06', '09', '10', '20', '06', '09', '06', '07', '06', '20', '06', '06', '09', '06', '20', '06', '14', '13', '21', '13', '06', '09', '13', '06', '05', '13', '13', '06', '06', '06', '06', '06', '09', '06', '13', '06', '05', '09', '13', '13', '13', '14', '06', '22', '22', '06', '06', '06', '06', '06', '05', '06', '09', '06', '09', '06', '06', '06', '06', '06', '06', '06', '10', '06', '06', '06', '20', '06', '06', '21', '06', '06', '20', '06', '06', '06', '06', '14', '06', '06', '06', '13', '23', '08', '08', '06', '20', '06', '06', '20', '06', '22', '06', '06', '13', '13', '13', '06', '06', '06', '13', '05', '06', '06', '14', '12', '12', '12', '06', '06', '06', '13', '06', '09', '19', '06', '18', '06', '08', '11', '05', '09', '06', '10', '06', '09', '13', '13', '13', '10', '20', '06', '06', '09', '12', '12', '12', '06', '16', '06', '06', '06', '06', '06', '05', '08', '06', '06', '16', '07', '09', '20', '13', '13', '05', '06', '06', '13', '17', '06', '16', '16', '06', '07', '06', '06', '09', '13', '06', '06', '20', '06', '10', '20', '11', '06', '06', '13', '13', '13', '06', '06', '13', '19', '12', '06', '16', '06', '20', '06', '14', '13', '06', '16', '11', '20', '19', '21', '06', '09', '13', '06', '06', '06', '13', '10', '19', '09', '06', '06', '06', '06', '12', '06', '06', '13', '14', '05', '05', '06', '06', '06', '06', '10', '05', '06', '13', '13', '06', '06', '07', '05', '06', '06', '05', '06', '06', '13', '22', '17', '16', '16', '17', '06', '06', '13', '06', '20', '20', '13', '20', '20', '05', '06', '06', '06', '06', '11', '06', '19', '06', '09', '06', '06', '06', '06', '13', '17', '05', '06', '06', '06', '14', '20', '06', '13', '06', '17', '16', '21', '06', '05', '13', '13', '13', '13', '13', '13', '17', '20', '09', '06', '13', '13', '13', '06', '06', '20', '06', '06', '06', '20', '06', '06', '06', '06', '06', '06', '06', '06', '06', '20', '06', '06', '06', '06', '13', '06', '06', '20', '13', '17', '20', '06', '20', '06', '20', '14', '09', '13', '06', '09', '13', '13', '20', '22', '22', '22', '13', '00', '06', '09', '06', '13', '13', '13', '06', '13', '10', '06', '11', '06', '12', '06', '13', '06', '07', '06', '05', '06', '06', '11', '13', '13', '13', '06', '09', '13', '19', '20', '17', '06', '13', '20', '06', '17', '09', '06', '12', '09', '06', '09', '06', '06', '20', '20', '06', '10', '06', '09', '06', '11', '13', '17', '13', '13', '13', '06', '06', '06', '06', '22', '14', '06', '07', '06', '06', '07', '16', '06', '09', '06', '09', '06', '17', '06', '09', '09', '06', '07', '06', '10', '20', '12', '13', '06', '10', '06', '12', '12', '12', '06', '13', '13', '13', '06', '13', '09', '06', '16', '20', '06', '06', '17', '16', '20', '06', '06', '19', '06', '13', '13', '06', '14', '13', '06', '06', '06', '06', '07', '22', '20', '06', '13', '06', '13', '06', '06', '14', '06', '06', '20', '20', '18', '18', '06', '11', '20', '13', '17', '18', '21', '06', '12', '06', '06', '17', '11', '13', '20', '06', '06', '06', '06', '13', '09', '13', '19', '06', '06', '06', '11', '06', '09', '06', '06', '20', '20', '13', '13', '13', '20', '06', '13', '06', '20', '13', '06', '06', '06', '07', '07', '06', '06', '09', '06', '09', '13', '05', '16', '10', '11', '05', '06', '06', '06', '13', '12', '06', '07', '06', '06', '12', '13', '13', '16', '06', '00', '05', '06', '06', '09', '20', '21', '17', '06', '13', '06', '20', '11', '06', '06', '16', '06', '20', '05', '20', '05', '13', '13', '13', '06', '13', '14', '06', '06', '06', '06', '06', '13', '06', '17', '06', '06', '20', '13', '06', '06', '06', '06', '17', '06', '12', '13', '17', '06', '06', '06', '11', '06', '06', '05', '06', '06', '06', '13', '06', '20', '06', '09', '06', '05', '17', '06', '13', '06', '13', '11', '06', '09', '06', '06', '13', '06', '20', '09', '06', '06', '16', '06', '00', '20', '06', '06', '10', '13', '13', '13', '06', '06', '20', '06', '10', '20', '06', '06', '13', '13', '06', '13', '13', '16', '06', '06', '06', '06', '13', '20', '13', '13', '09', '21', '06', '06', '05', '13', '13', '13', '13', '06', '06', '13', '06', '07', '06', '06', '21', '09', '06', '20', '06', '16', '06', '20', '09', '13', '16', '06', '06', '11', '20', '06', '16', '06', '11', '05', '13', '20', '06', '06', '09', '06', '09', '06', '06', '06', '06', '06', '16', '06', '13', '06', '10', '13', '13', '13', '19', '13', '09', '13', '13', '06', '06', '13', '06', '06', '19', '05', '05', '13', '13', '13', '13', '20', '06', '06', '12', '13', '13', '06', '15', '07', '21', '20', '06', '20', '06', '06', '06', '20', '13', '06', '06', '10', '05', '13', '06', '05', '14', '06', '13', '06', '13', '06', '09', '09', '06', '06', '05', '06', '14', '16', '20', '06', '13', '05', '20', '20', '06', '16', '06', '07', '06', '05', '21', '11', '05', '19', '06', '13', '13', '13', '13', '06', '08', '14', '20', '06', '06', '06', '07', '13', '13', '13', '09', '06', '06', '06', '06', '12', '06', '07', '06', '13', '19', '11', '06', '20', '20', '03', '03', '10', '10', '13', '07', '06', '13', '06', '13', '13', '06', '19', '06', '13', '06', '10', '06', '21', '12', '12', '12', '06', '12', '06', '06', '06', '06', '20', '05', '06', '13', '16', '06', '06', '13', '06', '16', '06', '13', '16', '06', '06', '20', '06', '16', '12', '13', '13', '13', '06', '06', '08', '06', '17', '10', '06', '09', '16', '07', '08', '20', '09', '08', '06', '06', '10', '13', '06', '06', '06', '06', '11', '12', '13', '09', '09', '11', '11', '13', '14', '15', '15', '16', '13', '07', '07', '21', '13', '13', '11', '20', '11', '06', '11', '06', '13', '06', '13', '20', '13', '06', '20', '07', '06', '10', '13', '13', '13', '16', '10', '06', '09', '16', '06', '06', '13', '10', '16', '06', '14', '06', '06', '16', '20', '06', '09', '13', '10', '06', '06', '20', '14', '06', '13', '20', '06', '05', '06', '13', '13', '13', '06', '06', '09', '06', '06', '09', '17', '07', '06', '06', '06', '09', '13', '13', '13', '06', '13', '06', '06', '20', '20', '06', '08', '06', '06', '20', '06', '06', '20', '09', '06', '06', '06', '06', '14', '16', '06', '13', '13', '14', '14', '14', '14', '21', '06', '06', '07', '06', '06', '06', '19', '13', '13', '13', '20', '06', '13', '06', '13', '06', '06', '06', '14', '20', '06', '06', '06', '06', '13', '06', '13', '20', '05', '06', '06', '20', '05', '20', '13', '14', '13', '13', '13', '06', '06', '06', '13', '06', '06', '06', '13', '20', '06', '06', '06', '08', '10', '13', '12', '06', '06', '06', '13', '06', '16', '06', '06', '06', '13', '06', '13', '06', '06', '06', '13', '06', '09', '19', '20', '06', '16', '16', '05', '06', '11', '06', '06', '14', '20', '16', '13', '07', '13', '06', '13', '06', '19', '13', '06', '06', '06', '06', '05', '05', '13', '13', '13', '20', '20', '06', '06', '16', '06', '06', '17', '06', '06', '23', '19', '19', '19', '06', '06', '13', '06', '13', '06', '06', '10', '06', '06', '06', '05', '13', '06', '05', '06', '06', '06', '20', '13', '06', '06', '09', '10', '06', '06', '06', '13', '13', '16', '20', '07', '13', '13', '20', '06', '06', '06', '06', '09', '07', '06', '06', '06', '13', '05', '06', '06', '20', '13', '13', '13', '13', '12', '06', '06', '16', '06', '06', '06', '13', '13', '13', '06', '13', '13', '13', '13', '06', '09', '00', '06', '06', '06', '13', '14', '06', '06', '06', '06', '06', '09', '16', '16', '11', '06', '06', '06', '06', '09', '06', '06', '06', '06', '06', '13', '06', '06', '17', '17', '11', '06', '06', '13', '06', '05', '06', '13', '13', '13', '13', '09', '16', '13', '21', '07', '06', '06', '06', '20', '13', '20', '14', '13', '06', '16', '06', '06', '09', '06', '13', '13', '06', '07', '06', '16', '06', '06', '06', '20', '11', '06', '06', '06', '10', '09', '20', '06', '05', '06', '06', '07', '13', '13', '13', '14', '12', '12', '12', '13', '13', '06', '16', '05', '13', '19', '07', '06', '13', '06', '06', '17', '20', '14', '06', '06', '13', '06', '11', '06', '11', '06', '05', '06', '06', '13', '13', '06', '06', '06', '06', '20', '11', '20', '13', '13', '13', '13', '14', '13', '20', '00', '00', '11', '09', '20', '08', '06', '13', '09', '20', '06', '06', '17', '06', '06', '06', '11', '13', '06', '06', '06', '06', '07', '16', '13', '13', '13', '06', '17', '06', '07', '06', '06', '09', '09', '06', '07', '06', '13', '05', '09', '06', '06', '06', '06', '13', '06', '06', '06', '13', '06', '06', '13', '06', '06', '05', '06', '20', '05', '06', '13', '13', '13', '13', '10', '11', '06', '20', '13', '20', '06', '06', '06', '06', '06', '05', '06', '00', '11', '13', '05', '06', '20', '06', '06', '09', '11', '06', '16', '06', '06', '06', '06', '14', '06', '00', '06', '06', '12', '12', '12', '06', '06', '13', '06', '10', '12', '06', '17', '06', '13', '06', '06', '21', '09', '14', '13', '13', '13', '13', '20', '14', '20', '06', '06', '06', '19', '13', '13', '09', '06', '06', '06', '14', '07', '13', '13', '13', '14', '16', '06', '13', '07', '06', '06', '16', '11', '06', '06', '06', '20', '06', '06', '06', '21', '06', '17', '13', '16', '13', '06', '06', '06', '06', '06', '14', '06', '20', '10', '16', '16', '06', '06', '05', '16', '06', '06', '09', '11', '20', '06', '06', '10', '09', '05', '06', '06', '13', '06', '06', '06', '06', '05', '14', '13', '05', '05', '08', '09', '07', '19', '06', '06', '13', '06', '11', '15', '06', '13', '13', '13', '14', '20', '12', '09', '14', '11', '13', '09', '09', '13', '13', '13', '13', '06', '06', '09', '16', '13', '06', '20', '06', '06', '09', '06', '06', '06', '12', '13', '06', '06', '06', '21', '08', '20', '13', '06', '20', '10', '13', '05', '00', '00', '00', '06', '07', '16', '20', '06', '20', '10', '13', '06', '13', '09', '06', '11', '13', '20', '09', '05', '06', '13', '06', '06', '06', '06', '09', '06', '09', '14', '06', '06', '06', '09', '16', '06', '13', '07', '16', '06', '13', '06', '13', '06', '15', '06', '06', '05', '06', '17', '06', '06', '06', '06', '13', '07', '07', '06', '20', '06', '16', '13', '13', '13', '13', '09', '06', '06', '17', '06', '13', '06', '16', '16', '13', '06', '06', '13', '13', '21', '06', '09', '06', '16', '13', '06', '06', '13', '06', '06', '06', '09', '11', '06', '20', '06', '06', '06', '06', '16', '19', '06', '05', '06', '12', '12', '12', '06', '06', '06', '06', '13', '20', '19', '06', '06', '06', '21', '06', '06', '07', '09', '09', '06', '06', '06', '06', '06', '13', '05', '06', '06', '06', '06', '14', '20', '20', '06', '13', '06', '06', '06', '09', '06', '06', '20', '20', '06', '09', '06', '13', '10', '06', '06', '06', '06', '06', '13', '06', '13', '06', '06', '06', '06', '06', '12', '06', '06', '21', '06', '20', '07', '13', '20', '06', '06', '06', '10', '06', '13', '06', '06', '16', '13', '13', '13', '12', '06', '20', '06', '20', '13', '13', '16', '06', '20', '19', '06', '13', '20', '06', '06', '06', '06', '06', '17', '06', '06', '09', '09', '06', '05', '09', '06', '06', '17', '06', '06', '12', '17', '20', '06', '20', '13', '11', '06', '06', '06', '09', '12'], 'MCC': [5300, 5411, 5411, 5651, 5912, 5970, 5411, 5411, 5411, 7538, 5814, 4900, 5541, 5411, 5942, 7538, 5912, 5411, 5411, 7832, 5411, 7538, 5311, 5411, 4899, 4829, 5300, 5912, 7832, 5411, 5912, 5541, 5541, 5541, 5812, 5411, 5411, 5411, 5499, 5300, 5912, 5912, 5814, 5912, 5311, 5411, 5719, 5300, 5411, 5912, 5912, 5300, 5814, 5912, 7538, 5311, 5311, 5541, 5942, 5411, 5411, 7538, 7538, 5812, 5300, 5912, 5814, 5300, 5912, 5411, 5499, 5499, 5499, 5300, 5411, 5411, 7538, 5411, 5912, 7538, 4900, 5912, 5912, 5912, 4814, 5311, 5912, 5541, 5814, 5912, 5411, 5300, 5541, 5411, 5411, 5942, 5300, 7538, 7210, 5311, 5411, 4829, 5912, 5193, 5541, 5942, 5193, 5912, 5912, 5411, 5942, 5814, 5411, 5300, 5912, 5499, 5499, 5499, 5912, 3058, 3395, 5912, 5541, 5541, 5541, 5651, 3395, 3395, 5411, 6300, 5300, 5411, 5499, 5411, 5912, 5912, 5912, 5541, 5541, 5541, 5300, 5300, 7538, 5912, 5499, 5499, 5499, 5411, 5411, 5719, 5814, 5912, 5942, 8043, 5541, 5912, 5311, 5499, 5541, 7832, 5411, 5912, 5311, 5942, 5541, 5541, 5541, 7230, 5942, 5541, 4814, 5311, 5411, 5300, 5300, 5912, 5300, 5311, 5814, 5411, 5541, 4814, 5411, 5300, 5311, 5912, 5912, 4900, 5812, 5541, 5411, 4900, 5499, 5499, 5499, 5499, 5499, 5499, 5411, 5311, 5812, 5912, 5411, 5942, 7538, 5211, 5300, 5311, 7538, 5912, 5814, 5912, 5541, 5300, 5310, 5812, 5311, 5912, 7538, 5411, 5311, 7538, 5912, 5411, 5912, 8011, 5912, 5814, 5541, 5942, 5499, 5499, 5499, 5719, 5300, 3066, 5311, 5912, 5812, 5311, 5411, 5912, 5411, 5912, 5300, 5411, 5311, 5411, 5499, 5499, 5499, 5812, 5812, 3390, 3684, 5912, 5812, 5812, 5411, 5812, 3684, 3684, 3390, 3390, 5411, 5812, 5300, 5912, 4899, 5814, 5912, 5300, 5311, 5912, 5300, 4814, 4900, 5411, 5912, 4900, 5311, 5912, 5814, 5411, 5541, 5411, 4900, 5311, 5311, 5541, 5912, 5942, 4814, 5541, 5541, 5411, 5814, 5411, 5411, 5300, 5942, 7538, 3640, 5921, 5812, 7538, 5815, 5812, 5814, 5813, 5411, 5812, 3640, 3640, 5411, 5411, 7538, 5912, 5942, 5912, 5942, 5719, 5541, 5300, 5311, 5912, 7210, 5300, 5193, 5912, 5300, 5912, 5411, 5411, 4900, 5813, 5541, 4829, 5912, 5300, 5942, 5942, 5300, 7538, 5541, 5541, 5541, 5541, 5912, 5815, 5411, 5912, 4814, 7538, 5719, 5411, 5300, 5814, 5411, 5411, 5942, 5411, 5541, 5411, 7542, 7996, 6300, 5812, 5300, 5411, 5912, 5541, 5411, 5411, 5541, 7832, 5541, 7832, 5300, 5912, 5814, 5812, 5411, 5942, 5942, 5812, 5912, 5541, 5300, 5912, 5300, 5411, 5311, 5311, 5814, 5300, 5814, 7538, 5912, 5411, 4899, 5812, 5912, 7349, 5814, 5411, 5814, 5411, 5411, 5912, 5311, 5912, 5942, 5411, 5912, 5912, 5411, 5411, 5300, 5411, 5311, 5300, 7538, 5300, 5812, 5499, 5499, 5499, 5300, 5912, 5541, 5812, 5942, 5912, 5970, 5912, 8043, 5912, 5411, 5912, 5411, 7538, 5912, 5311, 5541, 5300, 5411, 5942, 5912, 5541, 7538, 5814, 5912, 5812, 5411, 5411, 3132, 4900, 5411, 5912, 5942, 7538, 5411, 5814, 4899, 5411, 5812, 5300, 7538, 5912, 5411, 4900, 5541, 7538, 7538, 5310, 5815, 5300, 5411, 4899, 7832, 5411, 7538, 7230, 5912, 5812, 5912, 5300, 5812, 5300, 7832, 5300, 4900, 5912, 7832, 7538, 5814, 5311, 5541, 5912, 5411, 5912, 5300, 5912, 5411, 4814, 5411, 5812, 5942, 4814, 5300, 5942, 4814, 5311, 5912, 5411, 5942, 5814, 5300, 5411, 5300, 5300, 5311, 4814, 5499, 5499, 5499, 3390, 3722, 5411, 7349, 3722, 3722, 3390, 3390, 3395, 4814, 5300, 5942, 5300, 5912, 5300, 5912, 5411, 5942, 5499, 5942, 5300, 5411, 5311, 5912, 9402, 5300, 5812, 5411, 7210, 5912, 4814, 5411, 5815, 5812, 5812, 5411, 5411, 4900, 4814, 5912, 5912, 5912, 5411, 5211, 5912, 5942, 5300, 5814, 5813, 5541, 5912, 5912, 5912, 7832, 5541, 5942, 7349, 7349, 5942, 5411, 7538, 5912, 5541, 5411, 5411, 5942, 5912, 5411, 5300, 4829, 5541, 5300, 5942, 5812, 5541, 5541, 5411, 5411, 5541, 5411, 4814, 5812, 5815, 5411, 5912, 5411, 5912, 5912, 5411, 5499, 5411, 7538, 5541, 5411, 5300, 5300, 5912, 5499, 5912, 5411, 7538, 5300, 7832, 5912, 5300, 5411, 5300, 5912, 5411, 4900, 5912, 5912, 5411, 5300, 5411, 5912, 5411, 5311, 5942, 7538, 5193, 5411, 5812, 5812, 5411, 7538, 5411, 5912, 5812, 5812, 5311, 5814, 5812, 5311, 7230, 5311, 5411, 5541, 5411, 5912, 5310, 7538, 5300, 5814, 5655, 7538, 5942, 5411, 5311, 5912, 5300, 5912, 5812, 5411, 5300, 5411, 5311, 5411, 7349, 5541, 5411, 5912, 5815, 7538, 5814, 5812, 7538, 5411, 4829, 5912, 5300, 5912, 5300, 5912, 7538, 5411, 5942, 5812, 4814, 5310, 5812, 5411, 5912, 5499, 7538, 4900, 4814, 5942, 5411, 4900, 5411, 5300, 5411, 5814, 5411, 5499, 5499, 5499, 5499, 5912, 7538, 5812, 5812, 4900, 5411, 5411, 5814, 5812, 7538, 5912, 5310, 4829, 4814, 5912, 5499, 5541, 5541, 5541, 5411, 5541, 5814, 5411, 5300, 5812, 5812, 5411, 5411, 5300, 5912, 5813, 5541, 5411, 5411, 5912, 5812, 5719, 5812, 5411, 5812, 4814, 5411, 5300, 5541, 5912, 5411, 5411, 4829, 5815, 5912, 5300, 5814, 5942, 5311, 5311, 5815, 5300, 5411, 7538, 5912, 7832, 5311, 5311, 5541, 5541, 5541, 5411, 5912, 5499, 5499, 5499, 5311, 5411, 5300, 5411, 5411, 5411, 5411, 5912, 4814, 5912, 7538, 4900, 5310, 5912, 5499, 5411, 8043, 5411, 5311, 5411, 5912, 5411, 5310, 5411, 5411, 5499, 5499, 5499, 4829, 4900, 5814, 7832, 5311, 5300, 5411, 5310, 5912, 5300, 5942, 5942, 5912, 5411, 5541, 5541, 5541, 5411, 5970, 5912, 5912, 5499, 5499, 5499, 5942, 5411, 5912, 5912, 4814, 5541, 5300, 5193, 5310, 5311, 5411, 5541, 7538, 5499, 5812, 5812, 4814, 7538, 5499, 5499, 5499, 5411, 5912, 7349, 5300, 5193, 7538, 5411, 5311, 5912, 7538, 5942, 7230, 5814, 5812, 5815, 5411, 5814, 5411, 5411, 5814, 4814, 7011, 5541, 5541, 5541, 7011, 7011, 5411, 5411, 5411, 5541, 5541, 5541, 5310, 5812, 5651, 5912, 5812, 5541, 5812, 5411, 7538, 5411, 5912, 7230, 5541, 5311, 5411, 5719, 5411, 5541, 5942, 5300, 5812, 5912, 5411, 5812, 5814, 5912, 5912, 5411, 5300, 5411, 5814, 5942, 5411, 5411, 5300, 5912, 5814, 5311, 5814, 5411, 5912, 5812, 5411, 5814, 5499, 5499, 5499, 5411, 5311, 5814, 5912, 5411, 7230, 5300, 5311, 5411, 5942, 4900, 5912, 5719, 5311, 5942, 4814, 5814, 4814, 5411, 5912, 7538, 5411, 5300, 5300, 5812, 7538, 5411, 5912, 5411, 5541, 5499, 5499, 5499, 5814, 5541, 5942, 5411, 4900, 5541, 5411, 5912, 5912, 5411, 5812, 5411, 4814, 5411, 5912, 5942, 4814, 5411, 5942, 5813, 5812, 5912, 5311, 5499, 5499, 5499, 5311, 5661, 5300, 5912, 5912, 5812, 5311, 5912, 5211, 5411, 5411, 5311, 5411, 5311, 5411, 5411, 5411, 5921, 5719, 5942, 5812, 5411, 4722, 7538, 5812, 4722, 4722, 5310, 4829, 5300, 3596, 7538, 5411, 3596, 3596, 5942, 5411, 5912, 5300, 7230, 5411, 5411, 5310, 5411, 5499, 5812, 5912, 7538, 5912, 5942, 5814, 5942, 5541, 5912, 5912, 5942, 5300, 5912, 5912, 5912, 5812, 5311, 5411, 3405, 5300, 3405, 3405, 5411, 5411, 5912, 5912, 5411, 5411, 5310, 5812, 5300, 4829, 5942, 5912, 5411, 5912, 5300, 5912, 5411, 5912, 5411, 7538, 5814, 4829, 5411, 7538, 4814, 5942, 5912, 5411, 5814, 5541, 4814, 5300, 5912, 8011, 5942, 5300, 5411, 4814, 5411, 4900, 5912, 3387, 5812, 5411, 5912, 5812, 5541, 5814, 3387, 3387, 5912, 5411, 5411, 5411, 7538, 5311, 5411, 5411, 5814, 5300, 5311, 7542, 5912, 5541, 5541, 5541, 5541, 5211, 5411, 5942, 5912, 5411, 7538, 5912, 3684, 4900, 5813, 5912, 5499, 5541, 5541, 5541, 5541, 5541, 5541, 7349, 5411, 3684, 3684, 5499, 5912, 5411, 5411, 5812, 4814, 5912, 7349, 5813, 5300, 5411, 4900, 5300, 5912, 5411, 7832, 7230, 5812, 5310, 5411, 5651, 5912, 5912, 5411, 7230, 5812, 5411, 5311, 5411, 5251, 7542, 5411, 4900, 5411, 5812, 5541, 5541, 5541, 5411, 5300, 4121, 5311, 4900, 5815, 5912, 5812, 5942, 5912, 7349, 5310, 5411, 5311, 5411, 5311, 5311, 5812, 5300, 5411, 5411, 7210, 5300, 5815, 5411, 7538, 5942, 5411, 5912, 5411, 8099, 5411, 5411, 5912, 5411, 5815, 5812, 5411, 5942, 5411, 8099, 5411, 5541, 5411, 7832, 5499, 5411, 5411, 5411, 7832, 5812, 5499, 5499, 5499, 5311, 5300, 5541, 5814, 5541, 5541, 5942, 5912, 7210, 5541, 5942, 7538, 5912, 5211, 4814, 5942, 4814, 5912, 5912, 5411, 5912, 5912, 5814, 5541, 5311, 5311, 5411, 5411, 5411, 5912, 5499, 5912, 5411, 5541, 5912, 5942, 5541, 5541, 5541, 5812, 5942, 3390, 3771, 5912, 7538, 3771, 3771, 3390, 3390, 5912, 5411, 7538, 4814, 5912, 9402, 5311, 5942, 5411, 5541, 5411, 4814, 4900, 5970, 5815, 5411, 5411, 5300, 5411, 5211, 5541, 5411, 5815, 5311, 7349, 4899, 5411, 5411, 5300, 4900, 5311, 5942, 4900, 5311, 7538, 5311, 5815, 5411, 5300, 5942, 5812, 5300, 5411, 7230, 5411, 5912, 5411, 5942, 5912, 5541, 5541, 5311, 5411, 5719, 7832, 4814, 5541, 4900, 5411, 7210, 5942, 5311, 5912, 5499, 5499, 5499, 5541, 5311, 7538, 5912, 5193, 5812, 5300, 5311, 5912, 7538, 5912, 7230, 5499, 5499, 5499, 5912, 5812, 5655, 5411, 5411, 5211, 5411, 5411, 5311, 5912, 5912, 5499, 5499, 5499, 5411, 5912, 5300, 5912, 5193, 5815, 5912, 5411, 5411, 5499, 5499, 5499, 5499, 5499, 5499, 5541, 4900, 7538, 5193, 5812, 5411, 5411, 5311, 5942, 5411, 5411, 5411, 5411, 5411, 5411, 5411, 5411, 5541, 5541, 7832, 5541, 5812, 5942, 5310, 5411, 5311, 5812, 5300, 5970, 5942, 7538, 5912, 5411, 7538, 5499, 5912, 5300, 5411, 5912, 5300, 5541, 5813, 5812, 5814, 5912, 5411, 5311, 5942, 5719, 7832, 5411, 5912, 7538, 7538, 5499, 5411, 5541, 5812, 5541, 5411, 7538, 5311, 5912, 5411, 4814, 7349, 5411, 5651, 5812, 5300, 4814, 5411, 5211, 5912, 5942, 5411, 5311, 5300, 7230, 5411, 5411, 5411, 5970, 5812, 5311, 5912, 5912, 5814, 5300, 5311, 5300, 5311, 7538, 5300, 5912, 5411, 5300, 5411, 5942, 5499, 7538, 4814, 5300, 5912, 5311, 5411, 5912, 4900, 5912, 5912, 7230, 4900, 5541, 5311, 5411, 5812, 5411, 5311, 7538, 5411, 5912, 5211, 5311, 5541, 5541, 5541, 5300, 7210, 3509, 5942, 5300, 5411, 5311, 3509, 5300, 3509, 7832, 5812, 5311, 5411, 5251, 5499, 5499, 5499, 4814, 5251, 5942, 5311, 5942, 4900, 5912, 5300, 5411, 7538, 5411, 5912, 4900, 5812, 5300, 5912, 7832, 5912, 5541, 5541, 5541, 5812, 7538, 5499, 5812, 5300, 5812, 5411, 5211, 5411, 5812, 3771, 5812, 5499, 5499, 5499, 5912, 5912, 5912, 4900, 5311, 4814, 5541, 7538, 5300, 5912, 4900, 5814, 3640, 5411, 5812, 5541, 5541, 5541, 5300, 5912, 7538, 5814, 5814, 5541, 3640, 3640, 5912, 5814, 5942, 5912, 5411, 5411, 5211, 5499, 5499, 5499, 5300, 5912, 4900, 8021, 5942, 5311, 5942, 8099, 5311, 5411, 5812, 5411, 5300, 5411, 5310, 5411, 5942, 5942, 5912, 5541, 5541, 5211, 5912, 5251, 5912, 5300, 7832, 5211, 5912, 5651, 5812, 5411, 7542, 5300, 5912, 5411, 5311, 5912, 5411, 5814, 4814, 7538, 5300, 7538, 5300, 5499, 5311, 5812, 5300, 5815, 5912, 5300, 5912, 5411, 5411, 4900, 5411, 5411, 5912, 5411, 5912, 5942, 7538, 5541, 5300, 5300, 5942, 3509, 7538, 3509, 3509, 5411, 5812, 7538, 7832, 5411, 5942, 5411, 5300, 5411, 5541, 5942, 5912, 5942, 5541, 5912, 8041, 5411, 5812, 5411, 5411, 5812, 5912, 5300, 5300, 5300, 5311, 5411, 5411, 5813, 5411, 5310, 5912, 5211, 5812, 5311, 5411, 5912, 5211, 5812, 5942, 5300, 5300, 5310, 5912, 5912, 5411, 5411, 5912, 5912, 5815, 5411, 5912, 5411, 5300, 5814, 4829, 5411, 7832, 5411, 5311, 5411, 5541, 5541, 5541, 5813, 5541, 5912, 5942, 5310, 3780, 5812, 3780, 3780, 5411, 5942, 7210, 5912, 5970, 5411, 5912, 5942, 5411, 5912, 5912, 5411, 5411, 5912, 5942, 5193, 5411, 5411, 5942, 5411, 7538, 5300, 5942, 4814, 5300, 5411, 5541, 5541, 5541, 5541, 5541, 5541, 5541, 5411, 5411, 5411, 5912, 5912, 5411, 5411, 5815, 5300, 5921, 5942, 5411, 5499, 5499, 5499, 5411, 5942, 5499, 7538, 5912, 5300, 5499, 5499, 5499, 7832, 5942, 5814, 5411, 5541, 5912, 5912, 5300, 5541, 5311, 5411, 5300, 4829, 5411, 5211, 5812, 5411, 5912, 5251, 5411, 7538, 7538, 4899, 5411, 4900, 5541, 5311, 5311, 5912, 5411, 5411, 5411, 5814, 5411, 7538, 5499, 5499, 5499, 5300, 5499, 5499, 5499, 5912, 5912, 7538, 5541, 5815, 5499, 5411, 5499, 5942, 5499, 5300, 5812, 5411, 5300, 5411, 4900, 5912, 5411, 5411, 5411, 5912, 4829, 5912, 4900, 5411, 5541, 5541, 5541, 5812, 5814, 5912, 5812, 5912, 5942, 5912, 3596, 3596, 3596, 5912, 5912, 5912, 5942, 5411, 5311, 5311, 5311, 5411, 5311, 5411, 3359, 3359, 3359, 5812, 7230, 5912, 5311, 5411, 5814, 5411, 7230, 4900, 5411, 5541, 5815, 4900, 5812, 5812, 5300, 5411, 5912, 5942, 7538, 4900, 7538, 5661, 5411, 5812, 7538, 5411, 4814, 5193, 5812, 5912, 5411, 7538, 7832, 5300, 5912, 5411, 4814, 7538, 5942, 5942, 5912, 5411, 3389, 5812, 5912, 4814, 5812, 5814, 5541, 5541, 5541, 5812, 5814, 5814, 5541, 5814, 7538, 3389, 3389, 5499, 5411, 5311, 5942, 5300, 5499, 5411, 5812, 5942, 5942, 5300, 5411, 5411, 5812, 5411, 7538, 5411, 5311, 5812, 5411, 5300, 5912, 5311, 5300, 5411, 4214, 5815, 5815, 5541, 4814, 5310, 5942, 4900, 8021, 5815, 5411, 5912, 5411, 5942, 5942, 5719, 5812, 5300, 5411, 5411, 5411, 5912, 5411, 5814, 5912, 5912, 5541, 5193, 7538, 5912, 5499, 5499, 5499, 5411, 5311, 5411, 5912, 5921, 5912, 5814, 5300, 7538, 5912, 5300, 5411, 5499, 5499, 5499, 5541, 5300, 5411, 5541, 5411, 5311, 5912, 5311, 5912, 5812, 5411, 5812, 4814, 5541, 7538, 5912, 5411, 5411, 5411, 5912, 5912, 5300, 5300, 5912, 5411, 5311, 5411, 5300, 5411, 5912, 5499, 5815, 5411, 5300, 5311, 5912, 5541, 5970, 7538, 5912, 5912, 5411, 3504, 4121, 5300, 3504, 3504, 5311, 5942, 5211, 5815, 5541, 5411, 5411, 5411, 5310, 5942, 5411, 5812, 5311, 5912, 5499, 5499, 5499, 5942, 5300, 4900, 5411, 5311, 5942, 5541, 5541, 5541, 5541, 5300, 5411, 7538, 5411, 5912, 5812, 5912, 7538, 5541, 5193, 5812, 5411, 5311, 5411, 5411, 5812, 5912, 5411, 5311, 5311, 5942, 5912, 5300, 5411, 5912, 5411, 5812, 7011, 7011, 7011, 5300, 5411, 5411, 4829, 4829, 5912, 4900, 5499, 5499, 5499, 5942, 5411, 7538, 5300, 5912, 4814, 4900, 5411, 7230, 5411, 5942, 5942, 5942, 5300, 5311, 5912, 3058, 5812, 5912, 5719, 5912, 5912, 4814, 5812, 5912, 5912, 7832, 7538, 7538, 5912, 5541, 5311, 5300, 5942, 5411, 5411, 4829, 7538, 5912, 5942, 5411, 5300, 5411, 5411, 5411, 5411, 4814, 5411, 5814, 7230, 5499, 5499, 5499, 5311, 5815, 5311, 5411, 3504, 7349, 3504, 3504, 5912, 5300, 5311, 5912, 7832, 5411, 5411, 5411, 5912, 5411, 7538, 5541, 5411, 5912, 5411, 5411, 5814, 5311, 3504, 5814, 5411, 5499, 5411, 3504, 3504, 5310, 5912, 5912, 5300, 5912, 5541, 5912, 5411, 7538, 5311, 5912, 7538, 5411, 7538, 5912, 5812, 5912, 5912, 5912, 5411, 5812, 5912, 5541, 4900, 5411, 5942, 5912, 5300, 5912, 5311, 5311, 5411, 5812, 5942, 3722, 3722, 3722, 5411, 5912, 5942, 5411, 5912, 5411, 6300, 4900, 5912, 7230, 5411, 5912, 5912, 5942, 5541, 5812, 5912, 5211, 5813, 5300, 5499, 5300, 5942, 5300, 5814, 5411, 5912, 5300, 5912, 7349, 7832, 5942, 5311, 7832, 5719, 5812, 5499, 5499, 5499, 5912, 5912, 4814, 4900, 5411, 5912, 5541, 5411, 5300, 5411, 4814, 5942, 5310, 5411, 7542, 5912, 5942, 5912, 5300, 5411, 5541, 5912, 5942, 5942, 5300, 5300, 5541, 5411, 5300, 7230, 5912, 5300, 5812, 5812, 5300, 5411, 5815, 5814, 5912, 5499, 5499, 5499, 4814, 5411, 7538, 5541, 5411, 5541, 5541, 5541, 5912, 5942, 5300, 5411, 4900, 5411, 7230, 5912, 5411, 5912, 5300, 5411, 5311, 5411, 5411, 5411, 8021, 5912, 4829, 7538, 7832, 5411, 7542, 5310, 5942, 5411, 7832, 5912, 7538, 5411, 5912, 5912, 5411, 5411, 5912, 7349, 5912, 5300, 5912, 5912, 4900, 5310, 5300, 5300, 5912, 5311, 5411, 7832, 5921, 5912, 5411, 7542, 5814, 4900, 5411, 5411, 5300, 5541, 5541, 5541, 5411, 5912, 5912, 5541, 5912, 5812, 5311, 5812, 5311, 5300, 5812, 5912, 5921, 5912, 4900, 5311, 5499, 5411, 5499, 5499, 4814, 5912, 5300, 5541, 5912, 5411, 5311, 5970, 5541, 5942, 5815, 5300, 4900, 5942, 5912, 5541, 5912, 5300, 5912, 5912, 5411, 5311, 5411, 5912, 5541, 5814, 5411, 5311, 5912, 5300, 5411, 5300, 5411, 5912, 4900, 4814, 5411, 5193, 5499, 5411, 5912, 5411, 5812, 5411, 5311, 5300, 5912, 5211, 5300, 4829, 5912, 5411, 4814, 5411, 5942, 5411, 5311, 5411, 5411, 7538, 5912, 5541, 5912, 5912, 5411, 5411, 5912, 5912, 5942, 7538, 7538, 7230, 5499, 5499, 5499, 5311, 5541, 5541, 5541, 5541, 5311, 5912, 5912, 5541, 5541, 5541, 5411, 5541, 5912, 7538, 5411, 5411, 5411, 5541, 5912, 5411, 5912, 4814, 5942, 5499, 5211, 5541, 5300, 7538, 5499, 5499, 5499, 5311, 5541, 5541, 5541, 5912, 5942, 5411, 5411, 4814, 5311, 5411, 5815, 5812, 7538, 5812, 3390, 3390, 5942, 3390, 5300, 5300, 5912, 5311, 5311, 5912, 5912, 5942, 5912, 7538, 5912, 5912, 5411, 5814, 7538, 7538, 5912, 5942, 5411, 5912, 5942, 5912, 5411, 5411, 7538, 5912, 5815, 5411, 4814, 5411, 5300, 5813, 5942, 4899, 5300, 5814, 7538, 5814, 5411, 5942, 5411, 5912, 5411, 5912, 5942, 5942, 7538, 5541, 5411, 5300, 5912, 5912, 5411, 5311, 5912, 5411, 5815, 5411, 5411, 5912, 5912, 5912, 5813, 4829, 5411, 7542, 5912, 5942, 5912, 4829, 5411, 5912, 5310, 5912, 5411, 5300, 5912, 5812, 5411, 5300, 4900, 5411, 5814, 5912, 5942, 5300, 5300, 5411, 5411, 5912, 5541, 5912, 5815, 5311, 5912, 5912, 5411, 4722, 4722, 4722, 5411, 4900, 5310, 5912, 5912, 5311, 5300, 5311, 5912, 5310, 5411, 5499, 5411, 5912, 5211, 5311, 4131, 5411, 5912, 5812, 5311, 7349, 4814, 5411, 7542, 5300, 5300, 5815, 5411, 5815, 5300, 5411, 5300, 5912, 7349, 5499, 5300, 5300, 5541, 5411, 5411, 5411, 7349, 4814, 5912, 5300, 4900, 5815, 5814, 5411, 5300, 5912, 7538, 5812, 5251, 5812, 5942, 5411, 5942, 5912, 4814, 5411, 5499, 5499, 5499, 5411, 5411, 5211, 5942, 5912, 5411, 5942, 5411, 5300, 5541, 5541, 5541, 5815, 5814, 5411, 5311, 7210, 5411, 5541, 5942, 5411, 5942, 5912, 7538, 5942, 4900, 8041, 5912, 5912, 4900, 5411, 8099, 5300, 5912, 5311, 5411, 5411, 5411, 4900, 5300, 5812, 5912, 7538, 5411, 5311, 5912, 5912, 5311, 5411, 5300, 5912, 5499, 5411, 5814, 5912, 7538, 5942, 5912, 4829, 5942, 5814, 5814, 5541, 5300, 5912, 5311, 5411, 5211, 7349, 5411, 5411, 5970, 5541, 5812, 5300, 5499, 5499, 5499, 5411, 5411, 5211, 5499, 5499, 5499, 5411, 5310, 5912, 5411, 5912, 5300, 5311, 5311, 5812, 5310, 5311, 5411, 7210, 5812, 5912, 5411, 5300, 5499, 5499, 5499, 5411, 5814, 5311, 5912, 7832, 5912, 5411, 5411, 5912, 5912, 5912, 5411, 5300, 5912, 4899, 5411, 5411, 5812, 5812, 7538, 5411, 5541, 5541, 5541, 5912, 5912, 5411, 5411, 5411, 3780, 5812, 5311, 5812, 3780, 3780, 5912, 5310, 5411, 5912, 5813, 5912, 5815, 5300, 5912, 5411, 5300, 5310, 5814, 5251, 5541, 5411, 7230, 5912, 5499, 5411, 5411, 5912, 5411, 5812, 5411, 3132, 7538, 5942, 7832, 5499, 5499, 5499, 5411, 4814, 4900, 5912, 5812, 5411, 5814, 5300, 5912, 5912, 4900, 5942, 5942, 4900, 5912, 5311, 5311, 5541, 5300, 5912, 8021, 5912, 5411, 5411, 5499, 5499, 5499, 5311, 5411, 5814, 5541, 5912, 5411, 5812, 5411, 5300, 5411, 5411, 4900, 5411, 5912, 5942, 5921, 5942, 5411, 5814, 5300, 5912, 8021, 5812, 5411, 5912, 7210, 5411, 5411, 5411, 7210, 5912, 7230, 5311, 5300, 5411, 5815, 5310, 5411, 4814, 5912, 5311, 5411, 5812, 5942, 5411, 5411, 5912, 5311, 5541, 5541, 5300, 5411, 4829, 8011, 5541, 5912, 5411, 5411, 5193, 7538, 5411, 5311, 5411, 5310, 5411, 5912, 5411, 5812, 5499, 5300, 5311, 5411, 5815, 8043, 5541, 5541, 5541, 7832, 5912, 5311, 5912, 5311, 5311, 7538, 5912, 7538, 5411, 5912, 5311, 5310, 5311, 4722, 3596, 5921, 5621, 5912, 5812, 5411, 5411, 4814, 5541, 3596, 3596, 4722, 4722, 5300, 5812, 5912, 5812, 5541, 5411, 5912, 5411, 4899, 5912, 5411, 5411, 5912, 5912, 5411, 5912, 5912, 5411, 5912, 4814, 5912, 5912, 5912, 5311, 5411, 7538, 5411, 5411, 5912, 5541, 5812, 4814, 5814, 5912, 5541, 5912, 5300, 5912, 5211, 5912, 5499, 5499, 5499, 5411, 5812, 5912, 5411, 4814, 5912, 5300, 5912, 5541, 5411, 5541, 5541, 5541, 5411, 5912, 5912, 5311, 3509, 5814, 3509, 3509, 5541, 5541, 5541, 5541, 5812, 5411, 5411, 5300, 5300, 7538, 5300, 5411, 5541, 5912, 5815, 5310, 5411, 5942, 5300, 5311, 5912, 5411, 5411, 5411, 5812, 5942, 5300, 5912, 5912, 5541, 5411, 4814, 5300, 5310, 5411, 5411, 5541, 5541, 5541, 5541, 4900, 5912, 5411, 5912, 4900, 5912, 5193, 5411, 4900, 5499, 5499, 5499, 5499, 5499, 5499, 5912, 5541, 5942, 5812, 7349, 5912, 5411, 5812, 5815, 5912, 3389, 5541, 3389, 3389, 5411, 5300, 5411, 4900, 5300, 5411, 5300, 5499, 5499, 5499, 5541, 5541, 5541, 5815, 5912, 7538, 7230, 5812, 5912, 7538, 5912, 5912, 5912, 5814, 5912, 5942, 7538, 5912, 5814, 5411, 5300, 5411, 5814, 5411, 5942, 7538, 4900, 5411, 5912, 5211, 5912, 5411, 5912, 5912, 5411, 5942, 7538, 5411, 5812, 5311, 5912, 7538, 5541, 5541, 5541, 3730, 5912, 3730, 3730, 5411, 5912, 5912, 5411, 5411, 5912, 5942, 7538, 5411, 7538, 5311, 5411, 5912, 5411, 5411, 5300, 5411, 7210, 5411, 5311, 5411, 5812, 5942, 5300, 7832, 5912, 5411, 5814, 5300, 5541, 5411, 5411, 5912, 4829, 4829, 5912, 5912, 3395, 3395, 3395, 5912, 4899, 5541, 5411, 4899, 5942, 5912, 5411, 5411, 5541, 5541, 5541, 5311, 5912, 5912, 5812, 5411, 5411, 5912, 5541, 5499, 5499, 5499, 5300, 5411, 5942, 5211, 5942, 7538, 5541, 5300, 5815, 5411, 5411, 5499, 5300, 7538, 5411, 4214, 5912, 7538, 5541, 5541, 5541, 5651, 4814, 5411, 5912, 7538, 5499, 5499, 5499, 5912, 5300, 5311, 5912, 5912, 5300, 5942, 5942, 7538, 5300, 5411, 5912, 3390, 4900, 5812, 3390, 3390, 5411, 5300, 5541, 5411, 5815, 5411, 4814, 5310, 5311, 5411, 5411, 5942, 7538, 5411, 5912, 5411, 4900, 5942, 7538, 4814, 5499, 5300, 5912, 5541, 5541, 5541, 5912, 5912, 5912, 5812, 4900, 5912, 5661, 5411, 5812, 5311, 5921, 5411, 5311, 4814, 5499, 5814, 5411, 5813, 5300, 7538, 5211, 5411, 5411, 5411, 5541, 7210, 5912, 7538, 5912, 5912, 5912, 5541, 5812, 5300, 5942, 5411, 5411, 5300, 5311, 5300, 5912, 5311, 5912, 7210, 5300, 5912, 5311, 5211, 5411, 5912, 5912, 5411, 5942, 5411, 5300, 5411, 5912, 5300, 5300, 5815, 5300, 7230, 5815, 5912, 5912, 5541, 5311, 5814, 4814, 5300, 4814, 5814, 5300, 5541, 5942, 5912, 5912, 5251, 5942, 4899, 5300, 4900, 5311, 5411, 5912, 5411, 5970, 5815, 5912, 5300, 5411, 4829, 5094, 4814, 5311, 5300, 5411, 5815, 5310, 5813, 5411, 5311, 5541, 5541, 5541, 5541, 5541, 5541, 5815, 5812, 7538, 5912, 5541, 5541, 5541, 5300, 5912, 5812, 5411, 5300, 5541, 5814, 5912, 5912, 5942, 5912, 5912, 5300, 5300, 5541, 5942, 5812, 5300, 5912, 5912, 5942, 5411, 5942, 5411, 4900, 5411, 5815, 5814, 5541, 5812, 5912, 5814, 5719, 7538, 4900, 5411, 4900, 3722, 3722, 5812, 3722, 3504, 3722, 4900, 5300, 5411, 7538, 5311, 5499, 5499, 5499, 5912, 5300, 5499, 5311, 9402, 5411, 4900, 5912, 5812, 5541, 5942, 5411, 5912, 5411, 5912, 5499, 5499, 5499, 5499, 5411, 7538, 5311, 5812, 5812, 5815, 5912, 5719, 5812, 5912, 5815, 7538, 5411, 5310, 7538, 5912, 7538, 5411, 5411, 5812, 5814, 5541, 7230, 5411, 7538, 5912, 5499, 5311, 5815, 5912, 5411, 5970, 5411, 5541, 5411, 5311, 5912, 5541, 5411, 5942, 5912, 5311, 5942, 5651, 5300, 4900, 5411, 7538, 5411, 5815, 5411, 7538, 4900, 5942, 5912, 5411, 7230, 5814, 5311, 5311, 5912, 7538, 5300, 5499, 5499, 5499, 5411, 5541, 5541, 5541, 5300, 5814, 7538, 5300, 4814, 4899, 5411, 5411, 5815, 5310, 5814, 5912, 5411, 5812, 5411, 5814, 5812, 5912, 5651, 5942, 5912, 5912, 5942, 5942, 5411, 5300, 5812, 5411, 5411, 5942, 5541, 5300, 5912, 5912, 5912, 5411, 5812, 5814, 5815, 5815, 5411, 7230, 5813, 5814, 5815, 5815, 7832, 5912, 5814, 5300, 5411, 5815, 5499, 5812, 4814, 5541, 5942, 5411, 5912, 5541, 7538, 5411, 5310, 4829, 5912, 5912, 5211, 5311, 7538, 5912, 5912, 5812, 5812, 5499, 5499, 5499, 4814, 5912, 5411, 5300, 5812, 5300, 5411, 5411, 5541, 5942, 5193, 5912, 4829, 7538, 5300, 7538, 5912, 5300, 5311, 8021, 5251, 5912, 5411, 5311, 5912, 5719, 9402, 5300, 5912, 5300, 5912, 5812, 5411, 4900, 5310, 5311, 5300, 5541, 5912, 5942, 7538, 4899, 7832, 5815, 5300, 5411, 5411, 4899, 5300, 5311, 5411, 5651, 5411, 5812, 5311, 5812, 5912, 5499, 5499, 5499, 5912, 5719, 5411, 5411, 4829, 5912, 5942, 5541, 5970, 5942, 5815, 5411, 5912, 5812, 5912, 5912, 5300, 5942, 5912, 5815, 5912, 5411, 5812, 5815, 5411, 5541, 5300, 5499, 5912, 5311, 5912, 5912, 5912, 5311, 5411, 5311, 5812, 5411, 7538, 5912, 5411, 5815, 5912, 5812, 5411, 5812, 9402, 5300, 7538, 5912, 5912, 5812, 5411, 5812, 4900, 5912, 5912, 4814, 5912, 5310, 4899, 5300, 5912, 7538, 5499, 5499, 5499, 5541, 5912, 5812, 5912, 7230, 5812, 5912, 5912, 5814, 4900, 5300, 5211, 5300, 5311, 5912, 5942, 5300, 5912, 5211, 5814, 5812, 5541, 4900, 8043, 5311, 5912, 5912, 5499, 5499, 5499, 5912, 5912, 5541, 5411, 5411, 5411, 5411, 5411, 4900, 7538, 5411, 5812, 5311, 4814, 5541, 4814, 7538, 5812, 5719, 5912, 5411, 5499, 4814, 5300, 5651, 5912, 7210, 5411, 5411, 5812, 5411, 5411, 7538, 5300, 7538, 5300, 5912, 5411, 5411, 5912, 4814, 5942, 5411, 5411, 7230, 5541, 5541, 5541, 5912, 5812, 7538, 5541, 5541, 5942, 5942, 5411, 5300, 5300, 5912, 5942, 5942, 5310, 5499, 5499, 5499, 5812, 5912, 5912, 5812, 5411, 5411, 5942, 5300, 5912, 7832, 7349, 5912, 5812, 5942, 5912, 5912, 4900, 5310, 5311, 5942, 5912, 5311, 5411, 5942, 5411, 5411, 5311, 5411, 5912, 4900, 5541, 7538, 4900, 4829, 5942, 5311, 5411, 5411, 4814, 5812, 5912, 5942, 5912, 5814, 7349, 5912, 5300, 5912, 5912, 5912, 5912, 8043, 5499, 5300, 4899, 5912, 5499, 5499, 5499, 5411, 5912, 5193, 5942, 7349, 5912, 5411, 5411, 5912, 5499, 5499, 5499, 4900, 5912, 5912, 5942, 5541, 5311, 5411, 5912, 5942, 5812, 5311, 3780, 5942, 5812, 5814, 3780, 3780, 4900, 7210, 5912, 5411, 5541, 5912, 5411, 5300, 5541, 5311, 5812, 5942, 5541, 4829, 7538, 5411, 5813, 5541, 5541, 5541, 5912, 5411, 5411, 5311, 5411, 5411, 5812, 5541, 5912, 5814, 5651, 5411, 5411, 5300, 5411, 5310, 5912, 5812, 5310, 5912, 5942, 4814, 5411, 5655, 5812, 5499, 5499, 5499, 5300, 5411, 5193, 5300, 5815, 7210, 5300, 7538, 5912, 5193, 5193, 5812, 7538, 5411, 5942, 5942, 7210, 5814, 5300, 5942, 5912, 5411, 5499, 3001, 5651, 4411, 5732, 3640, 3007, 5300, 7996, 5311, 7922, 5311, 5211, 3640, 3640, 7832, 5719, 5541, 5499, 4814, 9402, 5300, 5211, 5942, 5411, 5411, 5942, 5812, 5541, 5942, 4814, 5912, 5912, 7538, 5499, 5499, 5499, 5655, 7538, 5912, 7538, 5651, 5942, 4829, 5300, 7542, 5651, 5411, 5541, 5300, 5942, 5310, 5812, 5411, 7538, 5411, 7542, 5411, 5912, 7349, 5411, 5411, 5310, 5814, 5300, 4829, 5912, 5499, 5499, 5499, 5300, 5912, 7538, 5411, 5541, 7538, 4814, 5411, 5942, 5912, 5411, 7538, 5541, 5541, 5541, 5411, 5411, 5942, 5411, 5812, 5812, 5912, 5193, 5912, 5912, 5812, 5912, 5912, 5812, 7538, 5912, 5942, 5912, 5411, 5812, 5912, 5541, 5812, 5411, 5541, 5541, 5541, 5921, 7832, 5912, 5311, 5411, 5912, 5912, 5912, 5912, 5541, 5541, 5541, 5812, 5411, 5311, 5942, 5812, 5300, 5300, 5912, 5300, 5812, 5912, 5411, 5912, 5912, 5942, 5912, 5814, 5814, 5912, 5411, 5912, 5812, 5311, 5812, 5300, 5311, 5499, 5499, 5499, 5912, 5912, 5912, 4900, 5942, 5411, 5411, 5814, 5812, 5912, 5912, 5541, 5411, 7230, 5812, 5814, 5311, 5411, 5541, 4900, 5541, 5300, 5411, 5912, 5411, 5814, 5411, 5311, 5300, 5311, 5411, 5812, 5541, 4900, 5300, 4900, 5541, 5311, 4814, 5300, 5912, 5311, 5411, 5411, 5921, 4814, 5651, 5541, 5411, 5812, 5541, 5812, 5411, 5912, 5812, 5912, 5411, 5311, 5411, 5411, 5300, 5411, 5814, 5970, 4814, 4900, 5912, 5912, 4814, 5541, 5411, 5621, 5942, 5311, 3771, 3771, 3730, 3771, 5912, 5311, 5311, 5411, 5411, 5411, 4829, 7230, 5411, 5942, 5912, 5411, 5814, 5912, 5912, 5411, 5541, 5411, 5814, 5942, 5300, 5411, 7538, 7542, 5311, 5411, 5411, 5310, 5411, 4814, 7349, 5942, 5311, 5411, 5814, 5411, 5541, 5411, 5912, 5300, 5411, 5300, 5942, 5411, 5411, 5411, 5912, 5411, 5814, 5499, 5499, 5499, 5814, 5814, 5912, 5912, 4814, 5912, 5411, 5541, 5499, 5499, 5499, 5300, 5499, 5499, 5499, 5411, 5541, 7538, 5912, 5300, 5912, 5300, 5814, 5211, 5300, 5912, 5411, 5411, 5300, 7538, 5310, 5300, 5311, 5411, 5912, 5300, 5541, 7538, 5411, 5411, 5942, 5912, 5912, 5814, 5300, 5411, 5815, 5815, 5499, 5912, 5411, 5814, 5300, 5311, 5912, 5541, 5541, 5541, 5411, 7538, 5300, 5541, 7832, 5912, 5311, 5300, 5411, 5812, 5411, 5812, 5411, 5411, 5411, 5310, 5300, 5912, 7538, 5411, 5411, 5411, 5411, 5912, 5912, 5411, 5411, 5912, 5411, 5812, 5499, 5541, 5912, 5912, 7538, 7538, 5814, 5411, 5300, 5300, 5541, 5411, 5499, 5499, 5499, 5411, 5541, 5541, 5541, 5921, 5541, 5411, 5912, 4829, 5411, 5310, 5912, 5411, 5812, 5300, 5541, 5815, 4899, 5812, 5411, 5300, 5812, 5912, 7230, 5411, 5300, 5912, 5311, 5411, 5912, 5541, 5411, 5411, 5411, 5300, 5411, 7349, 7230, 7349, 5499, 5499, 5499, 5814, 4722, 5812, 5814, 4722, 4722, 5300, 7538, 5812, 5193, 5912, 5411, 7538, 5812, 5912, 5411, 5815, 5411, 5541, 5912, 5499, 5814, 5912, 5541, 5311, 5300, 5311, 4814, 5541, 5541, 5541, 5300, 5815, 5942, 5411, 5411, 4829, 4511, 4900, 5411, 5411, 5411, 5411, 5912, 7538, 5411, 5411, 5300, 5912, 5411, 5541, 5311, 5411, 5310, 5411, 5942, 5812, 5411, 5300, 5541, 5411, 4899, 5300, 5541, 5541, 5541, 5541, 5814, 7210, 4214, 5411, 5812, 5411, 5812, 5411, 5411, 5912, 5411, 5912, 5541, 5912, 5311, 5251, 5912, 5411, 5912, 5814, 5912, 5912, 4900, 5499, 5912, 5411, 4829, 5942, 5300, 5411, 5921, 5311, 5251, 5411, 5912, 5499, 5499, 5499, 5411, 5942, 4900, 5912, 7542, 5812, 5912, 5651, 5942, 5310, 5300, 5912, 7832, 7538, 5921, 4900, 5541, 5541, 5541, 5814, 5411, 5814, 5541, 5411, 5942, 5300, 5411, 5814, 7538, 5942, 5411, 5912, 5411, 5942, 5541, 5541, 5541, 5814, 5310, 5411, 5812, 5411, 5942, 5912, 5912, 5499, 5912, 5912, 5912, 4900, 5541, 5411, 5411, 5813, 5411, 5815, 5912, 5300, 5912, 5300, 5411, 5300, 5411, 5942, 5251, 5411, 5812, 7542, 4814, 4814, 5411, 5942, 5300, 5411, 5942, 5411, 7538, 5311, 5812, 5411, 5300, 7210, 7538, 5411, 5411, 5411, 5411, 5912, 5300, 5912, 5411, 5300, 5311, 4900, 4829, 5300, 5311, 7538, 5411, 5300, 5912, 5411, 5311, 5411, 5499, 3640, 5912, 5499, 5499, 5499, 5411, 5814, 5812, 7538, 5411, 5499, 5812, 3640, 3640, 5411, 5541, 5541, 5541, 5411, 5541, 4900, 5300, 5411, 5411, 4814, 5912, 5912, 7538, 5411, 5411, 4829, 5411, 5970, 5942, 5912, 5411, 4814, 7538, 3504, 5541, 5411, 5812, 7538, 5411, 5300, 3730, 3504, 3504, 5912, 5912, 4814, 5814, 5300, 4814, 7230, 5719, 5912, 5411, 7538, 5411, 5499, 4121, 5812, 7538, 5541, 5942, 5814, 5411, 5411, 5311, 5912, 7538, 5541, 7538, 5251, 5912, 5912, 5411, 7538, 4814, 5411, 5541, 5942, 5311, 5300, 5812, 5942, 5300, 5411, 5921, 5411, 5912, 5541, 5912, 5815, 5311, 5912, 5912, 5912, 5310, 4829, 4829, 5411, 5814, 5411, 4814, 5541, 5541, 5541, 5912, 5311, 5912, 5300, 5815, 5411, 5812, 5912, 5411, 4814, 5311, 5411, 5311, 5812, 5300, 5813, 5300, 7538, 5912, 4814, 5814, 5411, 5942, 5812, 5912, 5942, 5300, 7538, 7210, 5541, 5812, 5541, 5912, 5541, 5912, 5651, 5812, 5411, 5411, 5912, 5541, 5541, 5541, 5912, 5411, 5912, 5300, 5921, 5814, 6300, 5311, 4829, 5300, 7832, 5912, 5411, 5912, 7538, 7538, 5411, 5411, 5300, 5942, 5411, 5311, 5311, 5411, 5411, 5942, 5411, 5311, 5814, 7349, 5912, 5814, 5912, 5411, 5942, 5311, 5300, 5942, 5814, 4814, 5411, 7538, 5411, 5541, 5912, 5912, 5411, 5912, 5411, 5942, 5812, 5912, 5912, 5300, 5300, 5912, 5541, 5411, 5311, 5411, 5411, 7349, 4829, 5812, 5942, 5814, 5812, 5311, 5912, 5300, 5912, 5411, 5814, 5411, 5411, 4814, 5499, 5499, 5499, 4112, 5411, 5814, 5300, 5812, 5411, 5211, 5310, 5411, 5812, 5814, 5300, 5411, 5812, 5300, 5300, 5411, 5300, 5311, 5815, 5411, 5912, 7538, 7538, 5411, 5912, 7538, 5411, 5311, 5310, 5300, 5411, 5970, 5815, 5814, 5411, 5912, 4900, 5499, 5411, 5912, 5411, 7538, 5812]}}\n"
          ]
        }
      ],
      "source": [
        "from pyspark.sql.functions import sort_array, array, col\n",
        "\n",
        "def process_and_save_data(df, output_path):\n",
        "\n",
        "    def row_to_dict(row):\n",
        "        sequence_dict = {\n",
        "            \"amount\": row.Amount_list,\n",
        "            \"year\": row.Year_list,\n",
        "            \"month\": row.Month_list,\n",
        "            \"day\": row.Day_list,\n",
        "            \"hour\": row.Hour_list,\n",
        "            \"MCC\": row.MCC_list\n",
        "        }\n",
        "        return {\n",
        "            \"User\": row.User,\n",
        "            \"Card\": row.Card,\n",
        "            \"sequence\": sequence_dict\n",
        "        }\n",
        "\n",
        "    sampled_result = df.rdd.map(row_to_dict).collect()\n",
        "\n",
        "    print(\"Пример:\")\n",
        "    print(sampled_result[0])\n",
        "\n",
        "    spark.createDataFrame(sampled_result).write.parquet(output_path, mode='overwrite')\n",
        "\n",
        "process_and_save_data(grouped_data, \"processed_data.parquet\")\n"
      ]
    }
  ],
  "metadata": {
    "colab": {
      "provenance": [],
      "include_colab_link": true
    },
    "kernelspec": {
      "display_name": "Python 3",
      "language": "python",
      "name": "python3"
    },
    "language_info": {
      "codemirror_mode": {
        "name": "ipython",
        "version": 3
      },
      "file_extension": ".py",
      "mimetype": "text/x-python",
      "name": "python",
      "nbconvert_exporter": "python",
      "pygments_lexer": "ipython3",
      "version": "3.8.8"
    }
  },
  "nbformat": 4,
  "nbformat_minor": 0
}